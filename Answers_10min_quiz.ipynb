{
  "nbformat": 4,
  "nbformat_minor": 0,
  "metadata": {
    "colab": {
      "provenance": [],
      "collapsed_sections": [],
      "authorship_tag": "ABX9TyO7EEBQXYZcgNHdaJTBR0WB",
      "include_colab_link": true
    },
    "kernelspec": {
      "name": "python3",
      "display_name": "Python 3"
    },
    "language_info": {
      "name": "python"
    }
  },
  "cells": [
    {
      "cell_type": "markdown",
      "metadata": {
        "id": "view-in-github",
        "colab_type": "text"
      },
      "source": [
        "<a href=\"https://colab.research.google.com/github/ia-nechaev/aqm2022/blob/main/Answers_10min_quiz.ipynb\" target=\"_parent\"><img src=\"https://colab.research.google.com/assets/colab-badge.svg\" alt=\"Open In Colab\"/></a>"
      ]
    },
    {
      "cell_type": "markdown",
      "source": [
        "### Answer guide:\n",
        "\n",
        "\n",
        "\n",
        " \n",
        "\n",
        " "
      ],
      "metadata": {
        "id": "CF9PbExQrk9m"
      }
    },
    {
      "cell_type": "markdown",
      "source": [
        "**Quesstion 1:**\n",
        "\n",
        "A single number computed from a sample and used to estimate a population parameter\n",
        "\n",
        "**Answer 1:**\n",
        "\n",
        "A point estimate is the simgle number calculated to estimate a population parameter\n",
        "\n",
        "\n",
        "---\n",
        "\n"
      ],
      "metadata": {
        "id": "NS8zlrKksPfZ"
      }
    },
    {
      "cell_type": "markdown",
      "source": [
        "**Question 2:**\n",
        "\n",
        "A hospital is trying to cut down on emergency room wait times. It is interested in the amount of time patients must wait before being called back to be examined. An investigation committee randomly surveyed 70 patients. The sample mean was 1.5 hours with a sample standard deviation of 0.5 hours. Construct a 95% confidence interval for the population mean time spent waiting. State the confidence interval.\n",
        "\n",
        "**Answer 2:**\n",
        "CI: (1.3808, 1.6192)\n",
        "\n",
        "\n",
        "---\n",
        "\n"
      ],
      "metadata": {
        "id": "zLS7rYBBsQvs"
      }
    },
    {
      "cell_type": "markdown",
      "source": [
        "**Question 3:**\n",
        "\n",
        "One hundred eight Americans were randomly surveyed to determine the number of hours they spend watching television each month. It was revealed that they watched an average of 151 hours each month with a sample standard deviation of 32 hours. Assume that the underlying population distribution is normal. Which distribution should you use for this problem?\n",
        "\n",
        "**Answer 3:**\n",
        "\n",
        "Student's T: *$t_{117}$*\n",
        "\n",
        "Eventhough, we have a large sample, we do not know the standard deviation $\\sigma$ for the population. Therefore, we use a Student's t-distribution. When we use this distribution, we have to remember that we have to account for the degrees of freedom. Unlike the normal distribution where $n=118$, the t-distribution changes with the sample size and therefore $n= 118 - 1$. \n",
        "\n",
        "\n",
        "---\n",
        "\n"
      ],
      "metadata": {
        "id": "6PmeMgaTvcq0"
      }
    },
    {
      "cell_type": "markdown",
      "source": [
        "**Question 4:**\n",
        "\n",
        "In 2005, 1,475,623 students heading to college took a college entrance test (SAT) . The distribution of scores in the math section of the SAT follows a normal distribution with mean μ = 520 and standard deviation σ = 115.\n",
        "\n",
        "Can you calculate the z-score for an SAT score of 720.\n",
        "\n",
        "**Answer 4:**\n",
        "\n",
        "We use the z-score formula: $$z-score = \\frac{x - \\mu}{\\sigma}$$\n",
        "\n",
        "$$z-score = \\frac{720 - 520}{115} = 1.74$$\n",
        "\n",
        "The exam score of 720 is 1.74 standard deviation above the mean score of 520 on the SAT test.\n",
        "\n",
        "\n",
        "\n",
        "---\n",
        "\n"
      ],
      "metadata": {
        "id": "0Jsi3cZivOGB"
      }
    },
    {
      "cell_type": "markdown",
      "source": [
        "**Question 5:**\n",
        "\n",
        "The length of time it takes to find a parking space at 9 A.M. follows a normal distribution with a mean of five minutes and a standard deviation of two minutes. Find the probability that it takes more than eight minutes to find a parking space.\n",
        "\n",
        "**Answer 5:**\n",
        "\n",
        "Here we solve for z again (given the parking time follows a normal distribution).\n",
        "\n",
        "We use the z-score formula: $$z-score = \\frac{x - \\mu}{\\sigma}$$\n",
        "\n",
        "$$z-score = \\frac{8 - 5}{2} = 1.5$$\n",
        "\n",
        "The cumulative probablity associated with the critical z-value of 1.5 is 0.9332  (see table). \n",
        "\n",
        "But since the question asks for the probability fo spending more than 8 minutes to find parking. \n",
        "\n",
        "$$P(x > 8)  = 1 - 0.9332 = 0.0668$$\n",
        "\n",
        "\n",
        "---\n",
        "\n"
      ],
      "metadata": {
        "id": "FnYnMdnAvE5y"
      }
    }
  ]
}