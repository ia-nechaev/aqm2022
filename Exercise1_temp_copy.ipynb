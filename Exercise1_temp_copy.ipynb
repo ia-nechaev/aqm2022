{
  "nbformat": 4,
  "nbformat_minor": 0,
  "metadata": {
    "colab": {
      "provenance": [],
      "toc_visible": true,
      "include_colab_link": true
    },
    "kernelspec": {
      "name": "python3",
      "display_name": "Python 3"
    },
    "language_info": {
      "name": "python"
    }
  },
  "cells": [
    {
      "cell_type": "markdown",
      "metadata": {
        "id": "view-in-github",
        "colab_type": "text"
      },
      "source": [
        "<a href=\"https://colab.research.google.com/github/ia-nechaev/aqm2022/blob/main/Exercise1_temp_copy.ipynb\" target=\"_parent\"><img src=\"https://colab.research.google.com/assets/colab-badge.svg\" alt=\"Open In Colab\"/></a>"
      ]
    },
    {
      "cell_type": "markdown",
      "source": [
        "#Introduction\n",
        "\n",
        "When the value of an event is determined by chance, it has an uncertain outcome, this is called ##a random variable##.\n",
        "\n",
        "Random variables are at the core of probability. There are two kinds of random variables, discrete and continous. \n",
        "\n",
        "For example, when I bike to campus, the outcome (i.e., my arrival time) depends on two random values: the amount of wind and red lights.  \n",
        "\n",
        "Red lights are something we count, a discrete random value. Wind is something we measure, it is a continous random variable.\n",
        "\n",
        "Random variables can be characterized by,\n",
        "\n",
        "1.   Central tendency\n",
        "2.   Variability (or spread)\n",
        "3. Probability distribution(s)\n",
        "\n",
        "Today, we will try to familiarize ourselves with central tendency and variability.\n",
        "\n",
        "Next, we will build on this, and work on probability distributions.\n",
        "\n",
        "\n",
        "\n"
      ],
      "metadata": {
        "id": "P3bsOHdI-a_U"
      }
    },
    {
      "cell_type": "markdown",
      "source": [
        "# Example: Airbnb stays by students and faculty\n",
        "\n",
        "Many people travel and stay in Airbnb rentals. But how many nights do we on average stay in an Airbnb Rental. \n",
        "\n",
        "Moreover, while students have a long summer break, do they use this time to travel and stay in Airbnbs? Faculty has less time off, but often travel with the job to conferences and events. \n",
        "\n",
        "Now we might some guesses about whether students or faculty stay longer in airbnbs, but we do not have any real answers to these questions. \n",
        "\n",
        "Statistics, however, can help. Here, we use a test dataset. But if we collect a real sample, the same principles apply."
      ],
      "metadata": {
        "id": "0IvcchlBg-kP"
      }
    },
    {
      "cell_type": "markdown",
      "source": [
        "## 1. Key terms\n",
        "\n",
        "We want to get a grasp on the key terms. In our efforts to set up a successful Airbnb rental, we start to think like scientists. \n",
        "\n",
        "We want to know the average (mean) price charged for rentals in Copenhagen. We randomly survey rental prices of 100 rental units in Copenhagen. Three of the rentals charge 566kr, 838kr, and 1056kr, respectively.\n",
        "\n",
        "Please identify:\n",
        "\n",
        "\n",
        "1.  population\n",
        "2.  sample\n",
        "3.  variable\n",
        "4.  parameter\n",
        "5.  statistic\n",
        "6.  data "
      ],
      "metadata": {
        "id": "Ai0A1i3BKbh7"
      }
    },
    {
      "cell_type": "markdown",
      "source": [
        "## Dataset 1: Length of airbnb stays by **students**\n",
        "Reported by a sample of 55 students. \n",
        "\n",
        "The dataset includes the numbers of night stayed in Airbnb and frequency of students having stayed the number of nights."
      ],
      "metadata": {
        "id": "AgoQq_ZO5c4u"
      }
    },
    {
      "cell_type": "code",
      "source": [
        "# Load packages used today\n",
        "import numpy as np #Package for numerical multidimensional tables\n",
        "import pandas as pd #Package for data frames\n",
        "import seaborn as sns\n",
        "import matplotlib.pyplot as plt #Package for plots and graphs\n",
        "from scipy import stats \n",
        "sns.set()"
      ],
      "metadata": {
        "id": "9CZONIT0eUat"
      },
      "execution_count": null,
      "outputs": []
    },
    {
      "cell_type": "code",
      "source": [
        "#Read data\n",
        "df_s = pd.read_csv('airbnb_students.csv')\n",
        "#df_s"
      ],
      "metadata": {
        "id": "O6dl7uhAtQQ9"
      },
      "execution_count": null,
      "outputs": []
    },
    {
      "cell_type": "code",
      "source": [
        "# some transformations to make it more comfortable to count by hand\n",
        "df_s_frequency=df_s.groupby('nights')['nights'].count().to_frame()                # counting the quantity of 'nights' entries and converting it to frame\n",
        "df_s_frequency.rename(columns={'nights':'frequency'}, inplace=True)               # renaming the 'nights' column to 'frequency'\n",
        "df_s_frequency.insert(1,'c_frequency',df_s_frequency.frequency.cumsum())          # calculate cumulative frequency and inserting it as a new column in a dataframe\n",
        "df_s_frequency.reset_index(['nights'], inplace=True)                              # reset index, so everything looks nice and tidy"
      ],
      "metadata": {
        "id": "uJ1qIUMHttjA"
      },
      "execution_count": null,
      "outputs": []
    },
    {
      "cell_type": "code",
      "source": [
        "#df_s_frequency"
      ],
      "metadata": {
        "id": "TwodUX_S9EHR"
      },
      "execution_count": null,
      "outputs": []
    },
    {
      "cell_type": "markdown",
      "source": [
        "\n",
        "### Determining the location, centrality and spread of the data\n",
        "\n",
        "\n",
        "Now lets try to play a little around with this data. Together we will calculate some descriptive statistics.\n",
        "\n",
        "### Percentages\n",
        "For example, 16 students out of 55 stayed 1 night or less, then f = 16, n = 55 and the relative frequency = f/n = 0.29 or 29% of students. \n",
        "\n",
        "### Cumulative frequencies\n",
        "Lets calculate the cumulative frequencies and append them to the dataframe.\n"
      ],
      "metadata": {
        "id": "UcHMmxrPfkNs"
      }
    },
    {
      "cell_type": "markdown",
      "source": [
        "### Classwork\n",
        "###Median\n",
        "Let's calculate the median. In general, if there are n results, then the second quartile, the median $$= \\frac{(n + 1)}{2}$$\n",
        "\n",
        "Median $$= \\frac{55+1}{2} = 28$$\n",
        "\n",
        "The 28th result is 2.\n",
        "\n",
        "###1st quartile\n",
        "\n",
        "To calculate the first and third quartile, we use the same approach, however, instead of half, we now want quarters, so we do:\n",
        "\n",
        "$$Q1 =  \\frac{(n + 1)}{4}$$\n",
        "\n",
        "$$Q1 =  \\frac{55+1}{4} = 14$$\n",
        "\n",
        "The 14th result is 1.\n",
        "\n",
        "###3rd quartile\n",
        "\n",
        "$$Q3 =  \\frac{3(n + 1)}{4}$$\n",
        "\n",
        "$$Q3 =  \\frac{3(56)}{4} = 42$$\n",
        "\n",
        "The 42th result is 5.\n",
        "\n",
        "###Interquartile range\n",
        "\n",
        "$$IQR = Q3 - Q1$$\n",
        "\n",
        "$$IQR = 5-1 = 4$$\n",
        "\n",
        "This means that half of the data is arranged 4 nights away from the median.\n",
        "\n",
        "### Outliers\n",
        "\n",
        "A value is a potential outlier if it is less than $1.5*IQR$ below $Q1$ or above $Q3$. In our case, no one stayed more than 11 nights $(1.5*4 +5),$ so no potential outlier were detected.\n",
        "\n",
        "###Mean\n",
        "To calculate the mean, we add the numbers together and divide the total by the amount of numbers. Mean $$\\bar{X} =  \\frac{\\sum x_i}{n}$$ ($\\sum $ = sum of)\n",
        "\n",
        "$$ \\bar{X} =  \\frac{(0*5 + 1*11 + 2*12 + 3*11 + 5*8 + 7*5 + 8*3)}{(5 + 11 + 12 + 11 + 8 + 5 + 3)}$$\n",
        "\n",
        "$$\\bar{X}=  \\frac{(0 + 11 + 24 + 33 + 40 + 35 + 24)}{55}$$\n",
        "\n",
        "$$\\bar{X}=  \\frac{84}{55}$$\n",
        "\n",
        "$$\\bar{X}= 3.04$$\n",
        "\n",
        "### Mode\n",
        "The mode is the number which occurs most often in a set of data, so in our case, the mode is 2.\n",
        "\n",
        "### Standard deviation\n",
        "To calculate the standard deviation, we start by calculating the variance $\\sigma^2$. \n",
        "\n",
        "$$ \\sigma^2= ∑frequency⋅Nights^2−n(μ)^2/n−1 $$\n",
        "\n",
        "$$ \\sigma^2=  \\frac{\\sum (x_i - \\bar{X})^2}{n}$$\n",
        "\n",
        "We add the sum of nights frequency raised to the 2nd.\n",
        "\n",
        "$$0^2 + 11^2 + 24^2 + 33^2 + 40^2 + 35^2 + 24^2 = 5187$$\n",
        "\n",
        "Then we put the values into the equestion to find:\n",
        "\n",
        "$$\\sigma^2= 5187−55*(3.04)^2/55−1 = 86.64$$\n",
        "\n",
        "Standard Deviation is the square root of the variance $$\\sigma = 9.31$$"
      ],
      "metadata": {
        "id": "ZoBrrp__zx3o"
      }
    },
    {
      "cell_type": "markdown",
      "source": [
        "## Dataset 2: Length of airbnb stays by **faculty**\n",
        "\n",
        "Reported by a sample of 55 faculty staff. The dataset includes the numbers of night stayed in Airbnb and frequency of faculty having stayed the number of nights."
      ],
      "metadata": {
        "id": "FoiVSfwj7N7F"
      }
    },
    {
      "cell_type": "code",
      "source": [
        "#Show dataset\n",
        "df_f = pd.read_csv('airbnb_faculty.csv')\n",
        "df_f"
      ],
      "metadata": {
        "id": "2ox00NbIp5U0"
      },
      "execution_count": null,
      "outputs": []
    },
    {
      "cell_type": "code",
      "source": [
        "# some transformations to make it more comfortable to count by hand\n",
        "df_f_frequency=df_f.groupby('nights')['nights'].count().to_frame()                # counting the quantity of 'nights' entries and converting it to frame\n",
        "df_f_frequency.rename(columns={'nights':'frequency'}, inplace=True)               # renaming the 'nights' column to 'frequency'\n",
        "df_f_frequency.insert(1,'c_frequency',df_f_frequency.frequency.cumsum())          # calculate cumulative frequency and inserting it as a new column in a dataframe\n",
        "df_f_frequency.reset_index(['nights'], inplace=True)                              # reset index, so everything looks nice and tidy"
      ],
      "metadata": {
        "id": "5-W5H074BnVc"
      },
      "execution_count": 147,
      "outputs": []
    },
    {
      "cell_type": "code",
      "source": [
        "df_f_frequency"
      ],
      "metadata": {
        "id": "FsrlJJvfBzsM"
      },
      "execution_count": null,
      "outputs": []
    },
    {
      "cell_type": "markdown",
      "source": [
        "As mentioned in the lecture, we compute some measurements of the data that allow us to make better decisions. For example, computing a *representative* number for students' airbnb stay, but when we want to compare this against the analogous *representative* number for faculty. How would we do this?\n",
        "\n",
        "We use the same measures as we just used. This allows us to tests between samples to compare their *central tendencies*. That is, how an airbnb stay in *the middle* of lengths of stays compares between the two groups. \n",
        "\n",
        "But in order to do so, you have to do a bit of work.\n",
        "\n"
      ],
      "metadata": {
        "id": "fnXyB954gKxV"
      }
    },
    {
      "cell_type": "markdown",
      "source": [
        "### Determining the location, centrality and spread of the data \n"
      ],
      "metadata": {
        "id": "xJ7VNQyoYTFE"
      }
    },
    {
      "cell_type": "markdown",
      "source": [
        "### Your turn!\n"
      ],
      "metadata": {
        "id": "ymkXY77AYZ5x"
      }
    },
    {
      "cell_type": "markdown",
      "source": [
        "**Median**\n",
        "\n",
        "**1st Quartile**\n",
        "\n",
        "**3rd Quantile**\n",
        "\n",
        "**Interquartile range**\n",
        "\n",
        "**Outliers**\n",
        "\n",
        "**Mean**\n",
        "\n",
        "**Mode**\n",
        "\n",
        "**Standard Deviation**\n"
      ],
      "metadata": {
        "id": "NtdJ8e2HYi71"
      }
    },
    {
      "cell_type": "markdown",
      "source": [
        "Despite showing the nightly stays reported by 55 students and 55 faculty, the statistics look quite different.\n",
        "\n",
        "Where do you see the main differences? What do you think they mean? Anything you need to consider?"
      ],
      "metadata": {
        "id": "eesBONuP_1un"
      }
    },
    {
      "cell_type": "markdown",
      "source": [
        "# Python exersices"
      ],
      "metadata": {
        "id": "hMCfyzA2CKcC"
      }
    },
    {
      "cell_type": "markdown",
      "source": [
        "## Checking airbnb_students descriptive statistics"
      ],
      "metadata": {
        "id": "DHMx22qHPhjW"
      }
    },
    {
      "cell_type": "code",
      "source": [
        "###Median\n",
        "df_s['nights'].median()"
      ],
      "metadata": {
        "colab": {
          "base_uri": "https://localhost:8080/"
        },
        "id": "_AlZZ76jNXkC",
        "outputId": "14e445b1-cc47-4c9c-ac3e-b3d26ae84b52"
      },
      "execution_count": 164,
      "outputs": [
        {
          "output_type": "execute_result",
          "data": {
            "text/plain": [
              "2.0"
            ]
          },
          "metadata": {},
          "execution_count": 164
        }
      ]
    },
    {
      "cell_type": "code",
      "source": [
        "###Mean\n",
        "mean=df_s['nights'].mean()\n",
        "mean"
      ],
      "metadata": {
        "colab": {
          "base_uri": "https://localhost:8080/"
        },
        "id": "XR9BSQfoNZHO",
        "outputId": "a3749173-ee67-4096-ba7a-4c6a39fb5467"
      },
      "execution_count": 180,
      "outputs": [
        {
          "output_type": "execute_result",
          "data": {
            "text/plain": [
              "3.036363636363636"
            ]
          },
          "metadata": {},
          "execution_count": 180
        }
      ]
    },
    {
      "cell_type": "code",
      "source": [
        "###Mode\n",
        "df_s['nights'].mode()"
      ],
      "metadata": {
        "colab": {
          "base_uri": "https://localhost:8080/"
        },
        "id": "egGkNp8LCbTr",
        "outputId": "80a0232d-45b6-40eb-d3db-ec59e907971e"
      },
      "execution_count": 163,
      "outputs": [
        {
          "output_type": "execute_result",
          "data": {
            "text/plain": [
              "nights    2.309109\n",
              "dtype: float64"
            ]
          },
          "metadata": {},
          "execution_count": 163
        }
      ]
    },
    {
      "cell_type": "code",
      "source": [
        "###Standard Deviation\n",
        "std=df_s['nights'].std()\n",
        "std"
      ],
      "metadata": {
        "colab": {
          "base_uri": "https://localhost:8080/"
        },
        "id": "GLKWuF3jOWsL",
        "outputId": "7845e94a-02c1-4a11-8898-41e86fd58afa"
      },
      "execution_count": 182,
      "outputs": [
        {
          "output_type": "execute_result",
          "data": {
            "text/plain": [
              "2.309109467302608"
            ]
          },
          "metadata": {},
          "execution_count": 182
        }
      ]
    },
    {
      "cell_type": "code",
      "source": [
        "###1st Quartile\n",
        "Q1=np.quantile(df_s['nights'], 0.25)\n",
        "Q1"
      ],
      "metadata": {
        "colab": {
          "base_uri": "https://localhost:8080/"
        },
        "id": "ej5N_esZOgYf",
        "outputId": "a80db771-77aa-4815-a5f2-cc70137af7f0"
      },
      "execution_count": 167,
      "outputs": [
        {
          "output_type": "execute_result",
          "data": {
            "text/plain": [
              "1.0"
            ]
          },
          "metadata": {},
          "execution_count": 167
        }
      ]
    },
    {
      "cell_type": "code",
      "source": [
        "###3rd Quantile\n",
        "Q3=np.quantile(df_s['nights'], 0.75)\n",
        "Q3"
      ],
      "metadata": {
        "colab": {
          "base_uri": "https://localhost:8080/"
        },
        "id": "Q4whn16fOpWE",
        "outputId": "be14eb7f-073e-47fd-cce5-186838791eff"
      },
      "execution_count": 168,
      "outputs": [
        {
          "output_type": "execute_result",
          "data": {
            "text/plain": [
              "5.0"
            ]
          },
          "metadata": {},
          "execution_count": 168
        }
      ]
    },
    {
      "cell_type": "code",
      "source": [
        "###Interquartile range\n",
        "#stats.iqr(df_s['nights'])\n",
        "IQR=Q3-Q1\n",
        "IQR"
      ],
      "metadata": {
        "colab": {
          "base_uri": "https://localhost:8080/"
        },
        "id": "55xgqRNeLTJg",
        "outputId": "a59204d9-8c9b-49c4-8059-126b938e0c32"
      },
      "execution_count": 169,
      "outputs": [
        {
          "output_type": "execute_result",
          "data": {
            "text/plain": [
              "4.0"
            ]
          },
          "metadata": {},
          "execution_count": 169
        }
      ]
    },
    {
      "cell_type": "markdown",
      "source": [
        "### Outliers (interquartile range)"
      ],
      "metadata": {
        "id": "Qv4Vadd3Tjd6"
      }
    },
    {
      "cell_type": "code",
      "source": [
        "###Outliers based on interquartile range\n",
        "upper_boundary=Q3+1.5*IQR\n",
        "upper_boundary"
      ],
      "metadata": {
        "colab": {
          "base_uri": "https://localhost:8080/"
        },
        "id": "E7YntrJoO3RA",
        "outputId": "a15bd254-e22f-4e41-9cfe-fbd24d7c2921"
      },
      "execution_count": 175,
      "outputs": [
        {
          "output_type": "execute_result",
          "data": {
            "text/plain": [
              "-5.0"
            ]
          },
          "metadata": {},
          "execution_count": 175
        }
      ]
    },
    {
      "cell_type": "code",
      "source": [
        "lower_boundary=Q1-1.5*IQR\n",
        "lower_boundary"
      ],
      "metadata": {
        "colab": {
          "base_uri": "https://localhost:8080/"
        },
        "id": "LONY-EmCRt5z",
        "outputId": "2cce0000-f381-4c60-d3e9-09505869e70c"
      },
      "execution_count": 177,
      "outputs": [
        {
          "output_type": "execute_result",
          "data": {
            "text/plain": [
              "11.0"
            ]
          },
          "metadata": {},
          "execution_count": 177
        }
      ]
    },
    {
      "cell_type": "markdown",
      "source": [
        "### Outliers (standard deviation)"
      ],
      "metadata": {
        "id": "tVxOak10TnW7"
      }
    },
    {
      "cell_type": "code",
      "source": [
        "###Outliers based on standard deviation\n",
        "upper_boundary=mean+3*std\n",
        "upper_boundary"
      ],
      "metadata": {
        "colab": {
          "base_uri": "https://localhost:8080/"
        },
        "id": "umHH5XySTXBq",
        "outputId": "09be2850-16f0-4274-87fb-5feac1243d3c"
      },
      "execution_count": 183,
      "outputs": [
        {
          "output_type": "execute_result",
          "data": {
            "text/plain": [
              "9.96369203827146"
            ]
          },
          "metadata": {},
          "execution_count": 183
        }
      ]
    },
    {
      "cell_type": "code",
      "source": [
        "lower_boundary=mean-3*std\n",
        "lower_boundary"
      ],
      "metadata": {
        "colab": {
          "base_uri": "https://localhost:8080/"
        },
        "id": "8uNHwQBcUCGq",
        "outputId": "adcd04d4-a936-47f2-d7bd-0233e5e0bbb1"
      },
      "execution_count": 184,
      "outputs": [
        {
          "output_type": "execute_result",
          "data": {
            "text/plain": [
              "-3.8909647655441875"
            ]
          },
          "metadata": {},
          "execution_count": 184
        }
      ]
    },
    {
      "cell_type": "markdown",
      "source": [
        "### Boxplot refresher"
      ],
      "metadata": {
        "id": "bScIlOMgWcmh"
      }
    },
    {
      "cell_type": "markdown",
      "source": [
        "![image.png](data:image/png;base64,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)"
      ],
      "metadata": {
        "id": "7HMQBYolWX9r"
      }
    },
    {
      "cell_type": "code",
      "source": [
        "plt.boxplot(df_s['nights'])\n",
        "plt.show()"
      ],
      "metadata": {
        "colab": {
          "base_uri": "https://localhost:8080/",
          "height": 268
        },
        "id": "YaQuX8CzR8bd",
        "outputId": "e87658cb-a2de-426f-9e4b-3f0d4a01f527"
      },
      "execution_count": 178,
      "outputs": [
        {
          "output_type": "display_data",
          "data": {
            "text/plain": [
              "<Figure size 432x288 with 1 Axes>"
            ],
            "image/png": "[encoded data removed]"
          },
          "metadata": {}
        }
      ]
    },
    {
      "cell_type": "code",
      "source": [
        "df_s.hist()"
      ],
      "metadata": {
        "colab": {
          "base_uri": "https://localhost:8080/",
          "height": 319
        },
        "id": "NCqkWP66SViQ",
        "outputId": "60611867-1726-49c5-c91f-5d8641363944"
      },
      "execution_count": 185,
      "outputs": [
        {
          "output_type": "execute_result",
          "data": {
            "text/plain": [
              "array([[<matplotlib.axes._subplots.AxesSubplot object at 0x7f7ca7b82910>]],\n",
              "      dtype=object)"
            ]
          },
          "metadata": {},
          "execution_count": 185
        },
        {
          "output_type": "display_data",
          "data": {
            "text/plain": [
              "<Figure size 432x288 with 1 Axes>"
            ],
            "image/png": "[encoded data removed]"
          },
          "metadata": {}
        }
      ]
    },
    {
      "cell_type": "markdown",
      "source": [
        "[Hist function documentation](https://matplotlib.org/3.2.1/api/_as_gen/matplotlib.pyplot.hist.html)"
      ],
      "metadata": {
        "id": "65_6he9TVOnI"
      }
    },
    {
      "cell_type": "markdown",
      "source": [
        "## Checking airbnb_faculty descriptive statistics"
      ],
      "metadata": {
        "id": "XjgrJwXJVgpj"
      }
    },
    {
      "cell_type": "code",
      "source": [
        "###Median\n",
        "###1st Quartile\n",
        "###3rd Quantile\n",
        "###Interquartile range\n",
        "###Mean\n",
        "###Mode\n",
        "###Standard Deviation\n",
        "###Outliers\n",
        "###Boxplot\n",
        "###Histogram"
      ],
      "metadata": {
        "id": "QhsaEuNBSS9C"
      },
      "execution_count": null,
      "outputs": []
    },
    {
      "cell_type": "markdown",
      "source": [
        "## Dataset 3: Treadmills"
      ],
      "metadata": {
        "id": "rXdSYwDe_eMY"
      }
    },
    {
      "cell_type": "markdown",
      "source": [
        "### Loading dataset and descriptive statistics"
      ],
      "metadata": {
        "id": "cqMeH0JxjJXN"
      }
    },
    {
      "cell_type": "code",
      "source": [
        "mydata = pd.read_csv('https://raw.githubusercontent.com/ia-nechaev/ds4b-stats/main/data/CardioGoodFitness.csv')"
      ],
      "metadata": {
        "id": "iCXvf-h-aFvE"
      },
      "execution_count": 188,
      "outputs": []
    },
    {
      "cell_type": "code",
      "source": [
        "mydata.info()"
      ],
      "metadata": {
        "colab": {
          "base_uri": "https://localhost:8080/"
        },
        "id": "0nf2WtyxaJFQ",
        "outputId": "4715d770-55b3-4adc-b3de-ce11171ee99d"
      },
      "execution_count": 189,
      "outputs": [
        {
          "output_type": "stream",
          "name": "stdout",
          "text": [
            "<class 'pandas.core.frame.DataFrame'>\n",
            "RangeIndex: 180 entries, 0 to 179\n",
            "Data columns (total 9 columns):\n",
            " #   Column         Non-Null Count  Dtype \n",
            "---  ------         --------------  ----- \n",
            " 0   Product        180 non-null    object\n",
            " 1   Age            180 non-null    int64 \n",
            " 2   Gender         180 non-null    object\n",
            " 3   Education      180 non-null    int64 \n",
            " 4   MaritalStatus  180 non-null    object\n",
            " 5   Usage          180 non-null    int64 \n",
            " 6   Fitness        180 non-null    int64 \n",
            " 7   Income         180 non-null    int64 \n",
            " 8   Miles          180 non-null    int64 \n",
            "dtypes: int64(6), object(3)\n",
            "memory usage: 12.8+ KB\n"
          ]
        }
      ]
    },
    {
      "cell_type": "code",
      "source": [
        "mydata.columns"
      ],
      "metadata": {
        "colab": {
          "base_uri": "https://localhost:8080/"
        },
        "id": "RMh06F_xaL14",
        "outputId": "02552b23-fe99-48a4-c168-d4f50e7f475c"
      },
      "execution_count": 190,
      "outputs": [
        {
          "output_type": "execute_result",
          "data": {
            "text/plain": [
              "Index(['Product', 'Age', 'Gender', 'Education', 'MaritalStatus', 'Usage',\n",
              "       'Fitness', 'Income', 'Miles'],\n",
              "      dtype='object')"
            ]
          },
          "metadata": {},
          "execution_count": 190
        }
      ]
    },
    {
      "cell_type": "code",
      "source": [
        "# Let's describe mydata"
      ],
      "metadata": {
        "id": "pvGl_wu1aQlm"
      },
      "execution_count": 191,
      "outputs": []
    },
    {
      "cell_type": "code",
      "source": [
        "# Which model sells best?\n",
        "mydata.Product.value_counts()"
      ],
      "metadata": {
        "colab": {
          "base_uri": "https://localhost:8080/"
        },
        "id": "ZsdLuSO0aWDu",
        "outputId": "ae4cd65e-094d-49c2-a074-dbbb1e86d86a"
      },
      "execution_count": 192,
      "outputs": [
        {
          "output_type": "execute_result",
          "data": {
            "text/plain": [
              "TM195    80\n",
              "TM498    60\n",
              "TM798    40\n",
              "Name: Product, dtype: int64"
            ]
          },
          "metadata": {},
          "execution_count": 192
        }
      ]
    },
    {
      "cell_type": "code",
      "source": [
        "# Who buys treadmills more: men or women?"
      ],
      "metadata": {
        "id": "l2Dri0xgaYmZ"
      },
      "execution_count": 193,
      "outputs": []
    },
    {
      "cell_type": "code",
      "source": [
        "plt.scatter(mydata.Age,mydata.Income)"
      ],
      "metadata": {
        "colab": {
          "base_uri": "https://localhost:8080/",
          "height": 285
        },
        "id": "oa8dcna8acVj",
        "outputId": "ceb6331c-2acf-4b23-86cf-e3afcb1892b9"
      },
      "execution_count": 194,
      "outputs": [
        {
          "output_type": "execute_result",
          "data": {
            "text/plain": [
              "<matplotlib.collections.PathCollection at 0x7f7ca7a89950>"
            ]
          },
          "metadata": {},
          "execution_count": 194
        },
        {
          "output_type": "display_data",
          "data": {
            "text/plain": [
              "<Figure size 432x288 with 1 Axes>"
            ],
            "image/png": "[encoded data removed]"
          },
          "metadata": {}
        }
      ]
    },
    {
      "cell_type": "code",
      "source": [
        "mydata.hist(figsize=(10,10))"
      ],
      "metadata": {
        "colab": {
          "base_uri": "https://localhost:8080/",
          "height": 732
        },
        "id": "X9bJuPjkajAP",
        "outputId": "98dc49ea-1343-4fcf-d43a-396679719f89"
      },
      "execution_count": 195,
      "outputs": [
        {
          "output_type": "execute_result",
          "data": {
            "text/plain": [
              "array([[<matplotlib.axes._subplots.AxesSubplot object at 0x7f7ca7bc3d50>,\n",
              "        <matplotlib.axes._subplots.AxesSubplot object at 0x7f7ca75ac150>],\n",
              "       [<matplotlib.axes._subplots.AxesSubplot object at 0x7f7ca7560750>,\n",
              "        <matplotlib.axes._subplots.AxesSubplot object at 0x7f7ca7513d50>],\n",
              "       [<matplotlib.axes._subplots.AxesSubplot object at 0x7f7ca74d6390>,\n",
              "        <matplotlib.axes._subplots.AxesSubplot object at 0x7f7ca748f990>]],\n",
              "      dtype=object)"
            ]
          },
          "metadata": {},
          "execution_count": 195
        },
        {
          "output_type": "display_data",
          "data": {
            "text/plain": [
              "<Figure size 720x720 with 6 Axes>"
            ],
            "image/png": "[encoded data removed]"
          },
          "metadata": {}
        }
      ]
    },
    {
      "cell_type": "code",
      "source": [
        "sns.displot(mydata['Age'])"
      ],
      "metadata": {
        "colab": {
          "base_uri": "https://localhost:8080/",
          "height": 382
        },
        "id": "qr80Olphaxq3",
        "outputId": "8d9d5929-0583-4c7d-83df-9403ad2f1383"
      },
      "execution_count": 196,
      "outputs": [
        {
          "output_type": "execute_result",
          "data": {
            "text/plain": [
              "<seaborn.axisgrid.FacetGrid at 0x7f7ca7abfa90>"
            ]
          },
          "metadata": {},
          "execution_count": 196
        },
        {
          "output_type": "display_data",
          "data": {
            "text/plain": [
              "<Figure size 360x360 with 1 Axes>"
            ],
            "image/png": "[encoded data removed]"
          },
          "metadata": {}
        }
      ]
    },
    {
      "cell_type": "code",
      "source": [
        "plt.boxplot(mydata.Age)\n",
        "plt.show()"
      ],
      "metadata": {
        "colab": {
          "base_uri": "https://localhost:8080/",
          "height": 268
        },
        "id": "-E-dhQVDbAbS",
        "outputId": "11189ae1-6734-4186-f9b7-bbfa3f41e07d"
      },
      "execution_count": 220,
      "outputs": [
        {
          "output_type": "display_data",
          "data": {
            "text/plain": [
              "<Figure size 432x288 with 1 Axes>"
            ],
            "image/png": "[encoded data removed]"
          },
          "metadata": {}
        }
      ]
    },
    {
      "cell_type": "markdown",
      "source": [
        "### Removing the Age outliers and comparing decriptive statistics"
      ],
      "metadata": {
        "id": "Zbv8n4IdjAyr"
      }
    },
    {
      "cell_type": "code",
      "source": [
        "# STD\n",
        "ub=mydata.Age.mean()+3*mydata.Age.std()\n",
        "lb=mydata.Age.mean()-3*mydata.Age.std()\n",
        "mydata_ro_std=mydata[(mydata['Age']>lb)&(mydata['Age']<ub)]"
      ],
      "metadata": {
        "id": "Nl-tKCE1bkWX"
      },
      "execution_count": 204,
      "outputs": []
    },
    {
      "cell_type": "code",
      "source": [
        "# IQR\n",
        "ub=np.quantile(mydata.Age, 0.25)+1.5*stats.iqr(mydata.Age)\n",
        "lb=np.quantile(mydata.Age, 0.75)-1.5*stats.iqr(mydata.Age)\n",
        "mydata_ro_iqr=mydata[(mydata['Age']>lb)&(mydata['Age']<ub)]"
      ],
      "metadata": {
        "id": "tyw1zQ__c0TS"
      },
      "execution_count": 205,
      "outputs": []
    },
    {
      "cell_type": "code",
      "source": [
        "# Checking how many datapoints we sliced out\n",
        "print('Initial ds shape: ', mydata.shape, end='\\n')\n",
        "print('STD sliced ds shape: ', mydata_ro_std.shape, end='\\n')\n",
        "print('IQR sliced ds shape: ', mydata_ro_iqr.shape, end='\\n')"
      ],
      "metadata": {
        "colab": {
          "base_uri": "https://localhost:8080/"
        },
        "id": "xqZ2J5XhgX7r",
        "outputId": "7dcf5863-2ddf-4ab4-b1d0-491704931f76"
      },
      "execution_count": 218,
      "outputs": [
        {
          "output_type": "stream",
          "name": "stdout",
          "text": [
            "Initial ds shape:  (180, 9)\n",
            "STD sliced ds shape:  (179, 9)\n",
            "IQR sliced ds shape:  (150, 9)\n"
          ]
        }
      ]
    },
    {
      "cell_type": "code",
      "source": [
        "# Compairing boxplots of datasets\n",
        "data = [mydata.Age, mydata_ro_std.Age, mydata_ro_iqr.Age]\n",
        "\n",
        "fig = plt.figure(figsize =(10, 7))\n",
        " \n",
        "# Creating axes instance\n",
        "ax = fig.add_axes([0, 0, 1, 1])\n",
        "\n",
        "# Creating plot\n",
        "bp = ax.boxplot(data)\n",
        "\n",
        "# show plot\n",
        "plt.show()"
      ],
      "metadata": {
        "colab": {
          "base_uri": "https://localhost:8080/",
          "height": 609
        },
        "id": "97suISd4cmSg",
        "outputId": "ab34ddbe-b084-4a7e-a3cf-d0dea22048aa"
      },
      "execution_count": 211,
      "outputs": [
        {
          "output_type": "stream",
          "name": "stderr",
          "text": [
            "/usr/local/lib/python3.7/dist-packages/matplotlib/cbook/__init__.py:1376: VisibleDeprecationWarning: Creating an ndarray from ragged nested sequences (which is a list-or-tuple of lists-or-tuples-or ndarrays with different lengths or shapes) is deprecated. If you meant to do this, you must specify 'dtype=object' when creating the ndarray.\n",
            "  X = np.atleast_1d(X.T if isinstance(X, np.ndarray) else np.asarray(X))\n"
          ]
        },
        {
          "output_type": "display_data",
          "data": {
            "text/plain": [
              "<Figure size 720x504 with 1 Axes>"
            ],
            "image/png": "[encoded data removed]"
          },
          "metadata": {}
        }
      ]
    },
    {
      "cell_type": "code",
      "source": [
        "# plt.scatter(mydata_ro_iqr.Age,mydata_ro_iqr.Income)"
      ],
      "metadata": {
        "colab": {
          "base_uri": "https://localhost:8080/",
          "height": 285
        },
        "id": "OupWFkeUjglV",
        "outputId": "d9588c7a-0b99-48b5-8e28-5a6d741a6b78"
      },
      "execution_count": 221,
      "outputs": [
        {
          "output_type": "execute_result",
          "data": {
            "text/plain": [
              "<matplotlib.collections.PathCollection at 0x7f7ca43656d0>"
            ]
          },
          "metadata": {},
          "execution_count": 221
        },
        {
          "output_type": "display_data",
          "data": {
            "text/plain": [
              "<Figure size 432x288 with 1 Axes>"
            ],
            "image/png": "[encoded data removed]"
          },
          "metadata": {}
        }
      ]
    },
    {
      "cell_type": "markdown",
      "source": [],
      "metadata": {
        "id": "2ftMOWM1bOe9"
      }
    },
    {
      "cell_type": "markdown",
      "source": [
        "# Drafts"
      ],
      "metadata": {
        "id": "NOa8MuO0Z4Qk"
      }
    },
    {
      "cell_type": "code",
      "source": [
        "# Box Plot\n",
        "import seaborn as sns\n",
        "f, axes = plt.subplots(1, 2)\n",
        "\n",
        "sns.boxplot(df_f['nights'], orient='h' , ax=axes[0])\n",
        "sns.boxplot(df_s['nights'], orient='h' , ax=axes[1])"
      ],
      "metadata": {
        "colab": {
          "base_uri": "https://localhost:8080/",
          "height": 392
        },
        "id": "ezAoJzBLKXWU",
        "outputId": "7f1148c0-923b-4db1-aeb5-1262d238d571"
      },
      "execution_count": 174,
      "outputs": [
        {
          "output_type": "stream",
          "name": "stderr",
          "text": [
            "/usr/local/lib/python3.7/dist-packages/seaborn/_decorators.py:43: FutureWarning: Pass the following variable as a keyword arg: x. From version 0.12, the only valid positional argument will be `data`, and passing other arguments without an explicit keyword will result in an error or misinterpretation.\n",
            "  FutureWarning\n",
            "/usr/local/lib/python3.7/dist-packages/seaborn/_decorators.py:43: FutureWarning: Pass the following variable as a keyword arg: x. From version 0.12, the only valid positional argument will be `data`, and passing other arguments without an explicit keyword will result in an error or misinterpretation.\n",
            "  FutureWarning\n"
          ]
        },
        {
          "output_type": "execute_result",
          "data": {
            "text/plain": [
              "<matplotlib.axes._subplots.AxesSubplot at 0x7f7ca7cff410>"
            ]
          },
          "metadata": {},
          "execution_count": 174
        },
        {
          "output_type": "display_data",
          "data": {
            "text/plain": [
              "<Figure size 432x288 with 2 Axes>"
            ],
            "image/png": "[encoded data removed]"
          },
          "metadata": {}
        }
      ]
    },
    {
      "cell_type": "code",
      "source": [
        "# \n",
        "# IQR for frequency distribution?\n",
        "#Q1 = np.percentile(df_f['variable'], 25,\n",
        " #                  interpolation = 'midpoint')\n",
        " \n",
        "#Q3 = np.percentile(df_f['variable'], 75,\n",
        " #                  interpolation = 'midpoint')\n",
        "#IQR = Q3 - Q1\n",
        "\n",
        "\n",
        "#removing outlier \n",
        "\n",
        "# Above Upper bound\n",
        "#upper = df_f['Nights'] >= (Q3+1.5*IQR)\n",
        "upper = df_f['Nights'] >= (5+1.5*4)\n",
        "\n",
        "print(\"Upper bound:\",upper)\n",
        "print(np.where(upper))\n",
        " \n",
        "# Below Lower bound\n",
        "#lower = df_f['Nights'] <= (Q1-1.5*IQR)\n",
        "lower = df_f['Nights'] <= (1-1.5*4)\n",
        "\n",
        "print(\"Lower bound:\", lower)\n",
        "print(np.where(lower))\n",
        "\n",
        "#Removing the Outliers\n",
        "df_f.drop(upper[0], inplace = True)\n",
        "df_f.drop(lower[0], inplace = True)\n",
        " \n",
        "print(\"New Shape: \", df_f.shape)\n"
      ],
      "metadata": {
        "id": "31wSpOUUOcC4"
      },
      "execution_count": null,
      "outputs": []
    },
    {
      "cell_type": "code",
      "source": [
        "# calculating descriptive stats using python on dataset 1 and dataset 2 (without outlier)\n",
        "# compare means?"
      ],
      "metadata": {
        "id": "-Hi5EzKsGy2x"
      },
      "execution_count": null,
      "outputs": []
    },
    {
      "cell_type": "code",
      "source": [
        "nights=pd.Series(np.sort(df_s['nights'].unique()))\n",
        "freq=df_s.groupby('nights')['nights'].count()\n",
        "\n",
        "#Creating a dictionary by passing Series objects as values\n",
        "frame = { 'nights': nights, 'frequency': freq }\n",
        "#Creating DataFrame by passing Dictionary\n",
        "df_s_freq = pd.DataFrame(frame)\n",
        "\n",
        "\n",
        "# dictionary of lists  \n",
        "dict = {'nights': Nights_list_n}  \n",
        "       \n",
        "df = pd.DataFrame(dict) \n",
        "\n",
        "import random\n",
        "random.shuffle(Nights_list_n)\n",
        "#Nights_list_n\n",
        "\n",
        "# saving the dataframe \n",
        "df.to_csv('airbnb_students.csv', index=False) \n",
        "\n",
        "Frequency_list = [5, 11, 12, 11, 8, 5, 3]\n",
        "Nights_list = [0,1,2,3,5,7,8]\n",
        "Nights_list_n = []\n",
        "\n",
        "for itm in range(len(Frequency_list)):\n",
        "  for tim in range(Frequency_list[itm]):\n",
        "    Nights_list_n.append(Nights_list[itm])\n",
        "\n",
        "Frequency_list = [1, 2, 2, 4, 9, 11, 8, 7, 3, 2, 3, 2, 1]\n",
        "Nights_list = [0,1,2,3,5,7,8,13,18,23,25,28,108]\n",
        "Nights_list_n = []\n",
        "\n",
        "for itm in range(len(Frequency_list)):\n",
        "  for tim in range(Frequency_list[itm]):\n",
        "    Nights_list_n.append(Nights_list[itm])"
      ],
      "metadata": {
        "id": "q8Og1wxP41m6"
      },
      "execution_count": null,
      "outputs": []
    }
  ]
}