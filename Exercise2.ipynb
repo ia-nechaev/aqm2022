{
  "nbformat": 4,
  "nbformat_minor": 0,
  "metadata": {
    "colab": {
      "provenance": [],
      "collapsed_sections": [],
      "authorship_tag": "ABX9TyP9wjHQ44KURrJ6ofujY8h6",
      "include_colab_link": true
    },
    "kernelspec": {
      "name": "python3",
      "display_name": "Python 3"
    },
    "language_info": {
      "name": "python"
    }
  },
  "cells": [
    {
      "cell_type": "markdown",
      "metadata": {
        "id": "view-in-github",
        "colab_type": "text"
      },
      "source": [
        "<a href=\"https://colab.research.google.com/github/ia-nechaev/aqm2022/blob/main/Exercise2.ipynb\" target=\"_parent\"><img src=\"https://colab.research.google.com/assets/colab-badge.svg\" alt=\"Open In Colab\"/></a>"
      ]
    },
    {
      "cell_type": "markdown",
      "source": [
        "# Introduction\n",
        "\n",
        "We will start working with **discrete random variables and probability distributions** for experiments fulfilling specific conditions.  \n",
        "\n",
        "A **Discrete probability distribution** is an equation that connects each possible value of a discrete random variable with its probability of occurrence.\n",
        "\n",
        "Again, we have some **sub-types** of discrete random variables and distributions.\n",
        "\n",
        "Every sub-type of a random variable is the number of sucesses that result from **a particular type of experiment**. \n",
        "\n",
        "Today, we will work with four types of experiments in order to better understand discrete random variables and their distributions.  \n",
        "\n",
        "\n",
        "\n"
      ],
      "metadata": {
        "id": "uWV2R80JIYcH"
      }
    },
    {
      "cell_type": "markdown",
      "source": [
        "# 1. Raffle "
      ],
      "metadata": {
        "id": "HJk_7sLyFZUR"
      }
    },
    {
      "cell_type": "markdown",
      "source": [
        "##Experimental conditions\n",
        "\n",
        "1.   We randomly pick one alphabetic letter. The letter E. Then, we put the names of students (subjects) in this class in a raffle hat (n=6)\n",
        "2.   We assume that half of our subjects are licorise lover and the other haft are chocolate lovers.  \n",
        "\n",
        "3. At random, we draw a name out of the hat.\n",
        "\n",
        "4. We draw three names.\n",
        "\n",
        "5. One name for a licorise prize\n",
        "\n",
        "6. Two names for two chocolade prizes\n",
        "\n",
        "After the names are drawn, we don't put the names back in the hat.\n",
        "\n",
        "\n",
        "![hat.webp](data:image/webp;base64,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)"
      ],
      "metadata": {
        "id": "3H-sKbrkRPM5"
      }
    },
    {
      "cell_type": "markdown",
      "source": [
        "##Theoretical conditions of a hypergeometric experiment\n",
        "\n",
        "In class, you learned about the hypergeometric distribution. Do you remember the three main conditions for a hypergeometric experiment,\n",
        "\n",
        "1.   the population__________\n",
        "2.   the experiment__________\n",
        "3.   the random variable_____\n",
        "\n",
        "Can a raffle be classified as hypergeometric experiment? "
      ],
      "metadata": {
        "id": "WgnEZF9qp9UP"
      }
    },
    {
      "cell_type": "markdown",
      "source": [
        "## Probability?\n",
        "\n",
        "Now that we have determined that the raffle is an hypergeometric experiment. Then, we can use the hypergeomeric distribution to determine the probability that a licorise lover gets a licorise prize in our raffle? \n",
        "\n",
        "1. Licorise lover -> licorize prize\n",
        "\n",
        "\n"
      ],
      "metadata": {
        "id": "xMvJ1gNLbDv3"
      }
    },
    {
      "cell_type": "markdown",
      "source": [
        "##Tools \n",
        "###Probability formula for hypergeometric distribution\n",
        "![Screenshot 2022-09-01 at 16.45.56.png](data:image/png;base64,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)"
      ],
      "metadata": {
        "id": "P-4vbWn-gm7j"
      }
    },
    {
      "cell_type": "markdown",
      "source": [
        "##Let's try it out\n",
        "\n",
        "In this hypergeometric experiment, we know the following:\n",
        "\n",
        "N = 6; since there are 6 student names in the hat.\n",
        "k = 3; since there are 3 licorise lovers.\n",
        "n = 3; since we randomly select 3 names from the hat.\n",
        "x = 1; since 1 of the prizes is a licorice price.\n",
        "\n",
        "We plug these values into the hypergeometric formula as follows:\n",
        "\n",
        "h(x; N, n, A) = [ ACx ] [ N-ACn-x ] / [ NCn ]\n",
        "\n",
        "h(1; 6, 3, 3) = [ 3C1 ] [ 3C2 ] / [ 6C3 ]\n",
        "\n",
        "h(2; 52, 5, 26) = [ 3 ] [ 3 ] / [ 20]\n",
        "\n",
        "h(2; 52, 5, 26) = 0.45\n",
        "\n",
        "Thus, the probability of a licorice lover randomly getting a licorice prize is 0.45."
      ],
      "metadata": {
        "id": "nQNbCirw0iz2"
      }
    },
    {
      "cell_type": "markdown",
      "source": [
        "# 2. Trivia \n"
      ],
      "metadata": {
        "id": "OokDZKyfIG--"
      }
    },
    {
      "cell_type": "markdown",
      "source": [
        "##Experimental conditions\n",
        "\n",
        "1. Pair yourselves up, 2 and 2\n",
        "2. Now locate the list of 10 trivia questions found here: https://docs.google.com/document/d/1P8LyQElIgtcuHE9DT1kncNj2uo-tvrx7Lbe1xN_QEI4/edit?usp=sharing\n",
        "3. Try to answer the trivia questions and write down your answer attempt \n",
        "4. Check the answers against the answer key (found here: https://docs.google.com/document/d/1K-fmZchX1wMEeMTPOhUglesYGui9YPSDHlOVeF7CVVM/edit?usp=sharing) \n",
        "5.  Write down your success or failure in answering each trivia questions\n"
      ],
      "metadata": {
        "id": "vmQw5sTQwHUy"
      }
    },
    {
      "cell_type": "markdown",
      "source": [
        "##Theoretical conditions for a binominal experiment\n",
        "\n",
        "In class, you learned about the bionomial distribution. Do you remember what conditions had to be met for an experiment to be classified as binomial:\n",
        "\n",
        "1. The number of trials______\n",
        "3. X is the ____________ , it is __________ and reflect the number of successes \n",
        "2. Outcomes are called____, and are denotated using_____\n",
        "3. The *n* trials are_____ and _____ using identical trials"
      ],
      "metadata": {
        "id": "lc6MGkd13UQl"
      }
    },
    {
      "cell_type": "markdown",
      "source": [],
      "metadata": {
        "id": "S2VSjaK3CVLh"
      }
    },
    {
      "cell_type": "markdown",
      "source": [
        "##Probability?\n",
        "\n",
        "Now that we have determined that trivia is a binominal experiment, \n",
        "\n",
        "1. we can use the probability formula for the bionomial distribution to calculate the probaility that you will successfully answer 35 of the 50 questions in this game? \n",
        "\n",
        "2. Can you explain why trivia is a binominal experiment and not a hypergeometric experiment?\n",
        "  "
      ],
      "metadata": {
        "id": "R3kO4MfL813h"
      }
    },
    {
      "cell_type": "markdown",
      "source": [
        "##Tools\n",
        "###Probability formula for binomial distribution\n",
        "\n",
        "![Screenshot 2022-09-02 at 12.51.04.png](data:image/png;base64,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)"
      ],
      "metadata": {
        "id": "cAsNY1h80hsi"
      }
    },
    {
      "cell_type": "markdown",
      "source": [
        "##Let's try it out...\n",
        "\n",
        "\n",
        "\n"
      ],
      "metadata": {
        "id": "ItiN6O0j4HuL"
      }
    },
    {
      "cell_type": "markdown",
      "source": [],
      "metadata": {
        "id": "anHC5_lKCXNO"
      }
    },
    {
      "cell_type": "markdown",
      "source": [
        "# 3. Bingo \n"
      ],
      "metadata": {
        "id": "dCJOv-zMINBX"
      }
    },
    {
      "cell_type": "markdown",
      "source": [
        "## Experimental conditions\n",
        "\n",
        "1. Pair yourselves up, 2 and 2\n",
        "2. One of you, pick your bingo plate here: https://docs.google.com/document/d/184eMxKAHrhFbZ4vjFzTNqf8pK8c4P97qyA1dZlneBh0/edit?usp=sharing\n",
        "3. The other, run the number generator to establish the order of numbers to be called out.\n"
      ],
      "metadata": {
        "id": "7qmvJXMoOVtB"
      }
    },
    {
      "cell_type": "code",
      "source": [
        "# Start the number generator wheel\n",
        "import numpy as np \n",
        "import random\n",
        "\n",
        "# Setting up the number of trials\n",
        "x = np.array([1, 2, 3, 4, 5, 6, 7, 8, 9, 10, 11, 12, 13, 14, 15, 16, 17, 18, 19, 20])\n",
        "\n",
        "# Pick 1 number out of 20 at random\n",
        "np.random.permutation(x)[:1] "
      ],
      "metadata": {
        "colab": {
          "base_uri": "https://localhost:8080/"
        },
        "id": "y815vpoQPE0X",
        "outputId": "fae25d00-59ec-483e-cdf6-1c1af2b4bfbf"
      },
      "execution_count": null,
      "outputs": [
        {
          "output_type": "execute_result",
          "data": {
            "text/plain": [
              "array([3])"
            ]
          },
          "metadata": {},
          "execution_count": 22
        }
      ]
    },
    {
      "cell_type": "markdown",
      "source": [
        "4. Let the game begin. Call out the numbers, as you generate them. \n",
        "5. Your partner has bingo (success) when he/she fills one horizonal row on the bingo plate\n",
        "6. Make sure to count the number of failures before the bingo success \n"
      ],
      "metadata": {
        "id": "R8ZByFV5YyM2"
      }
    },
    {
      "cell_type": "markdown",
      "source": [
        "## Theoretical conditions of a geometric experiment\n",
        "\n",
        "In class, you learned about the geometric distribution. Do you remember the conditions that need to be met for an experiment to be classified as geometric:\n",
        "\n",
        "1. There are two possible outcomes for each trial (success or failure)\n",
        "\n",
        "2. The trials are independent\n",
        "\n",
        "3. The probability of success is the same for each trial\n",
        "\n",
        "Can we determine that bingo can be classified as a geometric experiment?\n",
        "\n"
      ],
      "metadata": {
        "id": "2rNeRSm1yP5d"
      }
    },
    {
      "cell_type": "markdown",
      "source": [
        "## Probability?\n",
        "\n",
        "Now that we have established that our bingo game a geometric experiment, can we use the geometric distribution to calculate other success outcomes. \n",
        " \n",
        "1. Based on your first bingo game, can you try to calculate your bingo success probability?\n",
        "\n",
        "2. Our bingo game is an example of a Bernoulli trial, but a real bingo game is not. Why is that?\n"
      ],
      "metadata": {
        "id": "VI210v77bR2U"
      }
    },
    {
      "cell_type": "markdown",
      "source": [
        "## Tools\n",
        "###Probability formula for geometric distribution\n",
        "\n",
        "![Screenshot 2022-09-02 at 12.46.54.png](data:image/png;base64,iVBORw0KGgoAAAANSUhEUgAAAawAAABwCAYAAABCQ0RMAAAMPmlDQ1BJQ0MgUHJvZmlsZQAASImVVwdYU8kWnltSIbTQpYTeBBEpAaSE0AJIL4KNkAQIJcZAELGjiwquXSxgQ1dFFDsgdsTOotj7goiCsi4W7MqbFNB1X/nefN/c+e8/Z/5z5tyZe+8AoH6KKxbnoBoA5IryJbEhAYyxySkM0lNABnpAE9CBF5eXJ2ZFR0cAWAbbv5d3twAia687yrT+2f9fiyZfkMcDAImGOI2fx8uF+BAAeCVPLMkHgCjjLabmi2UYVqAtgQFCvFCGMxS4UobTFHif3CY+lg1xMwBkVS5XkgGA2lXIMwp4GVBDrQ9iZxFfKAJAnQGxb27uZD7EqRDbQhsxxDJ9ZtoPOhl/00wb0uRyM4awYi7yQg4U5olzuNP+z3T875KbIx30YQ2raqYkNFY2Z5i3O9mTw2VYFeJeUVpkFMRaEH8Q8uX2EKPUTGlogsIeNeLlsWHOgC7EznxuYDjERhAHi3IiI5R8WrowmAMxXCFooTCfEw+xPsQLBXlBcUqbzZLJsUpfaF26hM1S8he4Erlfma9H0uwEllL/daaAo9TH1Ioy45MgpkJsWSBMjIRYDWKnvOy4cKXN6KJMduSgjUQaK4vfEuJYgSgkQKGPFaRLgmOV9qW5eYPzxTZnCjmRSnwgPzM+VJEfrJnHlccP54JdFYhYCYM6gryxEYNz4QsCgxRzx7oFooQ4pc4HcX5ArGIsThXnRCvtcXNBToiMN4fYNa8gTjkWT8yHC1Khj6eL86PjFXHiRVncsGhFPPgyEAHYIBAwgBTWNDAZZAFha299L7xT9AQDLpCADCAAjkpmcESSvEcEr3GgCPwJkQDkDY0LkPcKQAHkvw6xiqsjSJf3FshHZIOnEOeCcJAD76XyUaIhb4ngCWSE//DOhZUH482BVdb/7/lB9jvDgkyEkpEOemSoD1oSg4iBxFBiMNEON8R9cW88Al79YXXBmbjn4Dy+2xOeEtoIjwk3Ce2Eu5OExZKfohwD2qF+sDIXaT/mAreGmm54AO4D1aEyrosbAkfcFfph4X7Qsxtk2cq4ZVlh/KT9txn88DSUdhRnCkrRo/hTbH8eqWav5jakIsv1j/lRxJo2lG/2UM/P/tk/ZJ8P2/CfLbGF2EHsPHYau4gdw+oBAzuJNWAt2HEZHlpdT+Sra9BbrDyebKgj/Ie/wScry2Sec41zj/MXRV++oFD2jgbsyeJpEmFGZj6DBb8IAgZHxHMaznBxdnEBQPZ9Uby+3sTIvxuIbst3bt4fAPicHBgYOPqdCzsJwH4PuP2PfOdsmfDToQLAhSM8qaRAweGyCwG+JdThTjMAJsAC2ML5uAB34A38QRAIA1EgHiSDiTD6TLjOJWAqmAHmghJQBpaB1WA92AS2gp1gDzgA6sExcBqcA5fBVXAT3Ierpwu8AH3gHfiMIAgJoSF0xAAxRawQB8QFYSK+SBASgcQiyUgqkoGIECkyA5mHlCErkPXIFqQa2Y8cQU4jF5E25C7SgfQgr5FPKIaqotqoMWqNjkCZKAsNR+PRCWgGOgUtQuejS9C1aBW6G61DT6OX0ZtoO/oC7ccApoLpYmaYI8bE2FgUloKlYxJsFlaKlWNVWC3WCJ/zdawd68U+4kScjjNwR7iCQ/EEnIdPwWfhi/H1+E68Dm/Gr+MdeB/+jUAjGBEcCF4EDmEsIYMwlVBCKCdsJxwmnIV7qYvwjkgk6hJtiB5wLyYTs4jTiYuJG4h7iaeIbcROYj+JRDIgOZB8SFEkLimfVEJaR9pNOkm6RuoifSCrkE3JLuRgcgpZRC4ml5N3kU+Qr5GfkT9TNChWFC9KFIVPmUZZStlGaaRcoXRRPlM1qTZUH2o8NYs6l7qWWks9S31AfaOiomKu4qkSoyJUmaOyVmWfygWVDpWPqlqq9qps1fGqUtUlqjtUT6neVX1Do9Gsaf60FFo+bQmtmnaG9oj2QY2u5qTGUeOrzVarUKtTu6b2Up2ibqXOUp+oXqRern5Q/Yp6rwZFw1qDrcHVmKVRoXFE47ZGvyZdc6RmlGau5mLNXZoXNbu1SFrWWkFafK35Wlu1zmh10jG6BZ1N59Hn0bfRz9K7tInaNtoc7SztMu092q3afTpaOq46iTqFOhU6x3XadTFda12Obo7uUt0Durd0P+kZ67H0BHqL9Gr1rum91x+m768v0C/V36t/U/+TAcMgyCDbYLlBvcFDQ9zQ3jDGcKrhRsOzhr3DtId5D+MNKx12YNg9I9TI3ijWaLrRVqMWo35jE+MQY7HxOuMzxr0muib+Jlkmq0xOmPSY0k19TYWmq0xPmj5n6DBYjBzGWkYzo8/MyCzUTGq2xazV7LO5jXmCebH5XvOHFlQLpkW6xSqLJos+S1PLMZYzLGss71lRrJhWmVZrrM5bvbe2sU6yXmBdb91to2/DsSmyqbF5YEuz9bOdYltle8OOaMe0y7bbYHfVHrV3s8+0r7C/4oA6uDsIHTY4tA0nDPccLhpeNfy2o6ojy7HAscaxw0nXKcKp2Kne6eUIyxEpI5aPOD/im7Obc47zNuf7I7VGho0sHtk48rWLvQvPpcLlxijaqOBRs0c1jHrl6uAqcN3oeseN7jbGbYFbk9tXdw93iXute4+HpUeqR6XHbaY2M5q5mHnBk+AZ4Dnb85jnRy93r3yvA15/eTt6Z3vv8u4ebTNaMHrb6E4fcx+uzxafdl+Gb6rvZt92PzM/rl+V32N/C3++/3b/Zyw7VhZrN+tlgHOAJOBwwHu2F3sm+1QgFhgSWBrYGqQVlBC0PuhRsHlwRnBNcF+IW8j0kFOhhNDw0OWhtznGHB6nmtMX5hE2M6w5XDU8Lnx9+OMI+whJROMYdEzYmJVjHkRaRYoi66NAFCdqZdTDaJvoKdFHY4gx0TEVMU9jR8bOiD0fR4+bFLcr7l18QPzS+PsJtgnShKZE9cTxidWJ75MCk1YktY8dMXbm2MvJhsnC5IYUUkpiyvaU/nFB41aP6xrvNr5k/K0JNhMKJ1ycaDgxZ+LxSeqTuJMOphJSk1J3pX7hRnGruP1pnLTKtD4em7eG94Lvz1/F7xH4CFYInqX7pK9I787wyViZ0ZPpl1me2StkC9cLX2WFZm3Kep8dlb0jeyAnKWdvLjk3NfeISEuULWqebDK5cHKb2EFcIm6f4jVl9ZQ+Sbhkex6SNyGvIV8b/si3SG2lv0g7CnwLKgo+TE2cerBQs1BU2DLNftqiac+Kgot+m45P501vmmE2Y+6MjpmsmVtmIbPSZjXNtpg9f3bXnJA5O+dS52bP/b3YuXhF8dt5SfMa5xvPnzO/85eQX2pK1EokJbcXeC/YtBBfKFzYumjUonWLvpXySy+VOZeVl31ZzFt86deRv679dWBJ+pLWpe5LNy4jLhMtu7Xcb/nOFZorilZ0rhyzsm4VY1XpqrerJ62+WO5avmkNdY10TfvaiLUN6yzXLVv3ZX3m+psVARV7K40qF1W+38DfcG2j/8baTcabyjZ92izcfGdLyJa6Kuuq8q3ErQVbn25L3Hb+N+Zv1dsNt5dt/7pDtKN9Z+zO5mqP6updRruW1qA10pqe3eN3X90TuKeh1rF2y17dvWX7wD7pvuf7U/ffOhB+oOkg82DtIatDlYfph0vrkLppdX31mfXtDckNbUfCjjQ1ejcePup0dMcxs2MVx3WOLz1BPTH/xMDJopP9p8Snek9nnO5smtR0/8zYMzeaY5pbz4afvXAu+NyZ86zzJy/4XDh20evikUvMS/WX3S/Xtbi1HP7d7ffDre6tdVc8rjRc9bza2Da67cQ1v2unrwdeP3eDc+PyzcibbbcSbt25Pf52+x3+ne67OXdf3Su49/n+nAeEB6UPNR6WPzJ6VPWH3R97293bj3cEdrQ8jnt8v5PX+eJJ3pMvXfOf0p6WPzN9Vt3t0n2sJ7jn6vNxz7teiF987i35U/PPype2Lw/95f9XS9/Yvq5XklcDrxe/MXiz463r26b+6P5H73LffX5f+sHgw86PzI/nPyV9evZ56hfSl7Vf7b42fgv/9mAgd2BAzJVw5b8CGKxoejoAr3cAQEsGgA7PZ9RxivOfvCCKM6scgf+EFWdEeXEHoBb+v8f0wr+b2wDs2waPX1BffTwA0TQA4j0BOmrUUB08q8nPlbJChOeAzZFf03LTwL8pijPnD3H/3AKZqiv4uf0X+1x8gxvMjRgAAACKZVhJZk1NACoAAAAIAAQBGgAFAAAAAQAAAD4BGwAFAAAAAQAAAEYBKAADAAAAAQACAACHaQAEAAAAAQAAAE4AAAAAAAAAkAAAAAEAAACQAAAAAQADkoYABwAAABIAAAB4oAIABAAAAAEAAAGsoAMABAAAAAEAAABwAAAAAEFTQ0lJAAAAU2NyZWVuc2hvdIEpzWkAAAAJcEhZcwAAFiUAABYlAUlSJPAAAAHWaVRYdFhNTDpjb20uYWRvYmUueG1wAAAAAAA8eDp4bXBtZXRhIHhtbG5zOng9ImFkb2JlOm5zOm1ldGEvIiB4OnhtcHRrPSJYTVAgQ29yZSA2LjAuMCI+CiAgIDxyZGY6UkRGIHhtbG5zOnJkZj0iaHR0cDovL3d3dy53My5vcmcvMTk5OS8wMi8yMi1yZGYtc3ludGF4LW5zIyI+CiAgICAgIDxyZGY6RGVzY3JpcHRpb24gcmRmOmFib3V0PSIiCiAgICAgICAgICAgIHhtbG5zOmV4aWY9Imh0dHA6Ly9ucy5hZG9iZS5jb20vZXhpZi8xLjAvIj4KICAgICAgICAgPGV4aWY6UGl4ZWxZRGltZW5zaW9uPjExMjwvZXhpZjpQaXhlbFlEaW1lbnNpb24+CiAgICAgICAgIDxleGlmOlBpeGVsWERpbWVuc2lvbj40Mjg8L2V4aWY6UGl4ZWxYRGltZW5zaW9uPgogICAgICAgICA8ZXhpZjpVc2VyQ29tbWVudD5TY3JlZW5zaG90PC9leGlmOlVzZXJDb21tZW50PgogICAgICA8L3JkZjpEZXNjcmlwdGlvbj4KICAgPC9yZGY6UkRGPgo8L3g6eG1wbWV0YT4KVGIRJwAAABxpRE9UAAAAAgAAAAAAAAA4AAAAKAAAADgAAAA4AAAtUKsWyZoAAC0cSURBVHgB7N0HuGU3cQfwY5saCJ3QArYhmF5CNdWm9xZ6tQkBQjWdAIZ1Qu+dkGAwNfTei1kwBEjooWOwTe8khA62T+ant/9r7fUrd9n15j3vme/TlY7OaDQajTRqR3e3sWCYYJLAJIFJApMEJgmscwnsNhmsdV5DE3uTBCYJTBKYJNAkMBmsSREmCUwSmCQwSWBDSGAyWBuimiYmJwlMEpgkMElgMliTDkwSmCQwSWCSwIaQwGSwNkQ1TUxOEpgkMElgksBksCYdmCQwSWCSwCSBDSGByWBtiGqamJwkMElgksAkgclgTTowSWCSwCSBSQIbQgKTwdoQ1TQxOUlgksAkgUkCk8GadGCSwCSBSQKTBDaEBCaDtSGqaWJyksAkgUkCkwQmgzXpwCSBSQK7rASOP/74YbfddmvOtarc7rvvvsvKY70XfDJY672GJv4mCUwS2OESiHFCmMFiuI477rjhFKc4xWSwdri0dxzByWDtOFlOlCYJTBLYIBKYN1iMVQwWAzbNstZnRU4Ga33Wy8TVJIFJAiexBGK0/vjHPw5HHnnk8IUvfKEtCZ7tbGcbrnvd657EuU/k/xQJTAbrT5HalGaSwCSBDS2BGCuzKcbqGc94xvDiF7+4LQle7nKXG4444oi2VLihC3kyZH4yWCfDSp2KNElgksBiEvjWt741vOQlLxkOO+yw4Xvf+95wylOecrjKVa4yvO997xv22GOPxYhMWDtNApPB2mminjKaJDBJYL1I4Kc//enwP//zP8PjH//44aUvfelsNvXnf/7nw81udrPhZS972SxuvfA88VEHZGpqPE6CmCQwSWCSwK4kgYc//OFtVvWTn/ykLQNaGjz22GOHM5zhDMONbnSjZrCcGJxgfUlgMljrqz4mbiYJTBLYCRL4m7/5m+Etb3nLcKpTnWo47WlP2461//rXvx7+7M/+bLjpTW86vPzlL59OCu6EetjWLCaDtYrEnB6ypg1+97vfNeV23NVIzIhsZ6xx+z5EnpkI8+XN9SCeg/uH3/9+ONWpT91eO6orbh6/T7vewilj+PKsHJE5mYjr5f+HP/yh1VU+BE09FeKwR42UU/7QmkbPke6STy4B4V6+ZAr45DavU2RP3qkPeMHle5cj46EjTvuSpq+b5MuXNjTTFkOvMbQdP/asDj300OGc5zzn8Pd///fDF7/4xeEhD3nIcPrTn74tCVomxOME60sCk8Fapj40FkYpxkqD1FCXGgtjsfMMQBpo3yngj0tD17D654T5IHjLFHXdRaUzDN99GRL2Dp7OTD1xpznNaYbfM9Q1Yo48QgNuZCIMZ4KtJUDPANlFXnSe3LjlOm+DODjqIXVD17jjqk5+8MMftsMLn/70p4dnPetZrT1lYAFnqV0xWEvt6aMf/ejw/Oc/fzjTmc40PPe5z2105HG6052u0Yev7naEPv/mN78ZfvWrX80M5r/+678OBx988GAPy5H21772tVsLaHpaFxKYDNYK1ZAOzus02tFocUvjTMNcIfkOi04D14nIc77jEKez8Z6BTcehQVrqmMffYYydRIQid0YI78omTjgdlbC4dLKRizQZsXvHeRcZSaODDZ2TqAgbkqwZDLnG+NAn8iMv0NeH5wzm4EgX/cwgwvN//ud/Dre73e3arOWd73zn8Fd/9Vcz/UzdSHts5X181Q1j9ZjHPGbYb7/9hhe96EXD2c9+9lm9q7O0hR1RfymPstjHYiAdwGAcr3/96w+vf/3rJz0hnHUGk8FaoUJ0bqAf1WUJI41N4zypQV7pFOSlsabB6hQ4nQecdDbe9++Cf1LzuiPokzt+I+vwnvrgxzApr3KmU5VGOPUTOUijY/Tc6NSzZcIJTpAAucRokaFncuT3Mm3yq2RkGflGP8kYBOfwww8frne967WB01//9V8Pd77znYc73elObZ8o9KV5Xc1m3vb2tw9mYt/4xjeGW9/61u3Qg9kUPDihib58txeSP1o/+MEPhmc/+9ntWyxLhAcccMDw2Mc+tuW7vflM6XesBCaDtYY8GaxNmzYNP//5z4fb3/72g48Kbcymwa6RfLtf65xBbxx10u94xzuG97znPW00ep3rXGc4y1nOUlg6+xM65nTc6UgaoXX+E2OUDmX33c0qlwyT8pDD97///bZh/tnPfna44AUvODz0oQ+dGWxlTbnVnXrS4fLJDf1T1/6e5wlOkEDkTS5kaHb0yle+cjjXuc7V5Evu3sHjk3HC8Zdkb/l1SV8ZAh/jPu5xj2tyv8AFLtDoOokXGk9/+tOHV7ziFcPRRx/d6ufa17728IhHPGLYd999Z8yhjzYfSLu9gFboffWrXx2e+cxntlODF7rQhdpe1l3vetftzWJKf1JIoCptgmUkUB3bWB3cWN9jjOc973nHM57xjGONFsdqyGONRNu7ZZLt8Cg8VMdbq5HHz1yNQsd73eteY631j1e60pXGJz/pSSN+g1Pr/o0/z4nf4YydRASVN4B3sp75Ff7lL385vulNbxr32WefsZZvxotf/OKt3Mcdd2xLlvJKV3taLW2d/ho/85nPjHXya3zXu9610+ou5dgIPllFr9VBGavxrGc963iRi1xkfOELXzj+93//dyvGb3/724ZHt3q9JHfpltxSmB5+5CMfGWvAMNby9FiGZqxB1oiGtO9///vHK5f+ljEayyCO17rWtVr91BJhowMHzOfVInfQD35rZjfe4Q53aPxd8pKXbPqlPBOsPwkYZUwwJwFKXOvaY13XMl7xilcca2miNaq/+Iu/aA1Kw9aIdhbgR37Js2YW4x3veMfWEdRsYaxR4fjkJz+5sQM3HUnfuewsXndEPjE6yqs8jBG/PvQc3/zmN4/XvOY1W33UAG6sfY6WZdJEVvFrI3989KMfPd785jcfa1lq/Nu//dvxZz/72Y5g82RFozdWDEYdQmgyrsMs40UvetHxYQ972Fi3QjTdin7xyRnw1QEX2QtLU6fwRnrKMDFKH/vYx8bnPOc5Yx1uGGtlYLz85S8/PvjBDx7f/e53j7/4xS9mNPAUo4UnRjVtYHuFH93i19LlWKsUzWBd+cpXHj/3uc/NyrW9+Uzpd6wEJoO1jDx/8uMftwb0l3/5l+Opy1gZGV796lcfN23aNH79619vDWpHNZxlst8qKh2C/OJ++MMfjv/4j//YGrtOgKulm7GWV8Zjjjmm4UlnhJvOZSui6/whHV587DK+ZkeMlfpQZjPMBz7wgbOOknyk4b797W+Pr3rVq8a6tWArOekwGb4JTiyByI7/4Q9/uHXiZj7kTdYHHXRQqweGCGTgBj+6aXARwyWODn7qU59qKxTqDK36Bmrce++9mxG78Y1vPL761a8ev/Od78xmeL3R642icPI+MffbFhNd4deS5HjhC1+4zfIY0Uk/tk2WOxN7wxksCgb4y4VXEl4aV94nbf+s4dVR1zaK11CN4OMsJ1Fk6foGGj5Cz7t5yDvxPX7i+UnXx8EXn9Fv0or/+Mc/Pt7iFrdojSwduGVLhgw+B+bL3SI3wE9kEnlY0qsN+zarVDc6P50Mw5QyklVcnfpqy1mWo9JRktMNbnCDDVD6E7MYeeRN5MJPWNkTDt68v9p7BiF687//+79tlmWGpQ2QXX2jNL7tbW9rM53IGf0YGGH0Pf+RcSkdFP7Rj34001V1waHJaJkxZwk7NFOO8Jp49LVP7dAS5VrOTNoSstWS2oNusze0ANqhX6cTx3Oc4xytLdUJwZkMGmL3E75EzYeVM/S87+l7Biu9F9/Tgxs+hSc4QQIb7tBFsd42S6tC2wZ8NaT2zE+4FKC941fjqLaxdNrPabrghI5nABfU/lDbZHYMN7i+ineb8/nOd76Wl7TeJY08hIPPT75o4tVz0vBB6ISXpEl8Q6qfagxbHboQXx3L8KEPfWh4ylOe0k5X1VJKOy3olNMHPvCB4fznP39LXp17y7c9bJCfyAu71cyHz372c+2Ys5sJ3AFXnctwtatdbbBBXrPeWanIrTraoZachkMOOWSopZ32Tt14BxxZrplaC2+Un+iHcuTEHt57vaNT5Bbd8l5Y2uiVuMgheP0zPRPPyYv8HJhwuMc3bvKuJbPhjW98Y/tWKroFl0taPrri5P2zqrNH13F1BzCCJ75mbMO9733voQxX410aaXuAl3JJq279DUjNuHu0rcKhgZ4DNmWIGz8OJtUgrx1Q6svtOL1TgXTLqUZt33uul134QD/lkPHxJXew+x76mqW2732LK/7BSs+RVfiBmzjyFZ/yeLerw4Y0WBoWSIUKUyyVSzH4GhcFC04Ub0lxdF5bN3BpdPq1PDHc//73R3I4VRm4a9WppZfWV+/+IwdIj1aUVlzyRkNYvnwu/Agvp3jScKGX9PiWVvt1Sg4wUt4DaeTjpJwTTr4bkWb3SnD/6gh02GTASCdNS7gBfnQwe1Q51VKNvtsHnc973vNamWsW2W4iePrTn1Ydz1lbXF8nTrbVLHM46qijWtnJyHtAZgxWBiMtcp3/RD+wSUdS7/mUQbw4dcwPCMOPm39HLvQj8aHN906894yDb6NqhjvUsl3Lxw0RLoj1gS+QJm1Smh5qljPULGpwd1/NiGbt0ofe6qkOO7TbJvCvnlKX8qfPgLFkeBip17zmNW1AVjOnPptlw9Iri+Px2s65znXO0qVHD7XU3/DxLT8G64lPfOKA11oynhks73oZSSROurQpdEHqQ34JwwN8Oh3ZeOaUsafnGT18c96B5NUedvWfEtKGglKItsxQldmmzVXBbQpfDWZpKaKeveO8E9+WJ8oHNm5b3JZ34kLLuv1ee+012yOxUWwJoj7CbXlZMpE29Pl9vsIg9IXxAA/Ebw9bfkKDn7AyCssvYeh92Xvcf//3f2+HD0qXG+/VGMY6Utxo9On7fNdrWLmAsnOf//znx9ve9razpc+aWY2bN29udQKvrw/Pl73sZRtuNfImixpotOUeB2fIxZIPmWwkSF1H1/GuDHSZjPie60qu2XKWNJGld3HRUUtl6IHgopU48dLAr88Ixkc96lGsYTuAVB1yO0mHRtpTT2cpr2NHy4pOG6qL6qyb/OszhPE01a7UhSXGulFiqzz7thO+0BaPbsokbi1Iegc5Ela+lEscmTkAcu5zn7vxacl4Pp/gyy/vwge+yC04nhvdigvP0sm3jxfnmfy45UB88lnu/a4Yx8pvKFCBqUQVSll68C5KI0yRQJQquBRIXJSKUXrDG97QlLZGN60xOdL724oHocnv04UX9Byflh8jB7yDy48TDyd8oWcNX/q88xy6oRH8vszSeHYS6373u1/jXWeC/w9+8IOtUw+dRnwD/EQ2kZeDJHvXXodOz9Hov/u7v5vJDi5Z88kR2MR3HLu++RkvdrGLteP/9vpizG94wxvOZLsBxDFjURnVNRD+XR1CiYyCRAbeibd/RD8808GAcHCSPnjB4cMRD0f4y1/+cjM65GggVzeaj7V8PpNly3NL29CW7Fu97nWvG+t2i1ZvPg1x2tBBmPOc5zytPtGpmXPbi0o+8urzTxjfyp8ywlvJhRZ84ZQDLXHSieeAE5H4Y0QZLHlEn8gR9Piew0fo93kkbj6f5Cc9SJl62n045VvCnn5JYMMZLEyr6L7hpWKjIHBUPOXUeKIo2dyNUvSKqdOvpY+xPgpuDVOHd9RRR83SRtHlm3TJL/kn3+QnPnHzCh0eQgOesNNwRqbwE8dPvsFPeu/w8x//8R+jDXIdO4NVe1njN7/5zRn/8DYK6CRSvrvd7W7N2BihO7VppK+83kdGwgYLfKfN7nnPe471B3xNZk6o3epWt2qdEbkwaOpyI4Fy9bpER8RxBlTe0Q/6zc+KgveAT2YJM/LiyA9+8BpC9yON9+hrC4wP/aJnOvdPfOITs7qAw6FpVnyf+9ynnQw0yGCgHFmXD5z999+/0VAfPhVxSi/5hMfwxFfexEu/COCdToRu2i96eIxDr5aIx/rTxlYmx9sd0IDH/XrL4FOe0ohDm5PWMxBOXuKE9T3SpL7otXRJw086eEBc8vHchz3v6rDhDBZFMLJzauzHdfw8SqOiowCUQuMN9DMWcdJQBH7COjjf6WhEjog/6EEPSvJGF+0+bdKLk5+lBbQ0ktq8bUpqlOkdiDK3hy0/ocnXoJx+4jTuKDmagPKjkTToSiMO1F5DG/kaAetU+PUF/7L5tgTr+Cedi1Ned7nLXWYje8bmv/7rvxrn5KDsTfZbZOAFeUVGnn3obUkxS4Ib8ZSg8ihnyqxcILNLuqJNaA+9vqUNSMeRTfSp16W806F6H5n2eRpEPe1pT2udOt3inFSFn3pABy910W3Do4d1mWz7tMC7X9USIr/2hNtsy2oAOi94wQtmfCd/eKG7VNql8opfy4VG0nkOkJlyiSMf/PoQ3Qf4+HGs/cgjj9zqRGHSxngkffJJX4AvcU4v0ju0e+j5puPyD295B19Ye5/gxBLYcAbr7ne/exuxGbkZSevA0tAojob1ta99bTz66KNnpRUf0Agoibg0SB8KHnDAAbP1eR/iGqWCGDvpGKOeFqWjWOhw1vo1Po3U+rwPVo34o+BRSj4epEfPs48pGUozPGkPPfTQNtKTr/cB/IQncd6hz9DVKaxmrIx+dQSbN29uuEm7EfyUV7nMeMlEeQwk7nGPe7RjysrfQ+qETHtZiT/iiCPG+n+jJg80fJfV4/R01mNYmdQvOK6+caLfS+GlTtiRbcucvpPSJuzHZGRPTmYLcHw/KNwD+aCJfvQo4XkZ4cNAjG6mPnTuPsyOHtsresITnjDW1UutvuwL+cwCH/a7AvKtv/NoH+UzanX6ti3LGfTJN3nz4SqP/LcFQidGQ/roFjq+6btD3W6x5557jmc+85lbubQZM3nt1ycTb3/721uWSRfZzPPhvTLKSxp1oR37zCSzNX2H9J6Prr7Jio66FKeMfDRSdjQnOLEENpzB8lW8jkej8QW9JZ/31nUvdSt069x0cG4/sNSgwWgMH6tDCRpVIMqc50Nf9KKmpBQWXXtXaSBwo7DCUS4+FwVD6xM14qSkmeFkU9moLoBWFD98HF5f2tcx9FYuPFhyqSPrM57xEtze73lEk8G85S1vOctf56yj6nkMH+vV72Vzm9vcZmaAHZ7YtGnTTA7z/KeMfHKJzOr05HiFK1yhyZbemGEFd57Gen1WFroGUueeha961au2mTW9pTv2hL73ve81Q2EJT4fsGyPtwTKx9sFlIJUyk3to9zIUH2CQdO7Rb7NW1yvBx0/dsN5uXbE3VXcCjptrwMRQoQsHrbQl/n3ve9+236he7CH5di55p7zyFgfQ6flpkSv8SKPNp0zohQ7fN32MiryVhxPGO1kq22Uuc5lmpJNO3gmjmzrAgnfvLiOo75EeLfQZW4Pqa9YH79o42asPTn1YinT1lQEn2pFV+que7xWKuktFrzuDlUrra8HIAxiVuDuOclGKQw45ZKyLT9vJPqOiGJw0Xr5pvjRGgqETpUgeGnmUlsJe4xrXyKvmR0k9JBy/R7Smb3SVpQ40L3WpS41H1fp/lJtiJyytMtmXMbJLOopOgfsRV5/PfBgvaOpQ3H2osZCFxoGnNNr5dP0zGka4gb6heLdceYMbPzh8vMt3XtbBXctHw40IOo5Tlmzc8aZsi4C0nLzdoqDjIRMy3pYlwfAvT/T6DsvzWtCnD26frg/n/bzf5yv/QOIdZKDnnBN4ruxSRgZeeZWbHqYj9szBYdgAWivx0sebEbgpRJ2krTFYofHJT35yrJvW24EM14f9pmYV6XiD09Nzh99+++3XeLdnzOAFerzEbavf0+jD6BxQKyr6DDJKWciQrDw7uGOFJDO0eX1Wt307RtPsimwNOMmbkXrAAx7QBsDiyA19+XivvYs3QK6/NpnpF9r45fo6l8euDuvOYKVCUlkqT6XxfWWfY+cUQ9goRcVTPMogzKccabDCDIc9nXnFNdJzZ2CU1UjP86KAN4oLNOj6TqTRovScGZf9sWx0RxHlK16nbFM6/JsVWh5kfBZV1p6mvSyXwpIBmox6Oqa1yhTZpMEEf/458fO+9HjmS8PleR53tWdpvvKVr7Qj6OqTAXf4Yrn6W45O8ufbT3FYQ/1y22KwpAfqV8ebZ3GRibjVHNxA8PrnhFfzk298uJGvpSt6pr4txTFU5OWZ8065tZcYrfq+sOE4SWq/ZVE9IwMHJLKKoLNlZNAAZhNm9OouHX3k5B1QhsRZJquP3NueLePlyrGdBfap7MG5nJczoOUsIXPeHV1Ld/jtDZN2S16RP5lw4uyF9bJ2T6IZV+TuXdp56kccHbc/69YWclqS0bGz8M6SyUbIZ90ZrF6hra+DVOBT6oLXfC+hwntDZaRZf0vQRtT1Jf741Kc+ddZJRTne+ta3tn2oNBhK9t3vfnesjxpbw9a4L33pS7c9sEUrL/wGn6FxTDaKSEFN+63ZJ18HRv7hH/6hHfIwyoNrhGn/4b3vfW9r7BrGItDnL+yggr2MdFYu7zXyXQuk7Z1G6hkkfi0a3isjIFtlSMNO2dvLVX7SGdiYN8jQ0VrWrf8rWnjGmfzlSSfSYajfbTFY6MRYpVx8cdsKZCht6Egf+W4rraSVnsFKJ0iPMlAzkDPbMis10DvssMNG37DFuEUWBgE63J6vlfhRNz+t/TAdcfS7bqpo7QUv6pts+L3BQltaDkS3pGG0zF7EcYvwsRJ/2xov/7ik9YyH+MJZ6RAXnYYvHNl5V3/5M5t90lsyImf9lE8sNm3a1D6dgeeyX0uEcLTVPWvp1p5tZISesDyEJ1iSwLozWBREJYG+ooRddGqqrpIphIZqTd3mLyPhGDflkt5Iz/IEXB0WpWDEcpIqSqkzt/8VxdHBU8JFAA1KFR+PnJFSjCRltaRl1AYPf6b/luuSp/Vs+3E2x+EsNdzFlTX5Krc9A3lqKGREPofXHtlaEBp8dBg+Hx8b9XLCazmnIo+uUSk8ZbGnlrT9pvtqvJAnHpzSJBdl0NEabJDNopA6oTOpC/J2QGERiDxSH+lQxW8LH/IKrfiL5B+c5MefB3wwWMoXXdImyM3+kGU5Ayhpzf7NAGKwpDETd5otMp+nP/+ccjNYyVPb80mFPNCJo0PCkR8fDucdPwbKu+CK//8Cefd86gfwiDfQh+d59swQ0Vcy5tSJwaMBl5mpfUOGHK4Z3oEHHjjDM9AgS4CPyCGyai+mn3HdXc1UFdWuU6lOt+q8an3L9SXC/kCxZiBDLa+1q03qe4521Y4/Vax14PpL7bNV/NLVRTW1HmpaP/hzw2rEDd8/nh588MFDLSU2uqVQ7V4517LUXk+7AqVuShjq5og1r0MppWs0quE233N4dgXNk4rmM5/1rJZ3KX77q3DX2Rxdf1T3b//2b0PNuFoe1eG0cvnjustf/nJ1HcsJ//BKFtUAGu/KvxqQEx7KILarbpRf+ThXEbkjbTWQHi5A55GPfGT7J1bP4r3nVgI4ZAHwTeZ4r8be/nG2DoO0a29WSp94eZRxa//66g67arBDHb4YakQ61Ox3dr1N8Ffz5V0z2fZvsspUS1iDeyGr85iVdaX0+KgOquEpi/QpI//44z0vlXclGvPx0v0pENmTL9kCtNx9526/o+oaKuCuvJvc5CZDHcQY/MNvzVBnOup9rSYMtRIx1Kym1Y0yaSPaD9qL8CdNDbbaNUZ4Qc/fy9e+74y38Bk9wD/aHJnuUXfukR1a0RnvUk56s7NB3oCPJ374C4/Kg8/UwQn4u1W7+/1QA4LBHz96L00dehnqf+vatW615HeiP36tAfRQpyq36s9qm6DlEX7kkfyFd3VYdwZLRUVpesUQrm8lhjpx0xSCMrmY8573uMdwxrrTTKVSpoDOyt1gtYTY6GkEdby5KQgj4T18xgOd+o6lPdcpxKHWtNfsGOUvfVPgCte4sIXlo1HWDKPdUfbP//zPrQPW6dXBgfZvuTXrKON69qFmc+1ONveX4VMZ8IWGouy+5Q7BlGklP8qNF52R8tXsZtaw6ruuZthXSi8eDTJOvrU8OdTBj9WSnOgdGjWbbeUXVmY0a/TYOjSyXQukqxlaM+K1p9DSuyD1IQ95yLDnnucr/rau5+XoLZVjqQOs/3Fqdy2Kq2Wy4cADDxxqhrtQJ8BY4sdAhGwDrc6brE6Iy7t5v0+Xd2iC5d4FZ96Xps9XuE7IDgYCDBHQWdaMcrhwXQpMH8lfuugqnazVhDYgE0/fXCZbh1JaeC1+GOniusmRsQS1nzW85CUvaXqMZvhEq6YJw26VRzrc+vxEoRtfbTBQ6fcoHgNJv7MMlvx66MufctCb4IWv+uSlLrpdGkgGr1YX2j8Wu3dRHLm4MNsgW5ugS+SARtLUP0C0OwxrZajVrQud6xBLex+ZyT/59rzusuES3rqCqqDGD78679nU2PPedUVPKVVbjrD3Y32+FH8rV42zLTmYSluOqopvJ3Gkc0WPDWEgHfr/8i//0g49lAI02v7ADY1FwT4bWi3fLZuv0jpxZxnGXgIe5M/JpxSwHT93B6BNVsuEKSs6wtyiEJnBtydw0Tp1JI/k6V9e1wL5RibxwxP6izj4llGCi6ZwyiO8FsB1SMQ/0aZOyliNP6q6DN1FaCQvewXocI55O4SBr7UAH+RAj4TRky5lWiv9Su/RQW8RHkKjL3fK5Z2rj+zpKhsdc29fcMM/Xxk4y7S+Y6Qb0pRBawd8eprJczmfPIBleektdcu3Bn2z8kRmaAqnnInHD4hcI89FeWiJd8BP5BR/nqR4vHF4D9/whFMuYe9tR9DTtDkHqcSnXNp5aIgT9tcqV9p33yZDdeE/97zr21DSzPO3qz6vqxlWVUK1g6WRpzBXDWLLyH+3oQzWUPtDDaeO8A715f1Qd5o1vKro5huNCPNrv6otX9RafVsqqyt6hn/6p39qU/VSrIZfBqvNsMxIxFliMcMSXgSMOrEtP/yWgrVwKWubWfQ8owenvgsa6jDAVqNS8RkRJ29xCa/GCzyg3JYf991336Hufmtx3vk7jbWWBKWVF2cEeYqaVVSjXGjk3TKqH2lrjb6NKMWpu/AWX9xqgA91UbdTtNE/mmZJZljVUbak4laDvizS1X2EjTd/R2IGUh8gr5a8vVN/eJUX3oV/UHx96MMfbjLuy7YWsZ5fvKGnrs3c/N2FpcrVAH5oSJ+8lcuykpmTuBrADbcruRVyIxc5BL8+Wh0OrBmmpda8o+tm+vQ3eazEizTA6gBa+KcjVilqv7ilDw48YTj41y6UGT5IfuFD3Fr5w9lRgCfQ59nLWZiL7IIXHD5QHuG6rKDN5NWBMlkx0VdJxyk/WlzSuXne3wO5ER+UwRo2b97caKY/CX5DmH5aB1ryXl9QFT4bweDMKIPba6+9ZiOYfGVvFMMB6eDxxZlhlbI0VxW/1d98l6I1XH/elgMQpQ9jdfYtvhFc4yf5oRUQNpqyEW0E5Zi8vEsBGx/ycELQwQS8Ji1aoYeWcN6F9nJ+8PhGZg43XOISl2ijZ6M2+S4yw5KeA/EjS3wkbjkeEhcc/nxacXkf/JX8Wp5t9ZC6c4rT7AAf87xERivRN8NChxycOjQrTxr5z6fr6ffvlMfnBk4ZusJrEef7rzi3yLdwpeXTs/3qGySHW9aCXm74APh0EbCVhuiWi2XpfWQvHTw3wZjx++YvB1nooY1+h47MdnqZrMQPeuj3hy7I1o3r8uzz7XkOvfCeGUTi+fCXS9PjnNTh5fIX18tGOLwmjC8Hm1xqoK2TbWZYKTOc4Cd9Gav2iYD648ywAnC5CbaWwLqaYVVFNygW2yjF6KIaRKKHMljtP3m8r1N17X+rjJqBOLjBr8puuGZi3nm22W5Tum6gmI106ivz9udt9k2kNdq0rh86s8xXCJhhlU7PZljyMrMzQ3B4w3N4QwJdhwccBrD/AJQzUMrccOD16fJ+3g99NITrVFj7c8M6JdnWzY1w6/TSUAZ+PulWz+QTGil7eIHY87hVwu6hGucMD42UAR3pQ7dLsmzQmr4DMnWCrZXJLKk+EK9DBWdusu5pybMa+0xfQjD5S+f/wjybeW6qP3zcf//9Wxq4yg12352eLW2ohz6+AfrVUbdDDkfXoRmzC/TErwbqA6SOhJNOHpx9C3t8q0HoSCvMBw4IObyDT85/gdmj6vHh5fnoOpxxodrfhCuubr9oh5hqgLNQ/UiHZzNdB2PIHi9mCnRZOLzJ9+QOkasy+88vByzMdsWXwWozLDLzntzSxjyLt9pj/xy+WXYNYLb6Ly54a+nYyV3GJypfCWvdQVXmbLQlbJTibr+9aoZVBWijmEPqg1jfUHlfijBbE1cYz/aP3MJsFGmmUQrTRpP+lsEoMeleXPfv+QYKXc4lmIuCfOLQdGTVUW7XAcmvFK75vrfwMWcpX/svIPxY78YjCC/J1zMw8k0471bz4bpd+vy115dvj/Cw6AyLnI1+gWO3vtH5Wjl/LWHvz/NqrpZF2jU0X/rSl7bCl9Y9dIuAMvgs4Jp1S0AZ2yYzsyR1TdYAjjCfI3d8i+Mrh3jgOyw6QA6uaHL02LvMKoIXGtJyqdfkg1boq2sg7SKup9XTa0QW+JGHdABvwPM+++zT5EPXHJ/Of0uZUaVc8PDLHXPMMU0f6Tl5+D5Q3UQWjfACP2ZYkamj8Y7LRw4LJD9ZoZAv99q6MMCH2+lr9FWA3NOOhVN/5OW7K/XAmflaSfC+n4GmHk9WQtuOwrDu6wrmFT8VqLGZZqtcDcbSTn8bRNLxKZBOzz1rjIQGymC4BWIeGDXf+cTALGqwctgiSkjJdOauc3EDQAzg3mU8Nm/e3K6rycWhyuB7rzol1MqA3yg1/oS3BXqltiSorPJXJh2Lj5HXgp4GXAaDIXdQQcfo2h/h1RwcDj4jrdGioWN8fR0QmM9jOZ7UNzz3CJIXw3uHuqTUnZHAO47MHFbJs3eMjnggHjB25MD44an+Cr3F+wmNhKVBI51KEMWL62mHfnBOSj/5976wAxfp8FzYnIEJPvEbnuGSlT8ojbHiv7Q+zjaQSLkWKQNc7U+7krf6XUS/FqG9EXEiZwdeyISu0dvaM25yjfFRB1wGVOR+0EEHtTTS6Xd8EwfIGB5I+vYw/bTlqnUlhlQspoQpBN+fK7p2Rsdj/d8Ju1QsowE8C3PW5l1BkzV+68NmDaGXfFwJU0dPZwZmW/ew5OnaJdfcuPAzhoqvszXjAnB0vJTZqJRRcyGpUdZKoBz4XAt6HEbcKE/+ZOVuw8MX+HA4eUQu9sHCKwO4qHNtj/LB55M/I+bDbp3momAGam9RB+D+OtdY4Y28OeCZcSfbHsSTHTx00ODQM+MC3jlRmTC/P8mVzr4hbPmJbHQiZrLhZSU/+PM+/HR0Pf3VwvM04NIf9cxw+AsVutzTloZ88OumFboA12xMJ2kmDCeyWi1/7/AMGKzouf+Pcl8lOrsaRNbKbv9QeyMX1zH549EAPLpF36JXj6r7Q3PFFd10UbX2AZduRdahMflLElhXMywVr8Ki/MLAs0skTbkphNsKNE6gQfYzEhVt+ajWhmeNSprciNwSbflB3xHqOoXWGrKO3sapGxvWAjxp6FzuOGSgemPhCLVNdbgcnhk1nUYa/AF1CScIPSP8PwWkV3YzLDxkSZCxcEfaWpCGlJGdDk6Hxjcz5a/lgufvWtw04o/83FSNzrYsCapPFxLjnZxcu2U2Gjmqt+WMn7LPj0j7Y+06bDeK9J1BH46MIovkl/j/Dz888OlawLNPJqJHlpOsQgS8T/sRpy7oBd3jhC0Hhm6PGxor+QaOydc/XVsKJjO0diVQ3iU5H9tmqwwP2bq70p2iS++W+jDyjXyEyY0MGTmDO3eKRu92JRlua1nXlcGaZz6VrCOyhKYTVsn7779/+/bjx2VY0tBUthvO7R8ZSbuSCK6RpAs27Rf1S0bJSydQm/INTyO2bPSauuF7EZC3mYMRlVGr/PiMEqOHbzhpzGY/voOhoHA5+RmNRZnjy78Pr8QPnMhJR+/qKeXQEDQe/xnm1N2ikDzJBd8MAJdncSs5ePZPGJOkzYCCL24tkA8enLK0lKj+yNQVS+6x8w6d8Nn7CUce8AxGyAIdM8ab3/zm7bScJWP4mWXhK/oROny0Qm/p+YS81yqL96G1CO5yONLHkQ3ADyPBYMUAuYbMha3knDqDaym1Dhq1b6foRfSOsSIfNNFbBODLg+EPHQMLg5HtLeci+a83nOiFdm5wGpnoD1wDl/oK32T05LoP1QlTqw8MnNlqHdZop4aDx59P27/blcPr3mBpgJb3VKzGSSl0+IyS/RR3qbmen7OOn30uuPB0WBSq7+QoA5dGlr8XkUanViee1tQJDbduFmjLMtLpDPDkDjdLj/MgLwruqP0BNavSgepILQ3KTyfjvaUDZQb88DhPL8/eMxJA5+vvNNDGE35y4W/wV/PJJLTwkY5sLR5CM/iW6BLOu0VpwOMYD8sk6ltZHJjwoSxAW30CPONVGuVnkFw0Sh/4Og/pOXKxDGPfxUDBvgFavy8Dm3zRFcclrmU095N32+vPkV3xsc9HmQ877LA2KFMuHZ/VB3fW2T+0nOvvWLQN+4gZTCk/Y0Pfc0t73w5WzHzLC0tVBkCn2TJwlPdb3vKWmb6ulf7k+J78rCL4c1HtWf/hg2p6Z2Ug/ZK+yWcVlnH1Sxk86EMMbulbILrXx+Xdru6vO4OlYaYzEtb5mV6rZA0ko5hMv8X1Lu/FGYG6cBIdEAOQxi9OXm4CR4+jdBr7WuAvSBjHdKjSWk5sf4xXStyD/ChfFNC+Sk5ZUVyKbA08eDnlFb57WsuFUx7Lj/bJlAFfdUdca0yL0iGL0Or5XTQ93uCGDp/MQyvlX64MievTuplEPepoDVjqHshZXaIV3ND3TJa9PpiVkzV5qCPy9p6PpqUynU467pQ1ckiZkkf4XKQswd1eHy/hL7MnS0raRK/v0UXy0mkqY8ocY11Hqdu+Knp93aTcq/FqhSA3t0SeDlygtTPlsRqPO/sduW3evLldXBu90v7SvhOnHjjPfDj77bdf204Iz2jRYbIkU+B5ghMksC4NlgpLRWkkNpRVsIpOo1TxGmHi0nD5RpvWhB2E6Pc60kAVP4pBSZwUtOSIlkZu7yQfdOog0ln06ep+vrY0KY0/fHQoxP/qoBdlC744ZeIDx8T946kycHvWXwv4a/HgwMN38Hs64VtcT9dfb9edbm1kpwzc0h7aYsfJQ4+/o6DnT7gvz0p5BIcMzVZzUED966TJCIQ2eYQ2n8HqdUH9REci7+iQvRhyk04980Nvnr/kMR+/M56TN1/5zSh9fKyOU1ZlVL6UN7738IzwzYbs75q9okXGmdnPl0M+vR57b1amzYWm2Zv9UXipl3k6J+fn1Iub2A1eyZyh4tNX9UFWMV4JW1Xx0bcP0fNfYpFTaPJB/Lzf1f3/AwAA//8SYML0AAARDUlEQVTtnGeIXdUWx3cmk8QutlhiyVOJYnkqFiwRBRXEhqhPP1jQLwqiWFGwYMGCRk0eCEFBR1EDFkRQLJinWBL9IiaiiZWo2HuNps1+67fu/E/O3IxOZO7cubOzFuy7z9lnt/VfbZ99zrljslHqQGJaY8aMSd9//33aY4890hdffOGzXG+99dL555+fNt988/Txxx+nRYsWpZ9++iltuOGGabfddks77rhjWn/99dPkyZPT3nvvnZYsWZImTJjgbVesWJG6urq8X7FN2bfffpsef/zxdMstt6TPP/88bbDBBun4449Pt912m/dLm97e3jR27Fjvh7Y//vhjWrhwYfrss8/Stttum/bZZx+/Th3q0gairsaCH65Br7zySrr33nt9/gceeGA69dRT0+677+7Xli5dmrqtny5Ly5cvT93d3f36ZM70xRjq/6OPPkonnXRSWrBggdcdN25cmjt3bvq39dltx9QfLQRP8PjSSy+lm266Kb366qvO0/7775+uuOKKdOSRR/p1cGnG9rnnnnN9GIxX2tH+5JNP9j6kG7TjmvRksH7aeZ15oT+///572n777dMPP/zgw3MMH8z5/fffT998801C/ujlrrvumrbYYouE3YBbnS90QrzSkXQTHaa8fg19v+6669Jdd92V/vzzT+9n2rRp6fTTT0+bbrqp16W/0aRnrZAdmM2cOTNdcskladmyZY7zXnvtlY499tiETX7wwQfug/BJ2PdOO+2U1lprLT+eMmWK6yAyCVo9BMaYUnZUwJKhSPG/++67NGmrrdJyc2Bc22abbdKsWbM8OGGYBLQ//vgjrb322mnrrbf2QIaxUlfOXgohVmWYMligwtETsOgbgyUA3nzzzemUU07xAFjvT9CqX5wdfcqBynApl/HThnLKstVdbHMm2H799dfuWAi0zJfgSsAiZ0z61TgYBMckrqmcdm+88UY64IADvIxxttxyy/Tyyy+nyRa4OR9NBG+kxYsX++LkoYcechxwumeeeWaaPn16P/7BBVzHjx/v9cD873gWruSQ5Maxymj/d31Qt92keYPLxIkTXU8oO/TQQ9ONN97oMmdhR0DDBjbbbLO0ldkOC7C6fqI3YAbfdR6pgy5xHQxFjMFCjkUZgUt6OHfOHC9jYUWdTsRMPAxHDs+kO++8M1100UU+xMYbb+xB/KqrrkpfffWVL4axZ/wTCwgW2uCOvnaZjo1tksFwzLOoPg3wjiEzmGyCtLQ8L1u61Px6b7aghFfJJuRsBpGPOeaY/NZbb2Vb5WUzHK+jNtSvJwtkzhv16kR9M0wfi/rQzz//nO++++5sxurJAkbed99984cffuh1qUM/tNUY6oe+6nPhOucag7YQ50q0hdQHOTyRk+zO0K+rDphQpnEo1zyY42mnneb4mNP2+d9xxx3Z7jyzGYv3V3U2Cg7EF1O99dZbsxm684YeHHTQQdkCcT+MwGSJYVfHVn38VU5ddIwcIqcu2JN3EmlezInjX375JVtAyhZUHJcLLrgg252V6wfylu6pPuckUUMnGnxTDs8i1WUcErh88skn+frrr/fxkAE2cthhh+X33nvP+xVm1F/TCHxsAeVywEfZHVTu6emp7A48wUU2LaxphxzIg1YfAVYIHUMIc3mfgCVoW6VUAQtjwRHbKrJSCCZPO5IMTG2lDJyLKCOpLoFACvXOO+9Ujh9ngAJeeuml+d13363Goy5EH1I4tecc4lxjEmSqudk8NCfVa567ApVy6jXqNIIiTlZtvvzyy/z000/n8847z50IAd1Wcu5MbJvT59FwTisdEv11MoEP/EHgOH/+/HziiSe6Q8BR2go2212vBy2706jq0k5yp91giTFoL6q3px/NQddHMmcu0ieOFy1a5AELPJD3Y4895osTrsFHf71s6Lvaw0eznopXYSYsyNH9Cy+8MNu2otshOmbb1/mpp57yMamj9iOJ0UiN/euvv+YbbrjBsWGxaHe7vngQxsrBVr4AWYCb0kjNfTSO23kBywSJcCEEyiqOQKX0zDPPVI5GBqYcw0FBpCT0wTXKVYdrKAzn5JxzncS5PffxQKXVK07h4osv9iDJfGgHUVf90JZrKKT6pQ7HumviHKINdetj1tsxn/p1+lDimuZLDhb2/KvffHFgs59/3lfh9DPaSJgKB3i3LZf8r8mTqzuKjTbaKNszxvzEE09UOIIh/FJ/dQj8aSOiHXfklAtjXRvpnLmBC4Q+IXecIzaxww47ZNsOrvhm7po/eLAAhKRvftL3Qz3hRU4djcU1ewbjwUq7G9gCAevtt9/2MYT3QH3Xxyn1GKzsObpjBDbrrrtutmeJlayEC7ITtmABttJz4V8qRq3mq6MCFszJcBCw7cW7U0IZME6MhYAiQ5NCuGH2BQEZtq7RH9c5l4HpnPEoryvUwgUL8tFHH11tQTKuPc/Kt99+e7aXALLt4dOsmqfGluLRH/ODOFa5xmYskuZAroCludKectXjmMR1EncGOKmzzz7bMQEXHNikSZPMYP7jddVG7XxCo+AHzCCCB/zDr73cku3li2wPs/1OEn2A31122SU/+eST/fil/mBEHcmGYyXkAPaaw2D9tOu65sd4bF1fc8012R7cu02ccMIJjo/4Qd4ck8BP5RyTIOV1vVM9rnNMsLIXXLK9LOC2gB2wTc54zIE5CSvpGmVrEoHTnDlzfAcAncT+rr322so/1XGmLiScJdM1DbOh6kdHBSyEh0BlAPZCQj733HOr1SSOed68eZXQpQBujH2OhvYkL+szUCmFrun5F+dcYzzqa/xPP/3Ug9YhhxxSbbVhsPbWoQfMaty+wMI5bTWOzsnpG8I5aAzOVZ85iF9y5qZ+1Jb6EOX0wTbNOeec48GKednLCH6ndfXVV2e2KFSX+nIqXjgKfrTlqakKG/hg68veGPVtMHQB3u0hdqUPYCyZCt+/yqUf1Kdv1ZNucN4JxDyYIwQW9lZqnjp1qtsETnLGjBnZXkzy+Yt36qqd2qqMchY85Er0q3qUgaO9+ebbjiwM2G1gS9DefPN6PC/UWNQHv2ZdZbzSCR3qsedVPLdCF/fbbz/3D2DSjKmwBltdE+al49RK/joqYCFIlF/Ew96dd97ZDQcHRXrzzTfd0KiDEshw1JYyFKlOzee6xnYJ7dSP+qI+ZTwHYhXPapaxN9lkk2yvTVdjqh9y2tbnTntIzoFj+tUY5IxNUhnHEOckSHNTf9SxV+J9SwxHss4667gDmz17ttdXX5zUj/3iKPmBR/ErPsSLveLuzwm0TWVvwXmQF3b1doOxK4wlF50P1m4krjM3FiOvvfZapY/j7BkrukCQHYjARDoJLs12wLmwFr7U4/iee+7xOyt03z4XyVdeeaUPQX1hrf7rbQeaR6ll+Aee72GHLB4OP/xwf0kMPEh1Aivw/if6WW8fxw0EOipgMSUEinDJ2ZawV3IrhWBLgofw7SDN44UXXsh77rmnPyuw77/8mVo7xtcYOCM5BOW8JcbLJ/Ydh98J3nfffb6FxpzllOrPLigvheCFbWHudnl+g5Ng1QqJ/5L4ldzgCbnff//9bg8K2Nxtt4LkZBmH40cffTTbN1z5iCOO8GdmJWI6VNx4vn7GGWf4ghrfdNRRR1VBKfAaKroDt++477DMWKpvavjojg/tILvDSfZKc+rp6UnmqLxsuH/M+fv3LBZA/bsUCx5+biuqft+vtGMeJj6fQ+OTqsYHyCoDM3Ngjhs5xLdpfKAIbqURfMMzcjDHkHrteJx9g2V3s86zrXaLYRleIeTIR+qXX355evjhh51/5Dt/3rw0pc9GhsI04zAGus4xesQxNmB38UPputi29tJPss8u0uuvv+48Hnfccf4HBLaAcvz4Fi6otQh0VMBy52MOCEeEQ7Lvi5JtyfmHu7YdkvgXg4MPPtidUmthGLg3DJc5MZ+RojomCj4YBHOzVZ3nOGjwom6zkeBwmH9pThy+4BenLWJBYc9ciuMV/pA3H6LyEfVll13mLNt3gumRRx5J22233ZAXJgR7/l1lvOmUglZdl7RAENaRp/S/2bPTNPs3HNuO93/7OOuss/yfWWSngVHrEeiogFVnDwO1t5HSAw88kGz7K/G3PP+dMSNNtC/F20k4RZw9DlJ3L+1USMbXeDgS5qKADkacqw7llBHQCGa06+3lb5waf0fVTtzaMRa8wjvOFGwIXiUFZmEIb8iUf0vgn134y7Bnn302Pfjgg8me8a6ySFG7f5KDpQi98QWB4Tqhb0EQAUvorMzB6MUXX/RdH/6ein+34B9IGna38h9qVraIo6Ei0HEBCwdk60l3shgJKz/+KxBnxF/ztNMpYcQKFnKOnCsNFfzVaQ8ejC1HjJEwPufg093N9uTKgCTHQx0cHUGM41IInkncSYlXBWxhQl4Sz9I9+IZ+++03twv+n44k3RiKjNW3+mJMkvQIvINWRQBZ2LNFXyDyd27gyMJWi8eS9HBV7ttf0lEBS0YCDBK8veXkq2hWlzgmGdRwQ8X4cnxy/IyJAhI0uIZStoOEC2MzL84ViDiuO+y6gbAqZ1unXZi1CwvGgW/kosAlDOC/jkE75jScYyBveEOO8AyRI1P4h9dW6GG9b/qFhK30vyQ9cgaH+ANmJPBBRiym63qI74pAP0SQm5p3VMBiblIC5RgJxzyf4OFvu5wRYyo4MC9WTZTVx68fU2c4SAZQD6Aq0xzrzxoo47qci/LhmNtI9Cn+wJ5jSKtZju1dQZNROXdY4hf5w3PztrSCyVB1kf6hej/CWGXKvWL8OALYWsPe2MVoLCixOWFVmv2NtNg7LmAhfAiBc4wz4k4BwfPvxvwztJRhOMHTPDQXHAfjtmPsOl8aVwGLc5WpHtgwX8o51nXm2iqHprE6IYc/EcfwjiNfwR0HemKpFII3kvQO3qQL4rEV/ApT9AXSHV1dlzRe5CsRkP5RUrc9zlk8dXW1ZxeG8dYE6riAJcPBQGUsGBEOCcNthXGujmA1tuo2n6u8XbnGJxfJiXFOOakZHzm7el21LyWXXigvhS/4GEiukinXWy1X3Wlpm1H61upxmHspNJCM4I3ywK21Uu64gNVa9qK3QCAQCAQCgVIQiIBViiSDj0AgEAgECkcgAlbhAg72AoFAIBAoBYEIWKVIMvgIBAKBQKBwBCJgFS7gYC8QCAQCgVIQiIBViiSDj0AgEAgECkcgAlbhAg72AoFAIBAoBYEIWKVIMvgIBAKBQKBwBCJgFS7gYC8QCAQCgVIQiIBViiSDj0AgEAgECkcgAlbhAg72AoFAIBAoBYEIWKVIMvgIBAKBQKBwBCJgFS7gYC8QCAQCgVIQiIBViiSDj0AgEAgECkcgAlbhAg72AoFAIBAoBYEIWKVIMvgIBAKBQKBwBCJgFS7gYC8QCAQCgVIQiIBViiSDj0AgEAgECkcgAlbhAg72AoFAIBAoBYEIWKVIMvgIBAKBQKBwBCJgFS7gYC8QCAQCgVIQiIBViiSDj0AgEAgECkcgAlbhAg72AoFAIBAoBYEIWKVIMvgIBAKBQKBwBCJgFS7gYC8QCAQCgVIQiIBViiSDj0AgEAgECkcgAlbhAg72AoFAIBAoBYEIWKVIMvgIBAKBQKBwBCJgFS7gYC8QCAQCgVIQiIBViiSDj0AgEAgECkcgAlbhAg72AoFAIBAoBYEIWKVIMvgIBAKBQKBwBCJgFS7gYC8QCAQCgVIQiIBViiSDj0AgEAgECkcgAlbhAg72AoFAIBAoBYEIWKVIMvgIBAKBQKBwBCJgFS7gYC8QCAQCgVIQiIBViiSDj0AgEAgECkcgAlbhAg72AoFAIBAoBYH/A61/HtNreSmkAAAAAElFTkSuQmCC)"
      ],
      "metadata": {
        "id": "4KBmwSslnPnw"
      }
    },
    {
      "cell_type": "markdown",
      "source": [
        "##Let's try it out...\n",
        "\n",
        "Assume it takes 4 callouts before you have bingo on the 5 number.\n",
        "\n",
        "The probability of success (P) is 1/20 or 0.05\n",
        "\n",
        "The number of trials (x) is 4\n",
        "\n",
        "The number of successes (r) is 1 \n",
        "\n",
        "p(4; 0.05) = (1-0.05)^3 * 0.05\n",
        "p(4; 0.05) = 0.857 * 0.05 = 0.04"
      ],
      "metadata": {
        "id": "J5ijwXdM5Lwq"
      }
    },
    {
      "cell_type": "markdown",
      "source": [
        "## 4. Tongue Twister \n",
        "\n",
        "How many danish tongue twisters can non-native speakers say during a minute?\n",
        "\n",
        "## Experimental conditions  \n",
        "\n",
        "1.  We establish an average number of tongue twister successes within a fixed interval of time or space, in this case, 1 minute. \n",
        "\n",
        "We tried it out. \n",
        "\n",
        "Specifically, for ***1 minute*** two non-native speakers were asked to say as many of the following phases as humanly possible: \n",
        "\n",
        "\n",
        "1. **\"Fem flade flødeboller på et fladt flødebollefad.\"**\n",
        "\n",
        "  English: Five flat cream puffs on a flat cream puff dish\n",
        "\n",
        "2. **\"Rødgrød med fløde.\"**\n",
        "\n",
        "  English: Red porridge with cream.\n",
        "\n",
        "3. **\"Kæmpe kæppe knækker næppe.\"**\n",
        "\n",
        "  English: Giant sticks hardly breaks.\n",
        "\n",
        "4. **\"Bløde, blege bøgeblade.\"**\n",
        "\n",
        "  English: Soft pale beech leaves.\n",
        "\n",
        "5. **\"Stativ, stakit, kasket.\"**\n",
        "\n",
        "  English: Stand, fence, cap.\n",
        "\n",
        "6. **\"Døde røde rødøjede rådne røgede ørreder med fløde.\"**\n",
        "\n",
        "  English: Dead red red-eyed rotten smoked trout with cream\n",
        "\n",
        "\n"
      ],
      "metadata": {
        "id": "aky05I2gLwtM"
      }
    },
    {
      "cell_type": "markdown",
      "source": [
        "##Teoretical conditions for a poisson experiment\n",
        "\n",
        "In class, the conditions of a poission experiment were discussed, do you remember what they were?\n",
        "\n",
        "1.\n",
        "\n",
        "2.\n",
        "\n",
        "3.\n",
        "\n",
        "\n",
        "\n"
      ],
      "metadata": {
        "id": "xoxSJKH2x0K0"
      }
    },
    {
      "cell_type": "markdown",
      "source": [
        "##Probability? \n",
        "\n",
        "\n",
        "Our small sample of non-native danish speakers completed an average of ... tongue twisters in 1 minute.\n",
        "\n",
        "1.   What is the probability that a non-native speaker will complete 8 tongue twisters in a minute?\n"
      ],
      "metadata": {
        "id": "QOcBezqyXw9L"
      }
    },
    {
      "cell_type": "markdown",
      "source": [
        "## Tools\n",
        "\n",
        "###Probability formula for the poisson distribution\n",
        "\n",
        "![Screenshot 2022-09-01 at 16.58.14.png](data:image/png;base64,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)\n",
        "\n"
      ],
      "metadata": {
        "id": "Vqaao1byf-fK"
      }
    },
    {
      "cell_type": "markdown",
      "source": [
        "##Let's try it out...\n",
        "\n",
        "P(x; μ) = (e^-μ) (μx) / x!\n",
        "\n",
        "μ = 5; since five tongue twisters were completed in 1 minute, on average.\n",
        "\n",
        "x = 8; since we want to find the likelihood that 8 tongue twisters will be completed by a non-native speaker.\n",
        "\n",
        "e = 2.71828; since e is a constant equal to approximately 2.71828.\n",
        "\n",
        "\n",
        "We plug these values into the Poisson formula as follows:\n",
        "\n",
        "P(x; μ) = (e^-μ) (μ^x) / x!\n",
        "\n",
        "P(8; 5) = (2.71828^-5) (5^8) / 8!\n",
        "\n",
        "P(8; 5) = (0.0067) (40) / 8!\n",
        "\n",
        "P(8; 5) = 0.065\n",
        "\n",
        "Thus, the probability of saying 8 tongue twisters in one minute is 0.065.\n"
      ],
      "metadata": {
        "id": "9AgF646NsohA"
      }
    }
  ]
}