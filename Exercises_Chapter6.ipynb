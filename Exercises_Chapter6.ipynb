{
  "nbformat": 4,
  "nbformat_minor": 0,
  "metadata": {
    "colab": {
      "provenance": [],
      "collapsed_sections": [],
      "authorship_tag": "ABX9TyPhQxqZEvHtGUy75Du8wkDu",
      "include_colab_link": true
    },
    "kernelspec": {
      "name": "python3",
      "display_name": "Python 3"
    },
    "language_info": {
      "name": "python"
    }
  },
  "cells": [
    {
      "cell_type": "markdown",
      "metadata": {
        "id": "view-in-github",
        "colab_type": "text"
      },
      "source": [
        "<a href=\"https://colab.research.google.com/github/ia-nechaev/aqm2022/blob/Changes-to-6/Exercises_Chapter6.ipynb\" target=\"_parent\"><img src=\"https://colab.research.google.com/assets/colab-badge.svg\" alt=\"Open In Colab\"/></a>"
      ]
    },
    {
      "cell_type": "markdown",
      "source": [
        "# Introduction\n",
        "\n",
        "We will start working with **continuous random variables and probability distributions** for experiments fulfilling specific conditions.  \n",
        "\n",
        "A **continous probability distribution** is an equation that connects each possible value of a continous random variable with its probability of occurrence.\n",
        "\n",
        "Again, we have some **sub-types** of continous random distributions.\n",
        "\n",
        "##Sub-types\n",
        "Every sub-type of a random variable is the number of sucesses that result from a particular type of experiment. \n",
        "\n",
        "\n",
        "Now, we will work with two other types of experiments to better understand how continuous random variables can be **(3) normal and (4) standardized normally distributed**. This will cover chapter 6 in your book.\n",
        "\n"
      ],
      "metadata": {
        "id": "FMMHgrVvdU8v"
      }
    },
    {
      "cell_type": "markdown",
      "source": [
        "\n",
        "#1. Example: Airbnb pricing **(Ivan update this:)**\n",
        "\n",
        "### 1. Determining if data is normally distributed\n",
        "\n",
        "### Experimental condition\n",
        "\n",
        "At random, we would ask 3000 people renting out rooms in Aalborg (zipcome 9000) how much they charge per night on average. \n",
        "\n",
        "However, Ivan and I did not want to go out in the rain this week, so we settled for a randomly generated dataset for you instead.\n",
        "\n",
        "Lets take a look at the pricing data. "
      ],
      "metadata": {
        "id": "l4mxSBNHCYsm"
      }
    },
    {
      "cell_type": "code",
      "source": [
        "import numpy as np\n",
        "\n",
        "np.random.seed(1)\n",
        "\n",
        "# randomly generating a dataset\n",
        "mu, sigma = 450, 25 \n",
        "\n",
        "price = np.random.normal(mu, sigma, 3000).astype(int)\n",
        "\n",
        "price"
      ],
      "metadata": {
        "id": "G9nkkIdrXEmL",
        "colab": {
          "base_uri": "https://localhost:8080/"
        },
        "outputId": "55265eab-e163-4d61-8317-1d64acedae7d"
      },
      "execution_count": 20,
      "outputs": [
        {
          "output_type": "execute_result",
          "data": {
            "text/plain": [
              "array([490, 434, 436, ..., 446, 414, 417])"
            ]
          },
          "metadata": {},
          "execution_count": 20
        }
      ]
    },
    {
      "cell_type": "code",
      "source": [
        "#Now to determine if the dataset is normally distributed, we can a histogram to see if the pricing data is roughly “bell-shaped”, \n",
        "#then the data can be assumed to be normally distributed.\n",
        "\n",
        "import matplotlib.pyplot as plt\n",
        "\n",
        "count, bins, ignored = plt.hist(price, 30, density=True)\n",
        "\n",
        "plt.plot(bins, 1/(sigma * np.sqrt(2 * np.pi)) *\n",
        "               np.exp( - (bins - mu)**2 / (2 * sigma**2) ),\n",
        "         linewidth=2, color='r')\n",
        "plt.show()"
      ],
      "metadata": {
        "colab": {
          "base_uri": "https://localhost:8080/",
          "height": 265
        },
        "id": "M_vGW88E3EVX",
        "outputId": "d0c918a2-dd75-479c-a6de-0adbc122f60b"
      },
      "execution_count": 15,
      "outputs": [
        {
          "output_type": "display_data",
          "data": {
            "text/plain": [
              "<Figure size 432x288 with 1 Axes>"
            ],
            "image/png": "[encoded data removed]"
          },
          "metadata": {
            "needs_background": "light"
          }
        }
      ]
    },
    {
      "cell_type": "code",
      "source": [
        "np.mean(price)"
      ],
      "metadata": {
        "colab": {
          "base_uri": "https://localhost:8080/"
        },
        "id": "xobH6JF-3LQD",
        "outputId": "4889d96e-a09e-4340-c8ef-9eed26fbcdfb"
      },
      "execution_count": 17,
      "outputs": [
        {
          "output_type": "execute_result",
          "data": {
            "text/plain": [
              "449.86966666666666"
            ]
          },
          "metadata": {},
          "execution_count": 17
        }
      ]
    },
    {
      "cell_type": "code",
      "source": [
        "np.std(price)"
      ],
      "metadata": {
        "colab": {
          "base_uri": "https://localhost:8080/"
        },
        "id": "R7MpdIlR3cAc",
        "outputId": "e2068dfc-1247-4578-f749-70d0f83da86f"
      },
      "execution_count": 18,
      "outputs": [
        {
          "output_type": "execute_result",
          "data": {
            "text/plain": [
              "24.861174815809132"
            ]
          },
          "metadata": {},
          "execution_count": 18
        }
      ]
    },
    {
      "cell_type": "code",
      "source": [
        "#Now if we want to double-check our data\n",
        "#We can also test for normalcy by creating a Q-Q plot to see if the data is equally distributed\n",
        "#If the points on the plot fall roughly along a straight diagonal line, \n",
        "#then we typically assume a dataset is normally distributed\n",
        "\n",
        "import statsmodels.api as sm\n",
        "\n",
        "#create Q-Q plot \n",
        "fig = sm.qqplot(price)\n",
        "\n",
        "plt.show()"
      ],
      "metadata": {
        "colab": {
          "base_uri": "https://localhost:8080/",
          "height": 279
        },
        "id": "yK1r1t3r4tbZ",
        "outputId": "62ef710a-7538-413e-d08e-c76923c3f3ed"
      },
      "execution_count": 24,
      "outputs": [
        {
          "output_type": "display_data",
          "data": {
            "text/plain": [
              "<Figure size 432x288 with 1 Axes>"
            ],
            "image/png": "[encoded data removed]"
          },
          "metadata": {
            "needs_background": "light"
          }
        }
      ]
    },
    {
      "cell_type": "code",
      "source": [
        "#Now if we want to triple-check our data\n",
        "#Then we can perform Shapiro-Wilk test to test for normalcy\n",
        "#If the p-value is higher than 0.05 then we cannot reject the null hypothesis of the Shapiro-Wilk test.\n",
        "# This means our data is normally distributed \n",
        "\n",
        "from scipy.stats import shapiro\n",
        "\n",
        "shapiro(price)\n",
        "\n"
      ],
      "metadata": {
        "colab": {
          "base_uri": "https://localhost:8080/"
        },
        "id": "915ZXyO550h8",
        "outputId": "50c8109f-e549-4d6e-dbba-9a95178a9b58"
      },
      "execution_count": 27,
      "outputs": [
        {
          "output_type": "execute_result",
          "data": {
            "text/plain": [
              "ShapiroResult(statistic=0.9993359446525574, pvalue=0.3696836531162262)"
            ]
          },
          "metadata": {},
          "execution_count": 27
        }
      ]
    },
    {
      "cell_type": "markdown",
      "source": [
        "Now that we have established that our data is normally distributed, we can also assume that the following theoretical conditions apply:\n",
        "\n",
        "### Theoretical conditions\n",
        "\n",
        "1. The total area under the normal curve is equal to 1.\n",
        "2. The distribution is symmetrical around the mean with a single peak\n",
        "3. The $mean = median = mode$ of the distribution  \n",
        "4. 50% of the data is below the mean, and 50% is above\n",
        "5. The normal distribution (regardless of its mean or standard deviation) conforms to the empirical rule (68-95-99.7 rule).\n",
        "6. Almost all of the area under the bellcurve (99.7%) is within 3 standard deviations from the mean."
      ],
      "metadata": {
        "id": "7DexCQQnWuFB"
      }
    },
    {
      "cell_type": "markdown",
      "source": [
        "##Normal Distribution\n",
        "\n",
        "$X$ is normally distributed with mean $\\mu$ and standard deviation $\\sigma$:\n",
        "\n",
        " $$X\\sim N(\\mu, \\sigma)$$\n",
        "\n",
        "\n",
        "\n",
        " \n",
        "\n",
        " \n",
        "\n"
      ],
      "metadata": {
        "id": "K3IVvEOZ7tkU"
      }
    },
    {
      "cell_type": "code",
      "source": [
        "n "
      ],
      "metadata": {
        "id": "szZbDe3uL_Gg"
      },
      "execution_count": null,
      "outputs": []
    },
    {
      "cell_type": "markdown",
      "source": [
        "**Ivan update this with your example (2 standard deviations) from the mean to illustate the use of the empirical rule** \n",
        "\n",
        "Now given what we know about out dataset, can we calculate the probability of renting a room out for less than 500kr in Aalborg?\n",
        "\n",
        "So, we can assume that $X$ = the price in kroner of one night stay is distributed in the following way: \n",
        "\n",
        "$$X\\sim N(450, 25)$$\n",
        "\n",
        "Now to find the probability that a rental unit is rented out for a price less than 500 kr in Aalborg.\n",
        "\n",
        "$$P(X < 500)$$\n",
        "\n",
        "Here, we can cheat a little and take advantage of the empirical rule (68, 95, 99.7 rule). Do you remember what it is? \n",
        "\n"
      ],
      "metadata": {
        "id": "g8WGFxwjrJna"
      }
    },
    {
      "cell_type": "markdown",
      "source": [
        "###Lets try it out **(same here)**\n",
        "**Using the empirical rule** \n",
        "\n",
        "So, we know the $\\mu = 450$, and $\\sigma = 25$. \n",
        "\n",
        "This means that $x = 500$ is two standard deviations ($2\\sigma$) above the mean. \n",
        "\n",
        "\n",
        "The empirical rule states that 95% of all data is within two standard deviations of the mean. \n",
        "\n",
        "\n",
        "However, to account for $x$ being below $500$, we take 95% and divide it by 2 = 47.5%, now we have the data to the right of the mean. \n",
        "\n",
        "\n",
        "But we need to account for the data below the mean. We know that 50% of all our data is below the mean. \n",
        "\n",
        "Ergo, \n",
        "\n",
        "$$P(X < 500) = 0.50 + 0.475 = 0.975 $$\n",
        "\n",
        "In a pinch, where some rough calculations are ok, one can sometimes use the empirical rule."
      ],
      "metadata": {
        "id": "iS7wyOGdhRVn"
      }
    },
    {
      "cell_type": "markdown",
      "source": [
        "#Standardised Normal Distribution, Probability and using Z-scores\n",
        "\n",
        "If we were to evaluate probabiiltes for the normal distribution, there is no formula, instead we use a table of cumulative probabilites for the standard normal distribution.\n",
        "\n",
        "The standard normal distribution is a very simple normal distribution with a mean of 0 and a standard deviation of 1:\n",
        "  $$X\\sim N(0,1)$$ \n",
        "  \n",
        "We convert the normal distribution to a standard normal distribution to calculate probabilities. Specifically, we calculate a z-score and use a table for z-values to get the cumulative probabilites\n",
        "*(see page 607 in your book).*\n",
        "\n",
        "Specifically, Z-score allows for the standardization of all normally distributed data even if the data is scaled differently.  \n",
        "\n",
        "A z-score is also the number of standard deviations a partular value $x$ is away from $\\mu$. \n",
        "\n",
        "$$z-score = \\frac{x - \\mu}{\\sigma}$$"
      ],
      "metadata": {
        "id": "sUKj7PBItWDS"
      }
    },
    {
      "cell_type": "markdown",
      "source": [
        "###Let's try it out\n",
        "\n",
        "**Finding the z-score**\n",
        "\n",
        "Suppose $X\\sim N(181, 10)$ represents the normal distribution of male height in cm in Denmark. What is the z-score of x = 200 cm.\n",
        "\n",
        "$$z = \\frac{200 - 181}{10} = 1.90$$\n",
        "\n",
        "(*To practice, you can go through Exercise 22 - 25, 68, 69 in chapter 6 ).*\n",
        "\n"
      ],
      "metadata": {
        "id": "cdfXWRWpuygC"
      }
    },
    {
      "cell_type": "markdown",
      "source": [
        "**Finding the cumulative probability**\n",
        "\n",
        "Now given this z-score, can we establish what the probability is of finding a male higher than 2 meters in Denmark? $$P(x > 200)$$\n",
        "\n",
        "Let's grab the z-score table *(see page 607 in your book).* \n",
        "\n",
        "Vertically, we locate 1.9, horizontally we locate 0, because Z is 1.90. \n",
        "\n",
        "The cumulative probability we get is 0.9713. Now because we get cumulative probabilites from the table, we need to subtract this cumulative probability from 1.\n",
        "\n",
        "$$P(x > 200) =1-0.9713 = 0.0287 $$\n",
        "\n",
        "So \t$\\approx$ 3% likelihood of finding a male Dane higher than 2 meters.\n",
        "\n",
        "(*To practice, you can go through Exercise 50 - 53 in chapter 6 ).*"
      ],
      "metadata": {
        "id": "YJVB3H-O220q"
      }
    },
    {
      "cell_type": "markdown",
      "source": [
        " **Finding a datapoint x, when we know z**\n",
        "\n",
        "Now, suppose $X\\sim N(181, 10)$ what value of x has a z-score of -3.\n",
        "\n",
        "Here, we solve for x. \n",
        "\n",
        "$$x = \\mu + z(\\sigma)$$\n",
        "\n",
        "$$x = 181 -3(10) =151$$\n",
        "\n",
        "So, we can say that 99.7% of males in Denmark are higher than 151 cm.\n",
        "\n",
        "(*To practice, you can go through Exercise 15 - 21, 70 in chapter 6 ).*"
      ],
      "metadata": {
        "id": "ikBYWG8HgfDf"
      }
    },
    {
      "cell_type": "markdown",
      "source": [
        "**Finding the $Kth$ percentile, when we know z**\n",
        "\n",
        "$$P(x < k) =0.80$$\n",
        "\n",
        "Here, we first find z. We can look at the table and see which z value equates to 0.80. There we find a z-score of 0.84.\n",
        "\n",
        "Then we find $x$\n",
        "\n",
        "$$x = \\mu + z(\\sigma)$$\n",
        "$$x = 181 + 0.84(10) = 189.4$$\n",
        "\n",
        "We can conclude that 80% of all danish males have a height less than 189.4 cm."
      ],
      "metadata": {
        "id": "mR5TskGwpd_i"
      }
    }
  ]
}