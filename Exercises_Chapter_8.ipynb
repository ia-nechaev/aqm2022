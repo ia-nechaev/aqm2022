{
  "nbformat": 4,
  "nbformat_minor": 0,
  "metadata": {
    "colab": {
      "provenance": [],
      "collapsed_sections": [],
      "authorship_tag": "ABX9TyPLxnwwyKb+MCVM2+VdgaJO",
      "include_colab_link": true
    },
    "kernelspec": {
      "name": "python3",
      "display_name": "Python 3"
    },
    "language_info": {
      "name": "python"
    }
  },
  "cells": [
    {
      "cell_type": "markdown",
      "metadata": {
        "id": "view-in-github",
        "colab_type": "text"
      },
      "source": [
        "<a href=\"https://colab.research.google.com/github/ia-nechaev/aqm2022/blob/main/Exercises_Chapter_8.ipynb\" target=\"_parent\"><img src=\"https://colab.research.google.com/assets/colab-badge.svg\" alt=\"Open In Colab\"/></a>"
      ]
    },
    {
      "cell_type": "markdown",
      "source": [
        "##Introduction\n",
        "\n",
        "**Startistical inference** provides us with a method for drawing conclusions about a population from sample data.\n",
        "\n",
        "However, when we don't know the true population, how can we know that the wider population is indeed represented by our sample data?\n",
        "\n",
        "We cannot know exactly, and if we sample over and over again, the mean would likely vary a little, and therefore, when we try to calculate a population mean, we do not rty to estimate the mean, instead **we estimate an interval (a range) with a certain amount of confidence (probability)** that a population mean is to be found within a random sample.  \n",
        "\n"
      ],
      "metadata": {
        "id": "1PMwzJMU1VgH"
      }
    },
    {
      "cell_type": "markdown",
      "source": [
        "**Statistical estimation**\n",
        "\n",
        "Statistical inference builds on estimation. Estimation transforms observed values (**statistics**) into estimated values (**parameters**) based on sample statistics. Here is how it works, step-by-step."
      ],
      "metadata": {
        "id": "cegmS8OcJNPa"
      }
    },
    {
      "cell_type": "markdown",
      "source": [
        "#Step-by-step\n"
      ],
      "metadata": {
        "id": "5pHVpeqFNoYY"
      }
    },
    {
      "cell_type": "markdown",
      "source": [
        "####1. Plan\n",
        "\n",
        "State your practical question/ identify the parameter:\n",
        "\n",
        "Does question do you want to ask/(or the question asked to be solved) require estimating a parameter in order to be answered?\n"
      ],
      "metadata": {
        "id": "ho_6bbGMMduw"
      }
    },
    {
      "cell_type": "markdown",
      "source": [
        "####2. Find\n",
        "\n",
        "Make your plan-of-attact:\n",
        "\n",
        "1.   Identify the parameter concretely (if needed)\n",
        "2.   Check simple conditions for inference about a population mean\n",
        "3. Identify the level of confidence\n",
        "4. Check the conditions for the interval has been chosen (using Z- or T statistics)\n",
        "\n",
        "\n",
        "\n",
        "\n",
        "\n",
        "\n"
      ],
      "metadata": {
        "id": "6ZYNNTC2O780"
      }
    },
    {
      "cell_type": "markdown",
      "source": [
        "####3. Solve\n",
        " \n",
        "\n",
        "1.   Calculate the confidence interval using the appropriate formula \n"
      ],
      "metadata": {
        "id": "xSd2bM1iP9bc"
      }
    },
    {
      "cell_type": "markdown",
      "source": [
        "####4. Conclude\n",
        "\n",
        "Return to your practical question and describe the results in appropriate language that suits the context of your inquiry"
      ],
      "metadata": {
        "id": "SASjZBe8Sccl"
      }
    },
    {
      "cell_type": "markdown",
      "source": [
        "**Simple conditions for Normal distribution**\n",
        "\n",
        "*   The sample is randomly selected\n",
        "*   The variable of interest must have a normal distribution $N(\\mu, \\sigma)$\n",
        "* The standard deviation standard $\\sigma$ is known \n",
        "*    The population mean $\\mu$ is unknown\n",
        "*   The sample is large $(n≥30)$\n",
        "*  The distribution adhere to the empirical rule (e.g., 95% of data lies between ${-2\\sigma}$ and ${2\\sigma}$)\n",
        "\n",
        "\n",
        "\n",
        "\n",
        "\n"
      ],
      "metadata": {
        "id": "t-qlX3fgihHb"
      }
    },
    {
      "cell_type": "markdown",
      "source": [
        "**Simple conditions for Student's t-distribution**\n",
        "\n",
        "*   The sample is randomly selected\n",
        "*   The sample is small $(30≥n)$\n",
        "*   The variable of interest must have a student's t-distribution with $n-1$ the degrees of freedom (df)\n",
        "*   The population standard deviation standard $\\sigma$ is unknown \n"
      ],
      "metadata": {
        "id": "pOIMMwAvWc7z"
      }
    },
    {
      "cell_type": "markdown",
      "source": [
        "**Identify confidence level** \n",
        "\n",
        "*   The chosen level of confidence $Z_\\alpha$ allows us to know the \n",
        "probability of being wrong and establish a useful confidence interval. \n",
        "*   A confidence level outlines the percentage of times one can expect to reproduce the population mean within the confidence interval, when repeated samples are taken.\n",
        "\n",
        "* This is in contrast to the $\\alpha$ value, which outlines when the confidence interval will not contain the population mean, given $𝐶𝐿 = 1- \\alpha$.\n",
        "\n",
        "The higher the confidence level, the wider the confidence interval, given the formula below:\n",
        "\n",
        "</pre>\n",
        "\n",
        "\\begin{equation}\n",
        "\\mu = \\bar{x} \\pm Z_\\alpha\\frac{\\sigma}{\\sqrt{n}}\n",
        "\\end{equation}\n",
        "\n",
        "</pre>\n",
        "\n",
        "**Identify sample size**\n",
        "\n",
        "*   The chosen sample size also impacts confidence interval because the\n",
        "standard deviation $\\sigma$ of the sample distribution decrease when the  sample size $\\sqrt{n}$ increase, given $\\frac{\\sigma}{\\sqrt{n}}$, which will also decrease the confidence interval, despite holding the confidence level constant.\n",
        "\n",
        "\n",
        "\n",
        "\n",
        "\n",
        "\n"
      ],
      "metadata": {
        "id": "k46tfclsmR_b"
      }
    },
    {
      "cell_type": "markdown",
      "source": [
        "**Identify formula**\n",
        "\n",
        "\n",
        "**Normal distribution**\n",
        "\n",
        "\\begin{equation}\n",
        "\\mu = \\bar{x} \\pm Z_\\alpha\\frac{\\sigma}{\\sqrt{n}}\n",
        "\\end{equation}\n",
        "\n",
        "</pre>\n",
        "\n",
        "\n",
        "$\\bar x$: sample mean\n",
        "\n",
        "$z$: the z-critical value\n",
        "\n",
        "$\\sigma$: population standard deviation \n",
        "\n",
        "$n$: sample size \n",
        "\n",
        "\n",
        "\n",
        "\n",
        "**Student's t-distribution**\n",
        "\n",
        "\n",
        "$$t=\\frac{\\bar{x}-\\mu}{\\frac{s}{\\sqrt{n}}}$$\n",
        "\n",
        "$\\bar x$: sample mean\n",
        "\n",
        "$t$: the t-critical value\n",
        "\n",
        "$v$: degrees of freedom\n",
        "\n",
        "$s$: sample standard deviation \n",
        "\n",
        "$n$: sample size \n",
        "\n"
      ],
      "metadata": {
        "id": "j5Vd5H8Ne9zI"
      }
    },
    {
      "cell_type": "markdown",
      "source": [
        "###Exercise 1. Let's try it out...\n",
        "\n",
        "***Exercise 131 in your book.***\n",
        "\n",
        "Announcements for 84 upcoming engineering conferences were randomly picked from a stack of IEEE spectrum magazines. The mean length of the conferences was 3.94 days, with a standard deviation of 1.28 days. Assume the underlying population is normal.\n",
        "\n",
        "(a) Define the random variables X and $\\bar{x}$\n",
        "\n",
        "(b) What distribution should we use to solve this problem?\n",
        "\n",
        "(c) Construct the 95% confidence interval for the population mean length of engineering conferences.\n",
        "\n",
        "*   State the confidence interval\n",
        "*   Sketch the graph\n",
        "\n",
        "\n"
      ],
      "metadata": {
        "id": "MRjOYJMMIaMg"
      }
    },
    {
      "cell_type": "markdown",
      "source": [
        "**1. Plan**\n",
        "\n",
        "$X$ is the length of an engineering conferencs. \n",
        "\n",
        "$\\bar{x}$ is the mean length from a sample of 84 conferences.\n",
        "\n",
        "The parameter is the mean length of the population of engineering conferences."
      ],
      "metadata": {
        "id": "mPdZvlfXJ7RB"
      }
    },
    {
      "cell_type": "markdown",
      "source": [
        "**2. Find**\n",
        "\n",
        "What distribution should we use to solve this problem? \n",
        "\n",
        "Given that we know the distribution is normally distributed, we know the population standard deviation. Also, we know the sample is greater than 30. \n",
        "\n",
        "Ergo, we can use the normal distribution, $N(3.94 \\frac{1.28}{\\sqrt{84}})$\n",
        "\n",
        "The level of confidence is 95%, which means that the critical $Z$ value is 1.96\n",
        "\n",
        "So the critical z-value will be between $ -1.96 < z < 1.96$"
      ],
      "metadata": {
        "id": "DOcFxjLgNGNB"
      }
    },
    {
      "cell_type": "markdown",
      "source": [
        "**3. Solve**\n",
        "\n",
        "Construct the 95% confidence interval for the population mean length of engineering conferences.\n",
        "\n",
        "Now we plug in the number into the equation for the normal distribution. \n",
        "\n",
        "\\begin{equation}\n",
        "\\mu = \\bar{x} \\pm Z_\\alpha\\frac{\\sigma}{\\sqrt{n}}\n",
        "\\end{equation}\n",
        "\n",
        "</pre>\n",
        "\n",
        "\\begin{equation}\n",
        "\\mu = 3.94 \\pm 1.96\\frac{1.28}{\\sqrt{84}}\n",
        "\\end{equation}\n",
        "\n",
        "\\begin{equation}\n",
        "\\mu = 3.94 \\pm 1.96 (0.14)\n",
        "\\end{equation}\n",
        "\n",
        "\\begin{equation}\n",
        "3.94 - 0.2737 < \\mu < 3.94 + 0.2737\n",
        "\\end{equation}\n",
        "\n",
        "\\begin{equation}\n",
        "3.67 < \\mu < 4.21\n",
        "\\end{equation}\n",
        "\n",
        "</pre>\n",
        "\n",
        "\n",
        "\n",
        "\n"
      ],
      "metadata": {
        "id": "c3AOb3_mVkbb"
      }
    },
    {
      "cell_type": "markdown",
      "source": [
        "**4. Conclude**\n",
        "\n",
        "We're 95% confident that the interval (3.67, 4.21) captures the true mean of engineering conferences.\n",
        "\n",
        "Sketch the distribution.\n",
        "\n",
        "**To practice, you can go through exercise 132. **\n",
        "\n"
      ],
      "metadata": {
        "id": "mrGiu6xydQOy"
      }
    },
    {
      "cell_type": "markdown",
      "source": [
        "###Exercise 2. Let's try it out...step-by-step.\n",
        "\n",
        "***Exercise 8.5 in your book.***\n",
        "\n",
        "How effective is hypnotherapy in increasing the number of hours of sleep subjects get each night. \n",
        "\n",
        "A measure hours of sleep from 12 subjects is provided, and we are asked to construct a 95% confidence interval for the population from which the data is sampled.\n",
        "\n",
        "8.2 + 9.1 + 7.7 + 8.6 + 6.9 + 11.2 + 10.1 + 9.9 + 8.9 + 9.2 + 7.5 + 10.5"
      ],
      "metadata": {
        "id": "N4BnindJYfAQ"
      }
    },
    {
      "cell_type": "markdown",
      "source": [
        "**1. Plan:**\n",
        "\n",
        "1) Can we identify the parameter?\n",
        "\n",
        "2) Given the simple conditions, can we identify the distribution we'll be working with?\n",
        "\n",
        "3) Can we identify the level of confidence? in this case, it is given. \n",
        "\n",
        "So, we want to think about the range that 95% of t-values of poplulation sleep mean will fall within. \n",
        "\n",
        "\n",
        "\n",
        "\n"
      ],
      "metadata": {
        "id": "eHvBCloTw9Gx"
      }
    },
    {
      "cell_type": "markdown",
      "source": [
        "**2. Find:**\n",
        "\n",
        "We'll need to find the **margin of error** and the area under the t-distribution that contains 95% of the probability. \n",
        "\n",
        "To do so, we want to find the critical t-values ($t_\\nu, _\\alpha\\$) that lie within this range. Since our distribution is symmetrically we use a two-sided table.\n",
        "\n",
        "We look for:\n",
        "\n",
        "95% confidence interval and two-tailed distribution.\n",
        "\n",
        "Degrees of freedom: $v = 12-1 =11$\n",
        "\n",
        "This gives us a critical t-value:\n",
        "\n",
        "$t = 2.20$\n",
        "\n",
        "So the critical t-value will be between $-2.20 < t < 2.20$\n"
      ],
      "metadata": {
        "id": "AJBjD0TSl-CN"
      }
    },
    {
      "cell_type": "markdown",
      "source": [
        "**3. Solve:**\n",
        "\n",
        "Now we plugin numbers in formula for the t-distribution: \n",
        "\n",
        "\n",
        "$$t=\\frac{\\bar{x}-\\mu}{\\frac{s}{\\sqrt{n}}}$$\n",
        "\n",
        "\n",
        "We calculate:\n",
        "\n",
        "Sample mean $(\\bar{x})$\n",
        "\n",
        "$\\bar{x} ={\\frac{8.2 + 9.1 + 7.7 + 8.6 + 6.9 + 11.2 + 10.1 + 9.9 + 8.9 + 9.2 + 7.5 + 10.5}{12}} = 8.98$\n",
        "\n",
        "We calculate:\n",
        "\n",
        "Sample standard deviation $(s)$\n",
        "\n",
        "$s = {\\frac{(8.2 - 8.98)^2 + (9.1 - 8.98)^2 + (7.7 - 8.98)^2 + (8.6 - 8.98) + (6.9- 8.98)^2 + (11.2- 8.98)^2 + (10.1- 8.98)^2 + (9.9 - 8.98)^2 + (8.9 - 8.98)^2 + (9.2 - 8.98)^2 + (7.5- 8.98)^2 + (10.5- 8.98)^2}{12}} = 1.48$\n",
        "\n",
        "\n",
        "Then we plugin numbers in formula for the t-distribution: \n",
        "\n",
        "\n",
        "$$t=\\frac{\\bar{x}-\\mu}{\\frac{s}{\\sqrt{n}}}$$\n",
        "\n",
        "$$-2.20<\\frac{8.98-\\mu}{\\frac{1.48}{\\sqrt{12}}}< 2.20$$\n",
        "\n",
        "\n",
        "$$-2.20<\\frac{8.98-\\mu}{0.43}< 2.20$$\n",
        "\n",
        "$$-2.20(0.43)<{8.98-\\mu}< 2.20(0.43)$$\n",
        "\n",
        "$$-0.946 (-1) < {8.98-\\mu} < 0.946 (-1)$$\n",
        "\n",
        "$$+0.946 <{\\mu + 8.98} < -0.946$$\n",
        "\n",
        "$$+0.946 + 8.98 < {\\mu} < -0.946 + 8.98 $$\n",
        "\n",
        "$$ 9.926 < {\\mu} < 8.034$$ \n"
      ],
      "metadata": {
        "id": "6HPysvi2l29G"
      }
    },
    {
      "cell_type": "markdown",
      "source": [
        "**4. Conclude:**\n",
        "\n",
        "Business researchers at Aalborg University conclude with 95% confidence that the population mean of sleep behavior following hypnotherapy is between 8.034 and 9.926 hours. \n",
        "\n",
        " *To practice, you can go through exercise 8.2 in your book.*\n"
      ],
      "metadata": {
        "id": "gIdxRhmUoWY0"
      }
    }
  ]
}