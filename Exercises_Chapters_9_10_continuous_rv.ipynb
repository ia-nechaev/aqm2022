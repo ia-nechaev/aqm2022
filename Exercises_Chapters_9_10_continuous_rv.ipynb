{
  "nbformat": 4,
  "nbformat_minor": 0,
  "metadata": {
    "colab": {
      "provenance": [],
      "collapsed_sections": [],
      "include_colab_link": true
    },
    "kernelspec": {
      "name": "python3",
      "display_name": "Python 3"
    },
    "language_info": {
      "name": "python"
    }
  },
  "cells": [
    {
      "cell_type": "markdown",
      "metadata": {
        "id": "view-in-github",
        "colab_type": "text"
      },
      "source": [
        "<a href=\"https://colab.research.google.com/github/ia-nechaev/aqm2022/blob/main/Exercises_Chapters_9_10_continuous_rv.ipynb\" target=\"_parent\"><img src=\"https://colab.research.google.com/assets/colab-badge.svg\" alt=\"Open In Colab\"/></a>"
      ]
    },
    {
      "cell_type": "markdown",
      "source": [
        "#Hypothesis Test for Continuous Response Data"
      ],
      "metadata": {
        "id": "cfiyD5cLP67G"
      }
    },
    {
      "cell_type": "markdown",
      "source": [
        "#1. One-sample *t*-test \n",
        "\n",
        "\n",
        "\n"
      ],
      "metadata": {
        "id": "ESCjsUmTlXGi"
      }
    },
    {
      "cell_type": "markdown",
      "source": [
        "**Hypothesis Test for a Mean**\n",
        "\n",
        "A t-test is a statistical hypothesis that can test whether an unknown population parameter is different than a specific \"hypothesized\" value."
      ],
      "metadata": {
        "id": "2xtSXDp1mYcJ"
      }
    },
    {
      "cell_type": "markdown",
      "source": [
        "**1. Stating the Hypotheses:**\n",
        "\n",
        "$H_0:$\n",
        "\n",
        "$H_a:$"
      ],
      "metadata": {
        "id": "bzVS75b9bJeX"
      }
    },
    {
      "cell_type": "markdown",
      "source": [
        "**Example:**\n",
        "\n",
        "We have an idea, a norm, or hypothesized mean. \n",
        "\n",
        "\"People eat on average 100 grams of Fredagsslik\"\n",
        "\n",
        "$$H_0: \\mu = 100$$\n",
        "\n",
        "Then, we sample to see if the actual mean is different from the hypothesized mean.\n",
        "\n",
        "$$Ha: \\mu \\neq 100$$"
      ],
      "metadata": {
        "id": "5SefeJSVHEOR"
      }
    },
    {
      "cell_type": "markdown",
      "source": [
        "**2. Determine the type of test**\n",
        "\n",
        "Listen to the phrasing of the alternative hypothesis to determine which type to use.\n",
        "\n",
        "\n",
        "1.    If we are checking for **a difference** compared to a hypothesized value, we look for extreme values in either tail and perform a two-tailed test.\n",
        "2.   If the alternative hypothesis uses language like **\"less or fewer\"**, we perform a left-tailed test.\n",
        "3.    Words like **\"greater or exceeds\"** correspond to a right-tailed test.\n",
        "\n",
        "\n",
        "\n",
        "1. $H_a \\neq H_0$  (two-tailed test)\n",
        "2. $H_a < H_0$ (left-tailed test) \n",
        "3. $H_a > H_0$ (right-tailed test)\n",
        "\n",
        "\n",
        "\n",
        "\n"
      ],
      "metadata": {
        "id": "cNa6jVAnBxwz"
      }
    },
    {
      "cell_type": "markdown",
      "source": [
        "**3. Checking conditions for inference**\n",
        "\n",
        "*We can use this test when the following assumptions are met about the data*:\n",
        "\n",
        "*   Random sampling\n",
        "*   Independent observations\n",
        "*   Normally distributed\n",
        "*   Constant variance\n"
      ],
      "metadata": {
        "id": "JpJDAEO4tg9d"
      }
    },
    {
      "cell_type": "markdown",
      "source": [
        "**4. Setting the significance level**\n",
        "\n",
        "Setting the alpha-level.\n",
        "\n",
        "P-values are used to determine strength of support for the null hypothesis. The probability of obtaining a result assuming the null hypothesis is true.\n",
        "\n",
        "Large p-values (close to 1) -> large support for $H_0$, not likely to be in the tail of the null hypothesis.\n",
        "\n",
        "Small p-values (close to 0) -> strong evidence against the $h_0$, likely in the tail of the null distribution.\n",
        "\n",
        "\n",
        "\n",
        "\n"
      ],
      "metadata": {
        "id": "HPDPd8XlDgbM"
      }
    },
    {
      "cell_type": "markdown",
      "source": [
        " **5. Checking the data**\n",
        "\n",
        "Has a random sample been collected of (for example, fredagsslik) that allows you to establish a point estimate (i.g., mean sample statistic of the population mean)? \n",
        "\n",
        "\n"
      ],
      "metadata": {
        "id": "v4SNYcY6oSN4"
      }
    },
    {
      "cell_type": "markdown",
      "source": [
        "**6. Calculating a t-test statistic**\n",
        "\n",
        "Finding the difference between the sample average and the hypothesized value using a t-statistic.\n",
        "\n",
        "$$t =  \\frac {\\bar{x} - \\mu} {\\frac {s_x}{\\sqrt{n}}}$$\n",
        "\n",
        "**Example:**\n",
        "\n",
        "\"People eat on average 100 grams of fredagsslik\"\n",
        "\n",
        "$$H_0: \\mu = 100$$\n",
        "$$Ha: \\mu \\neq 100$$\n",
        "\n",
        "We sample 25 people, $n =25$ and find they eat $\\bar{x}$ = 125 grams of fredagsslik, with a standard deviation $s_x$ of 20 grams.\n",
        "\n",
        "$$t =  \\frac {125 - 100} {\\frac {20}{\\sqrt{25}}}$$\n",
        "\n",
        "$$t =  \\frac {25} {\\frac {20}{5}}$$\n",
        "\n",
        "$$t =  25* {\\frac {5}{20}} = 6.25$$"
      ],
      "metadata": {
        "id": "-PsJ3uQfZq7j"
      }
    },
    {
      "cell_type": "markdown",
      "source": [
        "![Screenshot 2022-10-27 at 11.35.12.png](data:image/png;base64,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)"
      ],
      "metadata": {
        "id": "gJGqTQbqy8p5"
      }
    },
    {
      "cell_type": "markdown",
      "source": [
        "**7. Check the probability for getting this t-value using a $t$ distribution critical values table.**\n",
        "\n",
        "Remember: the degrees of freedom for this test is $n-1$\n",
        "\n",
        "So, in the example, $n-1 = 24$ and see that a t-value of 6.25 has a p < 0.0001 on each end of the distribution. \n",
        "\n",
        "if this is lower than the significance level set, then we'll reject the $H_0$\n",
        "\n",
        "\n"
      ],
      "metadata": {
        "id": "h1FGzcafP7st"
      }
    },
    {
      "cell_type": "markdown",
      "source": [
        "**8. Alternatively, calculate a test statistic using python.**\n",
        "\n"
      ],
      "metadata": {
        "id": "yoi9ZqYzbxAJ"
      }
    },
    {
      "cell_type": "code",
      "source": [
        "from numpy.random import seed\n",
        "from numpy.random import normal\n",
        "import numpy as np\n",
        "import pandas as pd\n",
        "import scipy.stats as stats"
      ],
      "metadata": {
        "id": "mOybQjGoZ4GX"
      },
      "execution_count": null,
      "outputs": []
    },
    {
      "cell_type": "code",
      "source": [
        "seed(1234)\n",
        "data1 = normal(loc=125, scale=20, size=25)"
      ],
      "metadata": {
        "id": "BYaw4q88Z_6G"
      },
      "execution_count": null,
      "outputs": []
    },
    {
      "cell_type": "code",
      "source": [
        "stats.ttest_1samp(data1,100)"
      ],
      "metadata": {
        "colab": {
          "base_uri": "https://localhost:8080/"
        },
        "id": "ciHREUakaJGS",
        "outputId": "437eef7d-5ab1-4aef-ecf1-27c8820b7eca"
      },
      "execution_count": null,
      "outputs": [
        {
          "output_type": "execute_result",
          "data": {
            "text/plain": [
              "Ttest_1sampResult(statistic=6.24332103074524, pvalue=1.8788767864355522e-06)"
            ]
          },
          "metadata": {},
          "execution_count": 4
        }
      ]
    },
    {
      "cell_type": "markdown",
      "source": [
        "Null-hypothesis is rejected! The mean is not 100!"
      ],
      "metadata": {
        "id": "7XsuBbC9aUPy"
      }
    },
    {
      "cell_type": "markdown",
      "source": [
        "#2. Two-sample *t*-test \n",
        "\n"
      ],
      "metadata": {
        "id": "IhqVuuJJhLiv"
      }
    },
    {
      "cell_type": "markdown",
      "source": [
        "**Hypothesis Test: Difference between Two Means**\n",
        "\n",
        "A method used to test whether unknown population means of two groups are equal or not."
      ],
      "metadata": {
        "id": "6_YaPF7v61DX"
      }
    },
    {
      "cell_type": "markdown",
      "source": [
        "**1. Stating the Hypotheses:**\n",
        "\n",
        "$H_0:$\n",
        "\n",
        "$H_a:$"
      ],
      "metadata": {
        "id": "IkP5uwMcmraY"
      }
    },
    {
      "cell_type": "markdown",
      "source": [
        "**Example**\n",
        "\n",
        "We have an idea, a hypothesis that that the underlying population mean of two groups are different. Specifically, we hypothesize that children eat more candy than adults on fridays.\n",
        "\n",
        "\"Children and adults  eat the same amount of candy (Fredagsslik)\"\n",
        "\n",
        "$$H_0: \\mu_1 = \\mu_2$$\n",
        "\n",
        "Then, we sample to see if the actual mean of children is higher from the mean of adults.\n",
        "\n",
        "$$Ha: \\mu_1 > \\mu_2$$\n",
        "\n"
      ],
      "metadata": {
        "id": "JPsVeX5fkmKM"
      }
    },
    {
      "cell_type": "markdown",
      "source": [
        "**2. Determine type of test**\n",
        "\n",
        "\n",
        "1. $H_a \\neq H_0$  (two-tailed test)\n",
        "2. $H_a < H_0$ (left-tailed test) \n",
        "3. $H_a > H_0$ (right-tailed test)"
      ],
      "metadata": {
        "id": "zRFMMHnUsuPV"
      }
    },
    {
      "cell_type": "markdown",
      "source": [
        "**3. Checking conditions for inference**\n",
        "\n",
        "*We can use this test when the following assumptions are met about the data*:\n",
        "\n",
        "\n",
        "\n",
        "*   Independent observations\n",
        "*   Random sampling from two normal distributions\n",
        "*   Two independent population groups have equal variance"
      ],
      "metadata": {
        "id": "jHEpGmMUidxv"
      }
    },
    {
      "cell_type": "markdown",
      "source": [
        "**4. Setting the significance level**\n",
        "\n"
      ],
      "metadata": {
        "id": "I0HDZrCTnI9h"
      }
    },
    {
      "cell_type": "markdown",
      "source": [
        "**5. Checking the data**\n",
        "\n",
        "*   sample size\n",
        "*normally distributed\n",
        "* outliers\n",
        "\n"
      ],
      "metadata": {
        "id": "Pkf9plGBtKRH"
      }
    },
    {
      "cell_type": "markdown",
      "source": [
        "**6. Calculating a t-test statistic**\n",
        "\n",
        "Finding the mean differences with pooled variances using a t-statistic.\n",
        "\n",
        "$$s_p =  \\sqrt{\\frac {(n_1-1)s_1^2 +(n_2-1)s_2^2}{n_1+n_2 - 2}}$$\n",
        "\n",
        "\n",
        "$$t =  \\frac {\\bar{x_{1}} - \\bar{x_{2}}-0} {s_p\\sqrt{\\frac {1}{{n_{1}}}+\\frac{1}{{n_{2}}} }}$$\n",
        "**Example:**\n",
        "\n",
        "\"Do children on average eat more fredagsslik than adults\"\n",
        "\n",
        "$$H_0: \\mu_{children} = \\mu_{adults}$$\n",
        "$$H_a: \\mu_{children} > \\mu_{adults}$$\n",
        "\n",
        "We sample 25 children and 25 adults, $n =25$ and find that children eat $\\bar{x}$ = 140 grams of fredagsslik, with a standard deviation $s_x$ of 5 grams and adults eat $\\bar{x}$ = 120 grams of fredagsslik, with a standard deviation $s_x$ of 8 grams. Now is this a significant difference?\n",
        "\n",
        "\n",
        "$$s_p =  \\sqrt{\\frac {(25-1)5^2 +(25-1)8^2}{25+25 - 2}}$$\n",
        "$$s_p =  \\sqrt{\\frac {(25-1)5^2 +(25-1)8^2}{25+25 - 2}}$$\n",
        "\n",
        "\n",
        "$$s_p =  \\sqrt{\\frac {600 + 1536}{48}} = 6.67$$\n",
        "\n",
        "The test statistic is:\n",
        "\n",
        "$$t =  \\frac {140 - 120} {6.67\\sqrt{\\frac {1}{{25}}+\\frac{1}{{25}} }} $$\n",
        "\n",
        "$$t =  \\frac {20} {1.8866} = 10.60$$"
      ],
      "metadata": {
        "id": "zz2kYXJVtisI"
      }
    },
    {
      "cell_type": "markdown",
      "source": [
        "![Screenshot 2022-11-01 at 12.22.24.png](data:image/png;base64,iVBORw0KGgoAAAANSUhEUgAAAXEAAABgCAYAAADrekIuAAAAAXNSR0IArs4c6QAAAGJlWElmTU0AKgAAAAgAAYdpAAQAAAABAAAAGgAAAAAABJKGAAcAAAASAAAAUKABAAMAAAABAAEAAKACAAQAAAABAAABcaADAAQAAAABAAAAYAAAAABBU0NJSQAAAFNjcmVlbnNob3R84WzcAAAB1WlUWHRYTUw6Y29tLmFkb2JlLnhtcAAAAAAAPHg6eG1wbWV0YSB4bWxuczp4PSJhZG9iZTpuczptZXRhLyIgeDp4bXB0az0iWE1QIENvcmUgNi4wLjAiPgogICA8cmRmOlJERiB4bWxuczpyZGY9Imh0dHA6Ly93d3cudzMub3JnLzE5OTkvMDIvMjItcmRmLXN5bnRheC1ucyMiPgogICAgICA8cmRmOkRlc2NyaXB0aW9uIHJkZjphYm91dD0iIgogICAgICAgICAgICB4bWxuczpleGlmPSJodHRwOi8vbnMuYWRvYmUuY29tL2V4aWYvMS4wLyI+CiAgICAgICAgIDxleGlmOlBpeGVsWURpbWVuc2lvbj45NjwvZXhpZjpQaXhlbFlEaW1lbnNpb24+CiAgICAgICAgIDxleGlmOlBpeGVsWERpbWVuc2lvbj4zNjk8L2V4aWY6UGl4ZWxYRGltZW5zaW9uPgogICAgICAgICA8ZXhpZjpVc2VyQ29tbWVudD5TY3JlZW5zaG90PC9leGlmOlVzZXJDb21tZW50PgogICAgICA8L3JkZjpEZXNjcmlwdGlvbj4KICAgPC9yZGY6UkRGPgo8L3g6eG1wbWV0YT4K9MpZJwAAI5tJREFUeAHtnQe4FcUVxwck1ij2GlSMBVGisaNGEbB3ExuY2KIiiET5xIoSjb1Eo5/EChYUNVEUKymWKFhjxIYVFYndJPYWN+d34tlv7t695fHefffd+875vnt3d2Z2duY/s2fOnJk9p8uf//znpFu3bmGjvhsHJ0egngg8PG2q98N6NkDOs2mTXr375MR4UL0QmPHc0wXvSdd6FcSf6wg4Ao6AI9B6BLrcd999Seuz8RwcAUfAEXAE6oFAly++/CphytSvX796PN+f6Qg4Ao6AIzAHCCTJ/+XvbvG9FhiH+bkj0F4IzHrzzdDjBz9or8f5c6pAwNukCpDaMUmXLl2KnuY68SJIPMARcAQcgcZBwJl447SVl9QRcAQcgSIEnIkXQeIBjoAj4Ag0DgLOxBunrTptSd9+++1wzDHHhAEDBoS+ffuGQw89NLz00kspHlOnTg177LFHuOKKK9Kw+OShhx7S+Msvv1yDL7vsMr3mvjyy/C699NK8aA/7DoFJkyYpjvvtt1/473//WxGXI444QtN/8MEHFdN++OGHmpZ7jN57773wzDPP2KUfDQF2p3y3zVDWNZ0cgfoh8MasWUUPf+KJJ5IFF1yQZfii31NPPaXpr7/+eo0bPnx40f0E3HjjjRp/2GGHafzQoUP1+qabbspNTzjPk8EiN74zBea1idV/nXXWUZzA6q677rLgksdVV11V07/55psl01jE7NmzNS33QHfeeaf2g4suusiSdMpj/B4YAC6JCypOHROBb7/9NgwZMiR8/PHHKpVNnz49vP7662HHHXfUAo8aNaqo4N98802YMWNG+M9//pPGDRw4MPz9738PRx99dBqWPfn666+L7rM0H330kZbhyy+/DC+88EKgXEbCbMLLL79cIIkSz/M/++wzTUaZSddM9OSTTyqmVqdSsxakZ2ZNMWbc89VXXylGHI0MZ7u2I21z//33axuAqeFKvLX3F198Yck739ElcRvP/FhvBLJSH5K2vJEqgX366adp8WaJxD527NgkK4lvtNFGyZJLLplKh8JY9B6TxE1Sz0ri06ZNK7hPvpnQPEwSZybA70c/+pGGi2oneeuttxJLRxl57gMPPKDPE6at6dZff/2EMhHPb/fdd0+EmaX1aISTbJtYmcGSOslAmtYP6dlImGty0EEHpXFgZzMqJPFx48ZpnAysdksaL4NlEkviNtOKcRT1TSJqnPQe4mRwT2RQSPNrxhPDgKORS+KChlPHROCVV17RggkzDPPPP39ayB/IXnIkdGEMaRgnDz/8sOrLR48ereEjR44siJdOX3DNBZLc4MGDw7vvvht23XXX8Otf/zqIerEoHbOBTz75JGy//faabsSIEZpu5513Dqeeeqre/7Of/axASnzsscdCjx49gqgAND9R04R//OMfRXk3WgCS8Pjx47XYoqLSWRIXV111lYbxJ4w3sPYgjDucfvrpYdFFF1VJOk1Q5iTbTr179w6bbLKJ3rH11lsr/qK+0TLQHqJqCbTD5MmTw80331wm5+aMcibenO3aFLUylcj3vve9qurDCz5mzJhw8skna3oYbzz1zstk5syZ4dVXX9UoGM+JJ56oA0Fe2muuuSbcfvvtYe211w4i3WsSFt522GEH/eKZgeDBBx8suHXChAlh2LBhYdttt9Xwd955pyC+ES9uvfVWZcj9+/fXQYqFTejiiy/WQZHzKVOmcAgnnHCCLkpfe+21ej0nfwzWW265pd6KKm3vvfcOqGmgiRMnBvKGmf/zn/8Me+65p4Z3pj9n4p2ptRusrj/84Q+1xOhUY+mMl/Wkk04Kjz76aEGNevbsmV6LekPPY51rGhmdGDOQRbowzzzzaExWwrfkq6++up6+//77FqTMe6211kqld8pmxIzBBqDFF19cg6vZxWH3d9Sj6b//+te/hoUWWihlnKImCWIVVYvNjiJojTXW0ONyyy2nUrleRH/MhIwYdKslGPk+++yjya+77rpw8MEHh2WXXTYdPKrNpxnSORNvhlZs0jr06dNHX3wkZbYHGgNEfYG0vf/++xfU3BhmQWCFC158iIVPWxx75JFHcu8yJs89MGiIAeZf//pXuOeee8Lf/va3IHrv9F4YnFHXrs3xqlFfUzcx2DFw8rNB0xj88ssvr1W3LYGoxmImbVhaGFsKy5F9bm4LpMxoBg0aFFBZoUIx3M8777xy2TRlXIHtlKasoVeqYRFYeOGFw7nnnqtSFpLWGWecEbB9/+KLL2qdTjnllFbXDWaDzh1mgNS42WabpfrebOZzzTVXGoT+/MILLwyyeKeqEna+oP997rnn0jTNeHL11VdrtX7+858HOyeAHUHMVG655RbdifPTn/5U9+2zv5+47J78lVZaSfOB6a+88sqqz9aAEn+2JoLUDc0999y6LsIMShZZwwILLKDhq622mh47019ziAedqcU6WV1hkuifkXyRyGHg6D8J22233QrQiJmsReRJwHEY5+itWTwj/z/+8Y/BPjAx6c/yio8sgLKYhlQKA0cqtXLG6bLn8bOzcR39mpmQSdqmyrAy9+rVK118REfNGoCtTbAIimpMdupocnBdb731woEHHqjXbBWFqcuecMuu6Mh6B4Mki9c33HCDDuzcxzoEMzIWNxnoWdPobFRgijbWO3Y2ILy+9UegksU8ptzzzjtvwU6Vtiw1elx010j71RIqGFQCSyyxRLW3NFS6Sm1SqTKff/65Li4vtthiuUlZvGbw/f73v58bHweyT5+vPZdZZpkQD7CsQyy99NKhkQfIuJ7lzuN6G7+uvreWy9njHIF2QIBtarUkGEFLiUGFn1M+AvPNN1/gV4q6d+9eKqooHD26rWHEkXlhcXyzn7s6pdlb2OvnCDgCTY2AM/Gmbl6vnCPgCDQ7As7Em72FvX6OgCPQ1Ag4E2/q5vXKOQKOQLMjULCwGa98NnvFvX6OgCPgCDQDAt3wdO/kCDgCjoAj0FgIsP0T6rpR340bq+ReWkfAEXAEHIHQQz6A41egTsEGhJMjUC8EZstHG8t9Z8ukXmXw5xYi4G1SiEe9rxZZZJGiIvjCZhEkHuAIOAKOQOMg4Ey8cdrKS+oIOAKOQBECzsSLIPEAR8ARcAQaBwFn4o3TVl5SR8ARcASKECjLxPEpiJnHAw44QP0LZu/GnjPx5sUjG+/XjkBbIYDXGLy5YMkuj3A+QF80xw6kwUwpfh4xefq73/2uIC4vDw9rGQKl2uTZZ58NZ599djj88MPV00/sXcnbpGUYV5O6LBMH/EmTJqmhd3O7ZJnSGHjRIN68c1icHx2BtkRAPMuHvfbaK9x9993BPLvE+WPuFAZOXzTvP7j9gunj9xFb5Lhzw5GBU9sgUKpNsPe96aabqt13TMYOHTo07LTTTtou3iZtg302l4IthtlIu8bWL85Rd9llFwtSI+zpRXQC43/ttdcC9oPzbAjjVgm/hvjcs+0yvHiffvqp+usjjkFhhRVWUDvDUdZ+2gkRwNj/IYccUrbmzAhffvnlgjS47MLl2uuvv679ao899lDmgrd5HB3nkfXdFVdcMR0s3MxsMVLl2gRvR/AJZkAQXpNwnYYzj6efftrbpBjOVoeUlcQt98GDB6uUg3rFCC8m++67r13qEUkIDx4bbrihulzi5bPp7fPPP68NigeQn/zkJ+rJgyku9MILLyjTHjJkiHr3WHfdddVLCNK+U+dGgKk53lquuuqqXCBw1osX+t///vcF8fS3rbbaShk4Ebhew+70E088UZDOLsaNGxeWWmop7bv04X79+qWeaSyNH/+PQLk2wctR7DbPZk44bPA2qU0PqoqJDxw4UD1vmEpl9uzZYdq0aTpNsmLNnDlTp7S405o1a5YyfUbssWPHapLf/OY3+kKRDl0aenamuNbIJEISwkchecPYcZXl1LkROOqoo9SPZZ4TZLy8MPCff/75wRzzGlpI4DDlmHD6YN7t4/Dp06eHI488MuBy7Y033tBBg/7nlI9AuTbBTZ05kUaAO+eccwJ+MPGj6W2Sj2drQ6ti4njUwPEpTlChyZMnBxh7/JIgEUH40XvqqafUxdUGG2wQbr/9dg1Hfz5x4sSA/hJv4qa7jBeqfvWrX6nrJaR1pHmXxBU6/yuBAP0F/St9M0uo5HCmGxMDQdzfLA4v9agMDz30UPXjyEJos7pbszrX+sisnTUIVKvMknDB5m1SG9Sr0onzaPRcePimIW666aYiPSXSNZR1VGoutdCHjRgxIuAPD52jjdbmJ457Yx26ea8m3MkRyCIwZcoUFRBgvAgIMAsInSwOlJG68d8YE5K79bs4nD6JCsWkfab+ffr0iZP4eQsQYLaDHpzjPffcE3r27Kl3e5u0AMQWJK1KEie/TTbZRKUVvF2zYIT36ZhYqITuuOMO9UjNKjVpx4wZE1iVZvfAgAEDAuqUJ598Mt0pEKtT3BRujKifl0OA2eF2222nU3T03CycQZzbwjiLmEaEsfjZo0cPC0qPrNEwe7Q1H9R6NrNME/lJVQiw3Zh2gcDQGDjXbFbwNgGJtqWqmThSCiv86LbZMpR1cIp6BUKviM6cxtp+++3D/fffn+q9F1xwQfVU/tJLL+k+UtLnTW8Jd3IEyiGw+eabhwkTJqQ/1leg8ePHBxbG6asw7TPOOEMZPXpcFjZRv2SJvKCRI0eGBx98MIwaNSqbxK+rRACcwZ0j7zl48vv3v//tbVIlhi1NVpaJm2RsR9timNVBMv1ERXL99dfrXt4111wz7Ljjjsrs2fCPbpLN/6hh0KP3798/DBo0SMvKRxqWvx1bWglP3/wI0MegUn3Ewu3IQie7n84880zdUkg/u/LKK1WIyKKFN/bbbrtNF9Ppt2yDpT8j7TuVRiDbJuBma2D77LOP8gDw5MfisbdJaSxbE9Pliy+/SnAM0a9fv9BWpmhpTPTb3boVqtxRnbBYueSSSwbrAK0pvN/bXAjUwuwpqjz6dbmFSnaisLjJjin6JeqUH//4x/qhyrBhw5oL5BbWxtukhYDVOLl9W8NjbD2xkMu2UQHiXStxlrwgLG44OQLthQCCRDkGTjlY7EQNiLTOjqq77rorfPTRR6oObK9ydqbneJu0bWuXVae07aM8N0egYyLATii+8Fx44YXDH/7wB92pwjcRqFSc6oOAt0n1uNdEEq/+8Z7SEegYCPB5OD+njoOAt0l1beGSeHU4eSpHwBFwBDokAgXe7lnEcHIE6omA98F6op//bG+TfFzqHWre7gt2p9hqZ70L58/vnAjQKfHe7dRxEPA26ThtQUlsCy3nxq9dnQIaTo6AI+AINCgCzsQbtOG82I6AI+AIgIAzce8HjoAj4Ag0MALOxBu48bzojoAj4AhUZOJ8tnzBBReoKVoMC2GNkC/aYsKUJwbf25qwt4AhI8rQWuJTavLiq7xK1JK05fL65S9/qZ9zl0tjcVjfM2NgLbnP7m/W49SpU8MxxxxT8HMLg/VtbXwC4Ftgv/32CxdddFHA36ZT/RCoyMSxJzF69Oiw+OKLKxPELgqmJrEWZ4QTB0x5tjVhjxijWbG52jl9Bk4oyOv999+vmEVL0pbLDC8x+A6tRAxW6623XmoKtdr7KuXbDPF8QYnrNEzN2i9rJ7wZ6tlIdRg+fLh6VMIGO8x8tdVWU2cvjVSHpiorBrDuu+++RColO1YKSRiQhouh/YIIMTGbiBsmDRM7zZrm2muvTUSCTdOJdJ6IOdpEDPGnYSJRJ2KSUq9lMEjEVGVCWJaEiSViKCuRT581b5FQ0yRizCiRASMRyT8N40Re7OTrr7/WPMUtVBr34YcfJq+++mpidbn33nvTuOxJubTC2JNXXnklEecDiQwqeith1IfnxkQY9bIyWRzpyIPyUx6IvP7yl79oPcWEp+aVvY90YqdZ62zPJgxcyIcw8hUTwAQ3LL0xa1ZR2cXWd3LSSScVhZcKABPx5ajYfPbZZwk/pzlHINsmvCPwCrFYqpnG73+pp3iblEKm5eFgbz+7O5Rj4jAisQGeiOnZRKRiu0cZivjC1GuYuWV62mmnJeLBJ1l11VXTMOLOOussTSsSp4aL26Y0vnfv3pofCWD48qltGmfndAIY27bbbpvGke/OO++cDgJc88JzFJ9+CQxWZhFpenEbp+d5TLxSWphuXCfynzlzpjJQ8Lnkkku0fvw99thj+pwZM2YodtbZZRag15SPH/fBvKmzhXEUa3oF94lzjYJ6gzeDH3TxxRdruSiP5SEqo3SQ0UQN9JdlGLQL9RInyYk45k6uu+66gn6YrZq4AUtxAF/6lrhwyybz6xYgkG0TBDWwPfbYY7Wf8W7QRrfeemturt4mubDMcaC95xyNyjJxEomz4vTFgBGKtbdEPPvY/XqMGxHGCvNlxGaUFvdZej8vpDFxGI24c0tEP61xv/3tbzUfwnnxGCAYDDgnb5i42IbWc5gjEu24ceP0Wvx1pmWA0T700EOJ6JcT6zx/+tOfdJAgb/LKY+Ll0tJpyZcBRBxAq5QnXo6SLbfcUp87dOjQhGujI444IgEniM4O4xEdop4TxyyBWQqMlxkN9Oijj2rZRNWj13YfUraY7U3EHrMOGuDHfeCL9A0Tp06nn366zgiYDXH9+OOPaz6N9pdlGAxW1IefDehgI97Wi6pGnyQdAgMDPrNHrp2JF0HVooBsm3Cz2AxXbOmbYCy+AfQdzWbsbZJFpPXX4G0/y60iEych03RxtZaI3zxlRmQiTh4sD83URmJZ5EhQlcCkxb9ectBBB2k8DMmYeDwIwABl4UqZEi8o0ryRGPTXe2HiqChQZTA4iKeQ5Nxzz9U4mDSULZP4A00ZLfHTpk3TNHlMvFxakzQoF2onfpSX54m50gRJmXNUISalXH755TwyZeIMYKh0qIPodXVgZNZgzL4UExevSEVlFscGGga+xsRNxQLGlOXOO+/U5zfaX5ZhoCJi4EM9AtG3YBw2+MX1oz/Qf0ylB+akdSYeo9Ty82yb0IfFdK8KWAhfCEfgznuRJW+TLCKtv+b9tp/lVtaKIavOLCZtLu6rhBnrTyTJcPTRR6v7JXaqxM6NJXP1n3nwwQcHHCevtNJK6s2DcHkgByUWSY3wMk6cMGf1jYhXICMW+4xYkNx7772DqCvUqQRlgoSBWZICJ7jCAIJIy2nc2muvnZ5nT8qlxdUcxEKuSLrprTJL0EXSDTfcMIikHm644Yaw1lpraR3yPB+JOkB3WJCBSNMBHBdaaKE0v7wTHGhAOCgwsnrYAi0Y26e4888/vyaLMbH7GvFI3XCCbIQtejzGxO1gcfS3VVZZpcDZcYybpfNj6xAQoUnfbZmV6vsmg6T6zhWGrnwizt3bJEajdudld6fgoR6PPzA5o3nnnTfsu+++esnWwphEhx723HNPdaIMU+a+Aw88UJPEjMWYTnwvg4GM6MqkLVykYDvVQUMk8iASrbrPwu0WFOc711xzpekZDES1kl6X21pYLq05gIaZyDRef3jwFilDfTbygCFDhgTR24aJEyeqA2jsUseEY2i2yYnuPMhCmzrz7du3bxBpMU5WdG6e2Rm4jER9pKcrr7yyBTXtka2EuAQEMyNZi1Cn3XZtxy222EIdeOMQGRKJXD2tW7wf2wYBdk7xntp7Qa4INDJbKnqAt0kRJDUJKMvEN9tsM5V6YeRsz4OJYSwfpoWUZFIzjQqjYvshhISJUXfcXp1yyikaBgOuREhZousODzzwgL6QopZIb8EbCJLmoosuqhIwswGoVL44cxZVh0ptooYJoitN88qelEu7+uqrq6SNg2hRAwUkkL322kt9N+I7FOKaGQsSIntns2SDC66VcDh99913hyuuuCLdfshsBBKVTwHDQuoGZ9F5BwZU9kyLrlcHVvBtdkKSFjVdOPnkk7XN8eHKljYEhSwNGDBAg2SNIsjUPhx22GHZJH7dBgjAmBkocUDNEX6AACNrYUW5e5sUQVKbgHK7U9C5oA/P7grZeuutC7azibStehph7rqTwBY80JWhS5aS63ZBFis5R59rRF7CkPWS7WDo3UnDjwU9jug52fUR74RBVyoMLt1+RjrZU2zZ6lFe/lSHjx6VNOiZ86hcWhZa4x0g4IEOPCYWdNEVxlsmqT8Lm5A4jE7rxULpkUceqdcswqHLtkVcdrPE96GTtzjKz7NZF4DGjh2rGOjFd3+kYeGpESmrf6UOtKktalI3dkVkt3RaXUVyT9uJvkP/sL5lafzYMgTy2uSaa65J3yvahN1mn3zySW7G3ia5sMxxIHjbzzKpamGTxLw47N9mkTGPWPCwl4tFJZg/xzkhGFupTsF+6VJlyHsWA0C8PTIvjYVVSgvzZMfNnBK7VNj/nkeiFlLmzDGPqAPMvpkpj2FYfak/7VOK2LEiXw+mfY4+wqDK4prTnCNQqk0QVtitVa5PepvMOe6l7jQGztHI7YkLGk4dA4HW2K6WQV/XKFBtbbzxxuG2227Tqb58cKYqqY5Rw8YrhbdJx2qzeD1RmLgWrqxOvGMV30vjCJRGgHWFKVOmBNYdRIWlO1VYE2FNwak+CHibtA/uZbcYtk8R/CmOQNsgIPvuAz+njoOAt0nt28Il8dpj7E9wBBwBR6BmCBQ4Sn72uedq9iDP2BGoBgHvg9Wg1L5pvE3aF+9qn8Z6BVSwsCkWAqu939M5Am2OAF7Vl1t22TbP1zOccwS8TeYcu1rcyZqPkS9sGhJ+dAQcAUeggRFwnXgDN54X3RFwBBwBZ+LeBxwBR8ARaGAEym4xxNIetiiwGGhGr6yuYoo2YFVOPrm1oDY5Dhs2LPziF78IWAdsT8J4F3Ze5LN8tX54/PHHt+fj9VnYpjnnnHPCZZddFrAV0x4kX8AG+dI29OjRoz0e589oRwTo0+yVFzMMAcN12DfBHo99MIIROd7xmE488cQ0Pg7389YjUKv2KCuJ81AMDmFuEgYTE8aaMMrU1sSHGlnriG39jLz8sJgnjicCxrBiE7Z5aWsVhnnZSZMmFVhmrNWzLF+xS1KV82hL78fGQYD+jPlmBAKMVfXv3z+ILSOtgHiUUiNWWAoVO0D6w1CcU+0QqFV7VC3uHXLIIeHee+9N7TXHVcWSICZh55tvvjRYHCao1UFGfbxj8/UWVg5ZUUWCh+hIDBRLLbVUep+dYMqW3TI9e/YMXbsWjjXY2Rb7KhpnEitmXcWOgz5T/G/ql3omcViedsScKZYWzRa62OQImNikjHiaN7vclt6O1BHzussvv3yYZ555LFiP1E3se6iJTltBtjLxLOJ4kVZYYYVgVg0tA2yWx/mBkeFn9SMt94NxHGZ5UDbqQN6YsM3WPa984MXn6vyQxrGwCHGNLWjKGrepPZ/nYIqUMpMH10sssYQ607by+LG+CCBhY+N7zJgxqTlo+qF4sQrMMsWomxZwwoQJBW1c31I379Nr2R6F3LEEhkyxkMTPP//83BTibSZgotKIAsMAkNYxR8tUHbvivXr1Cph2RUUzevTogE1swnA4EZMYMgp40sYpxLrrrqtmXomHqWOGFO/aG2ywgTJxzNZClI9n4pCB+zBfmiUcM2y66abqlIFniw9OZUKYkD3qqKOUeZEHZnWzhPlY4ngug5Dljx1lpFnqId56dPBgxIWoO/dguhfHEdRFPBkFc/ZAfTDXiUlfHBpYngxsa6yxhpqdtXJgR53Bw14+C+dI3VE/YbpVLD1qW8BYoXLlEwuSmgYnHmDO4CHu97S9sHe+rGz3E+9BmoY/ns9MhXpwr7ju0wEDWyWUXyxQutfzFK36n9A+4nkntyD0Gd4j+hXmn81OfW5iD2wTBGrVHlUxcTzWnHDCCToVK+VcAamzHMEgkJDRpWMXGsNEdCTUNWJuVCU/ux89LeoNmCn2w8WMq0ahsyYMvTVTQJjG4MGDVSq3e0mP0wa8DsXEtJHZBMznNZk2Yh8dLyXooGHm2OlGmoSxwpRjIj3TUgYi6kCZkXJw1oCdcSQcpHukV/IS7+wFKhEkfZivDWo0JjRy5EgdRHiBsBWOVAshEfMsVEtG3MNLB5OOCQkaG+Yrrrii4kle6D9RgUHlyidu7jQNzxHTvlovBuqrr75aVVrUEalN3MdpOv6YUYDvBRdcEMQsbBg1apTa+sYBB7alxdFzmtZP6ocAfQCBA1v/EH0Y+/z0KwhVKEIGNvx5B7bZZhttS430vzZHoJbtURUTp0YwUpg5UiVMqaUkDpOV2Yldb70VxoOkh2QMxRIm0jZSJYyJhVMYk5i6VcZLeqb14jA54LSCqX/s+YaFUTovUmNMMGwIxtm9e/cwcODAQFnQQVcicbysSYYPH651wEkGqiWkTzz+4NEHlRHltMEMFZMRDHWZZZZRaR2JGUmcQY0yUVekdGYoDBRGSFAMVAxaqErGi3u47OIyaXFGQTqkYQYSmCxSNOUDm2rKZ8+cPHmyYs5AiAMM6oeKiVmIEYvO4EtfoH2Y3Yj/VVXxoB7baqutLKkfOwgC4nBa+zqzO3OmQhuaoxMYOrNtFtRpd6faItDW7VG1ThzpkKk16oBSahWrOkwnS6YHN284MAAoT79rfiSJx/UThHoApoT0GDN8pNPYfRcDQx7BOOnEsb4btQC+MSsRenDyNR066a2MSJ8jRoxQyZU6mUs1mLRRfJ955EHipz4wb6PYJyT1hlEigTNosti72267WdL0iB9UCGk6rgu4wFTpMJXKZ5mBMYurDHRG6L7jusRuuRhYUL+wWHbcccfpTEEcBijzt/v9WF8EEEBwcccgT3vZGkcsELB+wuCMOg/1Gz5gnWqDQC3ao2pJnCrBWBixcRcWS78w4piRGmOJYcgu5sVx2XOmfkYmBZtUOGjQIN02xdYp3HCxcIPkaZRdBLVwmA/qG6R4I9Qb1WxlZACCiSLlGqHaMbUNem2kYKRm23IZD2TZRUbyQNpFyo0ln6yqihcLSRf1DdPdvAVgJHzo1FNPTXG5+eabVcrCITVqpUrl0wzkjwGItQiwtR9uuMDcyPBlpkF5kebQq1JGFqNjHbrd48f6IEAbMuNkHYPB1Rg4pWFmHavrzCE4goNTbRCoVXu0iIlTNXwX0tBIkUYwEpgc024YuG1jsviWHllogZHDwFk0RZKgA6IDxzcldqORZGHgLIrmMcnsM8WtmQbBdCgrahQYD528EtmiLbpDdnlwH2oK21uN3hEJH6kXnT8Uq1NK5Y/KhN0B6MPR2aOLjmnXXXfVgQMHy+j+8whVDIu0lI08eBnRy6OztllOufIxkEyfPl0lcPYRkwfTavBlAKEM1DlLDMoM6CxQo+pCfcVsLeskOnufX7cPAryfCAHMyFDZsa7BLJYfMyuEGt4f2p6ZJoIZM0nzm9s+pew8T6lle3RrKYy8qOLbUadnJpXBCLfbbrtUp4u+G+YAczUGa0e7J/vcOBzGZKoF9N5IgxALhmwtpFNCDCYwfCROYzT2HE0Q/ZEnadFro8OlfOySEV+XmornU7c8glnDbFkY5V5UKzBNZiYwbZgZEih5kh/TUqRU8TWq2ZUqE9Iz0qutEyBts9hk6dmqCBNFd15qsKHMlI0dJujqIdLiGJotgOXKx0dc5A++4CeuzFSqZrGSH/WkLrZuQd7WTgwQLHyyIAq2EPuQwdSp/giwMYCZI7+sE2MELfoLGwjoezAYBAF2aTnVBoFatkcXHCU/PG2qMgCkr9YQEhlMxfS+rcmLhUJ+qB2yxBZGdnLEuuZsmlLXSCEwLBi/Saql0mbDuRfdOszZGC1pUJ1YuDG57L3lrlHxINnG+npLz+yD7YuobypRKfwrlS+7J50tjujGbR2j0nNhBuzQySt/pXvjeLeYF6PRPufMGOl/vA955G2Sh0rtwiq1h32DQglsrapNmXjtqtb5ckY1hdqI2QNqpc7gZswZRsfr594mHatN8ph4i3XiHatKzVsaForZk87iU2dg4M3bkl4zR6C2CLRYJ17b4njuhgDbCfO2FFq8Hx0BR8ARAAGXxL0fOAKOgCPQwAg4E2/gxvOiOwKOgCNQoE6JleYOjSPgCDgCjkDHR6DA233HL66X0BFwBBwBRwAEzNt91436buyIOAKOgCPgCDQYAj3ETAa/VJ1iG8cbrB5e3CZCAMmCTunUcRDwNuk4bWElybaJL2waMn50BBwBR6ABEXAm3oCN5kV2BBwBR8AQcCZuSPjREXAEHIEGROB/Q2Yuuut7XYwAAAAASUVORK5CYII=)"
      ],
      "metadata": {
        "id": "kodSuaHK7WYn"
      }
    },
    {
      "cell_type": "markdown",
      "source": [
        "**7. Check the probability for getting this t-value using a $t$ distribution critical values table.**\n",
        "\n",
        "\n",
        "Degrees of freedom: \n",
        "\n",
        "$n1 + n2 - 2$\n",
        "\n",
        "We can use a t-statistics table to determine the p-value.\n",
        "\n",
        "**Example:**\n",
        "\n",
        "**P-value**\n",
        "\n",
        "So, in the example, degrees of freedom: $n1 + n2 -2 = 48$ and we aim to see if a t-value of $10.60$ has a $p < 0.05$ on a one-tailed t table.\n",
        "\n",
        "The critical value is more than $1.677$. The rejection region is $t>1.677$.\n",
        "\n",
        "Our test statistic, $10.60$, is in our rejection region, therefore, we reject the null hypothesis.\n",
        "\n"
      ],
      "metadata": {
        "id": "WdHmCRnf7WVO"
      }
    },
    {
      "cell_type": "markdown",
      "source": [
        "**8. Alternatively, calculate a test statistic using python.**"
      ],
      "metadata": {
        "id": "Xi0hSIky-MCd"
      }
    },
    {
      "cell_type": "code",
      "source": [
        "seed(1234)\n",
        "children = normal(loc=140, scale=8, size=25)\n",
        "adults = normal(loc=120, scale=15, size=25)"
      ],
      "metadata": {
        "id": "R-0J7kUdaZWn"
      },
      "execution_count": null,
      "outputs": []
    },
    {
      "cell_type": "markdown",
      "source": [
        "Before we perform the test, we need to decide if we’ll assume the two populations have equal variances or not. As a rule of thumb, we can assume the populations have equal variances if the ratio of the larger sample variance to the smaller sample variance is less than 4:1."
      ],
      "metadata": {
        "id": "aaze9BPmafSO"
      }
    },
    {
      "cell_type": "code",
      "source": [
        "print(np.var(children), np.var(adults))"
      ],
      "metadata": {
        "colab": {
          "base_uri": "https://localhost:8080/"
        },
        "id": "1vSQDn9qacQV",
        "outputId": "99dae7ef-8f42-49cb-8c57-43cf89310caa"
      },
      "execution_count": null,
      "outputs": [
        {
          "output_type": "stream",
          "name": "stdout",
          "text": [
            "65.49567732739706 186.62603209296174\n"
          ]
        }
      ]
    },
    {
      "cell_type": "code",
      "source": [
        "np.var(adults)/np.var(children)"
      ],
      "metadata": {
        "colab": {
          "base_uri": "https://localhost:8080/"
        },
        "id": "i6bcyoqFagqk",
        "outputId": "0a37b7ba-e75d-4c78-aa64-52a9b4c6b554"
      },
      "execution_count": null,
      "outputs": [
        {
          "output_type": "execute_result",
          "data": {
            "text/plain": [
              "2.8494404471926185"
            ]
          },
          "metadata": {},
          "execution_count": 7
        }
      ]
    },
    {
      "cell_type": "code",
      "source": [
        "# the variance ratio is less than 4, so we can set 'equal_var' parameter to True\n",
        "stats.ttest_ind(children,adults,equal_var=True)"
      ],
      "metadata": {
        "colab": {
          "base_uri": "https://localhost:8080/"
        },
        "id": "zRPUd2mcai7a",
        "outputId": "cc1f76f9-1429-4e31-8d65-0507aa893eea"
      },
      "execution_count": null,
      "outputs": [
        {
          "output_type": "execute_result",
          "data": {
            "text/plain": [
              "Ttest_indResult(statistic=5.758716804172234, pvalue=5.845590170557906e-07)"
            ]
          },
          "metadata": {},
          "execution_count": 9
        }
      ]
    },
    {
      "cell_type": "markdown",
      "source": [
        "#3. Paired t-test (or matched pairs t-test)"
      ],
      "metadata": {
        "id": "lr98thV4SBAo"
      }
    },
    {
      "cell_type": "markdown",
      "source": [
        "**Hypothesis test: Difference between Mean Pairs**\n",
        "\n",
        "A test to measure a difference between a pair of measurements (like before and after a treatment) and whether this difference is zero or not."
      ],
      "metadata": {
        "id": "TV4sL3eJaQks"
      }
    },
    {
      "cell_type": "markdown",
      "source": [
        "**1. Stating the Hypotheses:**\n",
        "\n",
        "$H_0:$\n",
        "\n",
        "$H_a:$"
      ],
      "metadata": {
        "id": "mzBfCqNzqAgd"
      }
    },
    {
      "cell_type": "markdown",
      "source": [
        "**Example:**\n",
        "\n",
        "The weight is measured of family members, who stop eating fredagsslik for one month. For each member, the weight is measured before-and-after. We want to know if this small dietary change is enough to change the mean weight. \n",
        "\n",
        "The hypotheses concern a new variable $mu_{diff}$, which is based on the difference between paired values from two data sets.\n",
        "\n",
        "$$\\mu_{diff} = \\mu_{before} - \\mu_{after}$$\n",
        "\n",
        "$$H_0: \\mu_{diff} = 0$$\n",
        "\n",
        "The alternative hypothesis is that the population mean is not zero.\n",
        "\n",
        "$$Ha: \\mu_{diff} \\neq 0 $$\n"
      ],
      "metadata": {
        "id": "5Wze9rxxmaBE"
      }
    },
    {
      "cell_type": "markdown",
      "source": [
        "**2. Determine the type of test**\n",
        "\n",
        "1. $H_a \\neq H_0$  (two-tailed test)\n",
        "2. $H_a < H_0$ (left-tailed test) \n",
        "3. $H_a > H_0$ (right-tailed test)\n"
      ],
      "metadata": {
        "id": "Irp2gFFoqBSL"
      }
    },
    {
      "cell_type": "markdown",
      "source": [
        "**3. Checking conditions for inference**\n",
        "\n",
        "*We can use this test when the following assumptions are met about the data*:\n",
        "\n",
        "* Random sampling for each sample   \n",
        "* Each of the paired measurements are obtained from the same subject (so sample is not independent).\n",
        "*   The population distribution is normally distributed"
      ],
      "metadata": {
        "id": "KThaOwRiqsJi"
      }
    },
    {
      "cell_type": "markdown",
      "source": [
        "**4. Setting the significance level**\n",
        "\n",
        "$\\alpha:$"
      ],
      "metadata": {
        "id": "Bzg2lCzjsbMH"
      }
    },
    {
      "cell_type": "markdown",
      "source": [
        "**5. Checking the data**\n",
        "\n",
        "*   sample size\n",
        "*normally distributed\n",
        "* outliers"
      ],
      "metadata": {
        "id": "Nx8oMqvzsgJE"
      }
    },
    {
      "cell_type": "markdown",
      "source": [
        "![Screenshot 2022-11-01 at 13.42.45.png](data:image/png;base64,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)"
      ],
      "metadata": {
        "id": "Vs5cHfpdN6vv"
      }
    },
    {
      "cell_type": "markdown",
      "source": [
        "**6. Calculating the test statistic**\n",
        "\n",
        "Finding the difference between two pairs averages using a t-statistic.\n",
        "\n",
        "\n",
        "Test statistic:\n",
        "\n",
        "\n",
        "$$t =  \\frac {\\bar{x_{diff}} }{\\frac{s_diff}{\\sqrt{n}}}$$\n",
        "\n",
        "Example:\n",
        "\n",
        "\n",
        "$$t =  \\frac {-1.5011}{\\frac{10.05}{\\sqrt{25}}} = 0.74$$\n",
        "\n",
        "\n",
        "\n",
        "\n",
        "\n"
      ],
      "metadata": {
        "id": "rMnYP65SuQLH"
      }
    },
    {
      "cell_type": "markdown",
      "source": [
        "**7. Check the probability for getting this t-value using a $t$ distribution critical values table.**\n",
        "\n",
        "Degrees of freedom:\n",
        "\n",
        "$$df = n-1$$\n",
        "\n",
        "$$df = 25 - 1 = 24$$\n",
        "\n",
        "The calculated t-statistic = 0.74 is lower than the t- value of alpha = 0.05 and 24 degrees of freedom for a two-tailed test, which is 2.064, and suggests we cannot reject the $H_0$ hypothesis.\n",
        "\n",
        "\n"
      ],
      "metadata": {
        "id": "NrmDazpYUxUW"
      }
    },
    {
      "cell_type": "markdown",
      "source": [
        "**8. Alternatively, use python to calculate the t-statistic.**"
      ],
      "metadata": {
        "id": "EeIjaffeVAj6"
      }
    },
    {
      "cell_type": "code",
      "source": [
        "seed(1234)\n",
        "before = normal(loc=73, scale=5.5, size=25)\n",
        "after = normal(loc=71, scale=6.5, size=25)"
      ],
      "metadata": {
        "id": "vtAk0-aga3XZ"
      },
      "execution_count": null,
      "outputs": []
    },
    {
      "cell_type": "code",
      "source": [
        "stats.ttest_rel(before, after)"
      ],
      "metadata": {
        "colab": {
          "base_uri": "https://localhost:8080/"
        },
        "id": "Fmx7I5Cma9Xj",
        "outputId": "7ee471f1-1f7c-48f7-e894-912589a2dac4"
      },
      "execution_count": null,
      "outputs": [
        {
          "output_type": "execute_result",
          "data": {
            "text/plain": [
              "Ttest_relResult(statistic=0.7312951914314382, pvalue=0.47167919689492177)"
            ]
          },
          "metadata": {},
          "execution_count": 11
        }
      ]
    }
  ]
}