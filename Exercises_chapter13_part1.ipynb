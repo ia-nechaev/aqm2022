{
  "nbformat": 4,
  "nbformat_minor": 0,
  "metadata": {
    "colab": {
      "provenance": [],
      "collapsed_sections": [],
      "toc_visible": true,
      "include_colab_link": true
    },
    "kernelspec": {
      "name": "python3",
      "display_name": "Python 3"
    },
    "language_info": {
      "name": "python"
    }
  },
  "cells": [
    {
      "cell_type": "markdown",
      "metadata": {
        "id": "view-in-github",
        "colab_type": "text"
      },
      "source": [
        "<a href=\"https://colab.research.google.com/github/ia-nechaev/aqm2022/blob/main/Exercises_chapter13_part1.ipynb\" target=\"_parent\"><img src=\"https://colab.research.google.com/assets/colab-badge.svg\" alt=\"Open In Colab\"/></a>"
      ]
    },
    {
      "cell_type": "markdown",
      "source": [
        "#1. Correlation Coefficient r\n",
        "\n"
      ],
      "metadata": {
        "id": "mVTaGGrBr-PT"
      }
    },
    {
      "cell_type": "markdown",
      "source": [],
      "metadata": {
        "id": "W3qVkzd2pU2d"
      }
    },
    {
      "cell_type": "markdown",
      "source": [
        "#2. Linear Regression\n",
        "\n",
        "Regression models are a class of statistical models that allows us to test the hypothesis of whether there is a significant relationship between a response variable and some explanatory variable(s). \n",
        "\n",
        "That is, given some explanatory variables, you can make predictions about the value of the response variable. \n",
        "\n",
        "The **response variable**, the one we want to make predictions on, is also known as the dependent variable or the variable Y. \n",
        "\n",
        "The **explanatory variables** are used to explain how the predictions will change, are also known as independent variables or variable X. \n",
        "\n",
        "Linear regression is used **when the response variable is continuous (i.e., numeric).**\n"
      ],
      "metadata": {
        "id": "e4uanbCA1xP-"
      }
    },
    {
      "cell_type": "markdown",
      "source": [
        "A regression is a straight line and the line is defined by two properties: \n",
        "\n",
        "**The intercept** is the y value, when x is zero. \n",
        "\n",
        "**The slope** is the steepness of the line, equal to the amount y increases if x is increased one unit at a time. \n",
        "\n",
        "\n",
        "\n",
        "---\n",
        "\n",
        "\n",
        "\n",
        "**The equation** for a straight line is that the y value is the intercept plus the slope times the x value.\n",
        "\n",
        "$$Y = intecept + slope * x$$\n",
        "\n",
        "Writen with the following formula for a hypothesized line:\n",
        "\n",
        "$$Y =  \\beta_0 + \\beta_1x$$ \n",
        "\n",
        "$\\beta_0$ is a constant\n",
        "\n",
        "$\\beta_1$ is the slope\n",
        "\n",
        "$x$ is the value of independent variable (the predictor)\n",
        "\n",
        "$Y$ is the value of the dependent variable (the response variable)\n",
        "\n",
        "\n",
        "\n",
        "---\n",
        "\n",
        "\n",
        "\n",
        "**Estimating the intercept**. Where the trend line intercept the y axis.\n",
        "\n",
        "**Estimating the slope**. Calculate the change in y between two points (we calculate the change in x between two points and devide one by the other."
      ],
      "metadata": {
        "id": "ZMJk7vg5Ib9x"
      }
    },
    {
      "cell_type": "markdown",
      "source": [
        "**1. State the hypothesis**\n",
        "\n",
        "$H_0: b_1 = 0$\n",
        "\n",
        "$H_a: b_1 \\neq 0$\n",
        "\n",
        "Where $b_1$ is the slope of the regression line\n",
        "\n",
        "\n"
      ],
      "metadata": {
        "id": "mJEq7S02Rquz"
      }
    },
    {
      "cell_type": "markdown",
      "source": [
        "**2. Checking conditions for inference**\n",
        "\n",
        "\n",
        "\n",
        "*   The dependent variable $Y$ has a linear relationship to the independent variable $X$.\n",
        "*   Any given x, y is independent\n",
        "*   y values are approx. normally distributed\n",
        "*   Check for homoscendasticity: For each value of x, the probability distribution of Y has the same variance ($\\sigma$)\n",
        "*   Check for multicollinearity: predictor variables are independent of each other \n",
        "*   Check for autocorrelation: error terms are independent (uncorrelated)\n",
        "\n",
        "\n",
        "\n",
        "\n",
        "\n",
        "\n",
        "\n",
        "\n"
      ],
      "metadata": {
        "id": "fVUgRDcAcrqM"
      }
    },
    {
      "cell_type": "markdown",
      "source": [
        "**3. State the significance level**"
      ],
      "metadata": {
        "id": "wCi2AWMhkyvI"
      }
    },
    {
      "cell_type": "markdown",
      "source": [
        "**4. Calculate the t-test statistic**\n",
        "\n",
        "We first need to calculate the standard error of the slope.\n",
        "\n",
        "\n",
        "$s_{e}^2 =\\frac {\\sum{(y_i -\\bar{y_i})}^2} {n-k}$\n",
        "\n",
        "$\\bar{y_i}$ is the predicted value\n",
        "\n",
        "$y_i$ is the observed value\n",
        "\n",
        "${n-k}$ is the degrees of freedom\n",
        "\n",
        "**Example:** \n",
        "\n",
        " **Need to do more work here...**\n",
        "\n",
        "\n",
        " $t_c =\\frac {{b_1 -\\beta_1}^2} {S_b1}$\n",
        "\n",
        " $s_b1$ = standard deviation of the estimate of $b_1$\n",
        "\n",
        " The formula for $S_{b1}$:\n",
        "\n",
        " $S_{b1} = \\frac {{S_e}^2} {\\sqrt{(x_i-\\bar{x})^2}}$\n",
        "\n",
        " Degrees of freedom:\n",
        "\n",
        " $df = n-k -1$  \n",
        " \n",
        "Where $k$ is the number of independent variables and the extra $1$ is subtracted because of the intercept.\n",
        "\n",
        "\n",
        "\n",
        "\n"
      ],
      "metadata": {
        "id": "vURQxPJ0mjn5"
      }
    },
    {
      "cell_type": "markdown",
      "source": [
        "**5. **\n",
        "\n"
      ],
      "metadata": {
        "id": "p9FS-4poFKmt"
      }
    },
    {
      "cell_type": "markdown",
      "source": [
        "**Tasks of the day:**\n",
        "\n",
        "1.   We'll visualize and fit linear regressions\n",
        "2.   We'll make predictions with them\n",
        "3. We'll determine whether the model is a good fit\n",
        "\n",
        "\n",
        "---\n",
        "\n",
        "\n",
        "\n",
        "\n",
        "\n"
      ],
      "metadata": {
        "id": "rMp-uG1R2zyy"
      }
    },
    {
      "cell_type": "code",
      "source": [
        "# Loading packages\n",
        "import numpy as np\n",
        "import pandas as pd\n",
        "import matplotlib.pyplot as plt\n",
        "import seaborn as sns; sns.set()\n",
        "import statsmodels.api as sm\n",
        "%matplotlib inline"
      ],
      "metadata": {
        "id": "8KryIgSmmZ_E"
      },
      "execution_count": null,
      "outputs": []
    },
    {
      "cell_type": "markdown",
      "source": [
        "### Artificial example (short story)"
      ],
      "metadata": {
        "id": "oJXZwKLDmpDT"
      }
    },
    {
      "cell_type": "code",
      "source": [
        "# generating data\n",
        "rng = np.random.RandomState(1)\n",
        "predictor_variable = 10 * rng.rand(50)\n",
        "response_variable = 2 * predictor_variable - 5 + rng.randn(50)"
      ],
      "metadata": {
        "id": "YuptKSsqmjt7"
      },
      "execution_count": null,
      "outputs": []
    },
    {
      "cell_type": "code",
      "source": [
        "# visualising data\n",
        "plt.scatter(predictor_variable, response_variable)"
      ],
      "metadata": {
        "id": "Ly9jjHAPnBjk",
        "outputId": "2f54a129-5108-4176-9737-d694c1f417cc",
        "colab": {
          "base_uri": "https://localhost:8080/",
          "height": 286
        }
      },
      "execution_count": null,
      "outputs": [
        {
          "output_type": "execute_result",
          "data": {
            "text/plain": [
              "<matplotlib.collections.PathCollection at 0x7fe8b0f54310>"
            ]
          },
          "metadata": {},
          "execution_count": 33
        },
        {
          "output_type": "display_data",
          "data": {
            "text/plain": [
              "<Figure size 432x288 with 1 Axes>"
            ],
            "image/png": "[encoded data removed]"
          },
          "metadata": {
            "needs_background": "light"
          }
        }
      ]
    },
    {
      "cell_type": "code",
      "source": [
        "x = response_variable\n",
        "y = predictor_variable\n",
        "\n",
        "model=sm.OLS(y, x)\n",
        "\n",
        "mf=model.fit()\n",
        "\n",
        "#ms.summary()\n",
        "print(mf.summary())"
      ],
      "metadata": {
        "id": "7odbqMijqWY6",
        "outputId": "b99e7c88-2969-4db2-b26e-b3cafe272974",
        "colab": {
          "base_uri": "https://localhost:8080/"
        }
      },
      "execution_count": null,
      "outputs": [
        {
          "output_type": "stream",
          "name": "stdout",
          "text": [
            "                                 OLS Regression Results                                \n",
            "=======================================================================================\n",
            "Dep. Variable:                      y   R-squared (uncentered):                   0.990\n",
            "Model:                            OLS   Adj. R-squared (uncentered):              0.989\n",
            "Method:                 Least Squares   F-statistic:                              969.0\n",
            "Date:                Fri, 04 Nov 2022   Prob (F-statistic):                    2.75e-11\n",
            "Time:                        08:57:20   Log-Likelihood:                         -37.009\n",
            "No. Observations:                  11   AIC:                                      76.02\n",
            "Df Residuals:                      10   BIC:                                      76.42\n",
            "Df Model:                           1                                                  \n",
            "Covariance Type:            nonrobust                                                  \n",
            "==============================================================================\n",
            "                 coef    std err          t      P>|t|      [0.025      0.975]\n",
            "------------------------------------------------------------------------------\n",
            "x1             0.4260      0.014     31.128      0.000       0.396       0.457\n",
            "==============================================================================\n",
            "Omnibus:                        0.214   Durbin-Watson:                   2.871\n",
            "Prob(Omnibus):                  0.899   Jarque-Bera (JB):                0.390\n",
            "Skew:                          -0.098   Prob(JB):                        0.823\n",
            "Kurtosis:                       2.099   Cond. No.                         1.00\n",
            "==============================================================================\n",
            "\n",
            "Notes:\n",
            "[1] R² is computed without centering (uncentered) since the model does not contain a constant.\n",
            "[2] Standard Errors assume that the covariance matrix of the errors is correctly specified.\n"
          ]
        },
        {
          "output_type": "stream",
          "name": "stderr",
          "text": [
            "/usr/local/lib/python3.7/dist-packages/scipy/stats/stats.py:1542: UserWarning: kurtosistest only valid for n>=20 ... continuing anyway, n=11\n",
            "  \"anyway, n=%i\" % int(n))\n"
          ]
        }
      ]
    },
    {
      "cell_type": "markdown",
      "source": [
        "### The end of short story"
      ],
      "metadata": {
        "id": "_eHrYLEWtNs9"
      }
    },
    {
      "cell_type": "markdown",
      "source": [
        "## Bivariate OLS"
      ],
      "metadata": {
        "id": "o7ae2ZMdtZ37"
      }
    },
    {
      "cell_type": "markdown",
      "source": [
        "Example 13.5\n",
        "\n",
        "A random sample of 11 statistics students produced the following data, where x is the third exam score out of 80, and y is the final exam score out of 200. Can you predict the final exam score of a randomly selected student if you know the third exam score?"
      ],
      "metadata": {
        "id": "Nm9hO3NTzK9M"
      }
    },
    {
      "cell_type": "markdown",
      "source": [
        "![image.png](data:image/png;base64,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)"
      ],
      "metadata": {
        "id": "O-xtHw44zH6g"
      }
    },
    {
      "cell_type": "markdown",
      "source": [
        "\n",
        "\n",
        "### 1a. Visualizing linear regressions"
      ],
      "metadata": {
        "id": "tvBW1h344R6t"
      }
    },
    {
      "cell_type": "markdown",
      "source": [
        "[Matplotlib cheatsheets and handouts](https://matplotlib.org/cheatsheets/)"
      ],
      "metadata": {
        "id": "hv2nJuhR0poX"
      }
    },
    {
      "cell_type": "code",
      "source": [
        "# setting the data\n",
        "predictor_variable = [65, 67, 71, 71, 66, 75, 67, 70, 71, 69, 69]\n",
        "response_variable = [175, 133, 185, 163, 126, 198, 153, 163, 159, 151, 159]"
      ],
      "metadata": {
        "id": "cqrpZy5Qyb_d"
      },
      "execution_count": null,
      "outputs": []
    },
    {
      "cell_type": "code",
      "source": [
        "#visualizing regressions\n",
        "\n",
        "# Draw the scatter plot\n",
        "sns.scatterplot(x = predictor_variable, y=response_variable)\n",
        "\n",
        "# Show the plot\n",
        "plt.show()"
      ],
      "metadata": {
        "id": "mdOGa_fPHT2L",
        "outputId": "6a926c13-58e3-4e6b-fb96-0d4ac6ebe747",
        "colab": {
          "base_uri": "https://localhost:8080/",
          "height": 268
        }
      },
      "execution_count": null,
      "outputs": [
        {
          "output_type": "display_data",
          "data": {
            "text/plain": [
              "<Figure size 432x288 with 1 Axes>"
            ],
            "image/png": "[encoded data removed]"
          },
          "metadata": {
            "needs_background": "light"
          }
        }
      ]
    },
    {
      "cell_type": "markdown",
      "source": [
        "In seaborn,  the **regplot() function** adds a trend line calculated using linear regression. Also, by default, regplot() adds a confidence interval around the line, this can be helpful, but can also removed by setting the $ci$ argument to \"None\", in case, like now, when we're mostly interested in the reg line. "
      ],
      "metadata": {
        "id": "uiAvphMT2puD"
      }
    },
    {
      "cell_type": "markdown",
      "source": [
        "For seaborn plotting consult their original [tutorial](http://seaborn.pydata.org/tutorial.html). Or sns [cheat-sheet in pdf](http://datacamp-community-prod.s3.amazonaws.com/263130e2-2c92-4348-a356-9ed9b5034247) by datacamp."
      ],
      "metadata": {
        "id": "4ggPuoXg1D0p"
      }
    },
    {
      "cell_type": "code",
      "source": [
        "# Draw a trend line on the scatter plot \n",
        "sns.regplot(x=predictor_variable,\n",
        "            y=response_variable,\n",
        "            ci=None,\n",
        "            scatter_kws={'alpha': 0.5})\n",
        "\n",
        "# Show the plot\n",
        "plt.show()"
      ],
      "metadata": {
        "id": "Ro8sZV7qxiUf",
        "outputId": "6002ea13-92fc-442b-eee9-fbe8db3a3182",
        "colab": {
          "base_uri": "https://localhost:8080/",
          "height": 268
        }
      },
      "execution_count": null,
      "outputs": [
        {
          "output_type": "display_data",
          "data": {
            "text/plain": [
              "<Figure size 432x288 with 1 Axes>"
            ],
            "image/png": "[encoded data removed]"
          },
          "metadata": {
            "needs_background": "light"
          }
        }
      ]
    },
    {
      "cell_type": "markdown",
      "source": [
        "### 1b. Fitting linear regressions:\n",
        "\n",
        "Different packages are used to run regression models. [Statsmodels](https://www.statsmodels.org/dev/regression.html) is a popular choice.\n",
        "\n",
        "**The function**\n",
        "\n",
        "The Statsmodels function ols() takes two arguments. \n",
        "\n",
        "\n",
        "\n",
        "*   The first argument is a formula: the response variable is written to the left of the tilde, and the explanatory variable is written to the right. \n",
        "*   The data argument takes the DataFrame containing the variables.\n",
        "*   To actually fit the model, we add .fit()  to the created model object. \n",
        "*   Print the resulting model, using the params attribute.\n",
        "\n",
        "\n",
        "This will result in two coefficients. \n",
        "\n",
        "These coefficients are the intercept and slope of the straight line. \n",
        "\n",
        "How do we interpret these?\n",
        "\n",
        "For every additional x-value, we expect the total y to increase by what factor.\n"
      ],
      "metadata": {
        "id": "LLDyhJgCJuUH"
      }
    },
    {
      "cell_type": "code",
      "execution_count": null,
      "metadata": {
        "id": "Pka-KuZ81TYx",
        "outputId": "9093751c-38d7-4022-b100-001b52cd25df",
        "colab": {
          "base_uri": "https://localhost:8080/"
        }
      },
      "outputs": [
        {
          "output_type": "stream",
          "name": "stdout",
          "text": [
            "                                 OLS Regression Results                                \n",
            "=======================================================================================\n",
            "Dep. Variable:                      y   R-squared (uncentered):                   0.990\n",
            "Model:                            OLS   Adj. R-squared (uncentered):              0.989\n",
            "Method:                 Least Squares   F-statistic:                              969.0\n",
            "Date:                Fri, 04 Nov 2022   Prob (F-statistic):                    2.75e-11\n",
            "Time:                        09:04:57   Log-Likelihood:                         -37.009\n",
            "No. Observations:                  11   AIC:                                      76.02\n",
            "Df Residuals:                      10   BIC:                                      76.42\n",
            "Df Model:                           1                                                  \n",
            "Covariance Type:            nonrobust                                                  \n",
            "==============================================================================\n",
            "                 coef    std err          t      P>|t|      [0.025      0.975]\n",
            "------------------------------------------------------------------------------\n",
            "x1             0.4260      0.014     31.128      0.000       0.396       0.457\n",
            "==============================================================================\n",
            "Omnibus:                        0.214   Durbin-Watson:                   2.871\n",
            "Prob(Omnibus):                  0.899   Jarque-Bera (JB):                0.390\n",
            "Skew:                          -0.098   Prob(JB):                        0.823\n",
            "Kurtosis:                       2.099   Cond. No.                         1.00\n",
            "==============================================================================\n",
            "\n",
            "Notes:\n",
            "[1] R² is computed without centering (uncentered) since the model does not contain a constant.\n",
            "[2] Standard Errors assume that the covariance matrix of the errors is correctly specified.\n"
          ]
        },
        {
          "output_type": "stream",
          "name": "stderr",
          "text": [
            "/usr/local/lib/python3.7/dist-packages/scipy/stats/stats.py:1542: UserWarning: kurtosistest only valid for n>=20 ... continuing anyway, n=11\n",
            "  \"anyway, n=%i\" % int(n))\n"
          ]
        }
      ],
      "source": [
        "#Running a regression with continuous predictor\n",
        "x = predictor_variable\n",
        "y = response_variable\n",
        "\n",
        "#x = sm.add_constant(x)\n",
        "\n",
        "model = sm.OLS(x,y)\n",
        "\n",
        "#Fitting a regression\n",
        "results = model.fit()\n",
        "\n",
        "# Print the parameters of the fitted model\n",
        "print(results.summary())\n"
      ]
    },
    {
      "cell_type": "markdown",
      "source": [
        "**2. Making predictions**\n",
        "\n"
      ],
      "metadata": {
        "id": "EYwEOPRHlLgS"
      }
    },
    {
      "cell_type": "markdown",
      "source": [
        "We call ols with (1) a formula and (2) the dataset, after which we add .fit(). \n",
        "\n",
        "The response variable goes on the left-hand side of the formula, and the explanatory variable goes on the right. \n",
        "\n",
        "We need to assign the result to a variable, so we can reuse it later on. \n",
        "\n",
        "To view the coefficients of the model, we can use the params attribute in a print call (like above).\n",
        "\n"
      ],
      "metadata": {
        "id": "xv8pVRcToCDE"
      }
    },
    {
      "cell_type": "code",
      "source": [
        "reg_model = ols(\"response ~ predict\", data = dataframe).fit()\n",
        "print(reg_model.params)"
      ],
      "metadata": {
        "id": "sFBjDFWJoR0L"
      },
      "execution_count": null,
      "outputs": []
    },
    {
      "cell_type": "markdown",
      "source": [
        "The next step is to choose some values for the explanatory variables. To create new explanatory data, we store our explanatory variables in a new pandas DataFrame. The goal is to create a DataFrame that contains both the explanatory variable and the predicted response. \n",
        "\n",
        "Now this can allow us to answer questions that go beyond what the original dataset allows us to do (= make predictions). \n"
      ],
      "metadata": {
        "id": "RJaFSA8DowHA"
      }
    },
    {
      "cell_type": "markdown",
      "source": [
        "\n",
        "*   We specify an interval of values using the np.arange function, taking the start and end of the interval as arguments. Note that the end of the interval, does not include this value.\n",
        "*   Then, call predict() on the model, passing the dataframe with the explanatory variables as the argument.\n",
        "*   The predict function returns a series of predictions, one for each row of the explanatory data.\n",
        "\n",
        "\n",
        "\n",
        "\n",
        "\n",
        "\n",
        "\n",
        "\n"
      ],
      "metadata": {
        "id": "z7gOexj9qK-t"
      }
    },
    {
      "cell_type": "code",
      "source": [
        "#Example:\n",
        "\n",
        "import numpy as np\n",
        "\n",
        "# Create explanatory_data \n",
        "explanatory_data = pd.DataFrame({'predictor': np.arange(0, 11)}) #values 1-10\n",
        "\n",
        "# Use \"model\" to predict with explanatory_data, call it response_var\n",
        "response_var = model.predict(explanatory_data)\n",
        "\n",
        "#we start with the existing column, explanatory_data. \n",
        "#Then, we use the pandas .assign() to add a new column, named after the response variable, response. \n",
        "\n",
        "# Create prediction_data\n",
        "prediction_data = explanatory_data.assign(response_var = response_var)\n",
        "\n",
        "# Print the result\n",
        "print(prediction_data)"
      ],
      "metadata": {
        "id": "ldPsZOeXzjJU"
      },
      "execution_count": null,
      "outputs": []
    },
    {
      "cell_type": "markdown",
      "source": [
        "Working with model objects, what are they?\n",
        "\n",
        "**.fittedvalues attribute** - \"Fitted vallues\" are predictions on the original dataset used to create the model.\n",
        "\n",
        "**.resid attribute** - are a measure of inaccuracy in the model fit. Like fitted values, there is one residual for each row of the dataset. Each residual is the actual response value minus the predicted response value.\n",
        "\n",
        "**.summary()**"
      ],
      "metadata": {
        "id": "Az8eDDQ0GqrP"
      }
    },
    {
      "cell_type": "code",
      "source": [
        "print(model.params)\n",
        "print(model.fittedvalues) #equal to print(model.predict(explanatory_data))\n",
        "print(model.resid) \n",
        "model.summary()"
      ],
      "metadata": {
        "id": "3EW74FXnI1qe"
      },
      "execution_count": null,
      "outputs": []
    },
    {
      "cell_type": "code",
      "source": [
        "# Get the coefficients of mdl_price_vs_conv\n",
        "coeffs = model.params\n",
        "\n",
        "# Get the intercept\n",
        "intercept = coeffs[0]\n",
        "\n",
        "# Get the slope\n",
        "slope = coeffs[1]\n",
        "\n",
        "# Manually calculate the predictions\n",
        "reg = intercept + slope * explanatory_data\n",
        "print(reg)\n",
        "\n",
        "# Compare to the results from .predict()\n",
        "print(reg.assign(predictions_auto=reg_model.predict(explanatory_data)))"
      ],
      "metadata": {
        "id": "zRLVvc_6ODiz"
      },
      "execution_count": null,
      "outputs": []
    },
    {
      "cell_type": "markdown",
      "source": [
        "**3. Assessing model fit**\n",
        "\n",
        "How good is our model?\n",
        "\n",
        "The **coefficient of determination**, also called r-squared. Either written with a lower case r for simple linear regression and an upper case R when there are several explanatory variables. \n",
        "\n",
        "$ r^2$ is defined as the proportion of the variance in the response variable that is predictable from the explanatory variable. \n",
        "\n",
        "A score of $1$ means the model has a perfect fit, and a score of $0$ means the model is no better than randomness. \n",
        "\n",
        "For simple linear regression, the interpretation of the coefficient of determination is straightforward. It is simply the correlation between the explanatory and response variables, squared. ( .rsquared attribute in python)\n",
        "\n",
        "What is a good $ r^2$? It depends on what your studying."
      ],
      "metadata": {
        "id": "Swuj7dVGRklx"
      }
    },
    {
      "cell_type": "code",
      "source": [
        "#correlation squared\n",
        "coeff_determination = variable[\"x\"].corr(variable[\"y\"]) ** 2\n",
        "print(coeff_determination)"
      ],
      "metadata": {
        "id": "rjRbLBezZhR8"
      },
      "execution_count": null,
      "outputs": []
    },
    {
      "cell_type": "code",
      "source": [
        "reg_model = ols(\"y ~ x\", data = dataframe).fit()\n",
        "print(reg_model.summary())\n",
        "print(reg_model.rsquared)"
      ],
      "metadata": {
        "id": "-3h5lr6aMzl5"
      },
      "execution_count": null,
      "outputs": []
    },
    {
      "cell_type": "markdown",
      "source": [
        "Another way to assess model fit is through **the residual standard error, or RSE**. RSE tells us how much predictions are typically wrong.\n",
        "\n",
        "Specifically, each residual is the difference between a predicted value and an observed value. \n",
        "\n",
        "The **mean squared error, or MSE**, is the squared residual standard error. We can calculate the RSE by taking the square root of MSE. \n",
        "\n",
        "$MSE = RSE^2$"
      ],
      "metadata": {
        "id": "ECRQ9FTrTiKF"
      }
    },
    {
      "cell_type": "code",
      "source": [
        "mse = reg_model.mse_resid\n",
        "print('mse:', mse)\n",
        "\n",
        "#Calculating rse\n",
        "rse = np.sqrt(mse)\n",
        "print(\"rse:\", rse)"
      ],
      "metadata": {
        "id": "bPxZeEjCaMUE"
      },
      "execution_count": null,
      "outputs": []
    },
    {
      "cell_type": "markdown",
      "source": [
        "**Calculating RSE**\n",
        "**need to do a math example...**\n",
        "\n",
        "(1) Square each residual, take the sum of them.\n",
        "\n",
        "(2) calculate the degrees of freedom of the residuals. The number of observations - the nunber of model coefficients\n",
        "\n",
        "(3) take the square root of the ratio of these numbers. \n",
        "\n"
      ],
      "metadata": {
        "id": "dfsML3uPUjOr"
      }
    },
    {
      "cell_type": "code",
      "source": [
        "#Calculating RSE\n",
        "\n",
        "residuals_sq = reg_model.resid ** 2\n",
        "residual_sum_of_sq = sum(residuals_sq)\n",
        "deg_freedom = len(dataset.index) - 2\n",
        "rse = np.sqrt(resid_sum_of_sq/deg_freedom)\n",
        "\n",
        "print(\"resid sum of sq: \", resid_sum_of_sq)\n",
        "print(\"deg freedom: \", deg_freedom)\n",
        "print(\"rse:\", rse)"
      ],
      "metadata": {
        "id": "n7e3HcrFbQTm"
      },
      "execution_count": null,
      "outputs": []
    },
    {
      "cell_type": "markdown",
      "source": [
        "Root-mean-square error (RMSE) performs the same task as residual standard error, namely quantifying how inaccurate the model predictions are. "
      ],
      "metadata": {
        "id": "h5PQYIxyVkev"
      }
    },
    {
      "cell_type": "code",
      "source": [
        "#Calculating RMSE\n",
        "# Important: RMSE does not account for the number of coefficients, worse for comparisions of models\n",
        "\n",
        "residuals_sq = reg_model.resid ** 2\n",
        "residual_sum_of_sq = sum(residuals_sq)\n",
        "n_obs = len(dataset.index)\n",
        "rmse = np.sqrt(resid_sum_of_sq/n_obs)\n",
        "\n",
        "print(\"rmse:\", rmse)"
      ],
      "metadata": {
        "id": "TIoeneA9cmK6"
      },
      "execution_count": null,
      "outputs": []
    }
  ]
}