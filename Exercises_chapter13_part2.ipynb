{
  "cells": [
    {
      "cell_type": "markdown",
      "metadata": {
        "id": "view-in-github",
        "colab_type": "text"
      },
      "source": [
        "<a href=\"https://colab.research.google.com/github/ia-nechaev/aqm2022/blob/main/Exercises_chapter13_part2.ipynb\" target=\"_parent\"><img src=\"https://colab.research.google.com/assets/colab-badge.svg\" alt=\"Open In Colab\"/></a>"
      ]
    },
    {
      "cell_type": "code",
      "execution_count": 1,
      "metadata": {
        "id": "B6tGQy0vY53A"
      },
      "outputs": [],
      "source": [
        "import numpy as np\n",
        "import pandas as pd\n",
        "import matplotlib.pyplot as plt\n",
        "import seaborn as sns\n",
        "import statsmodels.api as sm\n",
        "import math\n",
        "from sklearn.linear_model import LinearRegression"
      ]
    },
    {
      "cell_type": "markdown",
      "source": [
        "# Bike counters"
      ],
      "metadata": {
        "id": "fj64cQ4FiLhQ"
      }
    },
    {
      "cell_type": "code",
      "execution_count": 4,
      "metadata": {
        "id": "F1ZitC-6Y53D"
      },
      "outputs": [],
      "source": [
        "bk=pd.read_csv('https://raw.githubusercontent.com/ia-nechaev/aqm2022/main/data/hrngv.csv',index_col='date',parse_dates=True) # filenames for other regions: hrngv.csv, sndbr.csv"
      ]
    },
    {
      "cell_type": "code",
      "execution_count": null,
      "metadata": {
        "id": "czDktu-XY53E"
      },
      "outputs": [],
      "source": [
        "bk"
      ]
    },
    {
      "cell_type": "markdown",
      "source": [
        "## Data description\n",
        "\n"
      ],
      "metadata": {
        "id": "QthhzvN8iegb"
      }
    },
    {
      "cell_type": "markdown",
      "source": [
        "nbikes — Number of bikes per day\n",
        "\n",
        "tmpc —  Air Temperature in C\n",
        "\n",
        "relh — Relative Humidity in %\n",
        "\n",
        "vsby — Visibility in miles\n",
        "\n",
        "sknt — Wind Speed in knots\n",
        "\n",
        "drct — Wind Direction in degrees from true north\n",
        "\n",
        "holiday — If the day is a holiday\n",
        "\n",
        "PRCP — Precipitation in mm\n",
        "\n",
        "TAVG — Average temperature in C\n",
        "\n",
        "dry day — if the PRCP value equals 0 \n",
        "\n",
        "phenomenon — weather phenomenon\n",
        "\n",
        "weekday — day of the week\n",
        "\n",
        "daylight_hrs — amount of hours of light a day"
      ],
      "metadata": {
        "id": "5M5j3D00iowB"
      }
    },
    {
      "cell_type": "markdown",
      "source": [
        "## Some functions that we might need:\n",
        "\n"
      ],
      "metadata": {
        "id": "ek-MqcUCZypn"
      }
    },
    {
      "cell_type": "markdown",
      "source": [
        "\n",
        "\n",
        "\n",
        "`sns.boxenplot(x='',y='',data=mydata)`\n",
        "\n",
        "`sns.pairplot(mydata)`\n",
        "\n",
        "\n",
        "```\n",
        "#fig, ax = plt.subplots(figsize=(20, 15))\n",
        "sns.heatmap(bk.corr()) # cmap='RdBu', annot=True\n",
        "```\n",
        "\n",
        "\n",
        "```\n",
        "#define IDVs and DV\n",
        "X = bk[['']]\n",
        "y = bk['']\n",
        "\n",
        "#add constant variable\n",
        "X = sm.add_constant(X)\n",
        "\n",
        "#fit linear regression model\n",
        "model = sm.OLS(y, X).fit()\n",
        "\n",
        "#save predicted values in a df\n",
        "bk['predicted'] = model.predict(X)\n",
        "\n",
        "#view model summary\n",
        "print(model.summary())\n",
        "\n",
        "```\n",
        "\n",
        "\n",
        "\n",
        "```\n",
        "bk[['nbikes', 'predicted']].plot(alpha=0.5);\n",
        "```\n",
        "\n",
        "\n",
        "\n",
        "```\n",
        "!pip install stargazer -q\n",
        "from stargazer.stargazer import Stargazer\n",
        "m_compare=Stargazer([model_1,model_2])\n",
        "m_compare\n",
        "\n",
        "m_compare.render_latex()\n",
        "m_compare.render_html()\n",
        "```\n",
        "\n",
        "\n",
        "`bk['holiday']=bk['holiday'].astype('category').cat.codes`\n",
        "\n",
        "`bk=pd.get_dummies(bk, columns=['weekday'], prefix = '', prefix_sep='')`\n",
        "\n",
        "`bk.corr()`\n"
      ],
      "metadata": {
        "id": "K8NAdFgjiUzj"
      }
    },
    {
      "cell_type": "markdown",
      "source": [
        "# Data Visualization\n"
      ],
      "metadata": {
        "id": "EMpf0ldaemIA"
      }
    },
    {
      "cell_type": "code",
      "execution_count": null,
      "metadata": {
        "scrolled": false,
        "id": "J7pPoW8QY53H"
      },
      "outputs": [],
      "source": [
        "#fig, ax = plt.subplots(figsize=(20, 15))\n",
        "sns.heatmap(bk.corr()) # cmap='RdBu', annot=True"
      ]
    },
    {
      "cell_type": "markdown",
      "source": [
        "# Setting-up RQ and hypothesis\n",
        "\n"
      ],
      "metadata": {
        "id": "RFT1vKLOh-hr"
      }
    },
    {
      "cell_type": "markdown",
      "source": [
        "# Simple bi-variate regression"
      ],
      "metadata": {
        "id": "eA6EVOIKe1yZ"
      }
    },
    {
      "cell_type": "code",
      "execution_count": null,
      "metadata": {
        "scrolled": true,
        "id": "-giohY_oY53G"
      },
      "outputs": [],
      "source": [
        "X = bk[['tmpc']]\n",
        "y = bk['nbikes']\n",
        "\n",
        "\n",
        "#add constant to predictor variables\n",
        "X = sm.add_constant(X)\n",
        "\n",
        "#fit linear regression model\n",
        "model_1 = sm.OLS(y, X).fit()\n",
        "bk['predicted_1'] = model_1.predict(X)\n",
        "#view model summary\n",
        "print(model_1.summary())"
      ]
    },
    {
      "cell_type": "code",
      "source": [
        "# plot the data and predicted variables\n"
      ],
      "metadata": {
        "id": "s_KymOU1nf9h"
      },
      "execution_count": null,
      "outputs": []
    },
    {
      "cell_type": "markdown",
      "source": [
        "# Multivariate regression"
      ],
      "metadata": {
        "id": "2RSmNuHZf656"
      }
    },
    {
      "cell_type": "code",
      "execution_count": null,
      "metadata": {
        "id": "j-Q6XERDY53N"
      },
      "outputs": [],
      "source": [
        "X = bk[['tmpc', 'relh']]\n",
        "y = bk['nbikes']\n",
        "\n",
        "#add constant to predictor variables\n",
        "\n",
        "#fit linear regression model\n",
        "\n",
        "#view model summary\n",
        "\n"
      ]
    },
    {
      "cell_type": "code",
      "execution_count": null,
      "metadata": {
        "id": "mSJ5l0X3Y53O"
      },
      "outputs": [],
      "source": [
        "# defining data\n",
        "X = bk[['tmpc','relh', 'vsby', 'sknt']]\n",
        "y = bk['nbikes']\n",
        "\n",
        "#add constant to predictor variables\n",
        "\n",
        "#fit linear regression model\n",
        "\n",
        "#view model summary\n"
      ]
    },
    {
      "cell_type": "markdown",
      "source": [
        "# Multivariate regression with categorical IDVs"
      ],
      "metadata": {
        "id": "B2KCIgE8l1PQ"
      }
    },
    {
      "cell_type": "markdown",
      "source": [
        "## Transforming categorical variables"
      ],
      "metadata": {
        "id": "QQoKO2kWe-4d"
      }
    },
    {
      "cell_type": "code",
      "execution_count": null,
      "metadata": {
        "id": "eScTmwSWY53I"
      },
      "outputs": [],
      "source": [
        "#pd.get_dummies(bk, columns=[''], prefix = '', prefix_sep='')"
      ]
    },
    {
      "cell_type": "code",
      "execution_count": 6,
      "metadata": {
        "id": "TGL5hZ99Y53K"
      },
      "outputs": [],
      "source": [
        "# bk['holiday']=bk['holiday'].astype('category').cat.codes # works for binary variable"
      ]
    },
    {
      "cell_type": "markdown",
      "source": [
        "## Visulizing new heatmap"
      ],
      "metadata": {
        "id": "m5jm39jffLe1"
      }
    },
    {
      "cell_type": "code",
      "source": [],
      "metadata": {
        "id": "U33knsxHlHjc"
      },
      "execution_count": null,
      "outputs": []
    },
    {
      "cell_type": "markdown",
      "source": [
        "## Making regression models according to our hypothesis"
      ],
      "metadata": {
        "id": "bp8BAZhomvI2"
      }
    },
    {
      "cell_type": "code",
      "source": [
        "bk.columns"
      ],
      "metadata": {
        "id": "E9ogE8f2mo0k"
      },
      "execution_count": null,
      "outputs": []
    },
    {
      "cell_type": "code",
      "execution_count": null,
      "metadata": {
        "scrolled": true,
        "id": "v8eLZDyAY53P"
      },
      "outputs": [],
      "source": [
        "X = bk[[]]\n",
        "y = bk['nbikes']\n",
        "\n",
        "#no need to add constant to predictor variables\n",
        "\n",
        "#fit linear regression model\n",
        "model = sm.OLS(y, X).fit()\n",
        "bk['predicted'] = model.predict(X)\n",
        "#view model summary\n",
        "print(model.summary())"
      ]
    },
    {
      "cell_type": "markdown",
      "source": [
        "# Comparing model results"
      ],
      "metadata": {
        "id": "IXHEeAaDmNeO"
      }
    },
    {
      "cell_type": "code",
      "execution_count": null,
      "metadata": {
        "id": "DYyDEa3RY53P"
      },
      "outputs": [],
      "source": [
        "!pip install stargazer -q\n",
        "from stargazer.stargazer import Stargazer"
      ]
    },
    {
      "cell_type": "code",
      "execution_count": null,
      "metadata": {
        "id": "-PHyJVa7Y53Q"
      },
      "outputs": [],
      "source": [
        "m_compare=Stargazer([model_1,model_2])\n",
        "m_compare"
      ]
    },
    {
      "cell_type": "markdown",
      "source": [
        "# Check the regression"
      ],
      "metadata": {
        "id": "r1l12WD5cvqK"
      }
    },
    {
      "cell_type": "markdown",
      "metadata": {
        "id": "rXEuNo7zY53Y"
      },
      "source": [
        "Ex-ante checks:\n",
        "- Number of observations (>10)\n",
        "- Type of dependent variable (categorical/continous)\n",
        "- Linearity (linear dependence)\n",
        "\n",
        "Ex-post checks (with potentially model refinement)\n",
        "- Multicollinearity (VIF)\n",
        "- Outlier (Cook's distance)\n",
        "- Normal distribution of residuals (QQplot, Shapiro-Wilk) (non-linear transformation to fix)\n",
        "- Heteroscedasticity (Breusch-Pagan)\n",
        "- Autocorrelation (spatial - Moran-correlation coefficient I /temporal - Panel & time series analysis)"
      ]
    },
    {
      "cell_type": "markdown",
      "source": [
        "## Test for normality of residuals"
      ],
      "metadata": {
        "id": "k8BpqC0gcP0t"
      }
    },
    {
      "cell_type": "markdown",
      "metadata": {
        "id": "N96kbbqSY53b"
      },
      "source": [
        "![image.png](data:image/png;base64,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)"
      ]
    },
    {
      "cell_type": "code",
      "execution_count": null,
      "metadata": {
        "id": "6CMKpf6QY53b",
        "outputId": "cc30764c-dfc6-4c1b-c81f-3dbdc2dbf369"
      },
      "outputs": [
        {
          "data": {
            "image/png": "[encoded data removed]",
            "text/plain": [
              "<Figure size 432x288 with 1 Axes>"
            ]
          },
          "metadata": {
            "needs_background": "light"
          },
          "output_type": "display_data"
        }
      ],
      "source": [
        "# Normality of residuals\n",
        "fig = sm.qqplot(model.resid)\n",
        "plt.show()"
      ]
    },
    {
      "cell_type": "markdown",
      "source": [
        "## Test fo Multicollinearity (VIF)"
      ],
      "metadata": {
        "id": "kWILJ_EfcJ4x"
      }
    },
    {
      "cell_type": "code",
      "execution_count": null,
      "metadata": {
        "id": "-iqBEROyY53a"
      },
      "outputs": [],
      "source": [
        "#test fo Multicollinearity (VIF)\n",
        "\n",
        "from patsy import dmatrices\n",
        "from statsmodels.stats.outliers_influence import variance_inflation_factor\n",
        "\n",
        "#find design matrix for linear regression model using 'rating' as response variable \n",
        "y, X = dmatrices('nbikes ~ tmpc+relh+vsby+TAVG', data=bk, return_type='dataframe')\n",
        "\n",
        "#calculate VIF for each explanatory variable\n",
        "vif = pd.DataFrame()\n",
        "vif['VIF'] = [variance_inflation_factor(X.values, i) for i in range(X.shape[1])]\n",
        "vif['variable'] = X.columns\n",
        "\n",
        "#view VIF for each explanatory variable \n",
        "vif"
      ]
    },
    {
      "cell_type": "markdown",
      "source": [
        "## Test for heteroscedasticity"
      ],
      "metadata": {
        "id": "RxkVUnEXcXDe"
      }
    },
    {
      "cell_type": "code",
      "execution_count": null,
      "metadata": {
        "id": "Vgh1PwZPY53c"
      },
      "outputs": [],
      "source": [
        "# Heteroscedasticity (exact: Breusch-Pagan test)\n",
        "ax = sns.residplot(x=bk['predicted_3'], y=model_3.resid, lowess = True, color = \"g\")\n",
        "ax.set(xlabel='Fitted Value', ylabel='Residuals', title = 'Residual Vs Fitted values PLOT \\n')\n",
        "plt.show()"
      ]
    },
    {
      "cell_type": "markdown",
      "source": [
        "# Discussing results"
      ],
      "metadata": {
        "id": "yadzq9RPgLFv"
      }
    },
    {
      "cell_type": "markdown",
      "source": [
        "Check your hypothesis (supported/unsupported).\n",
        "\n",
        "Explain statistically significant relations.\n",
        "\n",
        "Discuss the limitations of your model:\n",
        "\n",
        "Our model is almost certainly missing some relevant information. For example, nonlinear effects (such as effects of precipitation and cold temperature) and nonlinear trends within each variable (such as disinclination to ride at very cold and very hot temperatures) cannot be accounted for in this model. Additionally, we have thrown away some of the finer-grained information (such as the difference between a rainy morning and a rainy afternoon), and we have ignored correlations between days (such as the possible effect of a rainy Tuesday on Wednesday’s numbers, or the effect of an unexpected sunny day after a streak of rainy days)."
      ],
      "metadata": {
        "id": "-nM02B4OouzU"
      }
    },
    {
      "cell_type": "code",
      "source": [],
      "metadata": {
        "id": "Ogn-3bZ2pYXf"
      },
      "execution_count": null,
      "outputs": []
    }
  ],
  "metadata": {
    "kernelspec": {
      "display_name": "Python 3",
      "language": "python",
      "name": "python3"
    },
    "language_info": {
      "codemirror_mode": {
        "name": "ipython",
        "version": 3
      },
      "file_extension": ".py",
      "mimetype": "text/x-python",
      "name": "python",
      "nbconvert_exporter": "python",
      "pygments_lexer": "ipython3",
      "version": "3.8.5"
    },
    "colab": {
      "provenance": [],
      "toc_visible": true,
      "include_colab_link": true
    }
  },
  "nbformat": 4,
  "nbformat_minor": 0
}