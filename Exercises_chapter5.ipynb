{
  "nbformat": 4,
  "nbformat_minor": 0,
  "metadata": {
    "colab": {
      "provenance": [],
      "collapsed_sections": [],
      "authorship_tag": "ABX9TyNsSHavB7yxs0NCeuHaqSy+"
    },
    "kernelspec": {
      "name": "python3",
      "display_name": "Python 3"
    },
    "language_info": {
      "name": "python"
    }
  },
  "cells": [
    {
      "cell_type": "markdown",
      "source": [
        "\n",
        "# Introduction\n",
        "\n",
        "We will start working with **continuous random variables and probability distributions** for experiments fulfilling specific conditions.  \n",
        "\n",
        "A **continous probability distribution** is an equation that connects each possible value of a continous random variable with its probability of occurrence.\n",
        "\n",
        "Again, we have some **sub-types** of continous random distributions.\n",
        "\n",
        "##Sub-types\n",
        "Every sub-type of a random variable is the number of sucesses that result from a particular type of experiment. \n",
        "\n",
        "\n",
        "Today, we will first work with **two types of experiments** in order to better understand what makes a random variable **(1)uniformly or (2) exponentially distributed.** This will cover chapter 5 in your book.\n"
      ],
      "metadata": {
        "id": "JL5gCihEHdpp"
      }
    },
    {
      "cell_type": "markdown",
      "source": [
        "#1. Tending the Guf og Kugler store\n",
        "\n",
        "###Experiment 1 - Time to Wee\n",
        "\n",
        "Every three minute (180 sec) on average, a customer enters **Guf & Kugler**. \n",
        "\n",
        "Lone is tending the store alone. From time to time, she needs to go to the bathroom. What is the probability that a customer will show up in the next 20 seconds or less that it takes Lone to wee?"
      ],
      "metadata": {
        "id": "anBPvoilmGy-"
      }
    },
    {
      "cell_type": "markdown",
      "source": [
        "![Lone_is.jpeg](data:image/jpeg;base64,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)"
      ],
      "metadata": {
        "id": "VWjVvGC2Hy9Z"
      }
    },
    {
      "cell_type": "markdown",
      "source": [
        "##Theoretical conditions\n",
        "\n",
        "1.   Uniform distributions are probability distributions with equally likely outcomes.\n",
        "2.   The uniform distribution can be visualized as a straight horizontal line.\n",
        "\n"
      ],
      "metadata": {
        "id": "TbPZqd2eT7Pb"
      }
    },
    {
      "cell_type": "markdown",
      "source": [
        "##Probability?"
      ],
      "metadata": {
        "id": "qx6wsG2MUFPB"
      }
    },
    {
      "cell_type": "markdown",
      "source": [
        "###Uniform distribution \n",
        "A probability distribution where every continuous value between an interval from a to b is equally likely to be chosen:\n",
        "\n",
        "$$f(x) = \\frac{1}{b-a}$$\n",
        "\n",
        "for $$a < x < b$$\n",
        "\n",
        "or  $$a ≤ x ≤ b$$\n",
        "\n",
        "Let's plug in the numbers:\n",
        "\n",
        "$x=20$\n",
        "\n",
        "$a = 0$\n",
        "\n",
        "$b =180$\n",
        "\n",
        "$$P(0 ≤ x ≤ 20) = (base)(height)  = (20-0)\\frac{1}{180} =0.111$$\n"
      ],
      "metadata": {
        "id": "bMIiO2XxhRoU"
      }
    },
    {
      "cell_type": "code",
      "source": [
        "#let's check our math using python\n",
        "\n",
        "from scipy.stats import uniform\n",
        "\n",
        "#where:\n",
        "\n",
        "#x: The random value \n",
        "#loc: The minimum possible value\n",
        "#loc + scale: The maximum possible value\n",
        "\n",
        "#calculate uniform probability\n",
        "uniform.cdf(x=20, loc=0, scale=180) - uniform.cdf(x=0, loc=0, scale=180)\n",
        "\n"
      ],
      "metadata": {
        "colab": {
          "base_uri": "https://localhost:8080/"
        },
        "id": "2z0ZgjAymY8c",
        "outputId": "865c629d-b0b2-428e-e8d0-750284e1cecc"
      },
      "execution_count": null,
      "outputs": [
        {
          "output_type": "execute_result",
          "data": {
            "text/plain": [
              "0.1111111111111111"
            ]
          },
          "metadata": {},
          "execution_count": 10
        }
      ]
    },
    {
      "cell_type": "markdown",
      "source": [
        "###Experiment 1.2 - Windows to wee...\n",
        "\n",
        "Now lets assume that the rate of customers change a bit in **Guf & Kugler** during the day. \n",
        "\n",
        "For example, in the early hours, 10-13:00, a customer only comes in every 5 minutes, as opposed to every 3 minutes from 13 - 15:00, and 1.5 minutes during peak afternoon hours from 15 - 17:00.\n",
        "\n",
        "\n",
        "\n"
      ],
      "metadata": {
        "id": "Pb8Clo5YJbgF"
      }
    },
    {
      "cell_type": "code",
      "source": [
        "\n",
        "# Creating different probability distributions for different time intervals between customers.\n",
        "\n",
        "import numpy as np\n",
        "import matplotlib.pyplot as plt\n",
        "import seaborn as sns\n",
        "\n",
        "\n",
        "size = 10000\n",
        "#plotting 10000 sample from \n",
        "#different uniform distribution\n",
        "sns.kdeplot(np.random.uniform(0, 90, size))\n",
        "sns.kdeplot(np.random.uniform(0, 180, size))\n",
        "sns.kdeplot(np.random.uniform(0, 300, size))\n",
        "\n",
        "plt.legend([\"a = 0, b = 90\", \n",
        "            \"a = 0, b = 180\", \n",
        "            \"a = 0, b = 300\"])\n",
        "plt.show()\n",
        "\n",
        "\n",
        "\n",
        " "
      ],
      "metadata": {
        "colab": {
          "base_uri": "https://localhost:8080/",
          "height": 265
        },
        "id": "oXA3awQeLOW1",
        "outputId": "6e713a16-8562-4afe-c3d9-5e61b009defd"
      },
      "execution_count": null,
      "outputs": [
        {
          "output_type": "display_data",
          "data": {
            "text/plain": [
              "<Figure size 432x288 with 1 Axes>"
            ],
            "image/png": "[encoded data removed]"
          },
          "metadata": {
            "needs_background": "light"
          }
        }
      ]
    },
    {
      "cell_type": "markdown",
      "source": [
        "###Your turn...\n",
        "\n",
        "While most customers will wait for Lone's return, and as such, profits will not be lost, there may be other business scenarios where the different probabilities associated with small absenties can have consequences. Can you think of a business scenario, where this would be the case, and calculate associated probabilities? "
      ],
      "metadata": {
        "id": "2NWAxaGdefy3"
      }
    },
    {
      "cell_type": "markdown",
      "source": [
        "###Experiment 2 - Time with customers\n",
        "\n",
        "Back to **Guf & Kugler**, here Lone must spend different amounts of time with each customer.  \n",
        "\n",
        "Lets assume that Lone spends an average of 5 minutes per customer. But she spends less time with more customers and more time with less customers.\n",
        "\n",
        " ***Here, we lean on exercises 44 - 53 in chapter 5 of your book*.**\n"
      ],
      "metadata": {
        "id": "KNdoce4jteVA"
      }
    },
    {
      "cell_type": "markdown",
      "source": [
        "![Ice cream.jpeg](data:image/jpeg;base64,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)"
      ],
      "metadata": {
        "id": "hfkehP5VasH9"
      }
    },
    {
      "cell_type": "markdown",
      "source": [
        "###Theoretical conditions\n",
        "\n",
        "From the point of view of taking-order time with each customer, it does not matter how long Lone have spent so far on customers. \n",
        "\n",
        "If Lone has not chatted with a customer, the distribution of interaction time until the next customer's order is the same as when she started her day. \n",
        "\n",
        "We assume that amount spent with each customer can be modelled using the exponential function: $X\\sim Exp(0.2)$\n",
        "\n"
      ],
      "metadata": {
        "id": "n494DiT4XG6Z"
      }
    },
    {
      "cell_type": "markdown",
      "source": [
        "###Probability?\n",
        "\n",
        "What is $m$ in an exponential function? \n",
        "\n",
        "What does it represent?"
      ],
      "metadata": {
        "id": "-27QgZU4Zy8C"
      }
    },
    {
      "cell_type": "markdown",
      "source": [
        "Can we calculate the mean time, Lone spends with customers given this distribution?\n",
        "\n",
        "$$m = \\frac{1}{\\mu}$$\n",
        "\n",
        "\n",
        "$$\\mu = \\frac{1}{0.2} = 5$$\n"
      ],
      "metadata": {
        "id": "QEKpjvp5TjqU"
      }
    },
    {
      "cell_type": "markdown",
      "source": [
        "Can we calculate the standard deviation?\n",
        "\n",
        "$$\\rho = \\frac{1}{0.2} = 5$$ "
      ],
      "metadata": {
        "id": "3i9E0evMtOVC"
      }
    },
    {
      "cell_type": "markdown",
      "source": [
        "###Exponential distribution:\n",
        "\n",
        "μ = historical average (mean)\n",
        "\n",
        "$\\rho = \\frac{1}{m}$ (standard deviation)\n",
        "\n",
        "$e$ = 2.71828 (a numerical constant) \n",
        "\n",
        "$$P(x) = me^{-mx}$$\n",
        "\n",
        "Where \n",
        "\n",
        "$$m = \\frac{1}{\\mu}$$\n",
        "\n",
        "Therefore, m can be substituted in the original formula:\n",
        "\n",
        "$$\\frac{1}{\\mu}e^{-\\frac{1}{\\mu}x}$$"
      ],
      "metadata": {
        "id": "Fnvu_n8MRgm9"
      }
    },
    {
      "cell_type": "markdown",
      "source": [
        "Now to do any probability calculations we must state the probability density function.\n",
        "\n",
        "In our case, Lone spends an average of 5 min per customer:\n",
        "\n",
        "$$p(x) =\\frac{1}{5}e^{-\\frac{1}{5}x} = 0.2e^{-0.2x}$$ \n",
        "\n",
        "\n",
        "\n"
      ],
      "metadata": {
        "id": "D0q-aTdq0UMr"
      }
    },
    {
      "cell_type": "markdown",
      "source": [
        "\n",
        "\n",
        "\n",
        "\n",
        "Let's graph the distribution."
      ],
      "metadata": {
        "id": "QKd39mzIwNU8"
      }
    },
    {
      "cell_type": "code",
      "source": [
        "import numpy as np\n",
        "import matplotlib.pyplot as plt\n",
        "\n",
        "#Here I define P(x) = Ae ^-Bx)\n",
        "\n",
        "a = 0.2\n",
        "b = 0.2\n",
        "x = np.linspace(0, 20, 200, endpoint = True)\n",
        "y = (a * np.exp(-b*x))\n",
        "\n",
        "plt.plot(x, y, '-r', label=r'$y = 0.2e^{-0.2x}$')\n",
        "\n",
        "axes = plt.gca()\n",
        "axes.set_xlim([x.min(), x.max()])\n",
        "axes.set_ylim([y.min(), y.max()])\n",
        "\n",
        "plt.xlabel('x')\n",
        "plt.ylabel('y')\n",
        "plt.title('Exponential Curve')\n",
        "plt.legend(loc='upper right')\n",
        "\n",
        "plt.show()\n"
      ],
      "metadata": {
        "colab": {
          "base_uri": "https://localhost:8080/",
          "height": 295
        },
        "id": "0rklUaD7kRzv",
        "outputId": "422976e1-acd0-4faa-e18e-1464b4b2f061"
      },
      "execution_count": null,
      "outputs": [
        {
          "output_type": "display_data",
          "data": {
            "text/plain": [
              "<Figure size 432x288 with 1 Axes>"
            ],
            "image/png": "[encoded data removed]"
          },
          "metadata": {
            "needs_background": "light"
          }
        }
      ]
    },
    {
      "cell_type": "markdown",
      "source": [
        "Can we find $P (2 < x < 10)$\n",
        "\n",
        "Yes. To do so, we will use the cumulative distribution function:\n",
        "\n",
        "$$P(x) = 1 - e^{-\\frac{1}{\\mu}x}$$\n",
        "\n",
        "Both to calculate the area less than $10$ and then subtract the area less than $2$.\n",
        "\n",
        "$$P (2 < x < 10) = $$\n",
        "\n",
        "$$P(x<10) - P(x<2) =$$ \n",
        "\n",
        "$$1 - e^{-0.2(10)} - 1 - e^{-0.2(2)} =$$\n",
        "\n",
        "$$(1 - 2.71828^{-2}) - (1 - 2.71828^{-0.4}) = 0.5350$$\n",
        "\n",
        "\n"
      ],
      "metadata": {
        "id": "CcHfxVSj06Bm"
      }
    },
    {
      "cell_type": "markdown",
      "source": [
        "Now can we find $P ( x > 6)$\n",
        "\n",
        "Yes. Again we will use the cumulative exponential distribution function, however, we have to be aware that the function gives the area to the left, not the right of x. \n",
        "\n",
        "So, therefore to find the area, where $x>6$, we will first find the area under the entire curve $(=1)$, and then subtract the area to the left of $6$, which gives us the desired area where $x>6$. \n",
        "\n",
        "Specifically, \n",
        "\n",
        "$$ 1 - (1- e^{-0.2(6)}) = $$\n",
        "$$1 - (1 - 2.71828^{-1.2}) = 0.3012$$"
      ],
      "metadata": {
        "id": "thnGBujLvIwr"
      }
    },
    {
      "cell_type": "code",
      "source": [],
      "metadata": {
        "id": "wUBRC3SDBuVp"
      },
      "execution_count": null,
      "outputs": []
    },
    {
      "cell_type": "markdown",
      "source": [
        "Now can we find the 70th percentile:\n",
        "\n",
        "Yes. $P( x > k) = 0.70 $ \n",
        "\n",
        "Where k is the 70th percentile.\n",
        "\n",
        "To calculate $k$ we can use this formula:\n",
        "\n",
        "$$k =\\frac{\\ln(1- 0.7)}{-m} =$$ \n",
        "\n",
        "$$ k = \\frac{-1.2040}{-0.2} =$$\n",
        "\n",
        "$$ k = 6.02$$\n",
        "\n"
      ],
      "metadata": {
        "id": "unkHrIDYIZTp"
      }
    },
    {
      "cell_type": "markdown",
      "source": [
        "#Your turn...\n",
        "\n",
        "On your own, try to go through ***exercises 54 - 59 in chapter 5 of your book.***"
      ],
      "metadata": {
        "id": "jSvjF0U8Itki"
      }
    }
  ]
}