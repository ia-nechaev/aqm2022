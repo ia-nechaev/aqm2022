{
  "nbformat": 4,
  "nbformat_minor": 0,
  "metadata": {
    "colab": {
      "provenance": [],
      "collapsed_sections": [],
      "authorship_tag": "ABX9TyMZpGk6ouYS2jIpE5Z9UHok"
    },
    "kernelspec": {
      "name": "python3",
      "display_name": "Python 3"
    },
    "language_info": {
      "name": "python"
    }
  },
  "cells": [
    {
      "cell_type": "markdown",
      "source": [
        "#Hypothesis Test for Continuous Response Data"
      ],
      "metadata": {
        "id": "cfiyD5cLP67G"
      }
    },
    {
      "cell_type": "markdown",
      "source": [
        "#1. One-sample *t*-test \n",
        "\n",
        "\n",
        "\n"
      ],
      "metadata": {
        "id": "ESCjsUmTlXGi"
      }
    },
    {
      "cell_type": "markdown",
      "source": [
        "**Hypothesis Test for a Mean**\n",
        "\n",
        "A t-test is a statistical hypothesis that can test whether an unknown population parameter is different than a specific \"hypothesized\" value."
      ],
      "metadata": {
        "id": "2xtSXDp1mYcJ"
      }
    },
    {
      "cell_type": "markdown",
      "source": [
        "**1. Stating the Hypotheses:**\n",
        "\n",
        "$H_0:$\n",
        "\n",
        "$H_a:$"
      ],
      "metadata": {
        "id": "bzVS75b9bJeX"
      }
    },
    {
      "cell_type": "markdown",
      "source": [
        "**Example:**\n",
        "\n",
        "We have an idea, a norm, or hypothesized mean. \n",
        "\n",
        "\"People eat on average 100 grams of Fredagsslik\"\n",
        "\n",
        "$$H_0: \\mu = 100$$\n",
        "\n",
        "Then, we sample to see if the actual mean is different from the hypothesized mean.\n",
        "\n",
        "$$Ha: \\mu \\neq 100$$"
      ],
      "metadata": {
        "id": "5SefeJSVHEOR"
      }
    },
    {
      "cell_type": "markdown",
      "source": [
        "**2. Determine the type of test**\n",
        "\n",
        "Listen to the phrasing of the alternative hypothesis to determine which type to use.\n",
        "\n",
        "\n",
        "1.    If we are checking for **a difference** compared to a hypothesized value, we look for extreme values in either tail and perform a two-tailed test.\n",
        "2.   If the alternative hypothesis uses language like **\"less or fewer\"**, we perform a left-tailed test.\n",
        "3.    Words like **\"greater or exceeds\"** correspond to a right-tailed test.\n",
        "\n",
        "\n",
        "\n",
        "1. $H_a \\neq H_0$  (two-tailed test)\n",
        "2. $H_a < H_0$ (left-tailed test) \n",
        "3. $H_a > H_0$ (right-tailed test)\n",
        "\n",
        "\n",
        "\n",
        "\n"
      ],
      "metadata": {
        "id": "cNa6jVAnBxwz"
      }
    },
    {
      "cell_type": "markdown",
      "source": [
        "**3. Checking conditions for inference**\n",
        "\n",
        "*We can use this test when the following assumptions are met about the data*:\n",
        "\n",
        "*   Random sampling\n",
        "*   Independent observations\n",
        "*   Normally distributed\n",
        "*   Constant variance\n"
      ],
      "metadata": {
        "id": "JpJDAEO4tg9d"
      }
    },
    {
      "cell_type": "markdown",
      "source": [
        "**4. Setting the significance level**\n",
        "\n",
        "Setting the alpha-level.\n",
        "\n",
        "P-values are used to determine strength of support for the null hypothesis. The probability of obtaining a result assuming the null hypothesis is true.\n",
        "\n",
        "Large p-values (close to 1) -> large support for $H_0$, not likely to be in the tail of the null hypothesis.\n",
        "\n",
        "Small p-values (close to 0) -> strong evidence against the $h_0$, likely in the tail of the null distribution.\n",
        "\n",
        "\n",
        "\n",
        "\n"
      ],
      "metadata": {
        "id": "HPDPd8XlDgbM"
      }
    },
    {
      "cell_type": "markdown",
      "source": [
        " **5. Checking the data**\n",
        "\n",
        "Has a random sample been collected of (for example, fredagsslik) that allows you to establish a point estimate (i.g., mean sample statistic of the population mean)? \n",
        "\n",
        "\n"
      ],
      "metadata": {
        "id": "v4SNYcY6oSN4"
      }
    },
    {
      "cell_type": "code",
      "source": [
        "#check your dataset\n",
        "\n",
        "import pandas as pd\n",
        "\n",
        "from google.colab import files\n",
        "uploaded = files.upload()\n",
        "\n"
      ],
      "metadata": {
        "id": "4QQ9YObmbWio",
        "colab": {
          "base_uri": "https://localhost:8080/",
          "height": 73
        },
        "outputId": "92ba7743-5d00-4db2-f479-b36d900162a7"
      },
      "execution_count": null,
      "outputs": [
        {
          "output_type": "display_data",
          "data": {
            "text/plain": [
              "<IPython.core.display.HTML object>"
            ],
            "text/html": [
              "\n",
              "     <input type=\"file\" id=\"files-812f1e6a-f327-4ff5-bd51-0346bb96f76d\" name=\"files[]\" multiple disabled\n",
              "        style=\"border:none\" />\n",
              "     <output id=\"result-812f1e6a-f327-4ff5-bd51-0346bb96f76d\">\n",
              "      Upload widget is only available when the cell has been executed in the\n",
              "      current browser session. Please rerun this cell to enable.\n",
              "      </output>\n",
              "      <script>// Copyright 2017 Google LLC\n",
              "//\n",
              "// Licensed under the Apache License, Version 2.0 (the \"License\");\n",
              "// you may not use this file except in compliance with the License.\n",
              "// You may obtain a copy of the License at\n",
              "//\n",
              "//      http://www.apache.org/licenses/LICENSE-2.0\n",
              "//\n",
              "// Unless required by applicable law or agreed to in writing, software\n",
              "// distributed under the License is distributed on an \"AS IS\" BASIS,\n",
              "// WITHOUT WARRANTIES OR CONDITIONS OF ANY KIND, either express or implied.\n",
              "// See the License for the specific language governing permissions and\n",
              "// limitations under the License.\n",
              "\n",
              "/**\n",
              " * @fileoverview Helpers for google.colab Python module.\n",
              " */\n",
              "(function(scope) {\n",
              "function span(text, styleAttributes = {}) {\n",
              "  const element = document.createElement('span');\n",
              "  element.textContent = text;\n",
              "  for (const key of Object.keys(styleAttributes)) {\n",
              "    element.style[key] = styleAttributes[key];\n",
              "  }\n",
              "  return element;\n",
              "}\n",
              "\n",
              "// Max number of bytes which will be uploaded at a time.\n",
              "const MAX_PAYLOAD_SIZE = 100 * 1024;\n",
              "\n",
              "function _uploadFiles(inputId, outputId) {\n",
              "  const steps = uploadFilesStep(inputId, outputId);\n",
              "  const outputElement = document.getElementById(outputId);\n",
              "  // Cache steps on the outputElement to make it available for the next call\n",
              "  // to uploadFilesContinue from Python.\n",
              "  outputElement.steps = steps;\n",
              "\n",
              "  return _uploadFilesContinue(outputId);\n",
              "}\n",
              "\n",
              "// This is roughly an async generator (not supported in the browser yet),\n",
              "// where there are multiple asynchronous steps and the Python side is going\n",
              "// to poll for completion of each step.\n",
              "// This uses a Promise to block the python side on completion of each step,\n",
              "// then passes the result of the previous step as the input to the next step.\n",
              "function _uploadFilesContinue(outputId) {\n",
              "  const outputElement = document.getElementById(outputId);\n",
              "  const steps = outputElement.steps;\n",
              "\n",
              "  const next = steps.next(outputElement.lastPromiseValue);\n",
              "  return Promise.resolve(next.value.promise).then((value) => {\n",
              "    // Cache the last promise value to make it available to the next\n",
              "    // step of the generator.\n",
              "    outputElement.lastPromiseValue = value;\n",
              "    return next.value.response;\n",
              "  });\n",
              "}\n",
              "\n",
              "/**\n",
              " * Generator function which is called between each async step of the upload\n",
              " * process.\n",
              " * @param {string} inputId Element ID of the input file picker element.\n",
              " * @param {string} outputId Element ID of the output display.\n",
              " * @return {!Iterable<!Object>} Iterable of next steps.\n",
              " */\n",
              "function* uploadFilesStep(inputId, outputId) {\n",
              "  const inputElement = document.getElementById(inputId);\n",
              "  inputElement.disabled = false;\n",
              "\n",
              "  const outputElement = document.getElementById(outputId);\n",
              "  outputElement.innerHTML = '';\n",
              "\n",
              "  const pickedPromise = new Promise((resolve) => {\n",
              "    inputElement.addEventListener('change', (e) => {\n",
              "      resolve(e.target.files);\n",
              "    });\n",
              "  });\n",
              "\n",
              "  const cancel = document.createElement('button');\n",
              "  inputElement.parentElement.appendChild(cancel);\n",
              "  cancel.textContent = 'Cancel upload';\n",
              "  const cancelPromise = new Promise((resolve) => {\n",
              "    cancel.onclick = () => {\n",
              "      resolve(null);\n",
              "    };\n",
              "  });\n",
              "\n",
              "  // Wait for the user to pick the files.\n",
              "  const files = yield {\n",
              "    promise: Promise.race([pickedPromise, cancelPromise]),\n",
              "    response: {\n",
              "      action: 'starting',\n",
              "    }\n",
              "  };\n",
              "\n",
              "  cancel.remove();\n",
              "\n",
              "  // Disable the input element since further picks are not allowed.\n",
              "  inputElement.disabled = true;\n",
              "\n",
              "  if (!files) {\n",
              "    return {\n",
              "      response: {\n",
              "        action: 'complete',\n",
              "      }\n",
              "    };\n",
              "  }\n",
              "\n",
              "  for (const file of files) {\n",
              "    const li = document.createElement('li');\n",
              "    li.append(span(file.name, {fontWeight: 'bold'}));\n",
              "    li.append(span(\n",
              "        `(${file.type || 'n/a'}) - ${file.size} bytes, ` +\n",
              "        `last modified: ${\n",
              "            file.lastModifiedDate ? file.lastModifiedDate.toLocaleDateString() :\n",
              "                                    'n/a'} - `));\n",
              "    const percent = span('0% done');\n",
              "    li.appendChild(percent);\n",
              "\n",
              "    outputElement.appendChild(li);\n",
              "\n",
              "    const fileDataPromise = new Promise((resolve) => {\n",
              "      const reader = new FileReader();\n",
              "      reader.onload = (e) => {\n",
              "        resolve(e.target.result);\n",
              "      };\n",
              "      reader.readAsArrayBuffer(file);\n",
              "    });\n",
              "    // Wait for the data to be ready.\n",
              "    let fileData = yield {\n",
              "      promise: fileDataPromise,\n",
              "      response: {\n",
              "        action: 'continue',\n",
              "      }\n",
              "    };\n",
              "\n",
              "    // Use a chunked sending to avoid message size limits. See b/62115660.\n",
              "    let position = 0;\n",
              "    do {\n",
              "      const length = Math.min(fileData.byteLength - position, MAX_PAYLOAD_SIZE);\n",
              "      const chunk = new Uint8Array(fileData, position, length);\n",
              "      position += length;\n",
              "\n",
              "      const base64 = btoa(String.fromCharCode.apply(null, chunk));\n",
              "      yield {\n",
              "        response: {\n",
              "          action: 'append',\n",
              "          file: file.name,\n",
              "          data: base64,\n",
              "        },\n",
              "      };\n",
              "\n",
              "      let percentDone = fileData.byteLength === 0 ?\n",
              "          100 :\n",
              "          Math.round((position / fileData.byteLength) * 100);\n",
              "      percent.textContent = `${percentDone}% done`;\n",
              "\n",
              "    } while (position < fileData.byteLength);\n",
              "  }\n",
              "\n",
              "  // All done.\n",
              "  yield {\n",
              "    response: {\n",
              "      action: 'complete',\n",
              "    }\n",
              "  };\n",
              "}\n",
              "\n",
              "scope.google = scope.google || {};\n",
              "scope.google.colab = scope.google.colab || {};\n",
              "scope.google.colab._files = {\n",
              "  _uploadFiles,\n",
              "  _uploadFilesContinue,\n",
              "};\n",
              "})(self);\n",
              "</script> "
            ]
          },
          "metadata": {}
        },
        {
          "output_type": "stream",
          "name": "stdout",
          "text": [
            "Saving mean_annual_coffee.csv to mean_annual_coffee.csv\n"
          ]
        }
      ]
    },
    {
      "cell_type": "code",
      "source": [
        "\n",
        "# Importing Pandas to create DataFrame\n",
        "import pandas as pd\n",
        "  \n",
        "# Creating Empty DataFrame and storing it in variable df\n",
        "df = pd.read_csv(\"coffee.csv\") \n",
        "\n",
        "# Identify the response variable and calculate the mean\n",
        "mean_coffee_sample = df['cups'].mean()\n",
        "std_coffee_sample = df['cups'].std()\n",
        "\n",
        "print(mean_coffee_sample)"
      ],
      "metadata": {
        "colab": {
          "base_uri": "https://localhost:8080/"
        },
        "id": "svJRlWPhKDkm",
        "outputId": "6d557f35-6393-42c7-da42-46ccbb35cd8c"
      },
      "execution_count": null,
      "outputs": [
        {
          "output_type": "stream",
          "name": "stdout",
          "text": [
            "1033.2\n"
          ]
        }
      ]
    },
    {
      "cell_type": "markdown",
      "source": [
        "**6. Calculating a t-test statistic**\n",
        "\n",
        "Finding the difference between the sample average and the hypothesized value using a t-statistic.\n",
        "\n",
        "$$t =  \\frac {\\bar{x} - \\mu} {\\frac {s_x}{\\sqrt{n}}}$$\n",
        "\n",
        "**Example:**\n",
        "\n",
        "\"People eat on average 100 grams of fredagsslik\"\n",
        "\n",
        "$$H_0: \\mu = 100$$\n",
        "$$Ha: \\mu \\neq 100$$\n",
        "\n",
        "We sample 25 people, $n =25$ and find they eat $\\bar{x}$ = 125 grams of fredagsslik, with a standard deviation $s_x$ of 20 grams.\n",
        "\n",
        "$$t =  \\frac {125 - 100} {\\frac {20}{\\sqrt{25}}}$$\n",
        "\n",
        "$$t =  \\frac {25} {\\frac {20}{5}}$$\n",
        "\n",
        "$$t =  25* {\\frac {5}{20}} = 6.25$$"
      ],
      "metadata": {
        "id": "-PsJ3uQfZq7j"
      }
    },
    {
      "cell_type": "markdown",
      "source": [
        "![Screenshot 2022-10-27 at 11.35.12.png](data:image/png;base64,iVBORw0KGgoAAAANSUhEUgAAAb0AAABgCAYAAACJ+awBAAAAAXNSR0IArs4c6QAAAGJlWElmTU0AKgAAAAgAAYdpAAQAAAABAAAAGgAAAAAABJKGAAcAAAASAAAAUKABAAMAAAABAAEAAKACAAQAAAABAAABvaADAAQAAAABAAAAYAAAAABBU0NJSQAAAFNjcmVlbnNob3TI56GNAAAB1WlUWHRYTUw6Y29tLmFkb2JlLnhtcAAAAAAAPHg6eG1wbWV0YSB4bWxuczp4PSJhZG9iZTpuczptZXRhLyIgeDp4bXB0az0iWE1QIENvcmUgNi4wLjAiPgogICA8cmRmOlJERiB4bWxuczpyZGY9Imh0dHA6Ly93d3cudzMub3JnLzE5OTkvMDIvMjItcmRmLXN5bnRheC1ucyMiPgogICAgICA8cmRmOkRlc2NyaXB0aW9uIHJkZjphYm91dD0iIgogICAgICAgICAgICB4bWxuczpleGlmPSJodHRwOi8vbnMuYWRvYmUuY29tL2V4aWYvMS4wLyI+CiAgICAgICAgIDxleGlmOlBpeGVsWURpbWVuc2lvbj45NjwvZXhpZjpQaXhlbFlEaW1lbnNpb24+CiAgICAgICAgIDxleGlmOlBpeGVsWERpbWVuc2lvbj40NDU8L2V4aWY6UGl4ZWxYRGltZW5zaW9uPgogICAgICAgICA8ZXhpZjpVc2VyQ29tbWVudD5TY3JlZW5zaG90PC9leGlmOlVzZXJDb21tZW50PgogICAgICA8L3JkZjpEZXNjcmlwdGlvbj4KICAgPC9yZGY6UkRGPgo8L3g6eG1wbWV0YT4KmNu4IgAAKpNJREFUeAHtnQecFdX1x69iL9EYJTYCImqUYMGGMZYgCmhQUbFXrKgowkdUiiAWLLEXEMVYUFEUEYyKJGhAJZAolgRUrBCDiSVoRNCU+Z/vCWf+82bnzduFLW/fnvP57M7MnTu3/Oa+e+4pc89KS7/9LgpOjkADIvD7GS+HH2/XrgFb4FVXMgJvzXkzdNjjp5XcRe9bDgLML8n3v9ILL7zgTC8HML/lCDgCjoAjUDkIrCRdcaZXOe/Te+IIOAKOgCOQgUAU/Y/VrcI9u8jI50mOQJ0jsOAvfwktNt+8zuvxCpomAj6+muZ7p9crrYRcV0grF176lSPgCDgCjoAjULkIONOr3HfrPXMEHAFHwBFIIeBMLwWIXzoCjoAj4AhULgLO9Cr33Tbani1atCgceeSR4bjjjivog3gaa/pNN91UkF6XF2+++Wb47LPPtIqXX35Z6x89enStV/nSSy9p2XfffXetlv2Pf/xDyz3vvPNqtdzGXtjSpUvDVVddFQ4++ODQtm3bAD7Tpk0L//3vfxuka9TPmOd9OdU9AuLH4uQINBwC8xcsKKj8b3/7G25W+pe8cf/992vasccem0yus/Nhw4Zpfa+//rrW8fDDD+t17969a73ORx99VMs+99xza7Xsv/71r1pu69ata7XcxlRYenzR9o4dOyouNs7seOWVVzZI13g/tIH35VR7CNh75Wjkkp6g4dT4EPj3v/8dvvzyy/DPf/6zoPGW9p///Efvf/PNN+qd/O6774YvvviiIK9dLF68OMyZMycsWbLEkvT86aef1mvq+Ne//hXf44T633rrLa2j4IZcUA7lIbFmEW15++23C6SKTp06hVdffTVcdNFF2l76kf6jnUZ5dciPO3zwwQdBJlDLXvRIHWAEffjhh0EWHHHev4hXbVYZYDtv3rzMezxMeW+88UZYsGBBXBYSVLKujz76KHz88cfx/fo8ee+998LUqVND8+bNtQ282xtuuEGbcPXVVxc0hfc8d+5c7S/nRsm+VAc3xtBXX32ljy9cuDDMnz/fiip6zHvH9pD9Dr777jsdk4wrGydgzrXVa89wLFX2559/ru+QoxE40e9vv/02Hv+NVTI1BuhHR6BBEEivxKsj6f3973+PV+rCzLTdr732WizVCEPS81133TXabrvt4rwXX3xx3EeZiKJDDjkkvic/7uiyyy6LZCKJzjrrrIL022+/PTJJr0OHDpFMmPH9UaNGxWX+6le/itMp79RTT41kgtH7119/fcFzm2++eSQTpt4zSQ8p8pNPPikog3L4QzqB8urgWdqXfIbzLElPJkXNR1/23Xff+JkLLrgg6t69e3x9/PHHR8LotO6ZM2dGtNvKpy5hbnpPJt7ooIMOiu+Rh2thgpEwOU3nfSTb16NHj4h21CWlxxeYW/t538KgI1F3RqJijhhD1tehQ4dG6667bpwXDIVhant5via4WTmiwozL69y5cyQLI+16WtLLe8dJrGgzbdlrr70KxtZtt90Wbb311nFdI0aMiB/LK1sWSwW/F8oGI+ihhx7S8nhnyfFPXeVK9p45Gsn5/19Yoh8dgfpEID0pJZkek4X92QA29SY/PtIeeOABbS6TFNfDhw+PjOlxzYQAs7PnRYLT/DZBb7/99lG/fv3iCQ4GN2HChPiHffrpp0czZsyImR7lDBkyJBo8eLCWSfsgJk/ucX3ttdfGKrRbb701YjLhHgz4qaeeii655BK9hsFAxvRQb8rKPBIbT8S9k08+WfPxLGl5dVAOTJa89Om6665TZsd1HtPjPljQTs7t+RtvvDHGRGybkUgQMcMTiTReGMAgISY/nuVa7J5x3UzMxvS4z3uzvFyLhKvP19W/9Piinp49e8Z9pQ3gc+mll0Zff/21NoM2kc77gknAoLhmbNligevq4EaBjAmrByZiTM4WYXaNerPUO9YGLvtnTI+yGcN9+vSJ+wXONs6qM0Yp8vDDD9fnBwwYUDAeRMqLmR51DRo0KOrfv39cV10vXJJ9rsk5bbU/e06unekZGH5sGATSk1KS6bVv3z6yP5MwjOnBPBi/3bp104bbyhYGk2R6ooLR+8b4kKaSkqLdHzdunJbHRAftueeeep226TEBGtkPCoZwxRVXaP4TTjgh4hljZEg3og7Ue+TneaQ+K5eyLG/SpoeEaBIYUp6olXLroBxbgcOkobFjx2q9pZieqNw0v02+U6ZM0Wub7CdPnhyJo0dcFm03xkCfkJohUVlq+l133RVLDEjISaaHRAh17dpVy3vmmWf0uq7+pccX9TBJP/bYYzp27B1y5J3bBC6qvPg9Msa4jwYgyfSqgxv1GdOzvrLwojzGLGS4w/TyxpFmTvwzpmfliNpUy6VsxiTMinP+YOilykbKff/996NZs2bposnaTbkm6dn4T+LAQq0cyfrO0Uh3ZJEEJ0egLBF45ZVX4naJRBdOPPHE+Fp+fGqXmTRpUsCz85133gnCJEKrVq3UlkFGYZRh/fXX12d22GEHPYoKMGDXgYTBxfd33nlnTcMel0dbbLFFfFuYTBAGGrCpUC5EO/kzwn7Vpk2bIIwuiDQahIHoH/fFWSaIxGhZ46NMKEGkNu2XTGhBJuiw2mqr5daBrY22QNtuu60e8UysDtEPaJ111tEjuEGWTtnWP5kUg2GpmeQf97ATHXrooYH7MlmGNddcU2/LZGPZ9H2suuqqer3hhhvqkbLrk7Cpzp49O7Rs2TJMnDhRbVTYbw877LAgTETHEf3Ge1iYlDZNmJIeeS9JMnzycEvm//GPf6yX7dr9b4N17HtpMpyzxlE6r13bmLR2gP9aa62lt2kj4yL5DouVLYuvcMYZZ6itnOewRULJdwhuELudJMvWxEbwzx1ZGsFL8iZmI7DKKqsEUVPpTZGu9HjSSScVZMYZwxwmmOigFi1aKLPjHAZnnyT8/ve/JymIZKnHlVf+388jPSnbpK2ZEv923313vRJpQF3PmfyfeOIJnUgx+O+0004BBv38888HkTo1r6jUAu7zaYIRyspaJxWY5Pe//33NkldHs2bNlKmQ8c9//rPmxzmmOmR9tbxZfdxll130NkyY/uAYJNJxYGHCpDtw4EBleKK61HtHHHGEFRcfv/e978Xn6TrjG3V8wnvh84BjjjlGHZRWX331sP/++yujpmom+nvvvVcZHuMKR5C0g4s1Md2HLNwsL0exieqlSMp6NGalF8v+5b3jZL7kOQuiJNmCI5nGeV7ZOKqACf3nt4BTkzH7ZDnGTJNpjencJb3G9La8rVUQYFJiQoK5QWJPqpJHVINB7HrBvq8jD5OvOLGEJ598UpnRAQccEO655x59tm/fvnq0VbPYcUKamVapRBL2228/TR45cmT44Q9/GERFpBMnHpmikg20gxU47V1vvfU0L5LpGmusUVAcUivfkEFMZkh80Nprrx3uvPNOPc+qg3KRTq655prQpUuXIA4oYcyYMZq/Nv4xQcPwkKjFnqOS3C233BLEMSVMnz5d20c9LC7EcSLccccdWq1JC7XRhtooAwbHwoYFARKtqDTDb37zm1i6YXFiiwUYJFK2qAW16ixPyJq0SezDgfc7fvx4feyoo46q8njeOCrGfKsUUiQhr+zLL788ltz4JlVU47qIoShRjRYpsXEmm6rTj45AgyCQtrkk7W3JBolKRm0TZtOze9jM5KcX4WVoZDY97IA4snCfP2xpRngVJh1FsF/gxGJk3wXyHE4y5r2Js4CRqHe0XOw/EHYiyrH6sO9hi4MoDwcTu4fTAHYxKGnTowzLkz6SN68ObCvmjMCzOJxwxGaUpqRNxu5Z+/BShITZ6/Pm/INDCzZPa5cwbbUBkZe+2PNgYNhyNJue2UuzyiatLig9vqjjj3/8o9qKrR8c6Yv1m/dpNkfu9erVS/vM+xbJP+6/tdf6bc+ncbMxwdi1OhkbjEEImxzp2PSgvHesGZb9M5seXsgQnsyUQzuNajJG+Y1ZftpkGODMY+PfnK8o3/KaF6rVWS5Hw5qjkYYWkgtJc3IEGgaBFdkFHykCuxySHvYXJByI75OwnwhDVIkLVQ22PVRZaeJbJ2wem2yySZVd2VnZo/b5wQ9+kH4s9xq7DM9kqbv49gkpMqstuYWmbubVgfoRKRHpsC6IbxBRp8pkXqV42rXRRhvp/So3GyAhb3wxfngfSHyoy9MEjkjixdSF6fzFrtEsUBfjyeyCJu0Xe4b0vHec91x17hUrm/bxe9h4442rU0xZ50lGWTA+V/Utl3UXvHGOwP8jcNppp8UqS9RuqK2KEerGYsRkt+mmm2beTtqgMjMUScybMGrKQItUkTspmQ2w2LMrmm7OQVnl5PU9K39DpsG0sxi3takucKwOs7P66xLLYmVjpyx2z9rVmI/O9Brz22vibcdDEVvdlltuGeS7oQLJgokFh5IsR4EmDpt3vwEQYCwi6a2odN8ATa+4Kl29WXGvtPF1KE/91Ph64y0uNwR8fJXbG6m/9mSpN/2ThfrD32tyBBwBR8ARaGAEnOk18Avw6h0BR8ARcATqDwG16SVFwPqr2mtyBBwBR8ARcATqFwF3ZKlfvL02R8ARcAQcgQZAANsupI4sDVC/V+kIOAKOgCPgCNQbAgXf6fEBppMj0FAIfCzBTjcr8p1cQ7XJ660cBHx8Vc67rGlPsr6zdEeWmqLo+R0BR8ARcAQaLQLO9Brtq/OGOwKOgCPgCNQUAWd6NUXM8zsCjoAj4Ag0WgSc6TXaV+cNdwQcAUfAEagpApmfLBA7qXfv3rrjPPGyLK6YFU7cJeJMEWeskjcmtf76seEQIHrChRdeqEE9k/sWSuggDdBKVHJihPXo0SNuJDvEEyePQJhE+CYSdDpmXZzZT5o0AsXGF0F4iaa+YMGCcPDBB4e9995bo1YAFtHF586dW4CbhE/SSOwFiX5RlghkSnrfffddmDBhgk4qBFdMEhPKDTfcoPfZQNXJEagrBBYuXBiOPvro8Oyzz8bhWKhLYo6FPfbYIxDokvA5MLVbb71Vm0GYIKI/E8CUcDFDhgwJBJp1cgTSCBQbXyyWfvazn2mwXMJNnX322cr4JI6eFsH8N2XKlPDuu+/Gf8yZTo0DgUxJz5qOhMeK+dBDD7UkXf3EF4kTXvqHH36oMcSyQqcQz+zTTz8Nm222WTA3UgbR4sWLNYo192CiLVu2LNgtP1GFnzYhBFhln3nmmZk9Jnr07rvvHiZNmqT3JYBnuOyyywJRqSdOnKhRr5EACQt05JFH6gT22muvhR133DGzPBu7rVq1ipmrS4aZUFVMYt74YgHFnHfXXXdpf4nJiCaBiPFE7SBWI0LBPvvsUy08fHxVC6Z6y5Qp6Vntxx13nL7cZKh4RHuJCmxZ9MgAILwLE1GbNm10slq6dKneQw3AoCGgJ2FgJIJzQGUKMXhgcoTdIB7azjvvHPbcc08NYKgZ/F+TRQD10qWXXhruu+++Khhw7xe/+EWcThw9xigqd8bbAQccoAyPDG3bttVYea+88kqcP3kiEaEDsfYYu4xhiZ4dhg0blszi5xWIQN74kmjzAROOkQV9Jc4ccxbEwn3MmDGqhSDIcDHy8VUMmYZLz2V6nTp1UnueqTg//vjjMGPGDBX1rckffPBBOOWUU3SVjf4bBsgqasSIEZrliiuu0AmIfOjPe/bsqSonG0hkYiU0Z84cLZtB9fjjj1vxfmyiCGDHQ3LLijzOirt58+YxMqZZQFuAhJcOGIvdmXtpeuONN0Lfvn1VSpw/f74yWZvU0nn9urIQyBtfaA5QjUMs3n/5y1+G9u3b64IeZgkddNBBYeTIkapK79KlS1iyZImmJ//5+EqiUT7nuUwPx4HDDz9cbXs0GXUSjDA5qUydOlV706FDh/D6668HolDvtttu4amnntJ09N9jx47VQTFz5sxgevFvv/1W7/OvT58+Ad050iArbuyGTo5AFgJsJYRUhy3PiDEHMaZQkSfvkQ7jTI430qDp06froq5Xr14aPfvUU08NG2200f9u+v8mjwDjDHswZhsYXLNmzZQZMl+xSH/xxRd1gf/qq6+Ge+65pwpePr6qQFIWCbk2PVqIbrt79+46mYwbN66KnQXpDUIVlaQNNthAL998881w/vnnq/MBNhNbQdk+aGSylTrna6+9NgcnRyATASKCwJi+/PLL+P5XX32l59iLkeqS97jx+eefx+MufkhOcIhBpWnSJOqrdu3aJbP4eRNFAM0AdjyOkydPVlseUODFyZ8RDlXbbLNNYJ5Lk4+vNCLlcZ0r6dFEbGw4tIwaNUodBDp37lzQciYa6Ne//rW6iOP5RN6hQ4cGPOlQfeJSjnpz9uzZsSddUr3poY0KIPWLEggwyZiaiax8vgCxoMJGjNOKEZIfXnYtWrSwpPiIjRnthNmsUbOb5iLO5CdNDoFPPvkkHHjggdpvxgPOK0bMbYMGDbLLgD0Ps88uu+wSp9mJjy9DoryOJZkeq2A84LDN8b3KeuutV9AD1J0Q3nO8fCYc9N2/+93vYk+4ddddN6y11lph3rx54brrrtP8WeomveH/HIESCPBNFJ5148ePD3/605907KGNYGwyVmFyeHhi38N2s6lsZo0LeprM+65fv36qqurfv386i183QQQYM4whjsxZqDH5W7RokZpgbr/9dvVdwAzDt8osmoxJJuHy8ZVEo3zOM5meSV52tE8WsO8lCXUQKsuHH35YvZh+8pOfhG7duilzPO+889S2ApNDLYodsGPHjuHYY4/VIpisrHw7Jsv2c0cABBhjUHKMsPhCg4ANjtU0zA4mB/3oRz9S7+BrrrlGP1FgnGFvYdGVpjXXXFM/ccB5hXHLZzWM5+RH8Oln/LqyEEiPL8aA+SMcf/zxOi4YG/zhmIJqc8CAAWHgwIGq1mTxhYcmC6s0+fhKI1Ie1ytJM6LaCi3EgME+Z44F1kVUmayK8LizQWb3/OgILG/ol2+++UZV6HyPlyZU64zrPMcUmB3OBngUMy5Rb+600076MfI555yTLtKvGykCyzu+8rqLTwLzHYv55IIs+YyPryQaDXNu34RTu/mRlHRkqUlTk16dyeeYUHy7siQifl4bCGRJb1YuC688hkc+bICo5ZEG8Th+5plnAk4xqOedHIE8BGB0peY0H195CDbcvUz1ZsM1x2t2BOoPATyFsQuuv/764bHHHlNPTr5JRcXp5AisKAI+vlYUwbp5vlbVm3XTRC+10hGoC/VTpWPm/as+Aj6+qo9VpeXMUm+6pFdpb9n74wg4Ao6AI1AUAbXpsRJycgQaEgEfgw2JfuXX7eOr8t9xqR4uWLaRiqo3zaul1EN+3xGoCwQYjC2W7XVYF+V7mU0bAR9fTff9Jz1rjc+5erPpjgfvuSPgCDgCTQ4BZ3pN7pV7hx0BR8ARaLoIONNruu/ee+4IOAKOQJNDwJlek3vl3mFHwBFwBJouAkWZHts43XzzzRpaiIjm7HXIjhVJInQGm/rWNrHHHRsH04YVJbaWoix23ShFNcmbV9Zpp52m21vl5bF7RPS2zbdr8pw970dHwBGoOQJE32BDAjYvJ0gsMfOSRBSPIUOGhBNPPDE8+OCDyVt+3sgRKMr02I9w8ODBYcMNN1SmwT5z7CR+7733xl0m6CuhWWqbiGHFJtXJ8EPLWwdBaynrs88+K1lETfLmFUYU7sWLF+dl0Xswd0KSWGib6j5XsmDP4Ag4ArkIsIn+RRddFFq3bq0RFAgf9Nxzz+kzxAhl8/xp06bppvlsPA1jdKocBMSTs5Bkwo6ke9Gtt95acEP2JIy23357TZOVkuYZM2ZMJBJSnE+kv0jCC0USuDNOE4ktkrAcei3MM5JwHRFpaZJJP5KNqSPZCkrLFgkoziKbB0fCYCORLOM0TiRgaCQxrbTMpUuXxve++OKL6P3334+sL88//3x8L32Sl1cYYfTee+9FshKMhAnro6TRH+pNEmn0y9pk98hHGbSf9kCU9dvf/lb7KWFMtKz0c+ST2F7aZ6ubNHChHNIoV0I6kdxoaf6CBY227d7w8kcgPb4k0rn+7vg9Gu26666RaIT0UqJ3RBJH1G5Ft912WyTh0SLZ4DxOS58Io4yY+2xuSP5e03n9uv4QgI/Zn9UK67bz+MjEzUuWUEKRSF1xOhPwnDlz9BrmZ4VdddVVkUQOjrbeeus4jXvXXnut5hWJRtNPOOGE+P52222nEzoZYJAMOivPzpncYQRdu3aN75HnkEMOiZkm1xJeRu+3b99eB51IqXH+Dh066HkW02OA5uXlR5HsE+V/8MEHynDA584779T+8e8Pf/iD1iMBTRU7Cbek90TK1GvrG8/B7OizpXGU3f4LnpNgvAX9Bm8WC9Add9yh7aI9VgY/2Mb6Q0tPStpJ/+cI1BIC6fHFnCbx8QpK57d09NFHaxrzj0h28X0Wz/zOmMfSlJ679t13X83L4t6p4RGw+ZGjUaZ6s1mzZqrGfPzxx3Wn+j322CMMGzYsYMPbdttt5fkQqzWffPLJcMkll2g0YeKaidQU0Jf36tUrEJRTJmLNzz9sV6gOsK8J89Q4fKSTVyQXTRPmWaAavO+++9SWSHRsohT/SmJXUSe2MCNUry+99JIGFiW+FfHTpkyZEoiATHy1YpSXl7p69OihmxAvWLAgzJ07NxAf64wzztDYbMLAw/333x8X/dBDDwVhsBpji0QBOIjkqWFrsNVxDn5bbbVVuOGGG8IGG2wQZs2apc+jerUgpzxHyBxixhEpQJisxvHinFiE3IfeeecdbR+BLUXaDo8++qhGtteb/s8RcASKIoDJRiS5+P7EiRP1t4MaE2KuSUaMIT9EeLQ0nXXWWTpfYQNkjiBKh1P5I2AMsMoRtdmoUaMimfxjaUWCwsb5pGuRMCC9XrhwYcTqBjF/8uTJ0emnn64rHtRwJumhVjBCfXDxxRerdIL0g7RoJAFA9VkkPVSGqBZRQbI6u/766/WeMDXNThuSbZII2tH+++9vRUUzZszQ/FmSXl5epDzKpl0vvPCC/tFe0mRgR0hinKOaRL1LH+6++26tl3Nhgip1skqkD8KkIllEqFSK9AkJ09MyhOkVPCdR5zU92WZh5JoGvkh61G2SHRhz/fTTT2s5je1feiXe2Nrv7S1vBPLGlzA8/e3069dPO8Fvit+SLCLjTi1ZskTTJLhsnMYJZgvyyiI2Tme+JM0lvRiSBj3hXdifNSQznp4wMJUk9tlnnyDMS/+QVDD8XnjhherJSbDYJM2ePVulICQ5jMMmYUlFcTZbMZGwzjrrqNRikiGGYyOcO4yQgo455pgg6kMNQkuboKQESdwqI7FxBWF6dqnRs+OL1EleXmH4mhvHHSQpI1HLqlPM7rvvHkT1GR555JGwww47qHSbFVkeCUyYpT4uKhSV+LKCnlr5HG1FSUBTox133FFPzSEHjG2LHYsrl8TEnvOjI+AIZCOApgfNDTEVL730Us3Eb4pg12hQjMTEoqctWrSwJD1a8G0c+ozatWtnp34sUwQy1ZuoGEU3HWAKRmussUY46aST9BI1XZLEBhiOOuqo0LlzZ1Vv8pwYgzVLciK2STr5LMxTJCNlapYuUpadKpNFLSoSk0YqFimwSrmoY41gnqg6jfI+VcjLu9lmm2kRqCJRXfAnEmwQSTNsuummeg/VBurXsWPHBtSdxGVLEgsBGJ7Y/lRliUoWVbHYEpPZqpwbE4fRG82cOVNP27RpY0l+dAQcgeVE4KabblKGN2LEiJjhWVEsbPGsNuK3D9lC3tIJUiy29iDaJEsqmHviRD8pKwQyJb29995bVzswPiZ9BgHS34ABA1SKM6kMZsXEznd8EBIMgRPffvvtcPnll2saDKsUoUvHVtepUyeVAEVNGD+CLQtJBhsYUg7SJlSsXGxhYpBW6Qw7mTjTxGWlT/LyYrtEkrviiivCJptsorZNJM5VV11VmTtlUU/fvn1VKhbnlHTxwZgxMZ147tlnnw2jR49WPMmMtAvxo+nYsaOe8w+pDklu+PDhalvARiqetLoQAV8nR8ARWH4ExMwSLrjggsC8g5Qm5gstDJ8EtCtIf9jPsfsxD7Bw5Vvf9KKWh0i/5ZZbAovR1VZbLcBMncofAVN1Fhyx56W9JkWSK3CPx7VXuheJxBOJxBOJWkCvsWlhC+Menx/g2ck59igjyhIGppe4AmM3JA9/3bp10yO2Mrwik56iMlgjYQjRkCFD9Fnyy0emVqwexekmtkHymQV5sJNlUV5ePFWTHpLggQ0vSXiSimQWe5Nyz2x6nJ933nlxv/AEFSap13ilYovDi5X24e2ZfA6bot3jPnVj14RkdaoY6MWyf+RJ2xyS98v5PM/mUs7t9rY1DgTS46t3797xb5Lfjf3ZZwrMO8xplo6PAJ7rWcRvmLz8dpkH8ADlOT6xcmp4BOwdcjQqGVoI1SVSHt5MrGTShL4b6QOJDFUmHpMbb7xxWHnlTM1p+vGCazyfkI6ypBk8NJGYstpQUMiyC7wvaVvSjpiVj7RSedHdI6mZZFasnGLp2EOR1lCHpElehNoPWEVmqX+RbpF0zW6Xfr4Srj30SyW8xfLtw/KOL2FouisUEmAxwnSx2267qYRIHrRU+EEwb5qmp9iznl73CCTnVOZaKFO9mWwKzCxtwE3eTw4IGJ3Zu5J5qnue5+CRdCGuTnkwqeowPMoqlTcZcr46dafzYA/lL4t4KXnlV7cPWWV7miPgCCw/AlmL73RpLIiPOOKIIN6furMS5hCc/ZzhpZEqn+uSTK98muotcQQcAUegvBA4++yz1d8Aez2LZ7Yr47tcp/JFoKR6s3yb7i2rFASWV/1UKf33ftQtAj6+6hbfci49S71Zc8NbOffQ2+YIOAKOgCPgCOQgoJLen5Z9h5KTz285Ao6AI+AIOAKNCoGftG0bt1e8ePVcmZ7tLBDf9RNHoB4R+Fg2O9hs2Qf/9VitV9VEEPDx1URedEY3k06C5r3p6s0MoDzJEXAEHAFHoDIRcKZXme/Ve+UIOAKOgCOQgYAzvQxQPMkRcAQcAUegMhHI/E6PHUT4/oSIBrbJtHVfwvjojitssFybdM4554QTTzwxEL2gPomdE9gnVLYp0+gMAwcOrM/qtS42tOX7HnZ9ZzOA+iB2zmEnmryNB+qjHV6HI+AIOAJZCDA3Swi3INsr6uYesuWj7ktsnyEQfABelSSiZdj9ZHryPFPSo7Innngi9OnTR6MLJB9gc2SiMNQ2EYQ1Hb2htuvIKm/q1Km6YSybTydDEmXlras0thqbMGFCQbikuqrLypXo0BrM16796Ag4Ao5AOSHARt5s8o8gwDaObMovezprEyVifbj66qs1mLnshxz4k7ir1Wp+SbHizDPPDBLMVHcbSJdIpAP22ySiuBH7Z7JPJNxWgi/qfpXsm4nnDHtyQjQYxpq1tRjx9fAm3WKLLars30mcOfbT5J5JRITpYY886vzoo480OkExTk8UcrY6s1iAsrFsmD9/vraRXRSK7W9JHwmXRGiR1Vdf3bqqR/r26aefBkIRmaeQtYm6uMcLa9myZZWtiYjZlywPjAw/6x+V8DwYJ9OsEbSNPrDtESGJ0n3Pah94ff311/qHtMdOEhBpxEOkrcl3avVTD/2kzZTBNfuJ+lZp9jb86Ag4ArWBABLcjTfeGIYOHRqHqWM+HTlyZEAbJ8EAtJoHH3ywYK6qTt2Zkp49iKiI6q1YuAyJ5h1+/vOfW3YVNZkwkQYJL4TqjLh6hO8gRAcq08GDB2sYDtLYmDVJt912W9hyyy0DQWQJVyTRxvU2TJB4fdtss41u7grTmzZtmt6jfdRJAFeek6gJySL1nECuhBkiiCshQHr27KmTNsFh2SePyZ4yCJOUJrYX4h6bysK0rfy5c+cGpCX6sddeeymzZWUC0XeeId4e4YnoC2FKLDgs/dlvv/0CIZq22mqruEwWAm3luxLCCBkRRxBmay/Z0jnSd9TBhEMhrhfvAkYE5bWPuIcQIVTAHGZLIE3eF/H+2D9VorNrHv5RP5Iw/eBZiQCvDPanP/2ptl8iZOgCJ37ATxwBR8ARWEEEmGcI3ZRFzH3wA+ZHwtJZvNGsvOm0XKZHRPBBgwapSFksGGupgKhMqEhg2AIlfE547bXXdLJGfSohgVSysEZhZ0LdCPMhfp6E5dFb2NxIw+6GGMske9xxx6nUZ8+SnyCvp5xyiiXpkYC0SKtM1h+K+Dtu3LgwZcoUtaHB/GAwSCswIphYksiPeA3jpg+0mdUHwV3ZWJaVB9Ij0hFlSbijAhUlkiTMyhYBvESIzWmRlHhRL7/8sp6TjsRFXah6jXiGlwtTSxIS2sknnxxatWqleFIWm1qjkoby2vfiiy9qHuohrhj9YmFz//33q4qZPrKamjVrlubjHxIr+N58883hkksuCf3799f4hgTslfBRYfr06XFeP3EEHAFHYEUQYC5D0JCQTVoMczERLJgfIUxsCBfERMQfokuXLjon6c0S/3KZHs/CeGB+SC1M4jWlXr16KXOQuHb6KBM1kgSSF5SUYJDmkFqYyHGUYSJftGiRMiryo2Z76623AkFukc6SkcVxhAGkdHRjGBwEoyEiBIFqaQs2tFJEpHNI4m9pHwiqi6oX6YzgukRMR4VLO435J4PbwoAIQIs0iESGpMcigDbRV6RAJGAYqxErGxg7TB7V5b333lvFmYi8SMHkQ9qC8cKUkNJoH9hUp31W56RJkxRzFg4E2KR/hFFCyjXCyQh8GQu8H6TnUaNGqcoVdfUBBxxgWf3oCDgCjkCtITBv3jyds9GCWRBx5iIW9sxXMEC0kjgCcl2KStr0kD5QdaGeK6bmtEqYpNNkdjyLg8eECWXZp4gYbkS0dgh1HZM40kmSQSL9SPBZy140pBGMBrCS9jrUdI888kj8bLET7HgwaLMBks/aiHRz/vnnq2REn7CnQTA1o+RzFqYEiZL+wOyMYPRG9BvGgoTHIgPnnsMOO8xux0diHEJIa8m+gAtMiIFSqn1WGBjjTMPCwAjbXbIvXBvBiFGHYlQeMGCASqIPPPCAMkvL40dHwBFwBFYUAQSPQw89VBf3zDvma5D8qgA/BhblmJ4w62DGyqOSkh4PMxHDSYcPH14gXcG4kozHJuJkhTWJK4UIa2RSlkkdxx57rLqv4sL6wgsvqIETycaoWNBaJmv0v0iJRqgbq/NpBAwbpoMUZYSq1dSo2OWQspDK7BOOJONPO5VQBtIUUlRyRZJWHfMCkaRQOyK2Zzn8IEFCV155ZYzL+PHjdfWDYwlq3lLt0wLkHwwbWyrY2h+eUWBuZPgiydJeVlno02kjzkdJG6A940dHwBFwBJYXAeYiNHP4E7CoNoZHeWggk2YgnAIhBIZSVC2mRyHnnnuuFoiUYsTEC1NADQbDM3dSu1/TIwZJGB8MDycZODwdxYY3evTo8Nxzz6ntDY8enGCymEq6zq5du2oSkzRtRa3JRA2YpcicdNAZ4wXJc6gN7ds29M1IkEhV2CyhpHqzWPmoMPE6wp6HzRFbWpK6d++ujJaozNguswjVKE45tI0yeOnYFbG5mRSd1z4Y7xtvvKESHt+/UAbqASRRGC5toM9pYhHDAgiHJFTPqJPRBhD53ckRcAQcgdpAAD7D4h/NFaYg/AvQ9vGHBgphBj7AHIZGDoEMjRvOgaWo2kyPiW3EiBFanq36YRwHHnig2qSQBnHsYDKFGRlDsqM9k25QMp2JHFUf5aJWRNqAcBDBZkTnW7durdIIDBKJxiRJqyddPmWSl1UBak7sc3iR9u3bV7NSP33LIpgbzIlnscvh1AOToa8wOZxikML4fsSkIqQga4sd02UjnaGTxraInRBvVMjy8+kDTAcsizFn2kzbUIFSBi8bJocHKZ8U5LWPuigffFmocI7jCs4p4IvqElWB2V3Jb+8JhoqjCw5JYIuqGGzA1MkRcAQcgdpAAIdGNGw4q7Ao79atW/yHYIHnOfMnf3jt49+AN351aCXJFLG6XxFixc8kbHarFSkLxxD+UAOmiW838HpM2srSeYpdszpAcoFRmiRULG86nWexDTZv3jxmTORBlWnpxhTSz+Zdo3KFaSftjZYf6RZmgjq1FBXDv1T70t8E8skEtj2zw5aqF29bFjpZ7S/1bPK+74KfRMPPaxsBH1+1jWj5lAcDZB4t9q2wfTtNi81HoVaYXvlA0PhbgqoYNS7SKWpeJK9KJ5+UKv0NN2z/fHw1LP4NWXsW06u2erMhG96U6sYxiG8CUak2BYbXlN6t99URcAQaHgGX9Br+HTT5FvhKvMkPgToFwMdXncJb1oW7pFfWr8cb5wg4Ao6AI1DXCLh6s64R9vIdAUfAEXAEygYBVW+WTWu8IY6AI+AIOAKOQB0gYN6bq9RB2V6kI+AIOAKOgCNQVggskMAAkEt6ZfVavDGOgCPgCDgCdYFALOnZSV1U4mU6AtVBgBVYi2Ubdlcnv+dxBGqCgI+vmqBVeXnT798dWSrvHXuPHAFHwBFwBIog4EyvCDCe7Ag4Ao6AI1B5CDjTq7x36j1yBBwBR8ARKIKAM70iwHiyI+AIOAKOQOUh8H+344dZvdBXygAAAABJRU5ErkJggg==)"
      ],
      "metadata": {
        "id": "gJGqTQbqy8p5"
      }
    },
    {
      "cell_type": "markdown",
      "source": [
        "**7. Check the probability for getting this t-value using a $t$ distribution critical values table.**\n",
        "\n",
        "Remember: the degrees of freedom for this test is $n-1$\n",
        "\n",
        "So, in the example, $n-1 = 24$ and see that a t-value of 6.25 has a p < 0.0001 on each end of the distribution. \n",
        "\n",
        "if this is lower than the significance level set, then we'll reject the $H_0$\n",
        "\n",
        "\n"
      ],
      "metadata": {
        "id": "h1FGzcafP7st"
      }
    },
    {
      "cell_type": "markdown",
      "source": [
        "**8. Alternatively, calculate a test statistic using python.**\n",
        "\n"
      ],
      "metadata": {
        "id": "yoi9ZqYzbxAJ"
      }
    },
    {
      "cell_type": "code",
      "source": [
        "#Values to calculate t-stat\n",
        "\n",
        "mean_candy_samp = df['candy'].mean()\n",
        "\n",
        "mean_candy_hyp = 100\n",
        "\n",
        "#Standard error = mean_candy_samp/sqrt n\n",
        "std_error = np.std(candy, ddof =1) \n",
        "\n",
        "t_stat = (mean_candy_samp - mean_candy_hyp)/std_error"
      ],
      "metadata": {
        "id": "ApTlPKd_gy-i"
      },
      "execution_count": null,
      "outputs": []
    },
    {
      "cell_type": "code",
      "source": [
        "#pass z-scores to normal cdf from scipy.stats\n",
        "\n",
        "from scipy.stats import norm\n",
        "1 - norm.cdf(z_score, loc =0, scale =1)\n"
      ],
      "metadata": {
        "id": "ck0nWIDXF3xl"
      },
      "execution_count": null,
      "outputs": []
    },
    {
      "cell_type": "code",
      "source": [
        "#example code\n",
        "Left-tailed test -> norm.cdf(z_score, loc =0, scale =1)\n",
        "Right-tailed test -> 1-norm.cdf(z_score, loc =0, scale =1)\n",
        "\n"
      ],
      "metadata": {
        "id": "oObWCm6BGJyF"
      },
      "execution_count": null,
      "outputs": []
    },
    {
      "cell_type": "code",
      "source": [
        "#confidence intervals in scipy.stats for normal distribution\n",
        "import numpy as np \n",
        "import scipy.stats as st\n",
        "a = range(10, 14)\n",
        "st.t.interval(0.95, len(a) -1, loc = np.mean(a), scale = st.sem(a))\n"
      ],
      "metadata": {
        "id": "rtPGbm9Q-hju",
        "colab": {
          "base_uri": "https://localhost:8080/"
        },
        "outputId": "0278a362-0b86-4029-fff3-0f441b215543"
      },
      "execution_count": null,
      "outputs": [
        {
          "output_type": "execute_result",
          "data": {
            "text/plain": [
              "(9.445739743239121, 13.554260256760879)"
            ]
          },
          "metadata": {},
          "execution_count": 2
        }
      ]
    },
    {
      "cell_type": "code",
      "source": [
        "from scipy.stats import sem, t\n",
        "data = [1, 2, 3, 4, 5]\n",
        "confidence = 0.95\n",
        "z_score = 1.96\n",
        "sample_mean = \"define value\"\n",
        "\n",
        "# Compute the standard error and margin of error\n",
        "std_err = sem(data)\n",
        "margin_error = std_err * z_score\n",
        "\n",
        "# Compute and print the lower threshold\n",
        "lower = sample_mean - margin_error\n",
        "print(lower)\n",
        "\n",
        "# Compute and print the upper threshold\n",
        "upper = sample_mean + margin_error\n",
        "print(upper)"
      ],
      "metadata": {
        "id": "wUIdfTm6ASq0",
        "colab": {
          "base_uri": "https://localhost:8080/",
          "height": 240
        },
        "outputId": "69a0286d-a1cc-4d58-b15e-a604519d724b"
      },
      "execution_count": null,
      "outputs": [
        {
          "output_type": "error",
          "ename": "NameError",
          "evalue": "ignored",
          "traceback": [
            "\u001b[0;31m---------------------------------------------------------------------------\u001b[0m",
            "\u001b[0;31mNameError\u001b[0m                                 Traceback (most recent call last)",
            "\u001b[0;32m<ipython-input-5-0070e394a391>\u001b[0m in \u001b[0;36m<module>\u001b[0;34m\u001b[0m\n\u001b[1;32m      9\u001b[0m \u001b[0;34m\u001b[0m\u001b[0m\n\u001b[1;32m     10\u001b[0m \u001b[0;31m# Compute and print the lower threshold\u001b[0m\u001b[0;34m\u001b[0m\u001b[0;34m\u001b[0m\u001b[0;34m\u001b[0m\u001b[0m\n\u001b[0;32m---> 11\u001b[0;31m \u001b[0mlower\u001b[0m \u001b[0;34m=\u001b[0m \u001b[0msample_mean\u001b[0m \u001b[0;34m-\u001b[0m \u001b[0mmargin_error\u001b[0m\u001b[0;34m\u001b[0m\u001b[0;34m\u001b[0m\u001b[0m\n\u001b[0m\u001b[1;32m     12\u001b[0m \u001b[0mprint\u001b[0m\u001b[0;34m(\u001b[0m\u001b[0mlower\u001b[0m\u001b[0;34m)\u001b[0m\u001b[0;34m\u001b[0m\u001b[0;34m\u001b[0m\u001b[0m\n\u001b[1;32m     13\u001b[0m \u001b[0;34m\u001b[0m\u001b[0m\n",
            "\u001b[0;31mNameError\u001b[0m: name 'sample_mean' is not defined"
          ]
        }
      ]
    },
    {
      "cell_type": "markdown",
      "source": [
        "#2. Two-sample *t*-test \n",
        "\n"
      ],
      "metadata": {
        "id": "IhqVuuJJhLiv"
      }
    },
    {
      "cell_type": "markdown",
      "source": [
        "**Hypothesis Test: Difference between Two Means**\n",
        "\n",
        "A method used to test whether unknown population means of two groups are equal or not."
      ],
      "metadata": {
        "id": "6_YaPF7v61DX"
      }
    },
    {
      "cell_type": "markdown",
      "source": [
        "**1. Stating the Hypotheses:**\n",
        "\n",
        "$H_0:$\n",
        "\n",
        "$H_a:$"
      ],
      "metadata": {
        "id": "IkP5uwMcmraY"
      }
    },
    {
      "cell_type": "markdown",
      "source": [
        "**Example**\n",
        "\n",
        "We have an idea, a hypothesis that that the underlying population mean of two groups are different. Specifically, we hypothesize that children eat more candy than adults on fridays.\n",
        "\n",
        "\"Children and adults  eat the same amount of candy (Fredagsslik)\"\n",
        "\n",
        "$$H_0: \\mu_1 = \\mu_2$$\n",
        "\n",
        "Then, we sample to see if the actual mean of adults is lower from the mean of children.\n",
        "\n",
        "$$Ha: \\mu_1 < \\mu_2$$\n",
        "\n"
      ],
      "metadata": {
        "id": "JPsVeX5fkmKM"
      }
    },
    {
      "cell_type": "markdown",
      "source": [
        "**2. Determine type of test**\n",
        "\n",
        "\n",
        "1. $H_a \\neq H_0$  (two-tailed test)\n",
        "2. $H_a < H_0$ (left-tailed test) \n",
        "3. $H_a > H_0$ (right-tailed test)"
      ],
      "metadata": {
        "id": "zRFMMHnUsuPV"
      }
    },
    {
      "cell_type": "markdown",
      "source": [
        "**3. Checking conditions for inference**\n",
        "\n",
        "*We can use this test when the following assumptions are met about the data*:\n",
        "\n",
        "\n",
        "\n",
        "*   Independent observations\n",
        "*   Random sampling from two normal distributions\n",
        "*   Two independent population groups have equal variance"
      ],
      "metadata": {
        "id": "jHEpGmMUidxv"
      }
    },
    {
      "cell_type": "markdown",
      "source": [
        "**4. Setting the significance level**\n",
        "\n"
      ],
      "metadata": {
        "id": "I0HDZrCTnI9h"
      }
    },
    {
      "cell_type": "markdown",
      "source": [
        "**5. Checking the data**\n",
        "\n",
        "*   sample size\n",
        "*normally distributed\n",
        "* outliers\n",
        "\n"
      ],
      "metadata": {
        "id": "Pkf9plGBtKRH"
      }
    },
    {
      "cell_type": "markdown",
      "source": [
        "**6. Calculating a t-test statistic**\n",
        "\n",
        "Finding the difference between two sample averages using a t-statistic.\n",
        "\n",
        "$$t =  \\frac {\\bar{x_{1}} - \\bar{x_{2}}} {\\sqrt{\\frac {s_{1}^2}{{n_{1}}}+\\frac{s_{2}^2}{{n_{2}}} }}$$\n",
        "\n",
        "**Example:**\n",
        "\n",
        "\"Do children on average eat more fredagsslik than adults\"\n",
        "\n",
        "$$H_0: \\mu_{children} = \\mu_{adults}$$\n",
        "$$H_a: \\mu_{children} > \\mu_{adults}$$\n",
        "\n",
        "We sample 25 children and 25 adults, $n =25$ and find that children eat $\\bar{x}$ = 140 grams of fredagsslik, with a standard deviation $s_x$ of 5 grams and adults eat $\\bar{x}$ = 120 grams of fredagsslik, with a standard deviation $s_x$ of 15 grams. Now is this a significant difference?\n",
        "\n",
        "$$t =  \\frac {\\bar{x_{children}} - \\bar{x_{adults}}} {\\sqrt{\\frac {s_{children}^2}{{n_{children}}}+\\frac{s_{adults}^2}{{n_{adults}}} }}$$\n",
        "\n",
        "$$t =  \\frac {140 - 120} {\\sqrt{\\frac {25}{{25}}+\\frac{225}{{25}} }}$$\n",
        "\n",
        "$$t =  \\frac {20} {{10}} = 2$$\n"
      ],
      "metadata": {
        "id": "zz2kYXJVtisI"
      }
    },
    {
      "cell_type": "markdown",
      "source": [
        "![Screenshot 2022-10-27 at 11.36.56.png](data:image/png;base64,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)"
      ],
      "metadata": {
        "id": "HPyCsIcJzWhd"
      }
    },
    {
      "cell_type": "markdown",
      "source": [
        "**7. Check the probability for getting this t-value using a $t$ distribution critical values table.**\n",
        "\n",
        "\n",
        "Degrees of freedom: \n",
        "\n",
        "n1 + n2 - 2\n",
        "\n",
        "We can use a t-statistics table to determine the p-value.\n",
        "\n",
        "**Example:**\n",
        "\n",
        "**P-value**\n",
        "\n",
        "So, in the example, degrees of freedom: $n1 + n2 -2 = 48$ and we aim to see if a t-value of 2 has a p < 0.05 on a one-tailed distribution, given the t-value is higher than the critical value, $ \\pm 1.68.\n",
        "\n",
        "Since the p-value is lower than the critical value  significance level set $\\alpha = 0.05$, then we'll reject the $H_0$\n",
        "\n",
        "**Confidence intervals**\n",
        "\n",
        "We can also calculate the confidence intervals as a way to determine if we can reject the $H_0$. \n",
        "\n",
        "$$ci =   {\\bar{x_{children}} - \\bar{x_{adults}}} \t\\pm t {\\sqrt{\\frac {s_{children}^2}{{n_{children}}}+\\frac{{s_{adults}^2}}{{n_{adults}}} }}$$\n",
        "\n",
        "$$ci =   {140} - {120} \\pm 2 {\\sqrt{\\frac {25}{{25}}+\\frac{225}{{{25}}} }}$$\n",
        "\n",
        "$$ci =  {20}\\pm 2 {\\sqrt{10}}$$\n",
        "\n",
        "$$ci = {20}\\pm {6.32}$$\n",
        "\n",
        "Since the 95% ci (ci = 1-$\\alpha = 0.95$) does not overlap with 0, that is, $H_0$ hypothesis that mean difference is : $$ \\mu_{children} -\\mu_{adults} = 0 $$ Then we can reject the $H_0$."
      ],
      "metadata": {
        "id": "WdHmCRnf7WVO"
      }
    },
    {
      "cell_type": "markdown",
      "source": [
        "**8. Alternatively, calculate a test statistic using python.**"
      ],
      "metadata": {
        "id": "Xi0hSIky-MCd"
      }
    },
    {
      "cell_type": "markdown",
      "source": [
        "#3. Paired t-test (or matched pairs t-test)"
      ],
      "metadata": {
        "id": "lr98thV4SBAo"
      }
    },
    {
      "cell_type": "markdown",
      "source": [
        "**Hypothesis test: Difference between Mean Pairs**\n",
        "\n",
        "A test to measure a difference between a pair of measurements (like before and after a treatment) and whether this difference is zero or not."
      ],
      "metadata": {
        "id": "TV4sL3eJaQks"
      }
    },
    {
      "cell_type": "markdown",
      "source": [
        "**1. Stating the Hypotheses:**\n",
        "\n",
        "$H_0:$\n",
        "\n",
        "$H_a:$"
      ],
      "metadata": {
        "id": "mzBfCqNzqAgd"
      }
    },
    {
      "cell_type": "markdown",
      "source": [
        "**Example:**\n",
        "\n",
        "The weight is measured of family members, who stop eating fredagsslik for one month. For each member, the weight is measured before-and-after. We want to know if this small dietary change is enough to lower the mean weight. \n",
        "\n",
        "The hypotheses concern a new variable $mu_{diff}$, which is based on the difference between paired values from two data sets.\n",
        "\n",
        "$$\\mu_{diff} = \\mu_{before} - \\mu_{after}$$\n",
        "\n",
        "$$H_0: \\mu_{diff} = 0$$\n",
        "\n",
        "The alternative hypothesis is that the population mean  is less than zero.\n",
        "\n",
        "$$Ha: \\mu_{diff} < 0 $$\n"
      ],
      "metadata": {
        "id": "5Wze9rxxmaBE"
      }
    },
    {
      "cell_type": "markdown",
      "source": [
        "**2. Determine the type of test**\n",
        "\n",
        "1. $H_a \\neq H_0$  (two-tailed test)\n",
        "2. $H_a < H_0$ (left-tailed test) \n",
        "3. $H_a > H_0$ (right-tailed test)\n"
      ],
      "metadata": {
        "id": "Irp2gFFoqBSL"
      }
    },
    {
      "cell_type": "markdown",
      "source": [
        "**3. Checking conditions for inference**\n",
        "\n",
        "*We can use this test when the following assumptions are met about the data*:\n",
        "\n",
        "* Random sampling for each sample   \n",
        "* Each of the paired measurements are obtained from the same subject (so sample is not independent).\n",
        "*   The population distribution is normally distributed"
      ],
      "metadata": {
        "id": "KThaOwRiqsJi"
      }
    },
    {
      "cell_type": "markdown",
      "source": [
        "**4. Setting the significance level**\n",
        "\n",
        "$\\alpha:$"
      ],
      "metadata": {
        "id": "Bzg2lCzjsbMH"
      }
    },
    {
      "cell_type": "markdown",
      "source": [
        "**5. Checking the data**\n",
        "\n",
        "*   sample size\n",
        "*normally distributed\n",
        "* outliers"
      ],
      "metadata": {
        "id": "Nx8oMqvzsgJE"
      }
    },
    {
      "cell_type": "markdown",
      "source": [
        "**6. Calculating the test statistic**\n",
        "\n",
        "Finding the difference between two pairs averages using a t-statistic.\n",
        "\n",
        "\n",
        "$$standard \\: error (s_x) = \\frac{s_{d}}{\\sqrt{n}}$$\n",
        "\n",
        "\n",
        "Test statistic:\n",
        "\n",
        "\n",
        "$$t =  \\frac {\\bar{x_{1}} - \\bar{x_{2}}} { {s_x}}$$\n",
        "\n",
        "Example:\n",
        "\n",
        "$$standard \\: error \\:(s_x) = \\frac{1}{\\sqrt{25}} = 0.2$$\n",
        "\n",
        "\n",
        "$$t= \\frac{-2}{{0.2}} = -10$$\n",
        "\n",
        "\n",
        "\n"
      ],
      "metadata": {
        "id": "rMnYP65SuQLH"
      }
    },
    {
      "cell_type": "markdown",
      "source": [
        "**7. Check the probability for getting this t-value using a $t$ distribution critical values table.**\n",
        "\n",
        "Degrees of freedom:\n",
        "\n",
        "$$df = n-1$$\n",
        "\n",
        "$$df = 25 - 1 = 24$$\n",
        "\n",
        "The calculated t-statistic = -10 is lower than the t- value of alpha = 0.05 and 24 degrees of freedom for a one-tailed test, which is 1.711. p(x ≤ -10) = 2.458e-10, which suggest we can reject the $H_0$ hypothesis.\n",
        "\n",
        "Confidence intervals:\n",
        "\n",
        "$$ci = \\bar{x_{diff}} \\pm t{\\frac{s_{diff}}{\\sqrt{n}}} $$\n",
        "\n",
        "Example: \n",
        "\n",
        "$$ci = -2 \\pm 10{\\frac{1}{\\sqrt{25}}}$$\n",
        "\n",
        "$$ci = -2 \\pm (10)(0.02)$$\n",
        "\n",
        "$$ci = -2 \\pm 0.2$$\n",
        "\n",
        "$$interval = (-2.2, -1.8)$$\n",
        "\n",
        "We're 95 percent confident that the interval (-2.2, -1.8) captures the mean difference between the weight in kg reported by the families before and after eating fredagsslik. \n",
        "\n",
        "Given the entire interval is below 0 (all negative values), it suggests a that  the second weight is significantly lower than the first.\n",
        "\n",
        "Effect size:\n",
        "\n",
        "Cohen's D $=\t\\frac{|x̄{diff} - μ₀|}{sd}$\n",
        "\n",
        "Example:\n",
        "\n",
        "Cohen's D $=\\frac{|-2 - 0|}{1} = 2$\n"
      ],
      "metadata": {
        "id": "NrmDazpYUxUW"
      }
    },
    {
      "cell_type": "markdown",
      "source": [
        "![Screenshot 2022-10-31 at 16.43.34.png](data:image/png;base64,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)"
      ],
      "metadata": {
        "id": "KG7WqkwUDabX"
      }
    },
    {
      "cell_type": "markdown",
      "source": [
        "**8. Alternatively, use python to calculate the t-statistic.**"
      ],
      "metadata": {
        "id": "EeIjaffeVAj6"
      }
    }
  ]
}