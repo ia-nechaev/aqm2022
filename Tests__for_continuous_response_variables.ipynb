{
  "nbformat": 4,
  "nbformat_minor": 0,
  "metadata": {
    "colab": {
      "provenance": [],
      "collapsed_sections": [],
      "authorship_tag": "ABX9TyM+y9rsz65NfqmsQQN4GDEt"
    },
    "kernelspec": {
      "name": "python3",
      "display_name": "Python 3"
    },
    "language_info": {
      "name": "python"
    }
  },
  "cells": [
    {
      "cell_type": "markdown",
      "source": [
        "#Hypothesis Test for Continuous Response Data"
      ],
      "metadata": {
        "id": "cfiyD5cLP67G"
      }
    },
    {
      "cell_type": "markdown",
      "source": [
        "#1. One-sample *t*-test \n",
        "\n",
        "\n",
        "\n"
      ],
      "metadata": {
        "id": "ESCjsUmTlXGi"
      }
    },
    {
      "cell_type": "markdown",
      "source": [
        "**Hypothesis Test for a Mean**\n",
        "\n",
        "A t-test is a statistical hypothesis that can test whether an unknown population parameter is different than a specific \"hypothesized\" value."
      ],
      "metadata": {
        "id": "2xtSXDp1mYcJ"
      }
    },
    {
      "cell_type": "markdown",
      "source": [
        "**1. Stating the Hypotheses:**\n",
        "\n",
        "$H_0:$\n",
        "\n",
        "$H_a:$"
      ],
      "metadata": {
        "id": "bzVS75b9bJeX"
      }
    },
    {
      "cell_type": "markdown",
      "source": [
        "**Example:**\n",
        "\n",
        "We have an idea, a norm, or hypothesized mean. \n",
        "\n",
        "\"People eat on average 100 grams of Fredagsslik\"\n",
        "\n",
        "$$H_0: \\mu = 100$$\n",
        "\n",
        "Then, we sample to see if the actual mean is different from the hypothesized mean.\n",
        "\n",
        "$$Ha: \\mu \\neq 100$$"
      ],
      "metadata": {
        "id": "5SefeJSVHEOR"
      }
    },
    {
      "cell_type": "markdown",
      "source": [
        "**2. Determine the type of test**\n",
        "\n",
        "Listen to the phrasing of the alternative hypothesis to determine which type to use.\n",
        "\n",
        "\n",
        "1.    If we are checking for **a difference** compared to a hypothesized value, we look for extreme values in either tail and perform a two-tailed test.\n",
        "2.   If the alternative hypothesis uses language like **\"less or fewer\"**, we perform a left-tailed test.\n",
        "3.    Words like **\"greater or exceeds\"** correspond to a right-tailed test.\n",
        "\n",
        "\n",
        "\n",
        "1. $H_a \\neq H_0$  (two-tailed test)\n",
        "2. $H_a < H_0$ (left-tailed test) \n",
        "3. $H_a > H_0$ (right-tailed test)\n",
        "\n",
        "\n",
        "\n",
        "\n"
      ],
      "metadata": {
        "id": "cNa6jVAnBxwz"
      }
    },
    {
      "cell_type": "markdown",
      "source": [
        "**3. Checking conditions for inference**\n",
        "\n",
        "*We can use this test when the following assumptions are met about the data*:\n",
        "\n",
        "*   Random sampling\n",
        "*   Independent observations\n",
        "*   Normally distributed\n",
        "*   Constant variance\n"
      ],
      "metadata": {
        "id": "JpJDAEO4tg9d"
      }
    },
    {
      "cell_type": "markdown",
      "source": [
        "**4. Setting the significance level**\n",
        "\n",
        "Setting the alpha-level.\n",
        "\n",
        "P-values are used to determine strength of support for the null hypothesis. The probability of obtaining a result assuming the null hypothesis is true.\n",
        "\n",
        "Large p-values (close to 1) -> large support for $H_0$, not likely to be in the tail of the null hypothesis.\n",
        "\n",
        "Small p-values (close to 0) -> strong evidence against the $h_0$, likely in the tail of the null distribution.\n",
        "\n",
        "\n",
        "\n",
        "\n"
      ],
      "metadata": {
        "id": "HPDPd8XlDgbM"
      }
    },
    {
      "cell_type": "markdown",
      "source": [
        " **5. Checking the data**\n",
        "\n",
        "Has a random sample been collected of (for example, fredagsslik) that allows you to establish a point estimate (i.g., mean sample statistic of the population mean)? \n",
        "\n",
        "\n"
      ],
      "metadata": {
        "id": "v4SNYcY6oSN4"
      }
    },
    {
      "cell_type": "code",
      "source": [
        "#check your dataset\n",
        "\n",
        "import pandas as pd\n",
        "\n",
        "from google.colab import files\n",
        "uploaded = files.upload()\n",
        "\n"
      ],
      "metadata": {
        "id": "4QQ9YObmbWio",
        "colab": {
          "base_uri": "https://localhost:8080/",
          "height": 73
        },
        "outputId": "92ba7743-5d00-4db2-f479-b36d900162a7"
      },
      "execution_count": null,
      "outputs": [
        {
          "output_type": "display_data",
          "data": {
            "text/plain": [
              "<IPython.core.display.HTML object>"
            ],
            "text/html": [
              "\n",
              "     <input type=\"file\" id=\"files-812f1e6a-f327-4ff5-bd51-0346bb96f76d\" name=\"files[]\" multiple disabled\n",
              "        style=\"border:none\" />\n",
              "     <output id=\"result-812f1e6a-f327-4ff5-bd51-0346bb96f76d\">\n",
              "      Upload widget is only available when the cell has been executed in the\n",
              "      current browser session. Please rerun this cell to enable.\n",
              "      </output>\n",
              "      <script>// Copyright 2017 Google LLC\n",
              "//\n",
              "// Licensed under the Apache License, Version 2.0 (the \"License\");\n",
              "// you may not use this file except in compliance with the License.\n",
              "// You may obtain a copy of the License at\n",
              "//\n",
              "//      http://www.apache.org/licenses/LICENSE-2.0\n",
              "//\n",
              "// Unless required by applicable law or agreed to in writing, software\n",
              "// distributed under the License is distributed on an \"AS IS\" BASIS,\n",
              "// WITHOUT WARRANTIES OR CONDITIONS OF ANY KIND, either express or implied.\n",
              "// See the License for the specific language governing permissions and\n",
              "// limitations under the License.\n",
              "\n",
              "/**\n",
              " * @fileoverview Helpers for google.colab Python module.\n",
              " */\n",
              "(function(scope) {\n",
              "function span(text, styleAttributes = {}) {\n",
              "  const element = document.createElement('span');\n",
              "  element.textContent = text;\n",
              "  for (const key of Object.keys(styleAttributes)) {\n",
              "    element.style[key] = styleAttributes[key];\n",
              "  }\n",
              "  return element;\n",
              "}\n",
              "\n",
              "// Max number of bytes which will be uploaded at a time.\n",
              "const MAX_PAYLOAD_SIZE = 100 * 1024;\n",
              "\n",
              "function _uploadFiles(inputId, outputId) {\n",
              "  const steps = uploadFilesStep(inputId, outputId);\n",
              "  const outputElement = document.getElementById(outputId);\n",
              "  // Cache steps on the outputElement to make it available for the next call\n",
              "  // to uploadFilesContinue from Python.\n",
              "  outputElement.steps = steps;\n",
              "\n",
              "  return _uploadFilesContinue(outputId);\n",
              "}\n",
              "\n",
              "// This is roughly an async generator (not supported in the browser yet),\n",
              "// where there are multiple asynchronous steps and the Python side is going\n",
              "// to poll for completion of each step.\n",
              "// This uses a Promise to block the python side on completion of each step,\n",
              "// then passes the result of the previous step as the input to the next step.\n",
              "function _uploadFilesContinue(outputId) {\n",
              "  const outputElement = document.getElementById(outputId);\n",
              "  const steps = outputElement.steps;\n",
              "\n",
              "  const next = steps.next(outputElement.lastPromiseValue);\n",
              "  return Promise.resolve(next.value.promise).then((value) => {\n",
              "    // Cache the last promise value to make it available to the next\n",
              "    // step of the generator.\n",
              "    outputElement.lastPromiseValue = value;\n",
              "    return next.value.response;\n",
              "  });\n",
              "}\n",
              "\n",
              "/**\n",
              " * Generator function which is called between each async step of the upload\n",
              " * process.\n",
              " * @param {string} inputId Element ID of the input file picker element.\n",
              " * @param {string} outputId Element ID of the output display.\n",
              " * @return {!Iterable<!Object>} Iterable of next steps.\n",
              " */\n",
              "function* uploadFilesStep(inputId, outputId) {\n",
              "  const inputElement = document.getElementById(inputId);\n",
              "  inputElement.disabled = false;\n",
              "\n",
              "  const outputElement = document.getElementById(outputId);\n",
              "  outputElement.innerHTML = '';\n",
              "\n",
              "  const pickedPromise = new Promise((resolve) => {\n",
              "    inputElement.addEventListener('change', (e) => {\n",
              "      resolve(e.target.files);\n",
              "    });\n",
              "  });\n",
              "\n",
              "  const cancel = document.createElement('button');\n",
              "  inputElement.parentElement.appendChild(cancel);\n",
              "  cancel.textContent = 'Cancel upload';\n",
              "  const cancelPromise = new Promise((resolve) => {\n",
              "    cancel.onclick = () => {\n",
              "      resolve(null);\n",
              "    };\n",
              "  });\n",
              "\n",
              "  // Wait for the user to pick the files.\n",
              "  const files = yield {\n",
              "    promise: Promise.race([pickedPromise, cancelPromise]),\n",
              "    response: {\n",
              "      action: 'starting',\n",
              "    }\n",
              "  };\n",
              "\n",
              "  cancel.remove();\n",
              "\n",
              "  // Disable the input element since further picks are not allowed.\n",
              "  inputElement.disabled = true;\n",
              "\n",
              "  if (!files) {\n",
              "    return {\n",
              "      response: {\n",
              "        action: 'complete',\n",
              "      }\n",
              "    };\n",
              "  }\n",
              "\n",
              "  for (const file of files) {\n",
              "    const li = document.createElement('li');\n",
              "    li.append(span(file.name, {fontWeight: 'bold'}));\n",
              "    li.append(span(\n",
              "        `(${file.type || 'n/a'}) - ${file.size} bytes, ` +\n",
              "        `last modified: ${\n",
              "            file.lastModifiedDate ? file.lastModifiedDate.toLocaleDateString() :\n",
              "                                    'n/a'} - `));\n",
              "    const percent = span('0% done');\n",
              "    li.appendChild(percent);\n",
              "\n",
              "    outputElement.appendChild(li);\n",
              "\n",
              "    const fileDataPromise = new Promise((resolve) => {\n",
              "      const reader = new FileReader();\n",
              "      reader.onload = (e) => {\n",
              "        resolve(e.target.result);\n",
              "      };\n",
              "      reader.readAsArrayBuffer(file);\n",
              "    });\n",
              "    // Wait for the data to be ready.\n",
              "    let fileData = yield {\n",
              "      promise: fileDataPromise,\n",
              "      response: {\n",
              "        action: 'continue',\n",
              "      }\n",
              "    };\n",
              "\n",
              "    // Use a chunked sending to avoid message size limits. See b/62115660.\n",
              "    let position = 0;\n",
              "    do {\n",
              "      const length = Math.min(fileData.byteLength - position, MAX_PAYLOAD_SIZE);\n",
              "      const chunk = new Uint8Array(fileData, position, length);\n",
              "      position += length;\n",
              "\n",
              "      const base64 = btoa(String.fromCharCode.apply(null, chunk));\n",
              "      yield {\n",
              "        response: {\n",
              "          action: 'append',\n",
              "          file: file.name,\n",
              "          data: base64,\n",
              "        },\n",
              "      };\n",
              "\n",
              "      let percentDone = fileData.byteLength === 0 ?\n",
              "          100 :\n",
              "          Math.round((position / fileData.byteLength) * 100);\n",
              "      percent.textContent = `${percentDone}% done`;\n",
              "\n",
              "    } while (position < fileData.byteLength);\n",
              "  }\n",
              "\n",
              "  // All done.\n",
              "  yield {\n",
              "    response: {\n",
              "      action: 'complete',\n",
              "    }\n",
              "  };\n",
              "}\n",
              "\n",
              "scope.google = scope.google || {};\n",
              "scope.google.colab = scope.google.colab || {};\n",
              "scope.google.colab._files = {\n",
              "  _uploadFiles,\n",
              "  _uploadFilesContinue,\n",
              "};\n",
              "})(self);\n",
              "</script> "
            ]
          },
          "metadata": {}
        },
        {
          "output_type": "stream",
          "name": "stdout",
          "text": [
            "Saving mean_annual_coffee.csv to mean_annual_coffee.csv\n"
          ]
        }
      ]
    },
    {
      "cell_type": "code",
      "source": [
        "\n",
        "# Importing Pandas to create DataFrame\n",
        "import pandas as pd\n",
        "  \n",
        "# Creating Empty DataFrame and storing it in variable df\n",
        "df = pd.read_csv(\"coffee.csv\") \n",
        "\n",
        "# Identify the response variable and calculate the mean\n",
        "mean_coffee_sample = df['cups'].mean()\n",
        "std_coffee_sample = df['cups'].std()\n",
        "\n",
        "print(mean_coffee_sample)"
      ],
      "metadata": {
        "colab": {
          "base_uri": "https://localhost:8080/"
        },
        "id": "svJRlWPhKDkm",
        "outputId": "6d557f35-6393-42c7-da42-46ccbb35cd8c"
      },
      "execution_count": null,
      "outputs": [
        {
          "output_type": "stream",
          "name": "stdout",
          "text": [
            "1033.2\n"
          ]
        }
      ]
    },
    {
      "cell_type": "markdown",
      "source": [
        "**6. Calculating a t-test statistic**\n",
        "\n",
        "Finding the difference between the sample average and the hypothesized value using a t-statistic.\n",
        "\n",
        "$$t =  \\frac {\\bar{x} - \\mu} {\\frac {s_x}{\\sqrt{n}}}$$\n",
        "\n",
        "**Example:**\n",
        "\n",
        "\"People eat on average 100 grams of fredagsslik\"\n",
        "\n",
        "$$H_0: \\mu = 100$$\n",
        "$$Ha: \\mu \\neq 100$$\n",
        "\n",
        "We sample 25 people, $n =25$ and find they eat $\\bar{x}$ = 125 grams of fredagsslik, with a standard deviation $s_x$ of 20 grams.\n",
        "\n",
        "$$t =  \\frac {125 - 100} {\\frac {20}{\\sqrt{25}}}$$\n",
        "\n",
        "$$t =  \\frac {25} {\\frac {20}{5}}$$\n",
        "\n",
        "$$t =  25* {\\frac {5}{20}} = 6.25$$"
      ],
      "metadata": {
        "id": "-PsJ3uQfZq7j"
      }
    },
    {
      "cell_type": "markdown",
      "source": [
        "![Screenshot 2022-10-27 at 11.35.12.png](data:image/png;base64,iVBORw0KGgoAAAANSUhEUgAAAb0AAABgCAYAAACJ+awBAAAAAXNSR0IArs4c6QAAAGJlWElmTU0AKgAAAAgAAYdpAAQAAAABAAAAGgAAAAAABJKGAAcAAAASAAAAUKABAAMAAAABAAEAAKACAAQAAAABAAABvaADAAQAAAABAAAAYAAAAABBU0NJSQAAAFNjcmVlbnNob3TI56GNAAAB1WlUWHRYTUw6Y29tLmFkb2JlLnhtcAAAAAAAPHg6eG1wbWV0YSB4bWxuczp4PSJhZG9iZTpuczptZXRhLyIgeDp4bXB0az0iWE1QIENvcmUgNi4wLjAiPgogICA8cmRmOlJERiB4bWxuczpyZGY9Imh0dHA6Ly93d3cudzMub3JnLzE5OTkvMDIvMjItcmRmLXN5bnRheC1ucyMiPgogICAgICA8cmRmOkRlc2NyaXB0aW9uIHJkZjphYm91dD0iIgogICAgICAgICAgICB4bWxuczpleGlmPSJodHRwOi8vbnMuYWRvYmUuY29tL2V4aWYvMS4wLyI+CiAgICAgICAgIDxleGlmOlBpeGVsWURpbWVuc2lvbj45NjwvZXhpZjpQaXhlbFlEaW1lbnNpb24+CiAgICAgICAgIDxleGlmOlBpeGVsWERpbWVuc2lvbj40NDU8L2V4aWY6UGl4ZWxYRGltZW5zaW9uPgogICAgICAgICA8ZXhpZjpVc2VyQ29tbWVudD5TY3JlZW5zaG90PC9leGlmOlVzZXJDb21tZW50PgogICAgICA8L3JkZjpEZXNjcmlwdGlvbj4KICAgPC9yZGY6UkRGPgo8L3g6eG1wbWV0YT4KmNu4IgAAKpNJREFUeAHtnQecFdX1x69iL9EYJTYCImqUYMGGMZYgCmhQUbFXrKgowkdUiiAWLLEXEMVYUFEUEYyKJGhAJZAolgRUrBCDiSVoRNCU+Z/vCWf+82bnzduFLW/fnvP57M7MnTu3/Oa+e+4pc89KS7/9LgpOjkADIvD7GS+HH2/XrgFb4FVXMgJvzXkzdNjjp5XcRe9bDgLML8n3v9ILL7zgTC8HML/lCDgCjoAjUDkIrCRdcaZXOe/Te+IIOAKOgCOQgUAU/Y/VrcI9u8jI50mOQJ0jsOAvfwktNt+8zuvxCpomAj6+muZ7p9crrYRcV0grF176lSPgCDgCjoAjULkIONOr3HfrPXMEHAFHwBFIIeBMLwWIXzoCjoAj4AhULgLO9Cr33Tbani1atCgceeSR4bjjjivog3gaa/pNN91UkF6XF2+++Wb47LPPtIqXX35Z6x89enStV/nSSy9p2XfffXetlv2Pf/xDyz3vvPNqtdzGXtjSpUvDVVddFQ4++ODQtm3bAD7Tpk0L//3vfxuka9TPmOd9OdU9AuLH4uQINBwC8xcsKKj8b3/7G25W+pe8cf/992vasccem0yus/Nhw4Zpfa+//rrW8fDDD+t17969a73ORx99VMs+99xza7Xsv/71r1pu69ata7XcxlRYenzR9o4dOyouNs7seOWVVzZI13g/tIH35VR7CNh75Wjkkp6g4dT4EPj3v/8dvvzyy/DPf/6zoPGW9p///Efvf/PNN+qd/O6774YvvviiIK9dLF68OMyZMycsWbLEkvT86aef1mvq+Ne//hXf44T633rrLa2j4IZcUA7lIbFmEW15++23C6SKTp06hVdffTVcdNFF2l76kf6jnUZ5dciPO3zwwQdBJlDLXvRIHWAEffjhh0EWHHHev4hXbVYZYDtv3rzMezxMeW+88UZYsGBBXBYSVLKujz76KHz88cfx/fo8ee+998LUqVND8+bNtQ282xtuuEGbcPXVVxc0hfc8d+5c7S/nRsm+VAc3xtBXX32ljy9cuDDMnz/fiip6zHvH9pD9Dr777jsdk4wrGydgzrXVa89wLFX2559/ru+QoxE40e9vv/02Hv+NVTI1BuhHR6BBEEivxKsj6f3973+PV+rCzLTdr732WizVCEPS81133TXabrvt4rwXX3xx3EeZiKJDDjkkvic/7uiyyy6LZCKJzjrrrIL022+/PTJJr0OHDpFMmPH9UaNGxWX+6le/itMp79RTT41kgtH7119/fcFzm2++eSQTpt4zSQ8p8pNPPikog3L4QzqB8urgWdqXfIbzLElPJkXNR1/23Xff+JkLLrgg6t69e3x9/PHHR8LotO6ZM2dGtNvKpy5hbnpPJt7ooIMOiu+Rh2thgpEwOU3nfSTb16NHj4h21CWlxxeYW/t538KgI1F3RqJijhhD1tehQ4dG6667bpwXDIVhant5via4WTmiwozL69y5cyQLI+16WtLLe8dJrGgzbdlrr70KxtZtt90Wbb311nFdI0aMiB/LK1sWSwW/F8oGI+ihhx7S8nhnyfFPXeVK9p45Gsn5/19Yoh8dgfpEID0pJZkek4X92QA29SY/PtIeeOABbS6TFNfDhw+PjOlxzYQAs7PnRYLT/DZBb7/99lG/fv3iCQ4GN2HChPiHffrpp0czZsyImR7lDBkyJBo8eLCWSfsgJk/ucX3ttdfGKrRbb701YjLhHgz4qaeeii655BK9hsFAxvRQb8rKPBIbT8S9k08+WfPxLGl5dVAOTJa89Om6665TZsd1HtPjPljQTs7t+RtvvDHGRGybkUgQMcMTiTReGMAgISY/nuVa7J5x3UzMxvS4z3uzvFyLhKvP19W/9Piinp49e8Z9pQ3gc+mll0Zff/21NoM2kc77gknAoLhmbNligevq4EaBjAmrByZiTM4WYXaNerPUO9YGLvtnTI+yGcN9+vSJ+wXONs6qM0Yp8vDDD9fnBwwYUDAeRMqLmR51DRo0KOrfv39cV10vXJJ9rsk5bbU/e06unekZGH5sGATSk1KS6bVv3z6yP5MwjOnBPBi/3bp104bbyhYGk2R6ooLR+8b4kKaSkqLdHzdunJbHRAftueeeep226TEBGtkPCoZwxRVXaP4TTjgh4hljZEg3og7Ue+TneaQ+K5eyLG/SpoeEaBIYUp6olXLroBxbgcOkobFjx2q9pZieqNw0v02+U6ZM0Wub7CdPnhyJo0dcFm03xkCfkJohUVlq+l133RVLDEjISaaHRAh17dpVy3vmmWf0uq7+pccX9TBJP/bYYzp27B1y5J3bBC6qvPg9Msa4jwYgyfSqgxv1GdOzvrLwojzGLGS4w/TyxpFmTvwzpmfliNpUy6VsxiTMinP+YOilykbKff/996NZs2bposnaTbkm6dn4T+LAQq0cyfrO0Uh3ZJEEJ0egLBF45ZVX4naJRBdOPPHE+Fp+fGqXmTRpUsCz85133gnCJEKrVq3UlkFGYZRh/fXX12d22GEHPYoKMGDXgYTBxfd33nlnTcMel0dbbLFFfFuYTBAGGrCpUC5EO/kzwn7Vpk2bIIwuiDQahIHoH/fFWSaIxGhZ46NMKEGkNu2XTGhBJuiw2mqr5daBrY22QNtuu60e8UysDtEPaJ111tEjuEGWTtnWP5kUg2GpmeQf97ATHXrooYH7MlmGNddcU2/LZGPZ9H2suuqqer3hhhvqkbLrk7Cpzp49O7Rs2TJMnDhRbVTYbw877LAgTETHEf3Ge1iYlDZNmJIeeS9JMnzycEvm//GPf6yX7dr9b4N17HtpMpyzxlE6r13bmLR2gP9aa62lt2kj4yL5DouVLYuvcMYZZ6itnOewRULJdwhuELudJMvWxEbwzx1ZGsFL8iZmI7DKKqsEUVPpTZGu9HjSSScVZMYZwxwmmOigFi1aKLPjHAZnnyT8/ve/JymIZKnHlVf+388jPSnbpK2ZEv923313vRJpQF3PmfyfeOIJnUgx+O+0004BBv38888HkTo1r6jUAu7zaYIRyspaJxWY5Pe//33NkldHs2bNlKmQ8c9//rPmxzmmOmR9tbxZfdxll130NkyY/uAYJNJxYGHCpDtw4EBleKK61HtHHHGEFRcfv/e978Xn6TrjG3V8wnvh84BjjjlGHZRWX331sP/++yujpmom+nvvvVcZHuMKR5C0g4s1Md2HLNwsL0exieqlSMp6NGalF8v+5b3jZL7kOQuiJNmCI5nGeV7ZOKqACf3nt4BTkzH7ZDnGTJNpjencJb3G9La8rVUQYFJiQoK5QWJPqpJHVINB7HrBvq8jD5OvOLGEJ598UpnRAQccEO655x59tm/fvnq0VbPYcUKamVapRBL2228/TR45cmT44Q9/GERFpBMnHpmikg20gxU47V1vvfU0L5LpGmusUVAcUivfkEFMZkh80Nprrx3uvPNOPc+qg3KRTq655prQpUuXIA4oYcyYMZq/Nv4xQcPwkKjFnqOS3C233BLEMSVMnz5d20c9LC7EcSLccccdWq1JC7XRhtooAwbHwoYFARKtqDTDb37zm1i6YXFiiwUYJFK2qAW16ixPyJq0SezDgfc7fvx4feyoo46q8njeOCrGfKsUUiQhr+zLL788ltz4JlVU47qIoShRjRYpsXEmm6rTj45AgyCQtrkk7W3JBolKRm0TZtOze9jM5KcX4WVoZDY97IA4snCfP2xpRngVJh1FsF/gxGJk3wXyHE4y5r2Js4CRqHe0XOw/EHYiyrH6sO9hi4MoDwcTu4fTAHYxKGnTowzLkz6SN68ObCvmjMCzOJxwxGaUpqRNxu5Z+/BShITZ6/Pm/INDCzZPa5cwbbUBkZe+2PNgYNhyNJue2UuzyiatLig9vqjjj3/8o9qKrR8c6Yv1m/dpNkfu9erVS/vM+xbJP+6/tdf6bc+ncbMxwdi1OhkbjEEImxzp2PSgvHesGZb9M5seXsgQnsyUQzuNajJG+Y1ZftpkGODMY+PfnK8o3/KaF6rVWS5Hw5qjkYYWkgtJc3IEGgaBFdkFHykCuxySHvYXJByI75OwnwhDVIkLVQ22PVRZaeJbJ2wem2yySZVd2VnZo/b5wQ9+kH4s9xq7DM9kqbv49gkpMqstuYWmbubVgfoRKRHpsC6IbxBRp8pkXqV42rXRRhvp/So3GyAhb3wxfngfSHyoy9MEjkjixdSF6fzFrtEsUBfjyeyCJu0Xe4b0vHec91x17hUrm/bxe9h4442rU0xZ50lGWTA+V/Utl3UXvHGOwP8jcNppp8UqS9RuqK2KEerGYsRkt+mmm2beTtqgMjMUScybMGrKQItUkTspmQ2w2LMrmm7OQVnl5PU9K39DpsG0sxi3takucKwOs7P66xLLYmVjpyx2z9rVmI/O9Brz22vibcdDEVvdlltuGeS7oQLJgokFh5IsR4EmDpt3vwEQYCwi6a2odN8ATa+4Kl29WXGvtPF1KE/91Ph64y0uNwR8fJXbG6m/9mSpN/2ThfrD32tyBBwBR8ARaGAEnOk18Avw6h0BR8ARcATqDwG16SVFwPqr2mtyBBwBR8ARcATqFwF3ZKlfvL02R8ARcAQcgQZAANsupI4sDVC/V+kIOAKOgCPgCNQbAgXf6fEBppMj0FAIfCzBTjcr8p1cQ7XJ660cBHx8Vc67rGlPsr6zdEeWmqLo+R0BR8ARcAQaLQLO9Brtq/OGOwKOgCPgCNQUAWd6NUXM8zsCjoAj4Ag0WgSc6TXaV+cNdwQcAUfAEagpApmfLBA7qXfv3rrjPPGyLK6YFU7cJeJMEWeskjcmtf76seEQIHrChRdeqEE9k/sWSuggDdBKVHJihPXo0SNuJDvEEyePQJhE+CYSdDpmXZzZT5o0AsXGF0F4iaa+YMGCcPDBB4e9995bo1YAFtHF586dW4CbhE/SSOwFiX5RlghkSnrfffddmDBhgk4qBFdMEhPKDTfcoPfZQNXJEagrBBYuXBiOPvro8Oyzz8bhWKhLYo6FPfbYIxDokvA5MLVbb71Vm0GYIKI/E8CUcDFDhgwJBJp1cgTSCBQbXyyWfvazn2mwXMJNnX322cr4JI6eFsH8N2XKlPDuu+/Gf8yZTo0DgUxJz5qOhMeK+dBDD7UkXf3EF4kTXvqHH36oMcSyQqcQz+zTTz8Nm222WTA3UgbR4sWLNYo192CiLVu2LNgtP1GFnzYhBFhln3nmmZk9Jnr07rvvHiZNmqT3JYBnuOyyywJRqSdOnKhRr5EACQt05JFH6gT22muvhR133DGzPBu7rVq1ipmrS4aZUFVMYt74YgHFnHfXXXdpf4nJiCaBiPFE7SBWI0LBPvvsUy08fHxVC6Z6y5Qp6Vntxx13nL7cZKh4RHuJCmxZ9MgAILwLE1GbNm10slq6dKneQw3AoCGgJ2FgJIJzQGUKMXhgcoTdIB7azjvvHPbcc08NYKgZ/F+TRQD10qWXXhruu+++Khhw7xe/+EWcThw9xigqd8bbAQccoAyPDG3bttVYea+88kqcP3kiEaEDsfYYu4xhiZ4dhg0blszi5xWIQN74kmjzAROOkQV9Jc4ccxbEwn3MmDGqhSDIcDHy8VUMmYZLz2V6nTp1UnueqTg//vjjMGPGDBX1rckffPBBOOWUU3SVjf4bBsgqasSIEZrliiuu0AmIfOjPe/bsqSonG0hkYiU0Z84cLZtB9fjjj1vxfmyiCGDHQ3LLijzOirt58+YxMqZZQFuAhJcOGIvdmXtpeuONN0Lfvn1VSpw/f74yWZvU0nn9urIQyBtfaA5QjUMs3n/5y1+G9u3b64IeZgkddNBBYeTIkapK79KlS1iyZImmJ//5+EqiUT7nuUwPx4HDDz9cbXs0GXUSjDA5qUydOlV706FDh/D6668HolDvtttu4amnntJ09N9jx47VQTFz5sxgevFvv/1W7/OvT58+Ad050iArbuyGTo5AFgJsJYRUhy3PiDEHMaZQkSfvkQ7jTI430qDp06froq5Xr14aPfvUU08NG2200f9u+v8mjwDjDHswZhsYXLNmzZQZMl+xSH/xxRd1gf/qq6+Ge+65pwpePr6qQFIWCbk2PVqIbrt79+46mYwbN66KnQXpDUIVlaQNNthAL998881w/vnnq/MBNhNbQdk+aGSylTrna6+9NgcnRyATASKCwJi+/PLL+P5XX32l59iLkeqS97jx+eefx+MufkhOcIhBpWnSJOqrdu3aJbP4eRNFAM0AdjyOkydPVlseUODFyZ8RDlXbbLNNYJ5Lk4+vNCLlcZ0r6dFEbGw4tIwaNUodBDp37lzQciYa6Ne//rW6iOP5RN6hQ4cGPOlQfeJSjnpz9uzZsSddUr3poY0KIPWLEggwyZiaiax8vgCxoMJGjNOKEZIfXnYtWrSwpPiIjRnthNmsUbOb5iLO5CdNDoFPPvkkHHjggdpvxgPOK0bMbYMGDbLLgD0Ps88uu+wSp9mJjy9DoryOJZkeq2A84LDN8b3KeuutV9AD1J0Q3nO8fCYc9N2/+93vYk+4ddddN6y11lph3rx54brrrtP8WeomveH/HIESCPBNFJ5148ePD3/605907KGNYGwyVmFyeHhi38N2s6lsZo0LeprM+65fv36qqurfv386i183QQQYM4whjsxZqDH5W7RokZpgbr/9dvVdwAzDt8osmoxJJuHy8ZVEo3zOM5meSV52tE8WsO8lCXUQKsuHH35YvZh+8pOfhG7duilzPO+889S2ApNDLYodsGPHjuHYY4/VIpisrHw7Jsv2c0cABBhjUHKMsPhCg4ANjtU0zA4mB/3oRz9S7+BrrrlGP1FgnGFvYdGVpjXXXFM/ccB5hXHLZzWM5+RH8Oln/LqyEEiPL8aA+SMcf/zxOi4YG/zhmIJqc8CAAWHgwIGq1mTxhYcmC6s0+fhKI1Ie1ytJM6LaCi3EgME+Z44F1kVUmayK8LizQWb3/OgILG/ol2+++UZV6HyPlyZU64zrPMcUmB3OBngUMy5Rb+600076MfI555yTLtKvGykCyzu+8rqLTwLzHYv55IIs+YyPryQaDXNu34RTu/mRlHRkqUlTk16dyeeYUHy7siQifl4bCGRJb1YuC688hkc+bICo5ZEG8Th+5plnAk4xqOedHIE8BGB0peY0H195CDbcvUz1ZsM1x2t2BOoPATyFsQuuv/764bHHHlNPTr5JRcXp5AisKAI+vlYUwbp5vlbVm3XTRC+10hGoC/VTpWPm/as+Aj6+qo9VpeXMUm+6pFdpb9n74wg4Ao6AI1AUAbXpsRJycgQaEgEfgw2JfuXX7eOr8t9xqR4uWLaRiqo3zaul1EN+3xGoCwQYjC2W7XVYF+V7mU0bAR9fTff9Jz1rjc+5erPpjgfvuSPgCDgCTQ4BZ3pN7pV7hx0BR8ARaLoIONNruu/ee+4IOAKOQJNDwJlek3vl3mFHwBFwBJouAkWZHts43XzzzRpaiIjm7HXIjhVJInQGm/rWNrHHHRsH04YVJbaWoix23ShFNcmbV9Zpp52m21vl5bF7RPS2zbdr8pw970dHwBGoOQJE32BDAjYvJ0gsMfOSRBSPIUOGhBNPPDE8+OCDyVt+3sgRKMr02I9w8ODBYcMNN1SmwT5z7CR+7733xl0m6CuhWWqbiGHFJtXJ8EPLWwdBaynrs88+K1lETfLmFUYU7sWLF+dl0Xswd0KSWGib6j5XsmDP4Ag4ArkIsIn+RRddFFq3bq0RFAgf9Nxzz+kzxAhl8/xp06bppvlsPA1jdKocBMSTs5Bkwo6ke9Gtt95acEP2JIy23357TZOVkuYZM2ZMJBJSnE+kv0jCC0USuDNOE4ktkrAcei3MM5JwHRFpaZJJP5KNqSPZCkrLFgkoziKbB0fCYCORLOM0TiRgaCQxrbTMpUuXxve++OKL6P3334+sL88//3x8L32Sl1cYYfTee+9FshKMhAnro6TRH+pNEmn0y9pk98hHGbSf9kCU9dvf/lb7KWFMtKz0c+ST2F7aZ6ubNHChHNIoV0I6kdxoaf6CBY227d7w8kcgPb4k0rn+7vg9Gu26666RaIT0UqJ3RBJH1G5Ft912WyTh0SLZ4DxOS58Io4yY+2xuSP5e03n9uv4QgI/Zn9UK67bz+MjEzUuWUEKRSF1xOhPwnDlz9BrmZ4VdddVVkUQOjrbeeus4jXvXXnut5hWJRtNPOOGE+P52222nEzoZYJAMOivPzpncYQRdu3aN75HnkEMOiZkm1xJeRu+3b99eB51IqXH+Dh066HkW02OA5uXlR5HsE+V/8MEHynDA584779T+8e8Pf/iD1iMBTRU7Cbek90TK1GvrG8/B7OizpXGU3f4LnpNgvAX9Bm8WC9Add9yh7aI9VgY/2Mb6Q0tPStpJ/+cI1BIC6fHFnCbx8QpK57d09NFHaxrzj0h28X0Wz/zOmMfSlJ679t13X83L4t6p4RGw+ZGjUaZ6s1mzZqrGfPzxx3Wn+j322CMMGzYsYMPbdttt5fkQqzWffPLJcMkll2g0YeKaidQU0Jf36tUrEJRTJmLNzz9sV6gOsK8J89Q4fKSTVyQXTRPmWaAavO+++9SWSHRsohT/SmJXUSe2MCNUry+99JIGFiW+FfHTpkyZEoiATHy1YpSXl7p69OihmxAvWLAgzJ07NxAf64wzztDYbMLAw/333x8X/dBDDwVhsBpji0QBOIjkqWFrsNVxDn5bbbVVuOGGG8IGG2wQZs2apc+jerUgpzxHyBxixhEpQJisxvHinFiE3IfeeecdbR+BLUXaDo8++qhGtteb/s8RcASKIoDJRiS5+P7EiRP1t4MaE2KuSUaMIT9EeLQ0nXXWWTpfYQNkjiBKh1P5I2AMsMoRtdmoUaMimfxjaUWCwsb5pGuRMCC9XrhwYcTqBjF/8uTJ0emnn64rHtRwJumhVjBCfXDxxRerdIL0g7RoJAFA9VkkPVSGqBZRQbI6u/766/WeMDXNThuSbZII2tH+++9vRUUzZszQ/FmSXl5epDzKpl0vvPCC/tFe0mRgR0hinKOaRL1LH+6++26tl3Nhgip1skqkD8KkIllEqFSK9AkJ09MyhOkVPCdR5zU92WZh5JoGvkh61G2SHRhz/fTTT2s5je1feiXe2Nrv7S1vBPLGlzA8/e3069dPO8Fvit+SLCLjTi1ZskTTJLhsnMYJZgvyyiI2Tme+JM0lvRiSBj3hXdifNSQznp4wMJUk9tlnnyDMS/+QVDD8XnjhherJSbDYJM2ePVulICQ5jMMmYUlFcTZbMZGwzjrrqNRikiGGYyOcO4yQgo455pgg6kMNQkuboKQESdwqI7FxBWF6dqnRs+OL1EleXmH4mhvHHSQpI1HLqlPM7rvvHkT1GR555JGwww47qHSbFVkeCUyYpT4uKhSV+LKCnlr5HG1FSUBTox133FFPzSEHjG2LHYsrl8TEnvOjI+AIZCOApgfNDTEVL730Us3Eb4pg12hQjMTEoqctWrSwJD1a8G0c+ozatWtnp34sUwQy1ZuoGEU3HWAKRmussUY46aST9BI1XZLEBhiOOuqo0LlzZ1Vv8pwYgzVLciK2STr5LMxTJCNlapYuUpadKpNFLSoSk0YqFimwSrmoY41gnqg6jfI+VcjLu9lmm2kRqCJRXfAnEmwQSTNsuummeg/VBurXsWPHBtSdxGVLEgsBGJ7Y/lRliUoWVbHYEpPZqpwbE4fRG82cOVNP27RpY0l+dAQcgeVE4KabblKGN2LEiJjhWVEsbPGsNuK3D9lC3tIJUiy29iDaJEsqmHviRD8pKwQyJb29995bVzswPiZ9BgHS34ABA1SKM6kMZsXEznd8EBIMgRPffvvtcPnll2saDKsUoUvHVtepUyeVAEVNGD+CLQtJBhsYUg7SJlSsXGxhYpBW6Qw7mTjTxGWlT/LyYrtEkrviiivCJptsorZNJM5VV11VmTtlUU/fvn1VKhbnlHTxwZgxMZ147tlnnw2jR49WPMmMtAvxo+nYsaOe8w+pDklu+PDhalvARiqetLoQAV8nR8ARWH4ExMwSLrjggsC8g5Qm5gstDJ8EtCtIf9jPsfsxD7Bw5Vvf9KKWh0i/5ZZbAovR1VZbLcBMncofAVN1Fhyx56W9JkWSK3CPx7VXuheJxBOJxBOJWkCvsWlhC+Menx/g2ck59igjyhIGppe4AmM3JA9/3bp10yO2Mrwik56iMlgjYQjRkCFD9Fnyy0emVqwexekmtkHymQV5sJNlUV5ePFWTHpLggQ0vSXiSimQWe5Nyz2x6nJ933nlxv/AEFSap13ilYovDi5X24e2ZfA6bot3jPnVj14RkdaoY6MWyf+RJ2xyS98v5PM/mUs7t9rY1DgTS46t3797xb5Lfjf3ZZwrMO8xplo6PAJ7rWcRvmLz8dpkH8ADlOT6xcmp4BOwdcjQqGVoI1SVSHt5MrGTShL4b6QOJDFUmHpMbb7xxWHnlTM1p+vGCazyfkI6ypBk8NJGYstpQUMiyC7wvaVvSjpiVj7RSedHdI6mZZFasnGLp2EOR1lCHpElehNoPWEVmqX+RbpF0zW6Xfr4Srj30SyW8xfLtw/KOL2FouisUEmAxwnSx2267qYRIHrRU+EEwb5qmp9iznl73CCTnVOZaKFO9mWwKzCxtwE3eTw4IGJ3Zu5J5qnue5+CRdCGuTnkwqeowPMoqlTcZcr46dafzYA/lL4t4KXnlV7cPWWV7miPgCCw/AlmL73RpLIiPOOKIIN6furMS5hCc/ZzhpZEqn+uSTK98muotcQQcAUegvBA4++yz1d8Aez2LZ7Yr47tcp/JFoKR6s3yb7i2rFASWV/1UKf33ftQtAj6+6hbfci49S71Zc8NbOffQ2+YIOAKOgCPgCOQgoJLen5Z9h5KTz285Ao6AI+AIOAKNCoGftG0bt1e8ePVcmZ7tLBDf9RNHoB4R+Fg2O9hs2Qf/9VitV9VEEPDx1URedEY3k06C5r3p6s0MoDzJEXAEHAFHoDIRcKZXme/Ve+UIOAKOgCOQgYAzvQxQPMkRcAQcAUegMhHI/E6PHUT4/oSIBrbJtHVfwvjojitssFybdM4554QTTzwxEL2gPomdE9gnVLYp0+gMAwcOrM/qtS42tOX7HnZ9ZzOA+iB2zmEnmryNB+qjHV6HI+AIOAJZCDA3Swi3INsr6uYesuWj7ktsnyEQfABelSSiZdj9ZHryPFPSo7Innngi9OnTR6MLJB9gc2SiMNQ2EYQ1Hb2htuvIKm/q1Km6YSybTydDEmXlras0thqbMGFCQbikuqrLypXo0BrM16796Ag4Ao5AOSHARt5s8o8gwDaObMovezprEyVifbj66qs1mLnshxz4k7ir1Wp+SbHizDPPDBLMVHcbSJdIpAP22ySiuBH7Z7JPJNxWgi/qfpXsm4nnDHtyQjQYxpq1tRjx9fAm3WKLLars30mcOfbT5J5JRITpYY886vzoo480OkExTk8UcrY6s1iAsrFsmD9/vraRXRSK7W9JHwmXRGiR1Vdf3bqqR/r26aefBkIRmaeQtYm6uMcLa9myZZWtiYjZlywPjAw/6x+V8DwYJ9OsEbSNPrDtESGJ0n3Pah94ff311/qHtMdOEhBpxEOkrcl3avVTD/2kzZTBNfuJ+lZp9jb86Ag4ArWBABLcjTfeGIYOHRqHqWM+HTlyZEAbJ8EAtJoHH3ywYK6qTt2Zkp49iKiI6q1YuAyJ5h1+/vOfW3YVNZkwkQYJL4TqjLh6hO8gRAcq08GDB2sYDtLYmDVJt912W9hyyy0DQWQJVyTRxvU2TJB4fdtss41u7grTmzZtmt6jfdRJAFeek6gJySL1nECuhBkiiCshQHr27KmTNsFh2SePyZ4yCJOUJrYX4h6bysK0rfy5c+cGpCX6sddeeymzZWUC0XeeId4e4YnoC2FKLDgs/dlvv/0CIZq22mqruEwWAm3luxLCCBkRRxBmay/Z0jnSd9TBhEMhrhfvAkYE5bWPuIcQIVTAHGZLIE3eF/H+2D9VorNrHv5RP5Iw/eBZiQCvDPanP/2ptl8iZOgCJ37ATxwBR8ARWEEEmGcI3ZRFzH3wA+ZHwtJZvNGsvOm0XKZHRPBBgwapSFksGGupgKhMqEhg2AIlfE547bXXdLJGfSohgVSysEZhZ0LdCPMhfp6E5dFb2NxIw+6GGMske9xxx6nUZ8+SnyCvp5xyiiXpkYC0SKtM1h+K+Dtu3LgwZcoUtaHB/GAwSCswIphYksiPeA3jpg+0mdUHwV3ZWJaVB9Ij0hFlSbijAhUlkiTMyhYBvESIzWmRlHhRL7/8sp6TjsRFXah6jXiGlwtTSxIS2sknnxxatWqleFIWm1qjkoby2vfiiy9qHuohrhj9YmFz//33q4qZPrKamjVrlubjHxIr+N58883hkksuCf3799f4hgTslfBRYfr06XFeP3EEHAFHYEUQYC5D0JCQTVoMczERLJgfIUxsCBfERMQfokuXLjon6c0S/3KZHs/CeGB+SC1M4jWlXr16KXOQuHb6KBM1kgSSF5SUYJDmkFqYyHGUYSJftGiRMiryo2Z76623AkFukc6SkcVxhAGkdHRjGBwEoyEiBIFqaQs2tFJEpHNI4m9pHwiqi6oX6YzgukRMR4VLO435J4PbwoAIQIs0iESGpMcigDbRV6RAJGAYqxErGxg7TB7V5b333lvFmYi8SMHkQ9qC8cKUkNJoH9hUp31W56RJkxRzFg4E2KR/hFFCyjXCyQh8GQu8H6TnUaNGqcoVdfUBBxxgWf3oCDgCjkCtITBv3jyds9GCWRBx5iIW9sxXMEC0kjgCcl2KStr0kD5QdaGeK6bmtEqYpNNkdjyLg8eECWXZp4gYbkS0dgh1HZM40kmSQSL9SPBZy140pBGMBrCS9jrUdI888kj8bLET7HgwaLMBks/aiHRz/vnnq2REn7CnQTA1o+RzFqYEiZL+wOyMYPRG9BvGgoTHIgPnnsMOO8xux0diHEJIa8m+gAtMiIFSqn1WGBjjTMPCwAjbXbIvXBvBiFGHYlQeMGCASqIPPPCAMkvL40dHwBFwBFYUAQSPQw89VBf3zDvma5D8qgA/BhblmJ4w62DGyqOSkh4PMxHDSYcPH14gXcG4kozHJuJkhTWJK4UIa2RSlkkdxx57rLqv4sL6wgsvqIETycaoWNBaJmv0v0iJRqgbq/NpBAwbpoMUZYSq1dSo2OWQspDK7BOOJONPO5VQBtIUUlRyRZJWHfMCkaRQOyK2Zzn8IEFCV155ZYzL+PHjdfWDYwlq3lLt0wLkHwwbWyrY2h+eUWBuZPgiydJeVlno02kjzkdJG6A940dHwBFwBJYXAeYiNHP4E7CoNoZHeWggk2YgnAIhBIZSVC2mRyHnnnuuFoiUYsTEC1NADQbDM3dSu1/TIwZJGB8MDycZODwdxYY3evTo8Nxzz6ntDY8enGCymEq6zq5du2oSkzRtRa3JRA2YpcicdNAZ4wXJc6gN7ds29M1IkEhV2CyhpHqzWPmoMPE6wp6HzRFbWpK6d++ujJaozNguswjVKE45tI0yeOnYFbG5mRSd1z4Y7xtvvKESHt+/UAbqASRRGC5toM9pYhHDAgiHJFTPqJPRBhD53ckRcAQcgdpAAD7D4h/NFaYg/AvQ9vGHBgphBj7AHIZGDoEMjRvOgaWo2kyPiW3EiBFanq36YRwHHnig2qSQBnHsYDKFGRlDsqM9k25QMp2JHFUf5aJWRNqAcBDBZkTnW7durdIIDBKJxiRJqyddPmWSl1UBak7sc3iR9u3bV7NSP33LIpgbzIlnscvh1AOToa8wOZxikML4fsSkIqQga4sd02UjnaGTxraInRBvVMjy8+kDTAcsizFn2kzbUIFSBi8bJocHKZ8U5LWPuigffFmocI7jCs4p4IvqElWB2V3Jb+8JhoqjCw5JYIuqGGzA1MkRcAQcgdpAAIdGNGw4q7Ao79atW/yHYIHnOfMnf3jt49+AN351aCXJFLG6XxFixc8kbHarFSkLxxD+UAOmiW838HpM2srSeYpdszpAcoFRmiRULG86nWexDTZv3jxmTORBlWnpxhTSz+Zdo3KFaSftjZYf6RZmgjq1FBXDv1T70t8E8skEtj2zw5aqF29bFjpZ7S/1bPK+74KfRMPPaxsBH1+1jWj5lAcDZB4t9q2wfTtNi81HoVaYXvlA0PhbgqoYNS7SKWpeJK9KJ5+UKv0NN2z/fHw1LP4NWXsW06u2erMhG96U6sYxiG8CUak2BYbXlN6t99URcAQaHgGX9Br+HTT5FvhKvMkPgToFwMdXncJb1oW7pFfWr8cb5wg4Ao6AI1DXCLh6s64R9vIdAUfAEXAEygYBVW+WTWu8IY6AI+AIOAKOQB0gYN6bq9RB2V6kI+AIOAKOgCNQVggskMAAkEt6ZfVavDGOgCPgCDgCdYFALOnZSV1U4mU6AtVBgBVYi2Ubdlcnv+dxBGqCgI+vmqBVeXnT798dWSrvHXuPHAFHwBFwBIog4EyvCDCe7Ag4Ao6AI1B5CDjTq7x36j1yBBwBR8ARKIKAM70iwHiyI+AIOAKOQOUh8H+344dZvdBXygAAAABJRU5ErkJggg==)"
      ],
      "metadata": {
        "id": "gJGqTQbqy8p5"
      }
    },
    {
      "cell_type": "markdown",
      "source": [
        "**7. Check the probability for getting this t-value using a $t$ distribution critical values table.**\n",
        "\n",
        "Remember: the degrees of freedom for this test is $n-1$\n",
        "\n",
        "So, in the example, $n-1 = 24$ and see that a t-value of 6.25 has a p < 0.0001 on each end of the distribution. \n",
        "\n",
        "if this is lower than the significance level set, then we'll reject the $H_0$\n",
        "\n",
        "\n"
      ],
      "metadata": {
        "id": "h1FGzcafP7st"
      }
    },
    {
      "cell_type": "markdown",
      "source": [
        "**8. Alternatively, calculate a test statistic using python.**\n",
        "\n"
      ],
      "metadata": {
        "id": "yoi9ZqYzbxAJ"
      }
    },
    {
      "cell_type": "code",
      "source": [
        "#Values to calculate t-stat\n",
        "\n",
        "mean_candy_samp = df['candy'].mean()\n",
        "\n",
        "mean_candy_hyp = 100\n",
        "\n",
        "#Standard error = mean_candy_samp/sqrt n\n",
        "std_error = np.std(candy, ddof =1) \n",
        "\n",
        "t_stat = (mean_candy_samp - mean_candy_hyp)/std_error"
      ],
      "metadata": {
        "id": "ApTlPKd_gy-i"
      },
      "execution_count": null,
      "outputs": []
    },
    {
      "cell_type": "code",
      "source": [
        "#pass z-scores to normal cdf from scipy.stats\n",
        "\n",
        "from scipy.stats import norm\n",
        "1 - norm.cdf(z_score, loc =0, scale =1)\n"
      ],
      "metadata": {
        "id": "ck0nWIDXF3xl"
      },
      "execution_count": null,
      "outputs": []
    },
    {
      "cell_type": "code",
      "source": [
        "#example code\n",
        "Left-tailed test -> norm.cdf(z_score, loc =0, scale =1)\n",
        "Right-tailed test -> 1-norm.cdf(z_score, loc =0, scale =1)\n",
        "\n"
      ],
      "metadata": {
        "id": "oObWCm6BGJyF"
      },
      "execution_count": null,
      "outputs": []
    },
    {
      "cell_type": "code",
      "source": [
        "#confidence intervals in scipy.stats for normal distribution\n",
        "import numpy as np \n",
        "import scipy.stats as st\n",
        "a = range(10, 14)\n",
        "st.t.interval(0.95, len(a) -1, loc = np.mean(a), scale = st.sem(a))\n"
      ],
      "metadata": {
        "id": "rtPGbm9Q-hju",
        "colab": {
          "base_uri": "https://localhost:8080/"
        },
        "outputId": "0278a362-0b86-4029-fff3-0f441b215543"
      },
      "execution_count": null,
      "outputs": [
        {
          "output_type": "execute_result",
          "data": {
            "text/plain": [
              "(9.445739743239121, 13.554260256760879)"
            ]
          },
          "metadata": {},
          "execution_count": 2
        }
      ]
    },
    {
      "cell_type": "code",
      "source": [
        "from scipy.stats import sem, t\n",
        "data = [1, 2, 3, 4, 5]\n",
        "confidence = 0.95\n",
        "z_score = 1.96\n",
        "sample_mean = \"define value\"\n",
        "\n",
        "# Compute the standard error and margin of error\n",
        "std_err = sem(data)\n",
        "margin_error = std_err * z_score\n",
        "\n",
        "# Compute and print the lower threshold\n",
        "lower = sample_mean - margin_error\n",
        "print(lower)\n",
        "\n",
        "# Compute and print the upper threshold\n",
        "upper = sample_mean + margin_error\n",
        "print(upper)"
      ],
      "metadata": {
        "id": "wUIdfTm6ASq0",
        "colab": {
          "base_uri": "https://localhost:8080/",
          "height": 240
        },
        "outputId": "69a0286d-a1cc-4d58-b15e-a604519d724b"
      },
      "execution_count": null,
      "outputs": [
        {
          "output_type": "error",
          "ename": "NameError",
          "evalue": "ignored",
          "traceback": [
            "\u001b[0;31m---------------------------------------------------------------------------\u001b[0m",
            "\u001b[0;31mNameError\u001b[0m                                 Traceback (most recent call last)",
            "\u001b[0;32m<ipython-input-5-0070e394a391>\u001b[0m in \u001b[0;36m<module>\u001b[0;34m\u001b[0m\n\u001b[1;32m      9\u001b[0m \u001b[0;34m\u001b[0m\u001b[0m\n\u001b[1;32m     10\u001b[0m \u001b[0;31m# Compute and print the lower threshold\u001b[0m\u001b[0;34m\u001b[0m\u001b[0;34m\u001b[0m\u001b[0;34m\u001b[0m\u001b[0m\n\u001b[0;32m---> 11\u001b[0;31m \u001b[0mlower\u001b[0m \u001b[0;34m=\u001b[0m \u001b[0msample_mean\u001b[0m \u001b[0;34m-\u001b[0m \u001b[0mmargin_error\u001b[0m\u001b[0;34m\u001b[0m\u001b[0;34m\u001b[0m\u001b[0m\n\u001b[0m\u001b[1;32m     12\u001b[0m \u001b[0mprint\u001b[0m\u001b[0;34m(\u001b[0m\u001b[0mlower\u001b[0m\u001b[0;34m)\u001b[0m\u001b[0;34m\u001b[0m\u001b[0;34m\u001b[0m\u001b[0m\n\u001b[1;32m     13\u001b[0m \u001b[0;34m\u001b[0m\u001b[0m\n",
            "\u001b[0;31mNameError\u001b[0m: name 'sample_mean' is not defined"
          ]
        }
      ]
    },
    {
      "cell_type": "markdown",
      "source": [
        "#2. Two-sample *t*-test \n",
        "\n"
      ],
      "metadata": {
        "id": "IhqVuuJJhLiv"
      }
    },
    {
      "cell_type": "markdown",
      "source": [
        "**Hypothesis Test: Difference between Two Means**\n",
        "\n",
        "A method used to test whether unknown population means of two groups are equal or not."
      ],
      "metadata": {
        "id": "6_YaPF7v61DX"
      }
    },
    {
      "cell_type": "markdown",
      "source": [
        "**1. Stating the Hypotheses:**\n",
        "\n",
        "$H_0:$\n",
        "\n",
        "$H_a:$"
      ],
      "metadata": {
        "id": "IkP5uwMcmraY"
      }
    },
    {
      "cell_type": "markdown",
      "source": [
        "**Example**\n",
        "\n",
        "We have an idea, a hypothesis that that the underlying population mean of two groups are different. Specifically, we hypothesize that children eat more candy than adults on fridays.\n",
        "\n",
        "\"Children and adults  eat the same amount of candy (Fredagsslik)\"\n",
        "\n",
        "$$H_0: \\mu_1 = \\mu_2$$\n",
        "\n",
        "Then, we sample to see if the actual mean of adults is lower from the mean of children.\n",
        "\n",
        "$$Ha: \\mu_1 < \\mu_2$$\n",
        "\n"
      ],
      "metadata": {
        "id": "JPsVeX5fkmKM"
      }
    },
    {
      "cell_type": "markdown",
      "source": [
        "**2. Determine type of test**\n",
        "\n",
        "\n",
        "1. $H_a \\neq H_0$  (two-tailed test)\n",
        "2. $H_a < H_0$ (left-tailed test) \n",
        "3. $H_a > H_0$ (right-tailed test)"
      ],
      "metadata": {
        "id": "zRFMMHnUsuPV"
      }
    },
    {
      "cell_type": "markdown",
      "source": [
        "**3. Checking conditions for inference**\n",
        "\n",
        "*We can use this test when the following assumptions are met about the data*:\n",
        "\n",
        "*     Independent observations\n",
        "* Random sampling from two normal distributions\n",
        "*   Two independent groups have equal variance"
      ],
      "metadata": {
        "id": "jHEpGmMUidxv"
      }
    },
    {
      "cell_type": "markdown",
      "source": [
        "**4. Setting the significance level**\n",
        "\n"
      ],
      "metadata": {
        "id": "I0HDZrCTnI9h"
      }
    },
    {
      "cell_type": "markdown",
      "source": [
        "**5. Checking the data**\n",
        "\n",
        "*   sample size\n",
        "*normally distributed\n",
        "* outliers\n",
        "\n"
      ],
      "metadata": {
        "id": "Pkf9plGBtKRH"
      }
    },
    {
      "cell_type": "markdown",
      "source": [
        "**6. Calculating a t-test statistic**\n",
        "\n",
        "Finding the difference between two sample averages using a t-statistic.\n",
        "\n",
        "$$t =  \\frac {\\bar{x_{1}} - \\bar{x_{2}}} {\\sqrt{\\frac {s_{1}^2}{{n_{1}}}+\\frac{s_{2}^2}{{n_{2}}} }}$$\n",
        "\n",
        "**Example:**\n",
        "\n",
        "\"Do children on average eat more fredagsslik than adults\"\n",
        "\n",
        "$$H_0: \\mu_{children} = \\mu_{adults}$$\n",
        "$$H_a: \\mu_{children} > \\mu_{adults}$$\n",
        "\n",
        "We sample 25 children and 25 adults, $n =25$ and find that children eat $\\bar{x}$ = 140 grams of fredagsslik, with a standard deviation $s_x$ of 5 grams and adults eat $\\bar{x}$ = 120 grams of fredagsslik, with a standard deviation $s_x$ of 15 grams. Now is this a significant difference?\n",
        "\n",
        "$$t =  \\frac {\\bar{x_{children}} - \\bar{x_{adults}}} {\\sqrt{\\frac {s_{children}^2}{{n_{children}}}+\\frac{s_{adults}^2}{{n_{adults}}} }}$$\n",
        "\n",
        "$$t =  \\frac {140 - 120} {\\sqrt{\\frac {25}{{25}}+\\frac{225}{{25}} }}$$\n",
        "\n",
        "$$t =  \\frac {20} {{10}} = 2$$\n"
      ],
      "metadata": {
        "id": "zz2kYXJVtisI"
      }
    },
    {
      "cell_type": "markdown",
      "source": [
        "![Screenshot 2022-10-27 at 11.36.56.png](data:image/png;base64,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)"
      ],
      "metadata": {
        "id": "HPyCsIcJzWhd"
      }
    },
    {
      "cell_type": "markdown",
      "source": [
        "**7. Check the probability for getting this t-value using a $t$ distribution critical values table.**\n",
        "\n",
        "Remember: the degrees of freedom for this test is $n-1$\n",
        "\n",
        "\n",
        "\n",
        "We can use a t-statistics table to determine the p-value.\n",
        "\n",
        "**Example:**\n",
        "\n",
        "**P-value**\n",
        "\n",
        "So, in the example, degrees of freedom: $n-1 = 24$ and we aim to see if a t-value of 2 has a p < 0.05 on a one-tailed distribution. \n",
        "\n",
        "Since the p-value is lower than the significance level set $\\alpha = 0.05$, then we'll reject the $H_0$\n",
        "\n",
        "**Confidence intervals**\n",
        "\n",
        "we can also calculate the confidence intervals as a way to determine if we can reject the $H_0$. \n",
        "\n",
        "$$ci =   {\\bar{x_{children}} - \\bar{x_{adults}}} \t\\pm t {\\sqrt{\\frac {s_{children}^2}{{n_{children}}}+\\frac{{s_{adults}^2}}{{n_{adults}}} }}$$\n",
        "\n",
        "$$ci =   {140} - {120} \\pm 2 {\\sqrt{\\frac {25}{{25}}+\\frac{225}{{{25}}} }}$$\n",
        "\n",
        "$$ci =   {20}\\pm 2 {\\sqrt{10}}$$\n",
        "\n",
        "$$ci =  {20}\\pm {6.32}$$\n",
        "\n",
        "Since the 95% ci (ci = 1-$\\alpha = 0.95$) does not overlap with 0, that is, $H_0$ hypothesis that mean difference is : $$ \\mu_{children} -\\mu_{adults} = 0 $$ Then we can reject the $H_0$."
      ],
      "metadata": {
        "id": "WdHmCRnf7WVO"
      }
    },
    {
      "cell_type": "markdown",
      "source": [
        "**8. Alternatively, calculate a test statistic using python.**"
      ],
      "metadata": {
        "id": "Xi0hSIky-MCd"
      }
    },
    {
      "cell_type": "markdown",
      "source": [
        "#3. Paired t-test (or matched pairs t-test)"
      ],
      "metadata": {
        "id": "lr98thV4SBAo"
      }
    },
    {
      "cell_type": "markdown",
      "source": [
        "**Hypothesis test: Difference between Mean Pairs**\n",
        "\n",
        "A test to measure a difference between a pair of measurements (like before and after a treatment) and whether this difference is zero or not."
      ],
      "metadata": {
        "id": "TV4sL3eJaQks"
      }
    },
    {
      "cell_type": "markdown",
      "source": [
        "**1. Stating the Hypotheses:**\n",
        "\n",
        "$H_0:$\n",
        "\n",
        "$H_a:$"
      ],
      "metadata": {
        "id": "mzBfCqNzqAgd"
      }
    },
    {
      "cell_type": "markdown",
      "source": [
        "**Example:**\n",
        "\n",
        "The weight is measured of family members, who stop eating fredagsslik for one month. For each member, the weight is measured before-and-after. We want to know if this small dietary change is enough to lower the mean weight. \n",
        "\n",
        "The hypotheses concern a new variable $mu_{diff}$, which is based on the difference between paired values from two data sets.\n",
        "\n",
        "$$\\mu_{diff} = \\mu_{before} - \\mu_{after}$$\n",
        "\n",
        "$$H_0: \\mu_{diff} = 0$$\n",
        "\n",
        "The alternative hypothesis is that the population mean  is less than zero.\n",
        "\n",
        "$$Ha: \\mu_{diff} < 0 $$\n"
      ],
      "metadata": {
        "id": "5Wze9rxxmaBE"
      }
    },
    {
      "cell_type": "markdown",
      "source": [
        "**2. Determine the type of test**\n",
        "\n",
        "1. $H_a \\neq H_0$  (two-tailed test)\n",
        "2. $H_a < H_0$ (left-tailed test) \n",
        "3. $H_a > H_0$ (right-tailed test)\n"
      ],
      "metadata": {
        "id": "Irp2gFFoqBSL"
      }
    },
    {
      "cell_type": "markdown",
      "source": [
        "**3. Checking conditions for inference**\n",
        "\n",
        "*We can use this test when the following assumptions are met about the data*:\n",
        "\n",
        "* Random sampling for each sample   \n",
        "* Each of the paired measurements are obtained from the same subject (so sample is not independent).\n",
        "*   The population distribution is normally distributed"
      ],
      "metadata": {
        "id": "KThaOwRiqsJi"
      }
    },
    {
      "cell_type": "markdown",
      "source": [
        "**4. Setting the significance level**\n",
        "\n",
        "$\\alpha:$"
      ],
      "metadata": {
        "id": "Bzg2lCzjsbMH"
      }
    },
    {
      "cell_type": "markdown",
      "source": [
        "**5. Checking the data**\n",
        "\n",
        "*   sample size\n",
        "*normally distributed\n",
        "* outliers"
      ],
      "metadata": {
        "id": "Nx8oMqvzsgJE"
      }
    },
    {
      "cell_type": "markdown",
      "source": [
        "**6. Calculating the test statistic**\n",
        "\n",
        "Finding the difference between two pairs averages using a t-statistic.\n",
        "\n",
        "**Example:**\n",
        "\n",
        "\n",
        "$$standard \\: error = \\frac{s_{d}}{\\sqrt{n}}$$\n",
        "\n",
        "degrees of freedom\n",
        "\n",
        "Test statistic\n",
        "\n",
        "\n",
        "p-value \n"
      ],
      "metadata": {
        "id": "rMnYP65SuQLH"
      }
    },
    {
      "cell_type": "markdown",
      "source": [
        "![Screenshot 2022-10-31 at 13.38.51.png](data:image/png;base64,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)"
      ],
      "metadata": {
        "id": "op7iw15rDXs3"
      }
    },
    {
      "cell_type": "markdown",
      "source": [],
      "metadata": {
        "id": "KG7WqkwUDabX"
      }
    },
    {
      "cell_type": "markdown",
      "source": [
        "**Gotta finish this one..**"
      ],
      "metadata": {
        "id": "bAvRauQoLAhF"
      }
    }
  ]
}