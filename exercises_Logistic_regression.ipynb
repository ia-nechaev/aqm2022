{
  "nbformat": 4,
  "nbformat_minor": 0,
  "metadata": {
    "colab": {
      "provenance": []
    },
    "kernelspec": {
      "name": "python3",
      "display_name": "Python 3"
    },
    "language_info": {
      "name": "python"
    }
  },
  "cells": [
    {
      "cell_type": "markdown",
      "metadata": {
        "id": "view-in-github",
        "colab_type": "text"
      },
      "source": [
        "<a href=\"https://colab.research.google.com/github/ia-nechaev/aqm2022/blob/main/exercises_Logistic_regression.ipynb\" target=\"_parent\"><img src=\"https://colab.research.google.com/assets/colab-badge.svg\" alt=\"Open In Colab\"/></a>"
      ]
    },
    {
      "cell_type": "markdown",
      "source": [
        "#Logistic regression\n",
        "\n",
        "Regression models are a class of statistical models that let you explore the relationship between a **categorical response variable and some explanatory variables**. That is, given some explanatory variables, you can make predictions about the value of the response variable. In our case, we will focus on a binary response variable, which allows for two outcomes (e.g., yes, no).\n",
        "\n"
      ],
      "metadata": {
        "id": "cJura9G0viYU"
      }
    },
    {
      "cell_type": "markdown",
      "source": [
        "Let's assume we count an outcome.\n",
        "\n",
        "**Liqourice lovers:**\n",
        "\n",
        "Yes = 50\n",
        "\n",
        "No = 75\n",
        "\n",
        "$prob = \\frac {50 }{100 }$ = 0.50 = 50%\n",
        "\n",
        "$odds = \\frac {50 }{75 }$ = 0.66 = 66%\n",
        "\n",
        "When we predict the probability of the outcome occuring from a logistic regression, we do so in log odds:\n",
        "\n",
        "It is just the log of odds:\n",
        "$log \\: odds = ln(0.66) = -0.41$\n",
        "\n"
      ],
      "metadata": {
        "id": "h0sCvjFbGJ9G"
      }
    },
    {
      "cell_type": "markdown",
      "source": [
        "With this in mind,\n",
        "\n",
        "Take a look at the formula for logistic regression:\n",
        "\n",
        "$log(odds) [Y] = b_0 + b_1x_i + e_i$\n",
        "\n",
        "or:\n",
        "\n",
        "$ln(\\frac {P(Y) }{1-P(Y) }) = b_0 + b_1x_i + e_i$\n",
        "\n",
        "\n",
        "$b_1$ is still a change in the outcome from the unit change in the predictor, except now it is the log odds of the outcome occuring.\n",
        "\n",
        "However, we can work with this, because we know that: \n",
        "\n",
        "$$ln(1) = 0$$\n",
        "\n",
        "$$exp(0) = 1$$\n",
        "\n",
        "Therefore, \n",
        "\n",
        "$exp(b) = \\frac {odds \\: after \\:a \\:unit \\:change\\: in \\:the \\:predictor}{original\\: odds} $\n",
        "\n",
        "$exp(b_0)$, the odds of outcome when predictor is 0\n",
        "\n",
        "$exp(b_1)$ = the odds ratio associated with a unit change in the predictor\n",
        "\n",
        "Then, we can express outcomes in terms of odds/odds ratios, and not odd logs.\n",
        "\n",
        "These are easier to interpret, that is:\n",
        "\n",
        "OR > 1, when the predictor goes up, so does the probability of outcome  \n",
        "OR < 1, predictor goes up, and the probability of the outcome goes down\n",
        "\n",
        "OR > 1, percentage change = (OR -1) * 100\n",
        "\n",
        "OR < 1, percentage change = 1/OR -1) * 100 \n"
      ],
      "metadata": {
        "id": "MAq-ImyLgSS3"
      }
    },
    {
      "cell_type": "markdown",
      "source": [
        "In logistic regression, our probabilities are not linear and therefore cannot be summarized in the two variables, slope and intercept, directly. \n",
        "\n",
        "But by taking the log odds we can transform our probabilities into a linear format. This makes for great modelling, but poor interpretation. \n",
        "\n",
        "Log odds, what are they really? No one really knows, nor what to compare them. Here, we focus on reporting the odds, instead. \n",
        "\n"
      ],
      "metadata": {
        "id": "iS2p2Ap9qzdM"
      }
    },
    {
      "cell_type": "markdown",
      "source": [
        "**Example:**\n",
        "\n",
        "Research has shown that we are better able to remember information that we are curious about. Here, we want to test/replicate these findings.\n",
        "\n",
        "$H_0$ : remembering is the same whether one is curious or not\n",
        "\n",
        "$H_a$ : remembering is better if one is curious\n",
        "\n",
        "So, we randomly sample 200 people by giving them each a trivia question and ask them if they are curious about the answer. We record their answer as \"curious\" or \"not curious\" Then, we give them the answer.\n",
        "\n",
        "Later, we ask them: \"Do you remember what the answer is?\" If they correctly remember we record this as \"remembering\", else we record this as \"forget\". Below is a table of the data."
      ],
      "metadata": {
        "id": "8P_1bYGxxk4J"
      }
    },
    {
      "cell_type": "markdown",
      "source": [
        "![Screenshot 2022-11-07 at 16.13.51.png](data:image/png;base64,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)"
      ],
      "metadata": {
        "id": "bk1MV-Ibp-lR"
      }
    },
    {
      "cell_type": "markdown",
      "source": [
        "$$Odds_{remembering}:  \\frac {number  \\: of \\: remembering}{forget}$$\n",
        "\n",
        "$$Odds_{remembering} = \\frac {125}{75}= 1.67$$\n",
        "\n",
        "$$Odds_{remembering\\:after \\:curious}: \\frac {remembering \\:after\\: curious}{forgetting \\:after\\: curious}$$\n",
        "\n",
        "$$Odds_{remembering\\:after \\:curious}= \\frac {75}{14}= 5.36$$\n",
        "\n",
        "$$Odds_{remembering\\:after\\:not \\:curious}: \\frac {remembering \\:after\\:not \\: curious}{forgetting \\:after\\: not \\:curious}$$\n",
        "\n",
        "$$Odds_{remembering\\:after\\:not \\:curious} = \\frac {50}{61}= 0.82$$\n",
        "\n",
        "Finally, The (regression) test compares things to see if there is a difference (odds). Regression measures this difference through the rate of change (odds ratio) by jumping from not curious to curious. \n",
        "\n",
        "$$Odds_{ratio} = \\frac {Odds  \\: remembering \\: after \\: curious}{Odds  \\: remembering \\: after \\: not \\:curious}$$\n",
        "\n",
        "$$Odds_{ratio} = \\frac {5.36}{0.82}= 6.54$$\n",
        "\n",
        "So the odds of remembering after being curious is 6.54 higher than the odds of remembering when not curious. \n",
        "\n"
      ],
      "metadata": {
        "id": "IiWvV4yENv-k"
      }
    },
    {
      "cell_type": "code",
      "source": [
        "import pandas as pd\n",
        "import numpy as np\n",
        "import statsmodels.formula.api as smf\n",
        "import statsmodels.api as sm\n",
        "import scipy\n",
        "\n",
        "\n",
        "df=pd.read_csv('https://raw.githubusercontent.com/ia-nechaev/aqm2022/main/data/log_curious.csv')\n",
        "df.info()"
      ],
      "metadata": {
        "colab": {
          "base_uri": "https://localhost:8080/"
        },
        "id": "iFdIenYe4bw4",
        "outputId": "93cbc2ac-4304-4eb1-832e-0e01c58a7ad3"
      },
      "execution_count": null,
      "outputs": [
        {
          "output_type": "stream",
          "name": "stdout",
          "text": [
            "<class 'pandas.core.frame.DataFrame'>\n",
            "RangeIndex: 200 entries, 0 to 199\n",
            "Data columns (total 3 columns):\n",
            " #   Column       Non-Null Count  Dtype\n",
            "---  ------       --------------  -----\n",
            " 0   curious      200 non-null    int64\n",
            " 1   remembering  200 non-null    int64\n",
            " 2   mood         200 non-null    int64\n",
            "dtypes: int64(3)\n",
            "memory usage: 4.8 KB\n"
          ]
        }
      ]
    },
    {
      "cell_type": "code",
      "source": [
        "#The interpretation is valid, but log odds is not intuitive in it's interpretation. \n",
        "#C(curious) is how we express a categorical predictor\n",
        "\n",
        "log_odds_curious = smf.logit(\"remembering ~ C(curious)\",\n",
        "        data = df).fit()\n",
        "\n",
        "log_odds_curious.summary()\n",
        "\n",
        "\n"
      ],
      "metadata": {
        "colab": {
          "base_uri": "https://localhost:8080/",
          "height": 299
        },
        "id": "Kx3ytAS16HY3",
        "outputId": "73e11233-a6b9-4402-b02f-01f4e69e985a"
      },
      "execution_count": null,
      "outputs": [
        {
          "output_type": "stream",
          "name": "stdout",
          "text": [
            "Optimization terminated successfully.\n",
            "         Current function value: 0.575618\n",
            "         Iterations 6\n"
          ]
        },
        {
          "output_type": "execute_result",
          "data": {
            "text/plain": [
              "<class 'statsmodels.iolib.summary.Summary'>\n",
              "\"\"\"\n",
              "                           Logit Regression Results                           \n",
              "==============================================================================\n",
              "Dep. Variable:            remembering   No. Observations:                  200\n",
              "Model:                          Logit   Df Residuals:                      198\n",
              "Method:                           MLE   Df Model:                            1\n",
              "Date:                Tue, 15 Nov 2022   Pseudo R-squ.:                  0.1299\n",
              "Time:                        16:38:53   Log-Likelihood:                -115.12\n",
              "converged:                       True   LL-Null:                       -132.31\n",
              "Covariance Type:            nonrobust   LLR p-value:                 4.538e-09\n",
              "===================================================================================\n",
              "                      coef    std err          z      P>|z|      [0.025      0.975]\n",
              "-----------------------------------------------------------------------------------\n",
              "Intercept          -0.1989      0.191     -1.042      0.297      -0.573       0.175\n",
              "C(curious)[T.1]     1.8773      0.348      5.393      0.000       1.195       2.559\n",
              "===================================================================================\n",
              "\"\"\""
            ],
            "text/html": [
              "<table class=\"simpletable\">\n",
              "<caption>Logit Regression Results</caption>\n",
              "<tr>\n",
              "  <th>Dep. Variable:</th>      <td>remembering</td>   <th>  No. Observations:  </th>  <td>   200</td>  \n",
              "</tr>\n",
              "<tr>\n",
              "  <th>Model:</th>                 <td>Logit</td>      <th>  Df Residuals:      </th>  <td>   198</td>  \n",
              "</tr>\n",
              "<tr>\n",
              "  <th>Method:</th>                 <td>MLE</td>       <th>  Df Model:          </th>  <td>     1</td>  \n",
              "</tr>\n",
              "<tr>\n",
              "  <th>Date:</th>            <td>Tue, 15 Nov 2022</td> <th>  Pseudo R-squ.:     </th>  <td>0.1299</td>  \n",
              "</tr>\n",
              "<tr>\n",
              "  <th>Time:</th>                <td>16:38:53</td>     <th>  Log-Likelihood:    </th> <td> -115.12</td> \n",
              "</tr>\n",
              "<tr>\n",
              "  <th>converged:</th>             <td>True</td>       <th>  LL-Null:           </th> <td> -132.31</td> \n",
              "</tr>\n",
              "<tr>\n",
              "  <th>Covariance Type:</th>     <td>nonrobust</td>    <th>  LLR p-value:       </th> <td>4.538e-09</td>\n",
              "</tr>\n",
              "</table>\n",
              "<table class=\"simpletable\">\n",
              "<tr>\n",
              "         <td></td>            <th>coef</th>     <th>std err</th>      <th>z</th>      <th>P>|z|</th>  <th>[0.025</th>    <th>0.975]</th>  \n",
              "</tr>\n",
              "<tr>\n",
              "  <th>Intercept</th>       <td>   -0.1989</td> <td>    0.191</td> <td>   -1.042</td> <td> 0.297</td> <td>   -0.573</td> <td>    0.175</td>\n",
              "</tr>\n",
              "<tr>\n",
              "  <th>C(curious)[T.1]</th> <td>    1.8773</td> <td>    0.348</td> <td>    5.393</td> <td> 0.000</td> <td>    1.195</td> <td>    2.559</td>\n",
              "</tr>\n",
              "</table>"
            ]
          },
          "metadata": {},
          "execution_count": 6
        }
      ]
    },
    {
      "cell_type": "code",
      "source": [
        "print(log_odds_curious.params)"
      ],
      "metadata": {
        "colab": {
          "base_uri": "https://localhost:8080/"
        },
        "id": "lE2KcK0p1Q0R",
        "outputId": "6376d0b8-c5e7-4a0e-d4cc-d6cc7f6dd544"
      },
      "execution_count": null,
      "outputs": [
        {
          "output_type": "stream",
          "name": "stdout",
          "text": [
            "Intercept         -0.198851\n",
            "C(curious)[T.1]    1.877282\n",
            "dtype: float64\n"
          ]
        }
      ]
    },
    {
      "cell_type": "markdown",
      "source": [
        "**How do we interpret these log odd ratios? Its hard.**\n",
        "\n",
        "But we can convert these $b_0$ and $b_1$ our log odds to odd ratios by using the $exp(b_0)$ and $exp(b_1)$"
      ],
      "metadata": {
        "id": "cosDFqrzwl2e"
      }
    },
    {
      "cell_type": "code",
      "source": [
        "\n",
        "#Let's convert this to odds ratio and interpret the model again. \n",
        "#remember the equation above:\n",
        "#To convert the log odds coefficients and confidence intervals, one needs to take the exponential of the values.\n",
        "\n",
        "\n",
        "odds_ratio_curious = pd.DataFrame(np.exp(log_odds_curious.params), columns= ['OR'])\n",
        "odds_ratio_curious['z-value']= log_odds_curious.tvalues\n",
        "odds_ratio_curious['p-values']=log_odds_curious.pvalues\n",
        "odds_ratio_curious[['2.5%', '97.5%']] = np.exp(log_odds_curious.conf_int())\n",
        "\n",
        "odds_ratio_curious"
      ],
      "metadata": {
        "colab": {
          "base_uri": "https://localhost:8080/",
          "height": 112
        },
        "id": "k_HMxmSLkH0b",
        "outputId": "90f9ab1f-1a9d-40ae-ad47-57e8bb79c807"
      },
      "execution_count": null,
      "outputs": [
        {
          "output_type": "execute_result",
          "data": {
            "text/plain": [
              "                       OR   z-value      p-values      2.5%      97.5%\n",
              "Intercept        0.819672 -1.042356  2.972468e-01  0.563970   1.191309\n",
              "C(curious)[T.1]  6.535714  5.393344  6.915828e-08  3.303788  12.929269"
            ],
            "text/html": [
              "\n",
              "  <div id=\"df-524b74b9-0c8d-451a-9135-65b9be02cab1\">\n",
              "    <div class=\"colab-df-container\">\n",
              "      <div>\n",
              "<style scoped>\n",
              "    .dataframe tbody tr th:only-of-type {\n",
              "        vertical-align: middle;\n",
              "    }\n",
              "\n",
              "    .dataframe tbody tr th {\n",
              "        vertical-align: top;\n",
              "    }\n",
              "\n",
              "    .dataframe thead th {\n",
              "        text-align: right;\n",
              "    }\n",
              "</style>\n",
              "<table border=\"1\" class=\"dataframe\">\n",
              "  <thead>\n",
              "    <tr style=\"text-align: right;\">\n",
              "      <th></th>\n",
              "      <th>OR</th>\n",
              "      <th>z-value</th>\n",
              "      <th>p-values</th>\n",
              "      <th>2.5%</th>\n",
              "      <th>97.5%</th>\n",
              "    </tr>\n",
              "  </thead>\n",
              "  <tbody>\n",
              "    <tr>\n",
              "      <th>Intercept</th>\n",
              "      <td>0.819672</td>\n",
              "      <td>-1.042356</td>\n",
              "      <td>2.972468e-01</td>\n",
              "      <td>0.563970</td>\n",
              "      <td>1.191309</td>\n",
              "    </tr>\n",
              "    <tr>\n",
              "      <th>C(curious)[T.1]</th>\n",
              "      <td>6.535714</td>\n",
              "      <td>5.393344</td>\n",
              "      <td>6.915828e-08</td>\n",
              "      <td>3.303788</td>\n",
              "      <td>12.929269</td>\n",
              "    </tr>\n",
              "  </tbody>\n",
              "</table>\n",
              "</div>\n",
              "      <button class=\"colab-df-convert\" onclick=\"convertToInteractive('df-524b74b9-0c8d-451a-9135-65b9be02cab1')\"\n",
              "              title=\"Convert this dataframe to an interactive table.\"\n",
              "              style=\"display:none;\">\n",
              "        \n",
              "  <svg xmlns=\"http://www.w3.org/2000/svg\" height=\"24px\"viewBox=\"0 0 24 24\"\n",
              "       width=\"24px\">\n",
              "    <path d=\"M0 0h24v24H0V0z\" fill=\"none\"/>\n",
              "    <path d=\"M18.56 5.44l.94 2.06.94-2.06 2.06-.94-2.06-.94-.94-2.06-.94 2.06-2.06.94zm-11 1L8.5 8.5l.94-2.06 2.06-.94-2.06-.94L8.5 2.5l-.94 2.06-2.06.94zm10 10l.94 2.06.94-2.06 2.06-.94-2.06-.94-.94-2.06-.94 2.06-2.06.94z\"/><path d=\"M17.41 7.96l-1.37-1.37c-.4-.4-.92-.59-1.43-.59-.52 0-1.04.2-1.43.59L10.3 9.45l-7.72 7.72c-.78.78-.78 2.05 0 2.83L4 21.41c.39.39.9.59 1.41.59.51 0 1.02-.2 1.41-.59l7.78-7.78 2.81-2.81c.8-.78.8-2.07 0-2.86zM5.41 20L4 18.59l7.72-7.72 1.47 1.35L5.41 20z\"/>\n",
              "  </svg>\n",
              "      </button>\n",
              "      \n",
              "  <style>\n",
              "    .colab-df-container {\n",
              "      display:flex;\n",
              "      flex-wrap:wrap;\n",
              "      gap: 12px;\n",
              "    }\n",
              "\n",
              "    .colab-df-convert {\n",
              "      background-color: #E8F0FE;\n",
              "      border: none;\n",
              "      border-radius: 50%;\n",
              "      cursor: pointer;\n",
              "      display: none;\n",
              "      fill: #1967D2;\n",
              "      height: 32px;\n",
              "      padding: 0 0 0 0;\n",
              "      width: 32px;\n",
              "    }\n",
              "\n",
              "    .colab-df-convert:hover {\n",
              "      background-color: #E2EBFA;\n",
              "      box-shadow: 0px 1px 2px rgba(60, 64, 67, 0.3), 0px 1px 3px 1px rgba(60, 64, 67, 0.15);\n",
              "      fill: #174EA6;\n",
              "    }\n",
              "\n",
              "    [theme=dark] .colab-df-convert {\n",
              "      background-color: #3B4455;\n",
              "      fill: #D2E3FC;\n",
              "    }\n",
              "\n",
              "    [theme=dark] .colab-df-convert:hover {\n",
              "      background-color: #434B5C;\n",
              "      box-shadow: 0px 1px 3px 1px rgba(0, 0, 0, 0.15);\n",
              "      filter: drop-shadow(0px 1px 2px rgba(0, 0, 0, 0.3));\n",
              "      fill: #FFFFFF;\n",
              "    }\n",
              "  </style>\n",
              "\n",
              "      <script>\n",
              "        const buttonEl =\n",
              "          document.querySelector('#df-524b74b9-0c8d-451a-9135-65b9be02cab1 button.colab-df-convert');\n",
              "        buttonEl.style.display =\n",
              "          google.colab.kernel.accessAllowed ? 'block' : 'none';\n",
              "\n",
              "        async function convertToInteractive(key) {\n",
              "          const element = document.querySelector('#df-524b74b9-0c8d-451a-9135-65b9be02cab1');\n",
              "          const dataTable =\n",
              "            await google.colab.kernel.invokeFunction('convertToInteractive',\n",
              "                                                     [key], {});\n",
              "          if (!dataTable) return;\n",
              "\n",
              "          const docLinkHtml = 'Like what you see? Visit the ' +\n",
              "            '<a target=\"_blank\" href=https://colab.research.google.com/notebooks/data_table.ipynb>data table notebook</a>'\n",
              "            + ' to learn more about interactive tables.';\n",
              "          element.innerHTML = '';\n",
              "          dataTable['output_type'] = 'display_data';\n",
              "          await google.colab.output.renderOutput(dataTable, element);\n",
              "          const docLink = document.createElement('div');\n",
              "          docLink.innerHTML = docLinkHtml;\n",
              "          element.appendChild(docLink);\n",
              "        }\n",
              "      </script>\n",
              "    </div>\n",
              "  </div>\n",
              "  "
            ]
          },
          "metadata": {},
          "execution_count": 8
        }
      ]
    },
    {
      "cell_type": "markdown",
      "source": [
        "We can reject the $H_0$ hypothesis and conclude with 95% confidence that the odds of remembering after being curious are 6.54 higher than the odds of remembering after not being curious. "
      ],
      "metadata": {
        "id": "JEiKwtMx6nRS"
      }
    },
    {
      "cell_type": "markdown",
      "source": [
        "**Example, cont.:**\n",
        "\n",
        "Now researchers never finish asking questions. So while we found support for curiosity impacting memory, we start to wonder what it is about curiosity that has that effect. \n",
        "\n",
        "**Curiosity:**  the differences in remembering are simply due to underlying differences in curiosity.\n",
        " \n",
        "**Mood:** people with different curiosity have different moods (they are happier when curious), and that the differences between the curiosity only appear as a consequence of already being in good mood and not due to any difference in curiosity. \n",
        "\n",
        "**Curiosity & Mood:** Both curiosity and mood play a role in influencing our dependent variable, remembering. \n",
        "\n",
        "\n",
        "To answer this question, we collect some more data. Specifically we ask people to rate their mood when they are about to get a trivia answer on a likert scale from 1-7. "
      ],
      "metadata": {
        "id": "oDeIXIFx_iHN"
      }
    },
    {
      "cell_type": "code",
      "source": [
        "!pip install -q researchpy"
      ],
      "metadata": {
        "id": "JbBmoP6F5sPl"
      },
      "execution_count": null,
      "outputs": []
    },
    {
      "cell_type": "code",
      "source": [
        "import researchpy as rp"
      ],
      "metadata": {
        "id": "d-0o-bG85zl7"
      },
      "execution_count": null,
      "outputs": []
    },
    {
      "cell_type": "code",
      "source": [
        "rp.summary_cont(df[['mood']])\n"
      ],
      "metadata": {
        "colab": {
          "base_uri": "https://localhost:8080/",
          "height": 115
        },
        "id": "-QspKKhn5D3j",
        "outputId": "8cc247d7-1d1b-449a-e67c-a005887dd4b7"
      },
      "execution_count": null,
      "outputs": [
        {
          "output_type": "stream",
          "name": "stdout",
          "text": [
            "\n",
            "\n"
          ]
        },
        {
          "output_type": "execute_result",
          "data": {
            "text/plain": [
              "  Variable      N   Mean      SD      SE  95% Conf.  Interval\n",
              "0     mood  200.0  3.735  2.2293  0.1576     3.4242    4.0458"
            ],
            "text/html": [
              "\n",
              "  <div id=\"df-db65796d-9948-4ad2-8e64-2d0a7d994529\">\n",
              "    <div class=\"colab-df-container\">\n",
              "      <div>\n",
              "<style scoped>\n",
              "    .dataframe tbody tr th:only-of-type {\n",
              "        vertical-align: middle;\n",
              "    }\n",
              "\n",
              "    .dataframe tbody tr th {\n",
              "        vertical-align: top;\n",
              "    }\n",
              "\n",
              "    .dataframe thead th {\n",
              "        text-align: right;\n",
              "    }\n",
              "</style>\n",
              "<table border=\"1\" class=\"dataframe\">\n",
              "  <thead>\n",
              "    <tr style=\"text-align: right;\">\n",
              "      <th></th>\n",
              "      <th>Variable</th>\n",
              "      <th>N</th>\n",
              "      <th>Mean</th>\n",
              "      <th>SD</th>\n",
              "      <th>SE</th>\n",
              "      <th>95% Conf.</th>\n",
              "      <th>Interval</th>\n",
              "    </tr>\n",
              "  </thead>\n",
              "  <tbody>\n",
              "    <tr>\n",
              "      <th>0</th>\n",
              "      <td>mood</td>\n",
              "      <td>200.0</td>\n",
              "      <td>3.735</td>\n",
              "      <td>2.2293</td>\n",
              "      <td>0.1576</td>\n",
              "      <td>3.4242</td>\n",
              "      <td>4.0458</td>\n",
              "    </tr>\n",
              "  </tbody>\n",
              "</table>\n",
              "</div>\n",
              "      <button class=\"colab-df-convert\" onclick=\"convertToInteractive('df-db65796d-9948-4ad2-8e64-2d0a7d994529')\"\n",
              "              title=\"Convert this dataframe to an interactive table.\"\n",
              "              style=\"display:none;\">\n",
              "        \n",
              "  <svg xmlns=\"http://www.w3.org/2000/svg\" height=\"24px\"viewBox=\"0 0 24 24\"\n",
              "       width=\"24px\">\n",
              "    <path d=\"M0 0h24v24H0V0z\" fill=\"none\"/>\n",
              "    <path d=\"M18.56 5.44l.94 2.06.94-2.06 2.06-.94-2.06-.94-.94-2.06-.94 2.06-2.06.94zm-11 1L8.5 8.5l.94-2.06 2.06-.94-2.06-.94L8.5 2.5l-.94 2.06-2.06.94zm10 10l.94 2.06.94-2.06 2.06-.94-2.06-.94-.94-2.06-.94 2.06-2.06.94z\"/><path d=\"M17.41 7.96l-1.37-1.37c-.4-.4-.92-.59-1.43-.59-.52 0-1.04.2-1.43.59L10.3 9.45l-7.72 7.72c-.78.78-.78 2.05 0 2.83L4 21.41c.39.39.9.59 1.41.59.51 0 1.02-.2 1.41-.59l7.78-7.78 2.81-2.81c.8-.78.8-2.07 0-2.86zM5.41 20L4 18.59l7.72-7.72 1.47 1.35L5.41 20z\"/>\n",
              "  </svg>\n",
              "      </button>\n",
              "      \n",
              "  <style>\n",
              "    .colab-df-container {\n",
              "      display:flex;\n",
              "      flex-wrap:wrap;\n",
              "      gap: 12px;\n",
              "    }\n",
              "\n",
              "    .colab-df-convert {\n",
              "      background-color: #E8F0FE;\n",
              "      border: none;\n",
              "      border-radius: 50%;\n",
              "      cursor: pointer;\n",
              "      display: none;\n",
              "      fill: #1967D2;\n",
              "      height: 32px;\n",
              "      padding: 0 0 0 0;\n",
              "      width: 32px;\n",
              "    }\n",
              "\n",
              "    .colab-df-convert:hover {\n",
              "      background-color: #E2EBFA;\n",
              "      box-shadow: 0px 1px 2px rgba(60, 64, 67, 0.3), 0px 1px 3px 1px rgba(60, 64, 67, 0.15);\n",
              "      fill: #174EA6;\n",
              "    }\n",
              "\n",
              "    [theme=dark] .colab-df-convert {\n",
              "      background-color: #3B4455;\n",
              "      fill: #D2E3FC;\n",
              "    }\n",
              "\n",
              "    [theme=dark] .colab-df-convert:hover {\n",
              "      background-color: #434B5C;\n",
              "      box-shadow: 0px 1px 3px 1px rgba(0, 0, 0, 0.15);\n",
              "      filter: drop-shadow(0px 1px 2px rgba(0, 0, 0, 0.3));\n",
              "      fill: #FFFFFF;\n",
              "    }\n",
              "  </style>\n",
              "\n",
              "      <script>\n",
              "        const buttonEl =\n",
              "          document.querySelector('#df-db65796d-9948-4ad2-8e64-2d0a7d994529 button.colab-df-convert');\n",
              "        buttonEl.style.display =\n",
              "          google.colab.kernel.accessAllowed ? 'block' : 'none';\n",
              "\n",
              "        async function convertToInteractive(key) {\n",
              "          const element = document.querySelector('#df-db65796d-9948-4ad2-8e64-2d0a7d994529');\n",
              "          const dataTable =\n",
              "            await google.colab.kernel.invokeFunction('convertToInteractive',\n",
              "                                                     [key], {});\n",
              "          if (!dataTable) return;\n",
              "\n",
              "          const docLinkHtml = 'Like what you see? Visit the ' +\n",
              "            '<a target=\"_blank\" href=https://colab.research.google.com/notebooks/data_table.ipynb>data table notebook</a>'\n",
              "            + ' to learn more about interactive tables.';\n",
              "          element.innerHTML = '';\n",
              "          dataTable['output_type'] = 'display_data';\n",
              "          await google.colab.output.renderOutput(dataTable, element);\n",
              "          const docLink = document.createElement('div');\n",
              "          docLink.innerHTML = docLinkHtml;\n",
              "          element.appendChild(docLink);\n",
              "        }\n",
              "      </script>\n",
              "    </div>\n",
              "  </div>\n",
              "  "
            ]
          },
          "metadata": {},
          "execution_count": 12
        }
      ]
    },
    {
      "cell_type": "code",
      "source": [
        "# Create the histograms of curiosity split by remember\n",
        "import seaborn as sns\n",
        "import matplotlib.pyplot as plt \n",
        "sns.displot(data = df, x = 'mood')\n",
        "sns.displot(data = df, x = 'mood', col = 'curious')\n",
        "sns.displot(data = df, x = 'mood', col = 'remembering')\n",
        "\n",
        "plt.show()"
      ],
      "metadata": {
        "id": "bnFnra2f3i1l",
        "colab": {
          "base_uri": "https://localhost:8080/",
          "height": 1000
        },
        "outputId": "26000106-a158-4354-8910-02456d5e2548"
      },
      "execution_count": null,
      "outputs": [
        {
          "output_type": "display_data",
          "data": {
            "text/plain": [
              "<Figure size 360x360 with 1 Axes>"
            ],
            "image/png": "[encoded data removed]"
          },
          "metadata": {
            "needs_background": "light"
          }
        },
        {
          "output_type": "display_data",
          "data": {
            "text/plain": [
              "<Figure size 720x360 with 2 Axes>"
            ],
            "image/png": "[encoded data removed]"
          },
          "metadata": {
            "needs_background": "light"
          }
        },
        {
          "output_type": "display_data",
          "data": {
            "text/plain": [
              "<Figure size 720x360 with 2 Axes>"
            ],
            "image/png": "[encoded data removed]"
          },
          "metadata": {
            "needs_background": "light"
          }
        }
      ]
    },
    {
      "cell_type": "code",
      "source": [
        "model= sns.regplot(x =\"mood\", y='remembering', data = df, ci = None, logistic = True)\n",
        "\n"
      ],
      "metadata": {
        "colab": {
          "base_uri": "https://localhost:8080/",
          "height": 279
        },
        "id": "zTd-ECckIcWb",
        "outputId": "d0d866b5-1687-4382-e155-52c0043422a5"
      },
      "execution_count": null,
      "outputs": [
        {
          "output_type": "display_data",
          "data": {
            "text/plain": [
              "<Figure size 432x288 with 1 Axes>"
            ],
            "image/png": "[encoded data removed]"
          },
          "metadata": {
            "needs_background": "light"
          }
        }
      ]
    },
    {
      "cell_type": "code",
      "source": [
        "log_mood = smf.logit(\"remembering ~ mood\",\n",
        "        data = df).fit()\n",
        "\n",
        "log_mood.summary()\n"
      ],
      "metadata": {
        "colab": {
          "base_uri": "https://localhost:8080/",
          "height": 299
        },
        "id": "Ct619dx5CgUw",
        "outputId": "ddf05a9a-61f7-420c-98df-355fcbe67048"
      },
      "execution_count": null,
      "outputs": [
        {
          "output_type": "stream",
          "name": "stdout",
          "text": [
            "Optimization terminated successfully.\n",
            "         Current function value: 0.463371\n",
            "         Iterations 7\n"
          ]
        },
        {
          "output_type": "execute_result",
          "data": {
            "text/plain": [
              "<class 'statsmodels.iolib.summary.Summary'>\n",
              "\"\"\"\n",
              "                           Logit Regression Results                           \n",
              "==============================================================================\n",
              "Dep. Variable:            remembering   No. Observations:                  200\n",
              "Model:                          Logit   Df Residuals:                      198\n",
              "Method:                           MLE   Df Model:                            1\n",
              "Date:                Tue, 15 Nov 2022   Pseudo R-squ.:                  0.2996\n",
              "Time:                        16:39:46   Log-Likelihood:                -92.674\n",
              "converged:                       True   LL-Null:                       -132.31\n",
              "Covariance Type:            nonrobust   LLR p-value:                 5.399e-19\n",
              "==============================================================================\n",
              "                 coef    std err          z      P>|z|      [0.025      0.975]\n",
              "------------------------------------------------------------------------------\n",
              "Intercept     -1.9416      0.353     -5.507      0.000      -2.633      -1.251\n",
              "mood           0.7635      0.112      6.842      0.000       0.545       0.982\n",
              "==============================================================================\n",
              "\"\"\""
            ],
            "text/html": [
              "<table class=\"simpletable\">\n",
              "<caption>Logit Regression Results</caption>\n",
              "<tr>\n",
              "  <th>Dep. Variable:</th>      <td>remembering</td>   <th>  No. Observations:  </th>  <td>   200</td>  \n",
              "</tr>\n",
              "<tr>\n",
              "  <th>Model:</th>                 <td>Logit</td>      <th>  Df Residuals:      </th>  <td>   198</td>  \n",
              "</tr>\n",
              "<tr>\n",
              "  <th>Method:</th>                 <td>MLE</td>       <th>  Df Model:          </th>  <td>     1</td>  \n",
              "</tr>\n",
              "<tr>\n",
              "  <th>Date:</th>            <td>Tue, 15 Nov 2022</td> <th>  Pseudo R-squ.:     </th>  <td>0.2996</td>  \n",
              "</tr>\n",
              "<tr>\n",
              "  <th>Time:</th>                <td>16:39:46</td>     <th>  Log-Likelihood:    </th> <td> -92.674</td> \n",
              "</tr>\n",
              "<tr>\n",
              "  <th>converged:</th>             <td>True</td>       <th>  LL-Null:           </th> <td> -132.31</td> \n",
              "</tr>\n",
              "<tr>\n",
              "  <th>Covariance Type:</th>     <td>nonrobust</td>    <th>  LLR p-value:       </th> <td>5.399e-19</td>\n",
              "</tr>\n",
              "</table>\n",
              "<table class=\"simpletable\">\n",
              "<tr>\n",
              "      <td></td>         <th>coef</th>     <th>std err</th>      <th>z</th>      <th>P>|z|</th>  <th>[0.025</th>    <th>0.975]</th>  \n",
              "</tr>\n",
              "<tr>\n",
              "  <th>Intercept</th> <td>   -1.9416</td> <td>    0.353</td> <td>   -5.507</td> <td> 0.000</td> <td>   -2.633</td> <td>   -1.251</td>\n",
              "</tr>\n",
              "<tr>\n",
              "  <th>mood</th>      <td>    0.7635</td> <td>    0.112</td> <td>    6.842</td> <td> 0.000</td> <td>    0.545</td> <td>    0.982</td>\n",
              "</tr>\n",
              "</table>"
            ]
          },
          "metadata": {},
          "execution_count": 15
        }
      ]
    },
    {
      "cell_type": "code",
      "source": [
        "\n",
        "#Let's convert this to odds ratio and interpret the model again. \n",
        "#remember the equation above:\n",
        "#To convert the log odds coefficients and confidence intervals, we need to take the exponential of the values.\n",
        "\n",
        "\n",
        "odds_ratio_mood = pd.DataFrame(np.exp(log_mood.params), columns= ['OR'])\n",
        "odds_ratio_mood['z-value']= log_mood.tvalues\n",
        "odds_ratio_mood['p-values']=log_mood.pvalues\n",
        "odds_ratio_mood[['2.5%', '97.5%']] = np.exp(log_mood.conf_int())\n",
        "\n",
        "odds_ratio_mood"
      ],
      "metadata": {
        "colab": {
          "base_uri": "https://localhost:8080/",
          "height": 112
        },
        "id": "co48129KNfyf",
        "outputId": "7801c5b6-c1d6-45b3-ca48-e1a3196118ab"
      },
      "execution_count": null,
      "outputs": [
        {
          "output_type": "execute_result",
          "data": {
            "text/plain": [
              "                 OR   z-value      p-values      2.5%     97.5%\n",
              "Intercept  0.143473 -5.507143  3.647040e-08  0.071890  0.286333\n",
              "mood       2.145823  6.841965  7.811418e-12  1.724268  2.670441"
            ],
            "text/html": [
              "\n",
              "  <div id=\"df-0a4e1f63-2065-4bc7-a4ac-9cbbc0b0224f\">\n",
              "    <div class=\"colab-df-container\">\n",
              "      <div>\n",
              "<style scoped>\n",
              "    .dataframe tbody tr th:only-of-type {\n",
              "        vertical-align: middle;\n",
              "    }\n",
              "\n",
              "    .dataframe tbody tr th {\n",
              "        vertical-align: top;\n",
              "    }\n",
              "\n",
              "    .dataframe thead th {\n",
              "        text-align: right;\n",
              "    }\n",
              "</style>\n",
              "<table border=\"1\" class=\"dataframe\">\n",
              "  <thead>\n",
              "    <tr style=\"text-align: right;\">\n",
              "      <th></th>\n",
              "      <th>OR</th>\n",
              "      <th>z-value</th>\n",
              "      <th>p-values</th>\n",
              "      <th>2.5%</th>\n",
              "      <th>97.5%</th>\n",
              "    </tr>\n",
              "  </thead>\n",
              "  <tbody>\n",
              "    <tr>\n",
              "      <th>Intercept</th>\n",
              "      <td>0.143473</td>\n",
              "      <td>-5.507143</td>\n",
              "      <td>3.647040e-08</td>\n",
              "      <td>0.071890</td>\n",
              "      <td>0.286333</td>\n",
              "    </tr>\n",
              "    <tr>\n",
              "      <th>mood</th>\n",
              "      <td>2.145823</td>\n",
              "      <td>6.841965</td>\n",
              "      <td>7.811418e-12</td>\n",
              "      <td>1.724268</td>\n",
              "      <td>2.670441</td>\n",
              "    </tr>\n",
              "  </tbody>\n",
              "</table>\n",
              "</div>\n",
              "      <button class=\"colab-df-convert\" onclick=\"convertToInteractive('df-0a4e1f63-2065-4bc7-a4ac-9cbbc0b0224f')\"\n",
              "              title=\"Convert this dataframe to an interactive table.\"\n",
              "              style=\"display:none;\">\n",
              "        \n",
              "  <svg xmlns=\"http://www.w3.org/2000/svg\" height=\"24px\"viewBox=\"0 0 24 24\"\n",
              "       width=\"24px\">\n",
              "    <path d=\"M0 0h24v24H0V0z\" fill=\"none\"/>\n",
              "    <path d=\"M18.56 5.44l.94 2.06.94-2.06 2.06-.94-2.06-.94-.94-2.06-.94 2.06-2.06.94zm-11 1L8.5 8.5l.94-2.06 2.06-.94-2.06-.94L8.5 2.5l-.94 2.06-2.06.94zm10 10l.94 2.06.94-2.06 2.06-.94-2.06-.94-.94-2.06-.94 2.06-2.06.94z\"/><path d=\"M17.41 7.96l-1.37-1.37c-.4-.4-.92-.59-1.43-.59-.52 0-1.04.2-1.43.59L10.3 9.45l-7.72 7.72c-.78.78-.78 2.05 0 2.83L4 21.41c.39.39.9.59 1.41.59.51 0 1.02-.2 1.41-.59l7.78-7.78 2.81-2.81c.8-.78.8-2.07 0-2.86zM5.41 20L4 18.59l7.72-7.72 1.47 1.35L5.41 20z\"/>\n",
              "  </svg>\n",
              "      </button>\n",
              "      \n",
              "  <style>\n",
              "    .colab-df-container {\n",
              "      display:flex;\n",
              "      flex-wrap:wrap;\n",
              "      gap: 12px;\n",
              "    }\n",
              "\n",
              "    .colab-df-convert {\n",
              "      background-color: #E8F0FE;\n",
              "      border: none;\n",
              "      border-radius: 50%;\n",
              "      cursor: pointer;\n",
              "      display: none;\n",
              "      fill: #1967D2;\n",
              "      height: 32px;\n",
              "      padding: 0 0 0 0;\n",
              "      width: 32px;\n",
              "    }\n",
              "\n",
              "    .colab-df-convert:hover {\n",
              "      background-color: #E2EBFA;\n",
              "      box-shadow: 0px 1px 2px rgba(60, 64, 67, 0.3), 0px 1px 3px 1px rgba(60, 64, 67, 0.15);\n",
              "      fill: #174EA6;\n",
              "    }\n",
              "\n",
              "    [theme=dark] .colab-df-convert {\n",
              "      background-color: #3B4455;\n",
              "      fill: #D2E3FC;\n",
              "    }\n",
              "\n",
              "    [theme=dark] .colab-df-convert:hover {\n",
              "      background-color: #434B5C;\n",
              "      box-shadow: 0px 1px 3px 1px rgba(0, 0, 0, 0.15);\n",
              "      filter: drop-shadow(0px 1px 2px rgba(0, 0, 0, 0.3));\n",
              "      fill: #FFFFFF;\n",
              "    }\n",
              "  </style>\n",
              "\n",
              "      <script>\n",
              "        const buttonEl =\n",
              "          document.querySelector('#df-0a4e1f63-2065-4bc7-a4ac-9cbbc0b0224f button.colab-df-convert');\n",
              "        buttonEl.style.display =\n",
              "          google.colab.kernel.accessAllowed ? 'block' : 'none';\n",
              "\n",
              "        async function convertToInteractive(key) {\n",
              "          const element = document.querySelector('#df-0a4e1f63-2065-4bc7-a4ac-9cbbc0b0224f');\n",
              "          const dataTable =\n",
              "            await google.colab.kernel.invokeFunction('convertToInteractive',\n",
              "                                                     [key], {});\n",
              "          if (!dataTable) return;\n",
              "\n",
              "          const docLinkHtml = 'Like what you see? Visit the ' +\n",
              "            '<a target=\"_blank\" href=https://colab.research.google.com/notebooks/data_table.ipynb>data table notebook</a>'\n",
              "            + ' to learn more about interactive tables.';\n",
              "          element.innerHTML = '';\n",
              "          dataTable['output_type'] = 'display_data';\n",
              "          await google.colab.output.renderOutput(dataTable, element);\n",
              "          const docLink = document.createElement('div');\n",
              "          docLink.innerHTML = docLinkHtml;\n",
              "          element.appendChild(docLink);\n",
              "        }\n",
              "      </script>\n",
              "    </div>\n",
              "  </div>\n",
              "  "
            ]
          },
          "metadata": {},
          "execution_count": 16
        }
      ]
    },
    {
      "cell_type": "code",
      "source": [
        "\n",
        "log_cur_mood = smf.logit('remembering ~ mood + curious', data = df).fit()\n",
        "log_cur_mood.summary()\n"
      ],
      "metadata": {
        "colab": {
          "base_uri": "https://localhost:8080/",
          "height": 320
        },
        "id": "tzLvasWoOnvx",
        "outputId": "52159470-0066-488f-d98b-3dda026d69ce"
      },
      "execution_count": null,
      "outputs": [
        {
          "output_type": "stream",
          "name": "stdout",
          "text": [
            "Optimization terminated successfully.\n",
            "         Current function value: 0.396307\n",
            "         Iterations 7\n"
          ]
        },
        {
          "output_type": "execute_result",
          "data": {
            "text/plain": [
              "<class 'statsmodels.iolib.summary.Summary'>\n",
              "\"\"\"\n",
              "                           Logit Regression Results                           \n",
              "==============================================================================\n",
              "Dep. Variable:            remembering   No. Observations:                  200\n",
              "Model:                          Logit   Df Residuals:                      197\n",
              "Method:                           MLE   Df Model:                            2\n",
              "Date:                Tue, 15 Nov 2022   Pseudo R-squ.:                  0.4010\n",
              "Time:                        16:40:09   Log-Likelihood:                -79.261\n",
              "converged:                       True   LL-Null:                       -132.31\n",
              "Covariance Type:            nonrobust   LLR p-value:                 9.122e-24\n",
              "==============================================================================\n",
              "                 coef    std err          z      P>|z|      [0.025      0.975]\n",
              "------------------------------------------------------------------------------\n",
              "Intercept     -3.6908      0.570     -6.471      0.000      -4.809      -2.573\n",
              "mood           1.8070      0.271      6.666      0.000       1.276       2.338\n",
              "curious       -4.4580      0.956     -4.663      0.000      -6.332      -2.584\n",
              "==============================================================================\n",
              "\"\"\""
            ],
            "text/html": [
              "<table class=\"simpletable\">\n",
              "<caption>Logit Regression Results</caption>\n",
              "<tr>\n",
              "  <th>Dep. Variable:</th>      <td>remembering</td>   <th>  No. Observations:  </th>  <td>   200</td>  \n",
              "</tr>\n",
              "<tr>\n",
              "  <th>Model:</th>                 <td>Logit</td>      <th>  Df Residuals:      </th>  <td>   197</td>  \n",
              "</tr>\n",
              "<tr>\n",
              "  <th>Method:</th>                 <td>MLE</td>       <th>  Df Model:          </th>  <td>     2</td>  \n",
              "</tr>\n",
              "<tr>\n",
              "  <th>Date:</th>            <td>Tue, 15 Nov 2022</td> <th>  Pseudo R-squ.:     </th>  <td>0.4010</td>  \n",
              "</tr>\n",
              "<tr>\n",
              "  <th>Time:</th>                <td>16:40:09</td>     <th>  Log-Likelihood:    </th> <td> -79.261</td> \n",
              "</tr>\n",
              "<tr>\n",
              "  <th>converged:</th>             <td>True</td>       <th>  LL-Null:           </th> <td> -132.31</td> \n",
              "</tr>\n",
              "<tr>\n",
              "  <th>Covariance Type:</th>     <td>nonrobust</td>    <th>  LLR p-value:       </th> <td>9.122e-24</td>\n",
              "</tr>\n",
              "</table>\n",
              "<table class=\"simpletable\">\n",
              "<tr>\n",
              "      <td></td>         <th>coef</th>     <th>std err</th>      <th>z</th>      <th>P>|z|</th>  <th>[0.025</th>    <th>0.975]</th>  \n",
              "</tr>\n",
              "<tr>\n",
              "  <th>Intercept</th> <td>   -3.6908</td> <td>    0.570</td> <td>   -6.471</td> <td> 0.000</td> <td>   -4.809</td> <td>   -2.573</td>\n",
              "</tr>\n",
              "<tr>\n",
              "  <th>mood</th>      <td>    1.8070</td> <td>    0.271</td> <td>    6.666</td> <td> 0.000</td> <td>    1.276</td> <td>    2.338</td>\n",
              "</tr>\n",
              "<tr>\n",
              "  <th>curious</th>   <td>   -4.4580</td> <td>    0.956</td> <td>   -4.663</td> <td> 0.000</td> <td>   -6.332</td> <td>   -2.584</td>\n",
              "</tr>\n",
              "</table>"
            ]
          },
          "metadata": {},
          "execution_count": 18
        }
      ]
    },
    {
      "cell_type": "code",
      "source": [
        "print(log_cur_mood.params)"
      ],
      "metadata": {
        "colab": {
          "base_uri": "https://localhost:8080/"
        },
        "id": "8DTJvqugPFkj",
        "outputId": "9e75ecc3-0a53-4531-f5da-c371b7bc4a19"
      },
      "execution_count": null,
      "outputs": [
        {
          "output_type": "stream",
          "name": "stdout",
          "text": [
            "Intercept   -3.690802\n",
            "mood         1.807007\n",
            "curious     -4.458031\n",
            "dtype: float64\n"
          ]
        }
      ]
    },
    {
      "cell_type": "code",
      "source": [
        "odds_ratio_cur_mood = pd.DataFrame(np.exp(log_cur_mood.params), columns= ['OR'])\n",
        "odds_ratio_cur_mood['z-value']= log_cur_mood.tvalues\n",
        "odds_ratio_cur_mood['p-values']=log_cur_mood.pvalues\n",
        "odds_ratio_cur_mood[['2.5%', '97.5%']] = np.exp(log_cur_mood.conf_int())\n",
        "odds_ratio_cur_mood"
      ],
      "metadata": {
        "colab": {
          "base_uri": "https://localhost:8080/",
          "height": 143
        },
        "id": "M2rvncONWIWo",
        "outputId": "6e66a1a3-14ef-455e-852c-6bf71d941daa"
      },
      "execution_count": null,
      "outputs": [
        {
          "output_type": "execute_result",
          "data": {
            "text/plain": [
              "                 OR   z-value      p-values      2.5%      97.5%\n",
              "Intercept  0.024952 -6.470694  9.755352e-11  0.008158   0.076317\n",
              "mood       6.092186  6.666199  2.625138e-11  3.581277  10.363548\n",
              "curious    0.011585 -4.662957  3.116979e-06  0.001779   0.075456"
            ],
            "text/html": [
              "\n",
              "  <div id=\"df-b951948b-b339-40a0-a3a1-69f7ac006756\">\n",
              "    <div class=\"colab-df-container\">\n",
              "      <div>\n",
              "<style scoped>\n",
              "    .dataframe tbody tr th:only-of-type {\n",
              "        vertical-align: middle;\n",
              "    }\n",
              "\n",
              "    .dataframe tbody tr th {\n",
              "        vertical-align: top;\n",
              "    }\n",
              "\n",
              "    .dataframe thead th {\n",
              "        text-align: right;\n",
              "    }\n",
              "</style>\n",
              "<table border=\"1\" class=\"dataframe\">\n",
              "  <thead>\n",
              "    <tr style=\"text-align: right;\">\n",
              "      <th></th>\n",
              "      <th>OR</th>\n",
              "      <th>z-value</th>\n",
              "      <th>p-values</th>\n",
              "      <th>2.5%</th>\n",
              "      <th>97.5%</th>\n",
              "    </tr>\n",
              "  </thead>\n",
              "  <tbody>\n",
              "    <tr>\n",
              "      <th>Intercept</th>\n",
              "      <td>0.024952</td>\n",
              "      <td>-6.470694</td>\n",
              "      <td>9.755352e-11</td>\n",
              "      <td>0.008158</td>\n",
              "      <td>0.076317</td>\n",
              "    </tr>\n",
              "    <tr>\n",
              "      <th>mood</th>\n",
              "      <td>6.092186</td>\n",
              "      <td>6.666199</td>\n",
              "      <td>2.625138e-11</td>\n",
              "      <td>3.581277</td>\n",
              "      <td>10.363548</td>\n",
              "    </tr>\n",
              "    <tr>\n",
              "      <th>curious</th>\n",
              "      <td>0.011585</td>\n",
              "      <td>-4.662957</td>\n",
              "      <td>3.116979e-06</td>\n",
              "      <td>0.001779</td>\n",
              "      <td>0.075456</td>\n",
              "    </tr>\n",
              "  </tbody>\n",
              "</table>\n",
              "</div>\n",
              "      <button class=\"colab-df-convert\" onclick=\"convertToInteractive('df-b951948b-b339-40a0-a3a1-69f7ac006756')\"\n",
              "              title=\"Convert this dataframe to an interactive table.\"\n",
              "              style=\"display:none;\">\n",
              "        \n",
              "  <svg xmlns=\"http://www.w3.org/2000/svg\" height=\"24px\"viewBox=\"0 0 24 24\"\n",
              "       width=\"24px\">\n",
              "    <path d=\"M0 0h24v24H0V0z\" fill=\"none\"/>\n",
              "    <path d=\"M18.56 5.44l.94 2.06.94-2.06 2.06-.94-2.06-.94-.94-2.06-.94 2.06-2.06.94zm-11 1L8.5 8.5l.94-2.06 2.06-.94-2.06-.94L8.5 2.5l-.94 2.06-2.06.94zm10 10l.94 2.06.94-2.06 2.06-.94-2.06-.94-.94-2.06-.94 2.06-2.06.94z\"/><path d=\"M17.41 7.96l-1.37-1.37c-.4-.4-.92-.59-1.43-.59-.52 0-1.04.2-1.43.59L10.3 9.45l-7.72 7.72c-.78.78-.78 2.05 0 2.83L4 21.41c.39.39.9.59 1.41.59.51 0 1.02-.2 1.41-.59l7.78-7.78 2.81-2.81c.8-.78.8-2.07 0-2.86zM5.41 20L4 18.59l7.72-7.72 1.47 1.35L5.41 20z\"/>\n",
              "  </svg>\n",
              "      </button>\n",
              "      \n",
              "  <style>\n",
              "    .colab-df-container {\n",
              "      display:flex;\n",
              "      flex-wrap:wrap;\n",
              "      gap: 12px;\n",
              "    }\n",
              "\n",
              "    .colab-df-convert {\n",
              "      background-color: #E8F0FE;\n",
              "      border: none;\n",
              "      border-radius: 50%;\n",
              "      cursor: pointer;\n",
              "      display: none;\n",
              "      fill: #1967D2;\n",
              "      height: 32px;\n",
              "      padding: 0 0 0 0;\n",
              "      width: 32px;\n",
              "    }\n",
              "\n",
              "    .colab-df-convert:hover {\n",
              "      background-color: #E2EBFA;\n",
              "      box-shadow: 0px 1px 2px rgba(60, 64, 67, 0.3), 0px 1px 3px 1px rgba(60, 64, 67, 0.15);\n",
              "      fill: #174EA6;\n",
              "    }\n",
              "\n",
              "    [theme=dark] .colab-df-convert {\n",
              "      background-color: #3B4455;\n",
              "      fill: #D2E3FC;\n",
              "    }\n",
              "\n",
              "    [theme=dark] .colab-df-convert:hover {\n",
              "      background-color: #434B5C;\n",
              "      box-shadow: 0px 1px 3px 1px rgba(0, 0, 0, 0.15);\n",
              "      filter: drop-shadow(0px 1px 2px rgba(0, 0, 0, 0.3));\n",
              "      fill: #FFFFFF;\n",
              "    }\n",
              "  </style>\n",
              "\n",
              "      <script>\n",
              "        const buttonEl =\n",
              "          document.querySelector('#df-b951948b-b339-40a0-a3a1-69f7ac006756 button.colab-df-convert');\n",
              "        buttonEl.style.display =\n",
              "          google.colab.kernel.accessAllowed ? 'block' : 'none';\n",
              "\n",
              "        async function convertToInteractive(key) {\n",
              "          const element = document.querySelector('#df-b951948b-b339-40a0-a3a1-69f7ac006756');\n",
              "          const dataTable =\n",
              "            await google.colab.kernel.invokeFunction('convertToInteractive',\n",
              "                                                     [key], {});\n",
              "          if (!dataTable) return;\n",
              "\n",
              "          const docLinkHtml = 'Like what you see? Visit the ' +\n",
              "            '<a target=\"_blank\" href=https://colab.research.google.com/notebooks/data_table.ipynb>data table notebook</a>'\n",
              "            + ' to learn more about interactive tables.';\n",
              "          element.innerHTML = '';\n",
              "          dataTable['output_type'] = 'display_data';\n",
              "          await google.colab.output.renderOutput(dataTable, element);\n",
              "          const docLink = document.createElement('div');\n",
              "          docLink.innerHTML = docLinkHtml;\n",
              "          element.appendChild(docLink);\n",
              "        }\n",
              "      </script>\n",
              "    </div>\n",
              "  </div>\n",
              "  "
            ]
          },
          "metadata": {},
          "execution_count": 20
        }
      ]
    },
    {
      "cell_type": "code",
      "source": [
        "\n",
        "log_cur_mood_interaction = smf.logit('remembering ~ mood + curious + mood:curious', data = df).fit()\n",
        "log_cur_mood_interaction.summary()\n"
      ],
      "metadata": {
        "colab": {
          "base_uri": "https://localhost:8080/",
          "height": 341
        },
        "id": "4It6mv_qZeWt",
        "outputId": "df814bad-b33b-4f37-8b47-3a08758bcb64"
      },
      "execution_count": null,
      "outputs": [
        {
          "output_type": "stream",
          "name": "stdout",
          "text": [
            "Optimization terminated successfully.\n",
            "         Current function value: 0.393584\n",
            "         Iterations 8\n"
          ]
        },
        {
          "output_type": "execute_result",
          "data": {
            "text/plain": [
              "<class 'statsmodels.iolib.summary.Summary'>\n",
              "\"\"\"\n",
              "                           Logit Regression Results                           \n",
              "==============================================================================\n",
              "Dep. Variable:            remembering   No. Observations:                  200\n",
              "Model:                          Logit   Df Residuals:                      196\n",
              "Method:                           MLE   Df Model:                            3\n",
              "Date:                Tue, 15 Nov 2022   Pseudo R-squ.:                  0.4051\n",
              "Time:                        16:40:26   Log-Likelihood:                -78.717\n",
              "converged:                       True   LL-Null:                       -132.31\n",
              "Covariance Type:            nonrobust   LLR p-value:                 4.412e-23\n",
              "================================================================================\n",
              "                   coef    std err          z      P>|z|      [0.025      0.975]\n",
              "--------------------------------------------------------------------------------\n",
              "Intercept       -3.2874      0.662     -4.962      0.000      -4.586      -1.989\n",
              "mood             1.5968      0.324      4.926      0.000       0.961       2.232\n",
              "curious         -6.8629      2.670     -2.571      0.010     -12.095      -1.631\n",
              "mood:curious     0.6101      0.608      1.004      0.315      -0.581       1.802\n",
              "================================================================================\n",
              "\"\"\""
            ],
            "text/html": [
              "<table class=\"simpletable\">\n",
              "<caption>Logit Regression Results</caption>\n",
              "<tr>\n",
              "  <th>Dep. Variable:</th>      <td>remembering</td>   <th>  No. Observations:  </th>  <td>   200</td>  \n",
              "</tr>\n",
              "<tr>\n",
              "  <th>Model:</th>                 <td>Logit</td>      <th>  Df Residuals:      </th>  <td>   196</td>  \n",
              "</tr>\n",
              "<tr>\n",
              "  <th>Method:</th>                 <td>MLE</td>       <th>  Df Model:          </th>  <td>     3</td>  \n",
              "</tr>\n",
              "<tr>\n",
              "  <th>Date:</th>            <td>Tue, 15 Nov 2022</td> <th>  Pseudo R-squ.:     </th>  <td>0.4051</td>  \n",
              "</tr>\n",
              "<tr>\n",
              "  <th>Time:</th>                <td>16:40:26</td>     <th>  Log-Likelihood:    </th> <td> -78.717</td> \n",
              "</tr>\n",
              "<tr>\n",
              "  <th>converged:</th>             <td>True</td>       <th>  LL-Null:           </th> <td> -132.31</td> \n",
              "</tr>\n",
              "<tr>\n",
              "  <th>Covariance Type:</th>     <td>nonrobust</td>    <th>  LLR p-value:       </th> <td>4.412e-23</td>\n",
              "</tr>\n",
              "</table>\n",
              "<table class=\"simpletable\">\n",
              "<tr>\n",
              "        <td></td>          <th>coef</th>     <th>std err</th>      <th>z</th>      <th>P>|z|</th>  <th>[0.025</th>    <th>0.975]</th>  \n",
              "</tr>\n",
              "<tr>\n",
              "  <th>Intercept</th>    <td>   -3.2874</td> <td>    0.662</td> <td>   -4.962</td> <td> 0.000</td> <td>   -4.586</td> <td>   -1.989</td>\n",
              "</tr>\n",
              "<tr>\n",
              "  <th>mood</th>         <td>    1.5968</td> <td>    0.324</td> <td>    4.926</td> <td> 0.000</td> <td>    0.961</td> <td>    2.232</td>\n",
              "</tr>\n",
              "<tr>\n",
              "  <th>curious</th>      <td>   -6.8629</td> <td>    2.670</td> <td>   -2.571</td> <td> 0.010</td> <td>  -12.095</td> <td>   -1.631</td>\n",
              "</tr>\n",
              "<tr>\n",
              "  <th>mood:curious</th> <td>    0.6101</td> <td>    0.608</td> <td>    1.004</td> <td> 0.315</td> <td>   -0.581</td> <td>    1.802</td>\n",
              "</tr>\n",
              "</table>"
            ]
          },
          "metadata": {},
          "execution_count": 21
        }
      ]
    },
    {
      "cell_type": "code",
      "source": [
        "odds_ratio_cur_mood_interaction = pd.DataFrame(np.exp(log_cur_mood_interaction.params), columns= ['OR'])\n",
        "odds_ratio_cur_mood_interaction['z-value']= log_cur_mood_interaction.tvalues\n",
        "odds_ratio_cur_mood_interaction[['2.5%', '97.5%']] = np.exp(log_cur_mood_interaction.conf_int())\n",
        "odds_ratio_cur_mood_interaction['p-values']=log_cur_mood_interaction.pvalues\n",
        "odds_ratio_cur_mood_interaction\n"
      ],
      "metadata": {
        "colab": {
          "base_uri": "https://localhost:8080/",
          "height": 175
        },
        "id": "WY4gA_tMZ47M",
        "outputId": "64fc6600-8fc3-4766-8ab4-8bb385771660"
      },
      "execution_count": null,
      "outputs": [
        {
          "output_type": "execute_result",
          "data": {
            "text/plain": [
              "                    OR   z-value      2.5%     97.5%      p-values\n",
              "Intercept     0.037351 -4.962352  0.010196  0.136835  6.964449e-07\n",
              "mood          4.937400  4.925565  2.615435  9.320792  8.411685e-07\n",
              "curious       0.001046 -2.570775  0.000006  0.195812  1.014714e-02\n",
              "mood:curious  1.840704  1.003768  0.559210  6.058894  3.154905e-01"
            ],
            "text/html": [
              "\n",
              "  <div id=\"df-cecf0c56-5384-4cb3-8b01-18668a084650\">\n",
              "    <div class=\"colab-df-container\">\n",
              "      <div>\n",
              "<style scoped>\n",
              "    .dataframe tbody tr th:only-of-type {\n",
              "        vertical-align: middle;\n",
              "    }\n",
              "\n",
              "    .dataframe tbody tr th {\n",
              "        vertical-align: top;\n",
              "    }\n",
              "\n",
              "    .dataframe thead th {\n",
              "        text-align: right;\n",
              "    }\n",
              "</style>\n",
              "<table border=\"1\" class=\"dataframe\">\n",
              "  <thead>\n",
              "    <tr style=\"text-align: right;\">\n",
              "      <th></th>\n",
              "      <th>OR</th>\n",
              "      <th>z-value</th>\n",
              "      <th>2.5%</th>\n",
              "      <th>97.5%</th>\n",
              "      <th>p-values</th>\n",
              "    </tr>\n",
              "  </thead>\n",
              "  <tbody>\n",
              "    <tr>\n",
              "      <th>Intercept</th>\n",
              "      <td>0.037351</td>\n",
              "      <td>-4.962352</td>\n",
              "      <td>0.010196</td>\n",
              "      <td>0.136835</td>\n",
              "      <td>6.964449e-07</td>\n",
              "    </tr>\n",
              "    <tr>\n",
              "      <th>mood</th>\n",
              "      <td>4.937400</td>\n",
              "      <td>4.925565</td>\n",
              "      <td>2.615435</td>\n",
              "      <td>9.320792</td>\n",
              "      <td>8.411685e-07</td>\n",
              "    </tr>\n",
              "    <tr>\n",
              "      <th>curious</th>\n",
              "      <td>0.001046</td>\n",
              "      <td>-2.570775</td>\n",
              "      <td>0.000006</td>\n",
              "      <td>0.195812</td>\n",
              "      <td>1.014714e-02</td>\n",
              "    </tr>\n",
              "    <tr>\n",
              "      <th>mood:curious</th>\n",
              "      <td>1.840704</td>\n",
              "      <td>1.003768</td>\n",
              "      <td>0.559210</td>\n",
              "      <td>6.058894</td>\n",
              "      <td>3.154905e-01</td>\n",
              "    </tr>\n",
              "  </tbody>\n",
              "</table>\n",
              "</div>\n",
              "      <button class=\"colab-df-convert\" onclick=\"convertToInteractive('df-cecf0c56-5384-4cb3-8b01-18668a084650')\"\n",
              "              title=\"Convert this dataframe to an interactive table.\"\n",
              "              style=\"display:none;\">\n",
              "        \n",
              "  <svg xmlns=\"http://www.w3.org/2000/svg\" height=\"24px\"viewBox=\"0 0 24 24\"\n",
              "       width=\"24px\">\n",
              "    <path d=\"M0 0h24v24H0V0z\" fill=\"none\"/>\n",
              "    <path d=\"M18.56 5.44l.94 2.06.94-2.06 2.06-.94-2.06-.94-.94-2.06-.94 2.06-2.06.94zm-11 1L8.5 8.5l.94-2.06 2.06-.94-2.06-.94L8.5 2.5l-.94 2.06-2.06.94zm10 10l.94 2.06.94-2.06 2.06-.94-2.06-.94-.94-2.06-.94 2.06-2.06.94z\"/><path d=\"M17.41 7.96l-1.37-1.37c-.4-.4-.92-.59-1.43-.59-.52 0-1.04.2-1.43.59L10.3 9.45l-7.72 7.72c-.78.78-.78 2.05 0 2.83L4 21.41c.39.39.9.59 1.41.59.51 0 1.02-.2 1.41-.59l7.78-7.78 2.81-2.81c.8-.78.8-2.07 0-2.86zM5.41 20L4 18.59l7.72-7.72 1.47 1.35L5.41 20z\"/>\n",
              "  </svg>\n",
              "      </button>\n",
              "      \n",
              "  <style>\n",
              "    .colab-df-container {\n",
              "      display:flex;\n",
              "      flex-wrap:wrap;\n",
              "      gap: 12px;\n",
              "    }\n",
              "\n",
              "    .colab-df-convert {\n",
              "      background-color: #E8F0FE;\n",
              "      border: none;\n",
              "      border-radius: 50%;\n",
              "      cursor: pointer;\n",
              "      display: none;\n",
              "      fill: #1967D2;\n",
              "      height: 32px;\n",
              "      padding: 0 0 0 0;\n",
              "      width: 32px;\n",
              "    }\n",
              "\n",
              "    .colab-df-convert:hover {\n",
              "      background-color: #E2EBFA;\n",
              "      box-shadow: 0px 1px 2px rgba(60, 64, 67, 0.3), 0px 1px 3px 1px rgba(60, 64, 67, 0.15);\n",
              "      fill: #174EA6;\n",
              "    }\n",
              "\n",
              "    [theme=dark] .colab-df-convert {\n",
              "      background-color: #3B4455;\n",
              "      fill: #D2E3FC;\n",
              "    }\n",
              "\n",
              "    [theme=dark] .colab-df-convert:hover {\n",
              "      background-color: #434B5C;\n",
              "      box-shadow: 0px 1px 3px 1px rgba(0, 0, 0, 0.15);\n",
              "      filter: drop-shadow(0px 1px 2px rgba(0, 0, 0, 0.3));\n",
              "      fill: #FFFFFF;\n",
              "    }\n",
              "  </style>\n",
              "\n",
              "      <script>\n",
              "        const buttonEl =\n",
              "          document.querySelector('#df-cecf0c56-5384-4cb3-8b01-18668a084650 button.colab-df-convert');\n",
              "        buttonEl.style.display =\n",
              "          google.colab.kernel.accessAllowed ? 'block' : 'none';\n",
              "\n",
              "        async function convertToInteractive(key) {\n",
              "          const element = document.querySelector('#df-cecf0c56-5384-4cb3-8b01-18668a084650');\n",
              "          const dataTable =\n",
              "            await google.colab.kernel.invokeFunction('convertToInteractive',\n",
              "                                                     [key], {});\n",
              "          if (!dataTable) return;\n",
              "\n",
              "          const docLinkHtml = 'Like what you see? Visit the ' +\n",
              "            '<a target=\"_blank\" href=https://colab.research.google.com/notebooks/data_table.ipynb>data table notebook</a>'\n",
              "            + ' to learn more about interactive tables.';\n",
              "          element.innerHTML = '';\n",
              "          dataTable['output_type'] = 'display_data';\n",
              "          await google.colab.output.renderOutput(dataTable, element);\n",
              "          const docLink = document.createElement('div');\n",
              "          docLink.innerHTML = docLinkHtml;\n",
              "          element.appendChild(docLink);\n",
              "        }\n",
              "      </script>\n",
              "    </div>\n",
              "  </div>\n",
              "  "
            ]
          },
          "metadata": {},
          "execution_count": 22
        }
      ]
    },
    {
      "cell_type": "markdown",
      "source": [
        "#**Assumptions:**\n",
        "\n",
        "*   Response variable is binary \n",
        "*   Observations are independent\n",
        "*   No multicollinearity among predictor variables\n",
        "*   No extreme outliers\n",
        "*   Large sample\n",
        "\n",
        "The model does not need to fulfill the assumption of linearity, normality and homoscedasticity (conditions needed to be met to run a 'typical' linear regression).\n",
        "\n",
        "**Follow-up:**\n",
        "\n",
        "**Linearity:** in a OLS regression there is an assumption that the outcome has a linear relationship with the predictor. In logistic regression, this assumption is violated. However, it is assumed that there is a linear relationship between a continuous predictor and the log of the odds of the outcome variable.\n",
        "\n",
        "Is the relationship between a predictor and its log transformation significant?\n",
        "\n",
        "A way to test this is to plot the IV(s) in question and look for an S-shaped curve. The plot should have a flat-like top and bottom with an increase or decrease in the middle.\n",
        " "
      ],
      "metadata": {
        "id": "dmf9V2lJr9zD"
      }
    },
    {
      "cell_type": "code",
      "source": [
        "#graphic representation\n",
        "mood_log = sns.regplot(x= 'mood', y= 'remembering', data= df, logistic= True).set_title(\"Mood Log Odds Linear Plot\")\n"
      ],
      "metadata": {
        "id": "twPm8sU58eqO",
        "outputId": "a2691901-f093-4073-e37c-976a71aade68",
        "colab": {
          "base_uri": "https://localhost:8080/",
          "height": 295
        }
      },
      "execution_count": null,
      "outputs": [
        {
          "output_type": "display_data",
          "data": {
            "text/plain": [
              "<Figure size 432x288 with 1 Axes>"
            ],
            "image/png": "[encoded data removed]"
          },
          "metadata": {
            "needs_background": "light"
          }
        }
      ]
    },
    {
      "cell_type": "code",
      "source": [
        "#Alternatively, we can test for collinearity by seeing if there is an interaction between a variable and its own logit\n",
        "#We create new variable that is the log of the variable we want to test\n",
        "#log_mood = log(mood)\n",
        "\n",
        "mood1 = df['mood']\n",
        "log_mood = np.log(mood1) \n",
        "df['log_mood'] = log_mood.tolist()"
      ],
      "metadata": {
        "id": "_BTwAaTq9ife"
      },
      "execution_count": null,
      "outputs": []
    },
    {
      "cell_type": "code",
      "source": [
        "# then add log_mood as an interaction term to a logistic model to assess linearity (mood:log_mood) \n",
        "#we are interested in whether the interaction term is significant (p < 0.05).\n",
        "#any interaction that is significant has violated the assumption of linearity of the logit.\n",
        "\n",
        "Collinearity_check = smf.logit('remembering ~ mood + mood:log_mood', data = df).fit()\n",
        "Collinearity_check.summary()"
      ],
      "metadata": {
        "id": "paZP1Rp29lAv",
        "outputId": "c52c5bac-4ebc-42ec-bcfb-67a9a7325d97",
        "colab": {
          "base_uri": "https://localhost:8080/",
          "height": 320
        }
      },
      "execution_count": null,
      "outputs": [
        {
          "output_type": "stream",
          "name": "stdout",
          "text": [
            "Optimization terminated successfully.\n",
            "         Current function value: 0.462445\n",
            "         Iterations 7\n"
          ]
        },
        {
          "output_type": "execute_result",
          "data": {
            "text/plain": [
              "<class 'statsmodels.iolib.summary.Summary'>\n",
              "\"\"\"\n",
              "                           Logit Regression Results                           \n",
              "==============================================================================\n",
              "Dep. Variable:            remembering   No. Observations:                  200\n",
              "Model:                          Logit   Df Residuals:                      197\n",
              "Method:                           MLE   Df Model:                            2\n",
              "Date:                Tue, 15 Nov 2022   Pseudo R-squ.:                  0.3010\n",
              "Time:                        16:41:57   Log-Likelihood:                -92.489\n",
              "converged:                       True   LL-Null:                       -132.31\n",
              "Covariance Type:            nonrobust   LLR p-value:                 5.067e-18\n",
              "=================================================================================\n",
              "                    coef    std err          z      P>|z|      [0.025      0.975]\n",
              "---------------------------------------------------------------------------------\n",
              "Intercept        -2.6000      1.148     -2.265      0.023      -4.850      -0.350\n",
              "mood              1.2830      0.863      1.486      0.137      -0.409       2.975\n",
              "mood:log_mood    -0.2377      0.390     -0.610      0.542      -1.001       0.526\n",
              "=================================================================================\n",
              "\"\"\""
            ],
            "text/html": [
              "<table class=\"simpletable\">\n",
              "<caption>Logit Regression Results</caption>\n",
              "<tr>\n",
              "  <th>Dep. Variable:</th>      <td>remembering</td>   <th>  No. Observations:  </th>  <td>   200</td>  \n",
              "</tr>\n",
              "<tr>\n",
              "  <th>Model:</th>                 <td>Logit</td>      <th>  Df Residuals:      </th>  <td>   197</td>  \n",
              "</tr>\n",
              "<tr>\n",
              "  <th>Method:</th>                 <td>MLE</td>       <th>  Df Model:          </th>  <td>     2</td>  \n",
              "</tr>\n",
              "<tr>\n",
              "  <th>Date:</th>            <td>Tue, 15 Nov 2022</td> <th>  Pseudo R-squ.:     </th>  <td>0.3010</td>  \n",
              "</tr>\n",
              "<tr>\n",
              "  <th>Time:</th>                <td>16:41:57</td>     <th>  Log-Likelihood:    </th> <td> -92.489</td> \n",
              "</tr>\n",
              "<tr>\n",
              "  <th>converged:</th>             <td>True</td>       <th>  LL-Null:           </th> <td> -132.31</td> \n",
              "</tr>\n",
              "<tr>\n",
              "  <th>Covariance Type:</th>     <td>nonrobust</td>    <th>  LLR p-value:       </th> <td>5.067e-18</td>\n",
              "</tr>\n",
              "</table>\n",
              "<table class=\"simpletable\">\n",
              "<tr>\n",
              "        <td></td>           <th>coef</th>     <th>std err</th>      <th>z</th>      <th>P>|z|</th>  <th>[0.025</th>    <th>0.975]</th>  \n",
              "</tr>\n",
              "<tr>\n",
              "  <th>Intercept</th>     <td>   -2.6000</td> <td>    1.148</td> <td>   -2.265</td> <td> 0.023</td> <td>   -4.850</td> <td>   -0.350</td>\n",
              "</tr>\n",
              "<tr>\n",
              "  <th>mood</th>          <td>    1.2830</td> <td>    0.863</td> <td>    1.486</td> <td> 0.137</td> <td>   -0.409</td> <td>    2.975</td>\n",
              "</tr>\n",
              "<tr>\n",
              "  <th>mood:log_mood</th> <td>   -0.2377</td> <td>    0.390</td> <td>   -0.610</td> <td> 0.542</td> <td>   -1.001</td> <td>    0.526</td>\n",
              "</tr>\n",
              "</table>"
            ]
          },
          "metadata": {},
          "execution_count": 29
        }
      ]
    },
    {
      "cell_type": "markdown",
      "source": [
        "**Multicollinearity**\n",
        "Predictors should not be too correlated. This can be checked with tolerance and VIF statistics."
      ],
      "metadata": {
        "id": "BIz2S3BA925O"
      }
    },
    {
      "cell_type": "code",
      "source": [
        "#look for high correlations or high Variance Inflation Factor (VIF) scores\n",
        "\n",
        "df.corr()"
      ],
      "metadata": {
        "id": "s93Qo7UN94MT",
        "outputId": "45616668-b92f-4211-a120-91c41feb7c90",
        "colab": {
          "base_uri": "https://localhost:8080/",
          "height": 175
        }
      },
      "execution_count": null,
      "outputs": [
        {
          "output_type": "execute_result",
          "data": {
            "text/plain": [
              "              curious  remembering      mood  log_mood\n",
              "curious      1.000000     0.402652  0.907546  0.856776\n",
              "remembering  0.402652     1.000000  0.581146  0.600796\n",
              "mood         0.907546     0.581146  1.000000  0.968171\n",
              "log_mood     0.856776     0.600796  0.968171  1.000000"
            ],
            "text/html": [
              "\n",
              "  <div id=\"df-4c909d0c-f15b-436d-886a-b5d5bbab3885\">\n",
              "    <div class=\"colab-df-container\">\n",
              "      <div>\n",
              "<style scoped>\n",
              "    .dataframe tbody tr th:only-of-type {\n",
              "        vertical-align: middle;\n",
              "    }\n",
              "\n",
              "    .dataframe tbody tr th {\n",
              "        vertical-align: top;\n",
              "    }\n",
              "\n",
              "    .dataframe thead th {\n",
              "        text-align: right;\n",
              "    }\n",
              "</style>\n",
              "<table border=\"1\" class=\"dataframe\">\n",
              "  <thead>\n",
              "    <tr style=\"text-align: right;\">\n",
              "      <th></th>\n",
              "      <th>curious</th>\n",
              "      <th>remembering</th>\n",
              "      <th>mood</th>\n",
              "      <th>log_mood</th>\n",
              "    </tr>\n",
              "  </thead>\n",
              "  <tbody>\n",
              "    <tr>\n",
              "      <th>curious</th>\n",
              "      <td>1.000000</td>\n",
              "      <td>0.402652</td>\n",
              "      <td>0.907546</td>\n",
              "      <td>0.856776</td>\n",
              "    </tr>\n",
              "    <tr>\n",
              "      <th>remembering</th>\n",
              "      <td>0.402652</td>\n",
              "      <td>1.000000</td>\n",
              "      <td>0.581146</td>\n",
              "      <td>0.600796</td>\n",
              "    </tr>\n",
              "    <tr>\n",
              "      <th>mood</th>\n",
              "      <td>0.907546</td>\n",
              "      <td>0.581146</td>\n",
              "      <td>1.000000</td>\n",
              "      <td>0.968171</td>\n",
              "    </tr>\n",
              "    <tr>\n",
              "      <th>log_mood</th>\n",
              "      <td>0.856776</td>\n",
              "      <td>0.600796</td>\n",
              "      <td>0.968171</td>\n",
              "      <td>1.000000</td>\n",
              "    </tr>\n",
              "  </tbody>\n",
              "</table>\n",
              "</div>\n",
              "      <button class=\"colab-df-convert\" onclick=\"convertToInteractive('df-4c909d0c-f15b-436d-886a-b5d5bbab3885')\"\n",
              "              title=\"Convert this dataframe to an interactive table.\"\n",
              "              style=\"display:none;\">\n",
              "        \n",
              "  <svg xmlns=\"http://www.w3.org/2000/svg\" height=\"24px\"viewBox=\"0 0 24 24\"\n",
              "       width=\"24px\">\n",
              "    <path d=\"M0 0h24v24H0V0z\" fill=\"none\"/>\n",
              "    <path d=\"M18.56 5.44l.94 2.06.94-2.06 2.06-.94-2.06-.94-.94-2.06-.94 2.06-2.06.94zm-11 1L8.5 8.5l.94-2.06 2.06-.94-2.06-.94L8.5 2.5l-.94 2.06-2.06.94zm10 10l.94 2.06.94-2.06 2.06-.94-2.06-.94-.94-2.06-.94 2.06-2.06.94z\"/><path d=\"M17.41 7.96l-1.37-1.37c-.4-.4-.92-.59-1.43-.59-.52 0-1.04.2-1.43.59L10.3 9.45l-7.72 7.72c-.78.78-.78 2.05 0 2.83L4 21.41c.39.39.9.59 1.41.59.51 0 1.02-.2 1.41-.59l7.78-7.78 2.81-2.81c.8-.78.8-2.07 0-2.86zM5.41 20L4 18.59l7.72-7.72 1.47 1.35L5.41 20z\"/>\n",
              "  </svg>\n",
              "      </button>\n",
              "      \n",
              "  <style>\n",
              "    .colab-df-container {\n",
              "      display:flex;\n",
              "      flex-wrap:wrap;\n",
              "      gap: 12px;\n",
              "    }\n",
              "\n",
              "    .colab-df-convert {\n",
              "      background-color: #E8F0FE;\n",
              "      border: none;\n",
              "      border-radius: 50%;\n",
              "      cursor: pointer;\n",
              "      display: none;\n",
              "      fill: #1967D2;\n",
              "      height: 32px;\n",
              "      padding: 0 0 0 0;\n",
              "      width: 32px;\n",
              "    }\n",
              "\n",
              "    .colab-df-convert:hover {\n",
              "      background-color: #E2EBFA;\n",
              "      box-shadow: 0px 1px 2px rgba(60, 64, 67, 0.3), 0px 1px 3px 1px rgba(60, 64, 67, 0.15);\n",
              "      fill: #174EA6;\n",
              "    }\n",
              "\n",
              "    [theme=dark] .colab-df-convert {\n",
              "      background-color: #3B4455;\n",
              "      fill: #D2E3FC;\n",
              "    }\n",
              "\n",
              "    [theme=dark] .colab-df-convert:hover {\n",
              "      background-color: #434B5C;\n",
              "      box-shadow: 0px 1px 3px 1px rgba(0, 0, 0, 0.15);\n",
              "      filter: drop-shadow(0px 1px 2px rgba(0, 0, 0, 0.3));\n",
              "      fill: #FFFFFF;\n",
              "    }\n",
              "  </style>\n",
              "\n",
              "      <script>\n",
              "        const buttonEl =\n",
              "          document.querySelector('#df-4c909d0c-f15b-436d-886a-b5d5bbab3885 button.colab-df-convert');\n",
              "        buttonEl.style.display =\n",
              "          google.colab.kernel.accessAllowed ? 'block' : 'none';\n",
              "\n",
              "        async function convertToInteractive(key) {\n",
              "          const element = document.querySelector('#df-4c909d0c-f15b-436d-886a-b5d5bbab3885');\n",
              "          const dataTable =\n",
              "            await google.colab.kernel.invokeFunction('convertToInteractive',\n",
              "                                                     [key], {});\n",
              "          if (!dataTable) return;\n",
              "\n",
              "          const docLinkHtml = 'Like what you see? Visit the ' +\n",
              "            '<a target=\"_blank\" href=https://colab.research.google.com/notebooks/data_table.ipynb>data table notebook</a>'\n",
              "            + ' to learn more about interactive tables.';\n",
              "          element.innerHTML = '';\n",
              "          dataTable['output_type'] = 'display_data';\n",
              "          await google.colab.output.renderOutput(dataTable, element);\n",
              "          const docLink = document.createElement('div');\n",
              "          docLink.innerHTML = docLinkHtml;\n",
              "          element.appendChild(docLink);\n",
              "        }\n",
              "      </script>\n",
              "    </div>\n",
              "  </div>\n",
              "  "
            ]
          },
          "metadata": {},
          "execution_count": 31
        }
      ]
    },
    {
      "cell_type": "code",
      "source": [
        "#test fo Multicollinearity (VIF)\n",
        "\n",
        "from patsy import dmatrices\n",
        "from statsmodels.stats.outliers_influence import variance_inflation_factor\n",
        "\n",
        "#find design matrix for linear regression model using 'rating' as response variable \n",
        "y, X = dmatrices('remembering ~ curious+mood', data=df, return_type='dataframe')\n",
        "\n",
        "#calculate VIF for each explanatory variable\n",
        "vif = pd.DataFrame()\n",
        "vif['VIF'] = [variance_inflation_factor(X.values, i) for i in range(X.shape[1])]\n",
        "vif['variable'] = X.columns\n",
        "\n",
        "#view VIF for each explanatory variable \n",
        "vif"
      ],
      "metadata": {
        "id": "9p801mKS97op",
        "outputId": "08954ea0-37a3-4fbe-adeb-b3ece972d2de",
        "colab": {
          "base_uri": "https://localhost:8080/",
          "height": 143
        }
      },
      "execution_count": null,
      "outputs": [
        {
          "output_type": "execute_result",
          "data": {
            "text/plain": [
              "        VIF   variable\n",
              "0  6.064011  Intercept\n",
              "1  5.670217    curious\n",
              "2  5.670217       mood"
            ],
            "text/html": [
              "\n",
              "  <div id=\"df-44868169-444b-4ab5-be39-7a8e5c9e408f\">\n",
              "    <div class=\"colab-df-container\">\n",
              "      <div>\n",
              "<style scoped>\n",
              "    .dataframe tbody tr th:only-of-type {\n",
              "        vertical-align: middle;\n",
              "    }\n",
              "\n",
              "    .dataframe tbody tr th {\n",
              "        vertical-align: top;\n",
              "    }\n",
              "\n",
              "    .dataframe thead th {\n",
              "        text-align: right;\n",
              "    }\n",
              "</style>\n",
              "<table border=\"1\" class=\"dataframe\">\n",
              "  <thead>\n",
              "    <tr style=\"text-align: right;\">\n",
              "      <th></th>\n",
              "      <th>VIF</th>\n",
              "      <th>variable</th>\n",
              "    </tr>\n",
              "  </thead>\n",
              "  <tbody>\n",
              "    <tr>\n",
              "      <th>0</th>\n",
              "      <td>6.064011</td>\n",
              "      <td>Intercept</td>\n",
              "    </tr>\n",
              "    <tr>\n",
              "      <th>1</th>\n",
              "      <td>5.670217</td>\n",
              "      <td>curious</td>\n",
              "    </tr>\n",
              "    <tr>\n",
              "      <th>2</th>\n",
              "      <td>5.670217</td>\n",
              "      <td>mood</td>\n",
              "    </tr>\n",
              "  </tbody>\n",
              "</table>\n",
              "</div>\n",
              "      <button class=\"colab-df-convert\" onclick=\"convertToInteractive('df-44868169-444b-4ab5-be39-7a8e5c9e408f')\"\n",
              "              title=\"Convert this dataframe to an interactive table.\"\n",
              "              style=\"display:none;\">\n",
              "        \n",
              "  <svg xmlns=\"http://www.w3.org/2000/svg\" height=\"24px\"viewBox=\"0 0 24 24\"\n",
              "       width=\"24px\">\n",
              "    <path d=\"M0 0h24v24H0V0z\" fill=\"none\"/>\n",
              "    <path d=\"M18.56 5.44l.94 2.06.94-2.06 2.06-.94-2.06-.94-.94-2.06-.94 2.06-2.06.94zm-11 1L8.5 8.5l.94-2.06 2.06-.94-2.06-.94L8.5 2.5l-.94 2.06-2.06.94zm10 10l.94 2.06.94-2.06 2.06-.94-2.06-.94-.94-2.06-.94 2.06-2.06.94z\"/><path d=\"M17.41 7.96l-1.37-1.37c-.4-.4-.92-.59-1.43-.59-.52 0-1.04.2-1.43.59L10.3 9.45l-7.72 7.72c-.78.78-.78 2.05 0 2.83L4 21.41c.39.39.9.59 1.41.59.51 0 1.02-.2 1.41-.59l7.78-7.78 2.81-2.81c.8-.78.8-2.07 0-2.86zM5.41 20L4 18.59l7.72-7.72 1.47 1.35L5.41 20z\"/>\n",
              "  </svg>\n",
              "      </button>\n",
              "      \n",
              "  <style>\n",
              "    .colab-df-container {\n",
              "      display:flex;\n",
              "      flex-wrap:wrap;\n",
              "      gap: 12px;\n",
              "    }\n",
              "\n",
              "    .colab-df-convert {\n",
              "      background-color: #E8F0FE;\n",
              "      border: none;\n",
              "      border-radius: 50%;\n",
              "      cursor: pointer;\n",
              "      display: none;\n",
              "      fill: #1967D2;\n",
              "      height: 32px;\n",
              "      padding: 0 0 0 0;\n",
              "      width: 32px;\n",
              "    }\n",
              "\n",
              "    .colab-df-convert:hover {\n",
              "      background-color: #E2EBFA;\n",
              "      box-shadow: 0px 1px 2px rgba(60, 64, 67, 0.3), 0px 1px 3px 1px rgba(60, 64, 67, 0.15);\n",
              "      fill: #174EA6;\n",
              "    }\n",
              "\n",
              "    [theme=dark] .colab-df-convert {\n",
              "      background-color: #3B4455;\n",
              "      fill: #D2E3FC;\n",
              "    }\n",
              "\n",
              "    [theme=dark] .colab-df-convert:hover {\n",
              "      background-color: #434B5C;\n",
              "      box-shadow: 0px 1px 3px 1px rgba(0, 0, 0, 0.15);\n",
              "      filter: drop-shadow(0px 1px 2px rgba(0, 0, 0, 0.3));\n",
              "      fill: #FFFFFF;\n",
              "    }\n",
              "  </style>\n",
              "\n",
              "      <script>\n",
              "        const buttonEl =\n",
              "          document.querySelector('#df-44868169-444b-4ab5-be39-7a8e5c9e408f button.colab-df-convert');\n",
              "        buttonEl.style.display =\n",
              "          google.colab.kernel.accessAllowed ? 'block' : 'none';\n",
              "\n",
              "        async function convertToInteractive(key) {\n",
              "          const element = document.querySelector('#df-44868169-444b-4ab5-be39-7a8e5c9e408f');\n",
              "          const dataTable =\n",
              "            await google.colab.kernel.invokeFunction('convertToInteractive',\n",
              "                                                     [key], {});\n",
              "          if (!dataTable) return;\n",
              "\n",
              "          const docLinkHtml = 'Like what you see? Visit the ' +\n",
              "            '<a target=\"_blank\" href=https://colab.research.google.com/notebooks/data_table.ipynb>data table notebook</a>'\n",
              "            + ' to learn more about interactive tables.';\n",
              "          element.innerHTML = '';\n",
              "          dataTable['output_type'] = 'display_data';\n",
              "          await google.colab.output.renderOutput(dataTable, element);\n",
              "          const docLink = document.createElement('div');\n",
              "          docLink.innerHTML = docLinkHtml;\n",
              "          element.appendChild(docLink);\n",
              "        }\n",
              "      </script>\n",
              "    </div>\n",
              "  </div>\n",
              "  "
            ]
          },
          "metadata": {},
          "execution_count": 34
        }
      ]
    },
    {
      "cell_type": "markdown",
      "source": [
        "**Checking for outliers** \n",
        "\n",
        "You know the drill by now."
      ],
      "metadata": {
        "id": "rhN2WYmo-JRk"
      }
    },
    {
      "cell_type": "markdown",
      "source": [
        "Be aware of how your model dummy codes your outcome variable. We need to make sure we get that right or we will see our results backwards."
      ],
      "metadata": {
        "id": "BoFP3ENP-KDC"
      }
    },
    {
      "cell_type": "markdown",
      "source": [
        "**Confidence intervals** if you report them.\n",
        "\n",
        "Again, these function as in other previous examples, and the way to interpret them is as we calculated confidence intervals 100 times, then these intervals would comprise of the  value of odds ratio in the population (rather than sample) in 95 of those samples. \n",
        "\n",
        "It is important that the confidence intervals do not cross 1. The interval should either be above 1 or below 1. "
      ],
      "metadata": {
        "id": "8UGOJKZN-R6q"
      }
    },
    {
      "cell_type": "markdown",
      "source": [
        "##**Assessing model fit**\n",
        "\n",
        "In linear regression, we use the $R^2$, the Pearson correlation, to assess fit between observed values of the outcome and the predicted values by the regression model.\n",
        "\n",
        "Likewise, in the logistic regression, we can use the observed and predicted values to assess the fit of the model. The measure we use is the log-likelihood."
      ],
      "metadata": {
        "id": "QIbAWGKS-eKx"
      }
    },
    {
      "cell_type": "markdown",
      "source": [
        "log-likelihood = $\\sum\\limits_{i=1}^{N} [y, ln(p(Y_i)) + (1 -Y_i)ln(1-P(y)]$\n",
        "\n",
        "Summing the probabilities associated with the predicted and actual outcomes. How much unexplained information is there after the model has been fitted. \n",
        "\n",
        "The larger the value of log-likelihood, the more unexplained observations there are. We want a small log-likelihood. "
      ],
      "metadata": {
        "id": "m0B7NmKv-ldb"
      }
    },
    {
      "cell_type": "markdown",
      "source": [
        "###**Use pseudo -$R^2$ to assess model fit**\n",
        "\n",
        "The pseudo -$R^2$ is calculated with the same properties as OLS, just using the log-likelihood.\n",
        "\n",
        "$$pseudo - R^2 = 1 - \\frac {Log-Likelihood}{LL-Null}$$\n",
        "\n",
        "Here, the Log-Likelihood is the maximum value for the model inclusive of the predictor, whereas the LL-null is the vallue of the model with only a constant. The ratio between the two compares the two models, if the ratio is small, this means that adding the predictor to the model is not improving the model much. "
      ],
      "metadata": {
        "id": "wJQobxZd-vfl"
      }
    },
    {
      "cell_type": "markdown",
      "source": [
        "###**Comparing models by accessing the difference in the log-likelihood ratio using the chi-square statistic**\n",
        "\n",
        "\n",
        "$$\\chi^2 =-2[LL_{null} -LL_{1}]$$\n",
        "\n",
        "$$(df = k_{new} - k_{null})$$\n",
        "\n",
        "The null model only has the constant included. We multipy by two to gives the result a chi-square distribution.\n",
        "\n",
        "Degrees of freedom is always the parameters of the new model minus the parameters of the baseline model. So new model will have (number of predictors + constant) minus the 1 parameter of the baseline model (it only has the constant). "
      ],
      "metadata": {
        "id": "EPAVb8Xa-1bT"
      }
    },
    {
      "cell_type": "code",
      "source": [
        "#Estimate a logit model \n",
        "\n",
        "#Define the a formula\n",
        "\n",
        "formula = 'remembering ~ C(curious)'\n",
        "\n",
        "#instantiate the logit model\n",
        "\n",
        "model1 =smf.logit(formula, data = df)\n",
        "\n",
        "#fit the instantiated model\n",
        "logit1 = model1.fit()\n",
        "\n",
        "display (logit1.summary())"
      ],
      "metadata": {
        "id": "WOS0Yeni_Uk3",
        "outputId": "a1aeaccd-5fcd-487b-89bc-eb993943a92a",
        "colab": {
          "base_uri": "https://localhost:8080/",
          "height": 299
        }
      },
      "execution_count": null,
      "outputs": [
        {
          "output_type": "stream",
          "name": "stdout",
          "text": [
            "Optimization terminated successfully.\n",
            "         Current function value: 0.575618\n",
            "         Iterations 6\n"
          ]
        },
        {
          "output_type": "display_data",
          "data": {
            "text/plain": [
              "<class 'statsmodels.iolib.summary.Summary'>\n",
              "\"\"\"\n",
              "                           Logit Regression Results                           \n",
              "==============================================================================\n",
              "Dep. Variable:            remembering   No. Observations:                  200\n",
              "Model:                          Logit   Df Residuals:                      198\n",
              "Method:                           MLE   Df Model:                            1\n",
              "Date:                Tue, 15 Nov 2022   Pseudo R-squ.:                  0.1299\n",
              "Time:                        16:57:28   Log-Likelihood:                -115.12\n",
              "converged:                       True   LL-Null:                       -132.31\n",
              "Covariance Type:            nonrobust   LLR p-value:                 4.538e-09\n",
              "===================================================================================\n",
              "                      coef    std err          z      P>|z|      [0.025      0.975]\n",
              "-----------------------------------------------------------------------------------\n",
              "Intercept          -0.1989      0.191     -1.042      0.297      -0.573       0.175\n",
              "C(curious)[T.1]     1.8773      0.348      5.393      0.000       1.195       2.559\n",
              "===================================================================================\n",
              "\"\"\""
            ],
            "text/html": [
              "<table class=\"simpletable\">\n",
              "<caption>Logit Regression Results</caption>\n",
              "<tr>\n",
              "  <th>Dep. Variable:</th>      <td>remembering</td>   <th>  No. Observations:  </th>  <td>   200</td>  \n",
              "</tr>\n",
              "<tr>\n",
              "  <th>Model:</th>                 <td>Logit</td>      <th>  Df Residuals:      </th>  <td>   198</td>  \n",
              "</tr>\n",
              "<tr>\n",
              "  <th>Method:</th>                 <td>MLE</td>       <th>  Df Model:          </th>  <td>     1</td>  \n",
              "</tr>\n",
              "<tr>\n",
              "  <th>Date:</th>            <td>Tue, 15 Nov 2022</td> <th>  Pseudo R-squ.:     </th>  <td>0.1299</td>  \n",
              "</tr>\n",
              "<tr>\n",
              "  <th>Time:</th>                <td>16:57:28</td>     <th>  Log-Likelihood:    </th> <td> -115.12</td> \n",
              "</tr>\n",
              "<tr>\n",
              "  <th>converged:</th>             <td>True</td>       <th>  LL-Null:           </th> <td> -132.31</td> \n",
              "</tr>\n",
              "<tr>\n",
              "  <th>Covariance Type:</th>     <td>nonrobust</td>    <th>  LLR p-value:       </th> <td>4.538e-09</td>\n",
              "</tr>\n",
              "</table>\n",
              "<table class=\"simpletable\">\n",
              "<tr>\n",
              "         <td></td>            <th>coef</th>     <th>std err</th>      <th>z</th>      <th>P>|z|</th>  <th>[0.025</th>    <th>0.975]</th>  \n",
              "</tr>\n",
              "<tr>\n",
              "  <th>Intercept</th>       <td>   -0.1989</td> <td>    0.191</td> <td>   -1.042</td> <td> 0.297</td> <td>   -0.573</td> <td>    0.175</td>\n",
              "</tr>\n",
              "<tr>\n",
              "  <th>C(curious)[T.1]</th> <td>    1.8773</td> <td>    0.348</td> <td>    5.393</td> <td> 0.000</td> <td>    1.195</td> <td>    2.559</td>\n",
              "</tr>\n",
              "</table>"
            ]
          },
          "metadata": {}
        }
      ]
    },
    {
      "cell_type": "code",
      "source": [
        "#grab ll-null from model with constant\n",
        "basemodel_model = logit1.llnull\n",
        "\n",
        "#calculate log-likelihood of model\n",
        "base_ll = basemodel_model\n",
        "\n",
        "print(base_ll)"
      ],
      "metadata": {
        "id": "25aoh-OF_a2E",
        "outputId": "8aa73314-8ba2-48ed-8e12-6c3c26e46dc1",
        "colab": {
          "base_uri": "https://localhost:8080/"
        }
      },
      "execution_count": null,
      "outputs": [
        {
          "output_type": "stream",
          "name": "stdout",
          "text": [
            "-132.31264763563314\n"
          ]
        }
      ]
    },
    {
      "cell_type": "code",
      "source": [
        "# Mind the alias for statsmodel package has changed to 'sm' (previously was 'smf' as we were using formula notation) and the name of regression function switched to 'Logit' with capital L\n",
        "\n",
        "#fit the 1 predictor model\n",
        "\n",
        "\n",
        "#define response variable\n",
        "y2 = df['remembering']\n",
        "\n",
        "#define predictor variables\n",
        "x2 = df[['curious']]\n",
        "\n",
        "#add constant to predictor variables\n",
        "x2 = sm.add_constant(x2)\n",
        "\n",
        "#fit regression model\n",
        "curious_model = sm.Logit(y2, x2).fit()\n",
        "\n",
        "#calculate log-likelihood of model\n",
        "one_ll = curious_model.llf\n",
        "\n",
        "print(one_ll)\n"
      ],
      "metadata": {
        "id": "bsnD94I3_ey-",
        "outputId": "52a3ad5e-8fb2-46b5-df7d-e3fc42ecfed1",
        "colab": {
          "base_uri": "https://localhost:8080/"
        }
      },
      "execution_count": null,
      "outputs": [
        {
          "output_type": "stream",
          "name": "stdout",
          "text": [
            "Optimization terminated successfully.\n",
            "         Current function value: 0.575618\n",
            "         Iterations 6\n",
            "-115.12362213601334\n"
          ]
        },
        {
          "output_type": "stream",
          "name": "stderr",
          "text": [
            "/usr/local/lib/python3.7/dist-packages/statsmodels/tsa/tsatools.py:142: FutureWarning: In a future version of pandas all arguments of concat except for the argument 'objs' will be keyword-only\n",
            "  x = pd.concat(x[::order], 1)\n"
          ]
        }
      ]
    },
    {
      "cell_type": "code",
      "source": [
        "#calculate likelihood ratio Chi-Squared test statistic\n",
        "LR_statistic = -2*(base_ll-one_ll)\n",
        "\n",
        "print(LR_statistic)\n",
        "\n",
        "\n",
        "#calculate p-value of test statistic using (the correct degrees of freedom)\n",
        "p_val = scipy.stats.chi2.sf(LR_statistic, 1)\n",
        "\n",
        "print(p_val)"
      ],
      "metadata": {
        "id": "5kPfIXUe_mg7",
        "outputId": "04026da3-34e2-401a-ab37-f227486e6b4a",
        "colab": {
          "base_uri": "https://localhost:8080/"
        }
      },
      "execution_count": null,
      "outputs": [
        {
          "output_type": "stream",
          "name": "stdout",
          "text": [
            "34.378050999239605\n",
            "4.538123160061458e-09\n"
          ]
        }
      ]
    },
    {
      "cell_type": "code",
      "source": [
        "#Then test whether the model with 2 predictors is significantly better than the one with 1 predictor\n",
        "\n",
        "#define response variable\n",
        "y1 = df['remembering']\n",
        "\n",
        "#define predictor variables\n",
        "x1 = df[['curious', 'mood']]\n",
        "\n",
        "#add constant to predictor variables\n",
        "x1 = sm.add_constant(x1)\n",
        "\n",
        "#fit logistic regression model\n",
        "two_pred_model = sm.Logit(y1, x1).fit()\n",
        "\n",
        "#calculate log-likelihood of model\n",
        "two_ll = two_pred_model.llf\n",
        "\n",
        "print(two_ll)"
      ],
      "metadata": {
        "id": "YnKEBjmtAgXf",
        "outputId": "af535ee6-533d-44e2-8066-b397bc6a959d",
        "colab": {
          "base_uri": "https://localhost:8080/"
        }
      },
      "execution_count": null,
      "outputs": [
        {
          "output_type": "stream",
          "name": "stdout",
          "text": [
            "Optimization terminated successfully.\n",
            "         Current function value: 0.396307\n",
            "         Iterations 7\n",
            "-79.26134350903394\n"
          ]
        },
        {
          "output_type": "stream",
          "name": "stderr",
          "text": [
            "/usr/local/lib/python3.7/dist-packages/statsmodels/tsa/tsatools.py:142: FutureWarning: In a future version of pandas all arguments of concat except for the argument 'objs' will be keyword-only\n",
            "  x = pd.concat(x[::order], 1)\n"
          ]
        }
      ]
    },
    {
      "cell_type": "code",
      "source": [
        "#calculate likelihood ratio Chi-Squared test statistic\n",
        "LR_statistic1 = -2*(one_ll - two_ll )\n",
        "\n",
        "print(LR_statistic1)\n",
        "\n",
        "\n",
        "#calculate p-value of test statistic using (the correct degrees of freedom)\n",
        "p_val = scipy.stats.chi2.sf(LR_statistic1, 1)\n",
        "\n",
        "print(p_val)\n"
      ],
      "metadata": {
        "id": "ynI5QkFfAlbt",
        "outputId": "3676f45b-8cfe-4558-ad74-2ded5346c3e2",
        "colab": {
          "base_uri": "https://localhost:8080/"
        }
      },
      "execution_count": null,
      "outputs": [
        {
          "output_type": "stream",
          "name": "stdout",
          "text": [
            "71.7245572539588\n",
            "2.474338979065792e-17\n"
          ]
        }
      ]
    },
    {
      "cell_type": "markdown",
      "source": [
        "So what are we making of these findings.\n",
        "\n",
        "It seems that the difference in memory is largely determined by a difference in mood, moreso than curiosity. However, adding both predictors to the model makes for a significantly better model fit.\n",
        "\n",
        "**So how can we interpret this?**\n",
        "\n",
        "Because the original relationship between the independent (curiosity) and dependent (remembering) variable became **weaker** when the intervening variable (mood) was controlled for (added to the model), with the odds of remembering being 0.001 more when curious.\n",
        "\n",
        "We could conclude that (1) the control variable (mood) **helps to explain the link** between the independent and dependent variables. \n",
        "\n",
        "Alternatively, we could conclude that (2) the control variable (mood) is a potential confounding variable, one that is producing a \"fake\" association between the independent and dependent variables. \n",
        "\n",
        "In such a situation, if the original relationship disappears when the control is applied, then we would conclude that the original relationship was non-existent, and it was really 'mood' that was driving the effect. \n",
        "\n",
        "It is a matter of interpreting the results and this requires us to reflect on how the variables might affect each other.\n",
        "\n"
      ],
      "metadata": {
        "id": "_BTK3TEBAOBH"
      }
    }
  ]
}
